{
 "cells": [
  {
   "cell_type": "code",
   "execution_count": 1,
   "metadata": {},
   "outputs": [],
   "source": [
    "import pandas as pd\n",
    "import numpy as np\n",
    "import random\n",
    "from tqdm.auto import tqdm\n",
    "import matplotlib.pyplot as plt\n",
    "import matplotlib\n",
    "import warnings\n",
    "import pickle\n",
    "import geopandas as gpd\n",
    "import os\n",
    "\n",
    "# matplotlib.style.use('ggplot')\n",
    "# plt.rcParams['axes.facecolor']='w'\n",
    "warnings.filterwarnings('ignore')\n",
    "\n",
    "import time\n",
    "\n",
    "from sklearn.preprocessing import StandardScaler, MinMaxScaler\n",
    "from sklearn.impute import SimpleImputer\n",
    "from sklearn.utils import class_weight\n",
    "from sklearn.model_selection import KFold\n"
   ]
  },
  {
   "cell_type": "code",
   "execution_count": null,
   "metadata": {},
   "outputs": [],
   "source": [
    "# import sys\n",
    "# import argparse\n",
    "# parser = argparse.ArgumentParser(\n",
    "#                     prog='Test Multiple Model',\n",
    "#                     description='For Classification & Hurdle tasks, test the model performace',\n",
    "#                     epilog='')\n",
    "# parser.add_argument('-sp', '--species')      # option that takes a value\n",
    "# parser.add_argument('-year','--year')\n",
    "# parser.add_argument('-size', '--sample_size')  # on/off flag\n",
    "# parser.add_argument('-o','--output_path', default='./Model_Performance/')\n",
    "# args = parser.parse_args()\n",
    "# print(args)\n",
    "\n",
    "# sp = args.species\n",
    "# year = int(args.year)\n",
    "# SAMPLE_SIZE = int(args.sample_size)\n",
    "# OUTPUT_DIR = os.path.join(args.output_path, sp)\n",
    "\n",
    "# if not os.path.exists(OUTPUT_DIR):\n",
    "#     os.makedirs(OUTPUT_DIR)"
   ]
  },
  {
   "cell_type": "code",
   "execution_count": 2,
   "metadata": {},
   "outputs": [],
   "source": [
    "sp = 'Mallard'\n",
    "year = 2020\n",
    "SAMPLE_SIZE = 1000\n",
    "OUTPUT_DIR = f'./Model_Performance/{sp}'\n",
    "\n",
    "if not os.path.exists(OUTPUT_DIR):\n",
    "    os.makedirs(OUTPUT_DIR)\n"
   ]
  },
  {
   "cell_type": "code",
   "execution_count": null,
   "metadata": {},
   "outputs": [],
   "source": []
  },
  {
   "cell_type": "code",
   "execution_count": 3,
   "metadata": {},
   "outputs": [],
   "source": [
    "%load_ext autoreload\n",
    "%autoreload 2"
   ]
  },
  {
   "cell_type": "code",
   "execution_count": 4,
   "metadata": {},
   "outputs": [],
   "source": [
    "from BirdSTEM.utils.plot_gif import make_sample_gif, make_sample_gif_hexagon\n"
   ]
  },
  {
   "cell_type": "markdown",
   "metadata": {},
   "source": [
    "# load training data\n"
   ]
  },
  {
   "cell_type": "code",
   "execution_count": 5,
   "metadata": {},
   "outputs": [],
   "source": [
    "checklist_data = pd.read_csv(f'./BirdSTEM/dataset/test_data/checklist_data/checklist_data_filtered_{year}.csv')\n",
    "\n",
    "### mallard 2020\n",
    "with open(f'./BirdSTEM/dataset/test_data/sp_data/{sp}/{sp}_{year}.pkl','rb') as f:\n",
    "    sp_data = pickle.load(f)\n",
    "    \n",
    "checklist_data = checklist_data.merge(sp_data, on='sampling_event_identifier', how='left')\n",
    "checklist_data['count'] = checklist_data['count'].fillna(0)\n"
   ]
  },
  {
   "cell_type": "markdown",
   "metadata": {},
   "source": [
    "# Train test split"
   ]
  },
  {
   "cell_type": "code",
   "execution_count": 6,
   "metadata": {},
   "outputs": [],
   "source": [
    "from sklearn.model_selection import train_test_split\n",
    "from BirdSTEM.dataset.get_test_x_names import get_test_x_names\n",
    "\n",
    "x_names = get_test_x_names()\n",
    "X = checklist_data[['sampling_event_identifier','longitude','latitude'] + x_names]\n",
    "y = checklist_data['count'].values\n",
    "\n",
    "_, X, _, y = train_test_split(X, y, test_size=SAMPLE_SIZE, stratify=np.where(y>0, 1, 0))\n",
    "X_train, X_test, y_train, y_test = train_test_split(X, y, random_state=42, test_size=0.3,\n",
    "                                                    stratify = np.where(y>0, 1, 0), shuffle=True)\n",
    "\n",
    "\n"
   ]
  },
  {
   "cell_type": "markdown",
   "metadata": {},
   "source": [
    "# Test model"
   ]
  },
  {
   "cell_type": "markdown",
   "metadata": {},
   "source": [
    "## Task1: Classification (modeling occurrence)"
   ]
  },
  {
   "cell_type": "markdown",
   "metadata": {},
   "source": [
    "### First, without AdaSTEM wrapper"
   ]
  },
  {
   "cell_type": "code",
   "execution_count": 7,
   "metadata": {},
   "outputs": [],
   "source": [
    "from BirdSTEM.model.AdaSTEM import AdaSTEM, AdaSTEMClassifier\n",
    "from sklearn.tree import DecisionTreeClassifier\n",
    "from sklearn.linear_model import LogisticRegression, SGDClassifier\n",
    "from sklearn.svm import SVC\n",
    "from sklearn.naive_bayes import GaussianNB, MultinomialNB, ComplementNB\n",
    "from sklearn.neighbors import KNeighborsClassifier\n",
    "from sklearn.ensemble import RandomForestClassifier\n",
    "from xgboost import XGBClassifier\n",
    "from sklearn.discriminant_analysis import QuadraticDiscriminantAnalysis\n",
    "from sklearn.neural_network import MLPClassifier\n",
    "from elapid import MaxentModel\n"
   ]
  },
  {
   "cell_type": "code",
   "execution_count": 8,
   "metadata": {},
   "outputs": [],
   "source": [
    "\n",
    "cls_model_set_dict = {\n",
    "    'LogisticRegression':LogisticRegression(random_state=42),\n",
    "    'SGDClassifier':SGDClassifier(random_state=42),\n",
    "    'GaussianNB':GaussianNB(),\n",
    "    'KNeighborsClassifier':KNeighborsClassifier(),\n",
    "    'DecisionTreeClassifier':DecisionTreeClassifier(random_state=42),\n",
    "    # 'SVC_linear':SVC(kernel='linear',random_state=42),\n",
    "    'SVC_rbf':SVC(kernel='rbf',random_state=42),\n",
    "    'RandomForestClassifier':RandomForestClassifier(random_state=42),\n",
    "    'QuadraticDiscriminantAnalysis':QuadraticDiscriminantAnalysis(),\n",
    "    'MLPClassifier':MLPClassifier(random_state=42),\n",
    "    'MaxEnt':MaxentModel(transform='cloglog', beta_multiplier=2.0),\n",
    "    'XGBClassifier':XGBClassifier(tree_method='hist',random_state=42, n_jobs=1),\n",
    "    'ComplementNB':ComplementNB(),\n",
    "}\n"
   ]
  },
  {
   "cell_type": "code",
   "execution_count": 9,
   "metadata": {},
   "outputs": [
    {
     "data": {
      "application/vnd.jupyter.widget-view+json": {
       "model_id": "544e2a03d15a4a01830e269a831b2c69",
       "version_major": 2,
       "version_minor": 0
      },
      "text/plain": [
       "ComplementNB:   0%|          | 0/5 [00:00<?, ?it/s]"
      ]
     },
     "metadata": {},
     "output_type": "display_data"
    },
    {
     "name": "stdout",
     "output_type": "stream",
     "text": [
      "{'AUC': 0.5844674287788061, 'kappa': 0.09768125065575495, 'f1': 0.3174603174603175, 'precision': 0.21505376344086022, 'recall': 0.6060606060606061, 'average_precision': 0.19533561420658196, 'Spearman_r': nan, 'Pearson_r': nan, 'R2': nan, 'MAE': nan, 'MSE': nan, 'poisson_deviance_explained': nan, 'model': 'ComplementNB', 'task_type': 'classification', 'iter': 0, 'sp': 'Mallard', 'sample_size': 1000, 'training_time': 0.004089832305908203, 'predicting_time': 0.002395153045654297}\n",
      "{'AUC': 0.6283641916396259, 'kappa': 0.13001449975833723, 'f1': 0.338235294117647, 'precision': 0.21904761904761905, 'recall': 0.7419354838709677, 'average_precision': 0.20251920122887865, 'Spearman_r': nan, 'Pearson_r': nan, 'R2': nan, 'MAE': nan, 'MSE': nan, 'poisson_deviance_explained': nan, 'model': 'ComplementNB', 'task_type': 'classification', 'iter': 1, 'sp': 'Mallard', 'sample_size': 1000, 'training_time': 0.0030660629272460938, 'predicting_time': 0.002087831497192383}\n",
      "{'AUC': 0.5386499727817093, 'kappa': 0.04996481351161142, 'f1': 0.27027027027027023, 'precision': 0.19230769230769232, 'recall': 0.45454545454545453, 'average_precision': 0.17741258741258742, 'Spearman_r': nan, 'Pearson_r': nan, 'R2': nan, 'MAE': nan, 'MSE': nan, 'poisson_deviance_explained': nan, 'model': 'ComplementNB', 'task_type': 'classification', 'iter': 2, 'sp': 'Mallard', 'sample_size': 1000, 'training_time': 0.0031549930572509766, 'predicting_time': 0.002933979034423828}\n",
      "{'AUC': 0.6464019851116625, 'kappa': 0.1698029665707328, 'f1': 0.358974358974359, 'precision': 0.2441860465116279, 'recall': 0.6774193548387096, 'average_precision': 0.21541635408852214, 'Spearman_r': nan, 'Pearson_r': nan, 'R2': nan, 'MAE': nan, 'MSE': nan, 'poisson_deviance_explained': nan, 'model': 'ComplementNB', 'task_type': 'classification', 'iter': 3, 'sp': 'Mallard', 'sample_size': 1000, 'training_time': 0.004087924957275391, 'predicting_time': 0.0029211044311523438}\n",
      "{'AUC': 0.648489032060132, 'kappa': 0.18913638139898403, 'f1': 0.4275862068965517, 'precision': 0.2980769230769231, 'recall': 0.7560975609756098, 'average_precision': 0.275375234521576, 'Spearman_r': nan, 'Pearson_r': nan, 'R2': nan, 'MAE': nan, 'MSE': nan, 'poisson_deviance_explained': nan, 'model': 'ComplementNB', 'task_type': 'classification', 'iter': 4, 'sp': 'Mallard', 'sample_size': 1000, 'training_time': 0.0033681392669677734, 'predicting_time': 0.003120899200439453}\n"
     ]
    },
    {
     "data": {
      "application/vnd.jupyter.widget-view+json": {
       "model_id": "8cf63f54e4d94886a8b00e3851b7dc3f",
       "version_major": 2,
       "version_minor": 0
      },
      "text/plain": [
       "XGBClassifier:   0%|          | 0/5 [00:00<?, ?it/s]"
      ]
     },
     "metadata": {},
     "output_type": "display_data"
    },
    {
     "name": "stdout",
     "output_type": "stream",
     "text": [
      "{'AUC': 0.5215024496461621, 'kappa': 0.05870696061431746, 'f1': 0.13636363636363635, 'precision': 0.2727272727272727, 'recall': 0.09090909090909091, 'average_precision': 0.17479338842975206, 'Spearman_r': nan, 'Pearson_r': nan, 'R2': nan, 'MAE': nan, 'MSE': nan, 'poisson_deviance_explained': nan, 'model': 'XGBClassifier', 'task_type': 'classification', 'iter': 0, 'sp': 'Mallard', 'sample_size': 1000, 'training_time': 0.1596369743347168, 'predicting_time': 0.004869937896728516}\n",
      "{'AUC': 0.5566902080549723, 'kappa': 0.12137310993052719, 'f1': 0.2456140350877193, 'precision': 0.2692307692307692, 'recall': 0.22580645161290322, 'average_precision': 0.1807940446650124, 'Spearman_r': nan, 'Pearson_r': nan, 'R2': nan, 'MAE': nan, 'MSE': nan, 'poisson_deviance_explained': nan, 'model': 'XGBClassifier', 'task_type': 'classification', 'iter': 1, 'sp': 'Mallard', 'sample_size': 1000, 'training_time': 0.16182827949523926, 'predicting_time': 0.004032135009765625}\n",
      "{'AUC': 0.5910905461803666, 'kappa': 0.24463937621832355, 'f1': 0.3111111111111111, 'precision': 0.5833333333333334, 'recall': 0.21212121212121213, 'average_precision': 0.25373737373737376, 'Spearman_r': nan, 'Pearson_r': nan, 'R2': nan, 'MAE': nan, 'MSE': nan, 'poisson_deviance_explained': nan, 'model': 'XGBClassifier', 'task_type': 'classification', 'iter': 2, 'sp': 'Mallard', 'sample_size': 1000, 'training_time': 0.16445326805114746, 'predicting_time': 0.0035390853881835938}\n",
      "{'AUC': 0.6623401412483299, 'kappa': 0.33346402666143893, 'f1': 0.4333333333333333, 'precision': 0.4482758620689655, 'recall': 0.41935483870967744, 'average_precision': 0.27798665183537263, 'Spearman_r': nan, 'Pearson_r': nan, 'R2': nan, 'MAE': nan, 'MSE': nan, 'poisson_deviance_explained': nan, 'model': 'XGBClassifier', 'task_type': 'classification', 'iter': 3, 'sp': 'Mallard', 'sample_size': 1000, 'training_time': 0.16031217575073242, 'predicting_time': 0.0038290023803710938}\n",
      "{'AUC': 0.5441018561129007, 'kappa': 0.10313901345291476, 'f1': 0.24242424242424243, 'precision': 0.32, 'recall': 0.1951219512195122, 'average_precision': 0.2274390243902439, 'Spearman_r': nan, 'Pearson_r': nan, 'R2': nan, 'MAE': nan, 'MSE': nan, 'poisson_deviance_explained': nan, 'model': 'XGBClassifier', 'task_type': 'classification', 'iter': 4, 'sp': 'Mallard', 'sample_size': 1000, 'training_time': 0.13715314865112305, 'predicting_time': 0.003638029098510742}\n"
     ]
    },
    {
     "data": {
      "application/vnd.jupyter.widget-view+json": {
       "model_id": "9aa5087997954715b11c072631d42c73",
       "version_major": 2,
       "version_minor": 0
      },
      "text/plain": [
       "MaxEnt:   0%|          | 0/5 [00:00<?, ?it/s]"
      ]
     },
     "metadata": {},
     "output_type": "display_data"
    },
    {
     "name": "stdout",
     "output_type": "stream",
     "text": [
      "{'AUC': 0.5897296316457993, 'kappa': 0.12697393760431375, 'f1': 0.32, 'precision': 0.23880597014925373, 'recall': 0.48484848484848486, 'average_precision': 0.20078471279963817, 'Spearman_r': nan, 'Pearson_r': nan, 'R2': nan, 'MAE': nan, 'MSE': nan, 'poisson_deviance_explained': nan, 'model': 'MaxEnt', 'task_type': 'classification', 'iter': 0, 'sp': 'Mallard', 'sample_size': 1000, 'training_time': 1.035444974899292, 'predicting_time': 0.01596212387084961}\n",
      "{'AUC': 0.5660431380034358, 'kappa': 0.0888090349075975, 'f1': 0.2828282828282828, 'precision': 0.20588235294117646, 'recall': 0.45161290322580644, 'average_precision': 0.17797912713472486, 'Spearman_r': nan, 'Pearson_r': nan, 'R2': nan, 'MAE': nan, 'MSE': nan, 'poisson_deviance_explained': nan, 'model': 'MaxEnt', 'task_type': 'classification', 'iter': 1, 'sp': 'Mallard', 'sample_size': 1000, 'training_time': 1.047292947769165, 'predicting_time': 0.01797199249267578}\n",
      "{'AUC': 0.5382870622391581, 'kappa': 0.054649054649054674, 'f1': 0.26262626262626265, 'precision': 0.19696969696969696, 'recall': 0.3939393939393939, 'average_precision': 0.1775941230486685, 'Spearman_r': nan, 'Pearson_r': nan, 'R2': nan, 'MAE': nan, 'MSE': nan, 'poisson_deviance_explained': nan, 'model': 'MaxEnt', 'task_type': 'classification', 'iter': 2, 'sp': 'Mallard', 'sample_size': 1000, 'training_time': 1.0785107612609863, 'predicting_time': 0.01581430435180664}\n",
      "Input X contains NaN.\n",
      "LogisticRegression does not accept missing values encoded as NaN natively. For supervised learning, you might want to consider sklearn.ensemble.HistGradientBoostingClassifier and Regressor which accept missing values encoded as NaNs natively. Alternatively, it is possible to preprocess the data, for instance by using an imputer transformer in a pipeline or drop samples with missing values. See https://scikit-learn.org/stable/modules/impute.html You can find a list of all estimators that handle NaN values at the following page: https://scikit-learn.org/stable/modules/impute.html#estimators-that-handle-nan-values\n",
      "{'AUC': 0.553612517257248, 'kappa': 0.09079101181971683, 'f1': 0.3137254901960785, 'precision': 0.26229508196721313, 'recall': 0.3902439024390244, 'average_precision': 0.22735905637744902, 'Spearman_r': nan, 'Pearson_r': nan, 'R2': nan, 'MAE': nan, 'MSE': nan, 'poisson_deviance_explained': nan, 'model': 'MaxEnt', 'task_type': 'classification', 'iter': 4, 'sp': 'Mallard', 'sample_size': 1000, 'training_time': 0.7613692283630371, 'predicting_time': 0.0175628662109375}\n"
     ]
    },
    {
     "data": {
      "application/vnd.jupyter.widget-view+json": {
       "model_id": "5e9d0faa9e314cf1b79b1d726c3ddf0e",
       "version_major": 2,
       "version_minor": 0
      },
      "text/plain": [
       "MLPClassifier:   0%|          | 0/5 [00:00<?, ?it/s]"
      ]
     },
     "metadata": {},
     "output_type": "display_data"
    },
    {
     "name": "stdout",
     "output_type": "stream",
     "text": [
      "{'AUC': 0.5370168753402287, 'kappa': 0.08312958435207818, 'f1': 0.2105263157894737, 'precision': 0.25, 'recall': 0.18181818181818182, 'average_precision': 0.18045454545454548, 'Spearman_r': nan, 'Pearson_r': nan, 'R2': nan, 'MAE': nan, 'MSE': nan, 'poisson_deviance_explained': nan, 'model': 'MLPClassifier', 'task_type': 'classification', 'iter': 0, 'sp': 'Mallard', 'sample_size': 1000, 'training_time': 2.462960958480835, 'predicting_time': 0.005415916442871094}\n",
      "{'AUC': 0.5438060698606604, 'kappa': 0.11894273127753308, 'f1': 0.19047619047619047, 'precision': 0.36363636363636365, 'recall': 0.12903225806451613, 'average_precision': 0.18192082111436952, 'Spearman_r': nan, 'Pearson_r': nan, 'R2': nan, 'MAE': nan, 'MSE': nan, 'poisson_deviance_explained': nan, 'model': 'MLPClassifier', 'task_type': 'classification', 'iter': 1, 'sp': 'Mallard', 'sample_size': 1000, 'training_time': 2.9744131565093994, 'predicting_time': 0.0026140213012695312}\n",
      "{'AUC': 0.5334784975503538, 'kappa': 0.0979039533032634, 'f1': 0.15000000000000002, 'precision': 0.42857142857142855, 'recall': 0.09090909090909091, 'average_precision': 0.18896103896103894, 'Spearman_r': nan, 'Pearson_r': nan, 'R2': nan, 'MAE': nan, 'MSE': nan, 'poisson_deviance_explained': nan, 'model': 'MLPClassifier', 'task_type': 'classification', 'iter': 2, 'sp': 'Mallard', 'sample_size': 1000, 'training_time': 2.2769999504089355, 'predicting_time': 0.009302854537963867}\n",
      "{'AUC': 0.5760641343767895, 'kappa': 0.1993995496622467, 'f1': 0.2727272727272727, 'precision': 0.46153846153846156, 'recall': 0.1935483870967742, 'average_precision': 0.21433002481389576, 'Spearman_r': nan, 'Pearson_r': nan, 'R2': nan, 'MAE': nan, 'MSE': nan, 'poisson_deviance_explained': nan, 'model': 'MLPClassifier', 'task_type': 'classification', 'iter': 3, 'sp': 'Mallard', 'sample_size': 1000, 'training_time': 2.9954869747161865, 'predicting_time': 0.0029387474060058594}\n",
      "{'AUC': 0.5051388249731554, 'kappa': 0.01376618039860289, 'f1': 0.1111111111111111, 'precision': 0.23076923076923078, 'recall': 0.07317073170731707, 'average_precision': 0.20688555347091933, 'Spearman_r': nan, 'Pearson_r': nan, 'R2': nan, 'MAE': nan, 'MSE': nan, 'poisson_deviance_explained': nan, 'model': 'MLPClassifier', 'task_type': 'classification', 'iter': 4, 'sp': 'Mallard', 'sample_size': 1000, 'training_time': 2.633301019668579, 'predicting_time': 0.0025742053985595703}\n"
     ]
    },
    {
     "data": {
      "application/vnd.jupyter.widget-view+json": {
       "model_id": "7fd889b20b1343ff83f2efa70409adc1",
       "version_major": 2,
       "version_minor": 0
      },
      "text/plain": [
       "QuadraticDiscriminantAnalysis:   0%|          | 0/5 [00:00<?, ?it/s]"
      ]
     },
     "metadata": {},
     "output_type": "display_data"
    },
    {
     "name": "stdout",
     "output_type": "stream",
     "text": [
      "{'AUC': 0.5866448920341136, 'kappa': 0.06652734238941138, 'f1': 0.32323232323232326, 'precision': 0.19393939393939394, 'recall': 0.9696969696969697, 'average_precision': 0.19306244260789715, 'Spearman_r': nan, 'Pearson_r': nan, 'R2': nan, 'MAE': nan, 'MSE': nan, 'poisson_deviance_explained': nan, 'model': 'QuadraticDiscriminantAnalysis', 'task_type': 'classification', 'iter': 0, 'sp': 'Mallard', 'sample_size': 1000, 'training_time': 0.17801904678344727, 'predicting_time': 0.011209964752197266}\n",
      "{'AUC': 0.5422790608894827, 'kappa': 0.03345163482594582, 'f1': 0.2808988764044944, 'precision': 0.17006802721088435, 'recall': 0.8064516129032258, 'average_precision': 0.16715163484748738, 'Spearman_r': nan, 'Pearson_r': nan, 'R2': nan, 'MAE': nan, 'MSE': nan, 'poisson_deviance_explained': nan, 'model': 'QuadraticDiscriminantAnalysis', 'task_type': 'classification', 'iter': 1, 'sp': 'Mallard', 'sample_size': 1000, 'training_time': 0.017436981201171875, 'predicting_time': 0.0038869380950927734}\n",
      "{'AUC': 0.5284884775902741, 'kappa': 0.024504448259715872, 'f1': 0.2857142857142857, 'precision': 0.176056338028169, 'recall': 0.7575757575757576, 'average_precision': 0.1733760136577038, 'Spearman_r': nan, 'Pearson_r': nan, 'R2': nan, 'MAE': nan, 'MSE': nan, 'poisson_deviance_explained': nan, 'model': 'QuadraticDiscriminantAnalysis', 'task_type': 'classification', 'iter': 2, 'sp': 'Mallard', 'sample_size': 1000, 'training_time': 0.015881061553955078, 'predicting_time': 0.013154745101928711}\n",
      "{'AUC': 0.6317999618247757, 'kappa': 0.10320603841267473, 'f1': 0.33333333333333337, 'precision': 0.20134228187919462, 'recall': 0.967741935483871, 'average_precision': 0.19984736956051094, 'Spearman_r': nan, 'Pearson_r': nan, 'R2': nan, 'MAE': nan, 'MSE': nan, 'poisson_deviance_explained': nan, 'model': 'QuadraticDiscriminantAnalysis', 'task_type': 'classification', 'iter': 3, 'sp': 'Mallard', 'sample_size': 1000, 'training_time': 0.01092386245727539, 'predicting_time': 0.007364988327026367}\n",
      "{'AUC': 0.6025464028225188, 'kappa': 0.10664433277498608, 'f1': 0.391304347826087, 'precision': 0.2517482517482518, 'recall': 0.8780487804878049, 'average_precision': 0.24604724543748935, 'Spearman_r': nan, 'Pearson_r': nan, 'R2': nan, 'MAE': nan, 'MSE': nan, 'poisson_deviance_explained': nan, 'model': 'QuadraticDiscriminantAnalysis', 'task_type': 'classification', 'iter': 4, 'sp': 'Mallard', 'sample_size': 1000, 'training_time': 0.013974189758300781, 'predicting_time': 0.005973100662231445}\n"
     ]
    },
    {
     "data": {
      "application/vnd.jupyter.widget-view+json": {
       "model_id": "becaf74f37e3486a99ae60992300b9cf",
       "version_major": 2,
       "version_minor": 0
      },
      "text/plain": [
       "RandomForestClassifier:   0%|          | 0/5 [00:00<?, ?it/s]"
      ]
     },
     "metadata": {},
     "output_type": "display_data"
    },
    {
     "name": "stdout",
     "output_type": "stream",
     "text": [
      "{'AUC': 0.5121575031754672, 'kappa': 0.03902154921374501, 'f1': 0.05714285714285715, 'precision': 0.5, 'recall': 0.030303030303030304, 'average_precision': 0.17515151515151517, 'Spearman_r': nan, 'Pearson_r': nan, 'R2': nan, 'MAE': nan, 'MSE': nan, 'poisson_deviance_explained': nan, 'model': 'RandomForestClassifier', 'task_type': 'classification', 'iter': 0, 'sp': 'Mallard', 'sample_size': 1000, 'training_time': 0.23572683334350586, 'predicting_time': 0.007096052169799805}\n",
      "{'AUC': 0.4954189730864669, 'kappa': -0.013143483023001057, 'f1': 0.05128205128205128, 'precision': 0.125, 'recall': 0.03225806451612903, 'average_precision': 0.15403225806451612, 'Spearman_r': nan, 'Pearson_r': nan, 'R2': nan, 'MAE': nan, 'MSE': nan, 'poisson_deviance_explained': nan, 'model': 'RandomForestClassifier', 'task_type': 'classification', 'iter': 1, 'sp': 'Mallard', 'sample_size': 1000, 'training_time': 0.16563677787780762, 'predicting_time': 0.006845235824584961}\n",
      "{'AUC': 0.5303030303030303, 'kappa': 0.09726266744321499, 'f1': 0.1142857142857143, 'precision': 1.0, 'recall': 0.06060606060606061, 'average_precision': 0.21560606060606063, 'Spearman_r': nan, 'Pearson_r': nan, 'R2': nan, 'MAE': nan, 'MSE': nan, 'poisson_deviance_explained': nan, 'model': 'RandomForestClassifier', 'task_type': 'classification', 'iter': 2, 'sp': 'Mallard', 'sample_size': 1000, 'training_time': 0.1568751335144043, 'predicting_time': 0.006908893585205078}\n",
      "{'AUC': 0.5585989692689444, 'kappa': 0.17472965281730224, 'f1': 0.2162162162162162, 'precision': 0.6666666666666666, 'recall': 0.12903225806451613, 'average_precision': 0.22102150537634407, 'Spearman_r': nan, 'Pearson_r': nan, 'R2': nan, 'MAE': nan, 'MSE': nan, 'poisson_deviance_explained': nan, 'model': 'RandomForestClassifier', 'task_type': 'classification', 'iter': 3, 'sp': 'Mallard', 'sample_size': 1000, 'training_time': 0.15982484817504883, 'predicting_time': 0.0069310665130615234}\n",
      "{'AUC': 0.4968553459119497, 'kappa': -0.009858138975715303, 'f1': 0.0, 'precision': 0.0, 'recall': 0.0, 'average_precision': 0.205, 'Spearman_r': nan, 'Pearson_r': nan, 'R2': nan, 'MAE': nan, 'MSE': nan, 'poisson_deviance_explained': nan, 'model': 'RandomForestClassifier', 'task_type': 'classification', 'iter': 4, 'sp': 'Mallard', 'sample_size': 1000, 'training_time': 0.15149712562561035, 'predicting_time': 0.006592988967895508}\n"
     ]
    },
    {
     "data": {
      "application/vnd.jupyter.widget-view+json": {
       "model_id": "aa0cba3eb8bd4a0788a877792c1b36ed",
       "version_major": 2,
       "version_minor": 0
      },
      "text/plain": [
       "SVC_rbf:   0%|          | 0/5 [00:00<?, ?it/s]"
      ]
     },
     "metadata": {},
     "output_type": "display_data"
    },
    {
     "name": "stdout",
     "output_type": "stream",
     "text": [
      "{'AUC': 0.6566866267465069, 'kappa': 0.1978916007791911, 'f1': 0.38596491228070173, 'precision': 0.2716049382716049, 'recall': 0.6666666666666666, 'average_precision': 0.23606995884773663, 'Spearman_r': nan, 'Pearson_r': nan, 'R2': nan, 'MAE': nan, 'MSE': nan, 'poisson_deviance_explained': nan, 'model': 'SVC_rbf', 'task_type': 'classification', 'iter': 0, 'sp': 'Mallard', 'sample_size': 1000, 'training_time': 0.0267636775970459, 'predicting_time': 0.016335248947143555}\n",
      "{'AUC': 0.6757014697461348, 'kappa': 0.19922086354290658, 'f1': 0.3833333333333334, 'precision': 0.25842696629213485, 'recall': 0.7419354838709677, 'average_precision': 0.23173613628126136, 'Spearman_r': nan, 'Pearson_r': nan, 'R2': nan, 'MAE': nan, 'MSE': nan, 'poisson_deviance_explained': nan, 'model': 'SVC_rbf', 'task_type': 'classification', 'iter': 1, 'sp': 'Mallard', 'sample_size': 1000, 'training_time': 0.027545928955078125, 'predicting_time': 0.01764702796936035}\n",
      "{'AUC': 0.6291961531482491, 'kappa': 0.17528311176760214, 'f1': 0.3619047619047619, 'precision': 0.2638888888888889, 'recall': 0.5757575757575758, 'average_precision': 0.22193602693602693, 'Spearman_r': nan, 'Pearson_r': nan, 'R2': nan, 'MAE': nan, 'MSE': nan, 'poisson_deviance_explained': nan, 'model': 'SVC_rbf', 'task_type': 'classification', 'iter': 2, 'sp': 'Mallard', 'sample_size': 1000, 'training_time': 0.027193784713745117, 'predicting_time': 0.018119096755981445}\n",
      "{'AUC': 0.7112044283260164, 'kappa': 0.26304528705574703, 'f1': 0.4259259259259259, 'precision': 0.2987012987012987, 'recall': 0.7419354838709677, 'average_precision': 0.2616170925848345, 'Spearman_r': nan, 'Pearson_r': nan, 'R2': nan, 'MAE': nan, 'MSE': nan, 'poisson_deviance_explained': nan, 'model': 'SVC_rbf', 'task_type': 'classification', 'iter': 3, 'sp': 'Mallard', 'sample_size': 1000, 'training_time': 0.027089834213256836, 'predicting_time': 0.01831793785095215}\n",
      "{'AUC': 0.689369535204786, 'kappa': 0.26074559087548843, 'f1': 0.4696969696969698, 'precision': 0.34065934065934067, 'recall': 0.7560975609756098, 'average_precision': 0.30757169659608685, 'Spearman_r': nan, 'Pearson_r': nan, 'R2': nan, 'MAE': nan, 'MSE': nan, 'poisson_deviance_explained': nan, 'model': 'SVC_rbf', 'task_type': 'classification', 'iter': 4, 'sp': 'Mallard', 'sample_size': 1000, 'training_time': 0.02677011489868164, 'predicting_time': 0.017267942428588867}\n"
     ]
    },
    {
     "data": {
      "application/vnd.jupyter.widget-view+json": {
       "model_id": "52a4b85e09444a8d8a5e84b25cb9bff6",
       "version_major": 2,
       "version_minor": 0
      },
      "text/plain": [
       "DecisionTreeClassifier:   0%|          | 0/5 [00:00<?, ?it/s]"
      ]
     },
     "metadata": {},
     "output_type": "display_data"
    },
    {
     "name": "stdout",
     "output_type": "stream",
     "text": [
      "{'AUC': 0.6159499183451279, 'kappa': 0.22911437791323053, 'f1': 0.35820895522388063, 'precision': 0.35294117647058826, 'recall': 0.36363636363636365, 'average_precision': 0.23334224598930484, 'Spearman_r': nan, 'Pearson_r': nan, 'R2': nan, 'MAE': nan, 'MSE': nan, 'poisson_deviance_explained': nan, 'model': 'DecisionTreeClassifier', 'task_type': 'classification', 'iter': 0, 'sp': 'Mallard', 'sample_size': 1000, 'training_time': 0.020498991012573242, 'predicting_time': 0.002701997756958008}\n",
      "{'AUC': 0.6047909906470701, 'kappa': 0.1830610203401134, 'f1': 0.3287671232876712, 'precision': 0.2857142857142857, 'recall': 0.3870967741935484, 'average_precision': 0.20559907834101382, 'Spearman_r': nan, 'Pearson_r': nan, 'R2': nan, 'MAE': nan, 'MSE': nan, 'poisson_deviance_explained': nan, 'model': 'DecisionTreeClassifier', 'task_type': 'classification', 'iter': 1, 'sp': 'Mallard', 'sample_size': 1000, 'training_time': 0.017735004425048828, 'predicting_time': 0.002502918243408203}\n",
      "{'AUC': 0.6006169479223371, 'kappa': 0.21706791935799574, 'f1': 0.3333333333333333, 'precision': 0.37037037037037035, 'recall': 0.30303030303030304, 'average_precision': 0.22723344556677894, 'Spearman_r': nan, 'Pearson_r': nan, 'R2': nan, 'MAE': nan, 'MSE': nan, 'poisson_deviance_explained': nan, 'model': 'DecisionTreeClassifier', 'task_type': 'classification', 'iter': 2, 'sp': 'Mallard', 'sample_size': 1000, 'training_time': 0.01806187629699707, 'predicting_time': 0.0024039745330810547}\n",
      "{'AUC': 0.547528154227906, 'kappa': 0.08302767589196403, 'f1': 0.24657534246575344, 'precision': 0.21428571428571427, 'recall': 0.2903225806451613, 'average_precision': 0.17221198156682027, 'Spearman_r': nan, 'Pearson_r': nan, 'R2': nan, 'MAE': nan, 'MSE': nan, 'poisson_deviance_explained': nan, 'model': 'DecisionTreeClassifier', 'task_type': 'classification', 'iter': 3, 'sp': 'Mallard', 'sample_size': 1000, 'training_time': 0.01862192153930664, 'predicting_time': 0.0022132396697998047}\n",
      "{'AUC': 0.5492406810860562, 'kappa': 0.1012298959318827, 'f1': 0.27848101265822783, 'precision': 0.2894736842105263, 'recall': 0.2682926829268293, 'average_precision': 0.22766367137355584, 'Spearman_r': nan, 'Pearson_r': nan, 'R2': nan, 'MAE': nan, 'MSE': nan, 'poisson_deviance_explained': nan, 'model': 'DecisionTreeClassifier', 'task_type': 'classification', 'iter': 4, 'sp': 'Mallard', 'sample_size': 1000, 'training_time': 0.019142866134643555, 'predicting_time': 0.002151012420654297}\n"
     ]
    },
    {
     "data": {
      "application/vnd.jupyter.widget-view+json": {
       "model_id": "7adad4157cbe42fcbade5cbb92202983",
       "version_major": 2,
       "version_minor": 0
      },
      "text/plain": [
       "KNeighborsClassifier:   0%|          | 0/5 [00:00<?, ?it/s]"
      ]
     },
     "metadata": {},
     "output_type": "display_data"
    },
    {
     "name": "stdout",
     "output_type": "stream",
     "text": [
      "{'AUC': 0.5306659408455815, 'kappa': 0.07975460122699396, 'f1': 0.1702127659574468, 'precision': 0.2857142857142857, 'recall': 0.12121212121212122, 'average_precision': 0.17963203463203464, 'Spearman_r': nan, 'Pearson_r': nan, 'R2': nan, 'MAE': nan, 'MSE': nan, 'poisson_deviance_explained': nan, 'model': 'KNeighborsClassifier', 'task_type': 'classification', 'iter': 0, 'sp': 'Mallard', 'sample_size': 1000, 'training_time': 0.002353191375732422, 'predicting_time': 0.02277088165283203}\n",
      "{'AUC': 0.5158427180759687, 'kappa': 0.04082636497786518, 'f1': 0.13333333333333333, 'precision': 0.21428571428571427, 'recall': 0.0967741935483871, 'average_precision': 0.16073732718894007, 'Spearman_r': nan, 'Pearson_r': nan, 'R2': nan, 'MAE': nan, 'MSE': nan, 'poisson_deviance_explained': nan, 'model': 'KNeighborsClassifier', 'task_type': 'classification', 'iter': 1, 'sp': 'Mallard', 'sample_size': 1000, 'training_time': 0.002552032470703125, 'predicting_time': 0.01469111442565918}\n",
      "{'AUC': 0.5456360007258211, 'kappa': 0.1288752241865232, 'f1': 0.19047619047619047, 'precision': 0.4444444444444444, 'recall': 0.12121212121212122, 'average_precision': 0.1988720538720539, 'Spearman_r': nan, 'Pearson_r': nan, 'R2': nan, 'MAE': nan, 'MSE': nan, 'poisson_deviance_explained': nan, 'model': 'KNeighborsClassifier', 'task_type': 'classification', 'iter': 2, 'sp': 'Mallard', 'sample_size': 1000, 'training_time': 0.007310152053833008, 'predicting_time': 0.009100675582885742}\n",
      "{'AUC': 0.5247184577209391, 'kappa': 0.067115833117388, 'f1': 0.14285714285714285, 'precision': 0.2727272727272727, 'recall': 0.0967741935483871, 'average_precision': 0.16639296187683283, 'Spearman_r': nan, 'Pearson_r': nan, 'R2': nan, 'MAE': nan, 'MSE': nan, 'poisson_deviance_explained': nan, 'model': 'KNeighborsClassifier', 'task_type': 'classification', 'iter': 3, 'sp': 'Mallard', 'sample_size': 1000, 'training_time': 0.002357006072998047, 'predicting_time': 0.005196809768676758}\n",
      "{'AUC': 0.4779874213836478, 'kappa': -0.06359406159982295, 'f1': 0.0, 'precision': 0.0, 'recall': 0.0, 'average_precision': 0.205, 'Spearman_r': nan, 'Pearson_r': nan, 'R2': nan, 'MAE': nan, 'MSE': nan, 'poisson_deviance_explained': nan, 'model': 'KNeighborsClassifier', 'task_type': 'classification', 'iter': 4, 'sp': 'Mallard', 'sample_size': 1000, 'training_time': 0.006002902984619141, 'predicting_time': 0.009064912796020508}\n"
     ]
    },
    {
     "data": {
      "application/vnd.jupyter.widget-view+json": {
       "model_id": "f44376bc164046b98a0813eedc2b66b3",
       "version_major": 2,
       "version_minor": 0
      },
      "text/plain": [
       "GaussianNB:   0%|          | 0/5 [00:00<?, ?it/s]"
      ]
     },
     "metadata": {},
     "output_type": "display_data"
    },
    {
     "name": "stdout",
     "output_type": "stream",
     "text": [
      "{'AUC': 0.5567047722736346, 'kappa': 0.04159733777038266, 'f1': 0.3076923076923077, 'precision': 0.18285714285714286, 'recall': 0.9696969696969697, 'average_precision': 0.18231601731601732, 'Spearman_r': nan, 'Pearson_r': nan, 'R2': nan, 'MAE': nan, 'MSE': nan, 'poisson_deviance_explained': nan, 'model': 'GaussianNB', 'task_type': 'classification', 'iter': 0, 'sp': 'Mallard', 'sample_size': 1000, 'training_time': 0.0041637420654296875, 'predicting_time': 0.0022220611572265625}\n",
      "{'AUC': 0.5564993319335751, 'kappa': 0.040294037571467545, 'f1': 0.29145728643216084, 'precision': 0.17261904761904762, 'recall': 0.9354838709677419, 'average_precision': 0.17148233486943165, 'Spearman_r': nan, 'Pearson_r': nan, 'R2': nan, 'MAE': nan, 'MSE': nan, 'poisson_deviance_explained': nan, 'model': 'GaussianNB', 'task_type': 'classification', 'iter': 1, 'sp': 'Mallard', 'sample_size': 1000, 'training_time': 0.0038051605224609375, 'predicting_time': 0.0022258758544921875}\n",
      "{'AUC': 0.5077118490292143, 'kappa': 0.006211180124223725, 'f1': 0.2765957446808511, 'precision': 0.16774193548387098, 'recall': 0.7878787878787878, 'average_precision': 0.1671603128054741, 'Spearman_r': nan, 'Pearson_r': nan, 'R2': nan, 'MAE': nan, 'MSE': nan, 'poisson_deviance_explained': nan, 'model': 'GaussianNB', 'task_type': 'classification', 'iter': 2, 'sp': 'Mallard', 'sample_size': 1000, 'training_time': 0.003821849822998047, 'predicting_time': 0.002256155014038086}\n",
      "{'AUC': 0.5962970032448941, 'kappa': 0.07101133084664635, 'f1': 0.3125, 'precision': 0.18633540372670807, 'recall': 0.967741935483871, 'average_precision': 0.18532458425165296, 'Spearman_r': nan, 'Pearson_r': nan, 'R2': nan, 'MAE': nan, 'MSE': nan, 'poisson_deviance_explained': nan, 'model': 'GaussianNB', 'task_type': 'classification', 'iter': 3, 'sp': 'Mallard', 'sample_size': 1000, 'training_time': 0.0035631656646728516, 'predicting_time': 0.0025987625122070312}\n",
      "{'AUC': 0.5385028378585672, 'kappa': 0.034378852212025635, 'f1': 0.35616438356164387, 'precision': 0.21910112359550563, 'recall': 0.9512195121951219, 'average_precision': 0.21841326390791999, 'Spearman_r': nan, 'Pearson_r': nan, 'R2': nan, 'MAE': nan, 'MSE': nan, 'poisson_deviance_explained': nan, 'model': 'GaussianNB', 'task_type': 'classification', 'iter': 4, 'sp': 'Mallard', 'sample_size': 1000, 'training_time': 0.003961801528930664, 'predicting_time': 0.002110004425048828}\n"
     ]
    },
    {
     "data": {
      "application/vnd.jupyter.widget-view+json": {
       "model_id": "ebdf1e24ad144de0a414a8ae18510130",
       "version_major": 2,
       "version_minor": 0
      },
      "text/plain": [
       "SGDClassifier:   0%|          | 0/5 [00:00<?, ?it/s]"
      ]
     },
     "metadata": {},
     "output_type": "display_data"
    },
    {
     "name": "stdout",
     "output_type": "stream",
     "text": [
      "{'AUC': 0.6785519869352206, 'kappa': 0.19166342033502148, 'f1': 0.39416058394160586, 'precision': 0.25961538461538464, 'recall': 0.8181818181818182, 'average_precision': 0.24241258741258745, 'Spearman_r': nan, 'Pearson_r': nan, 'R2': nan, 'MAE': nan, 'MSE': nan, 'poisson_deviance_explained': nan, 'model': 'SGDClassifier', 'task_type': 'classification', 'iter': 0, 'sp': 'Mallard', 'sample_size': 1000, 'training_time': 0.006205081939697266, 'predicting_time': 0.0032320022583007812}\n",
      "{'AUC': 0.566711204428326, 'kappa': 0.0469159003959998, 'f1': 0.29702970297029696, 'precision': 0.17543859649122806, 'recall': 0.967741935483871, 'average_precision': 0.1747792869269949, 'Spearman_r': nan, 'Pearson_r': nan, 'R2': nan, 'MAE': nan, 'MSE': nan, 'poisson_deviance_explained': nan, 'model': 'SGDClassifier', 'task_type': 'classification', 'iter': 1, 'sp': 'Mallard', 'sample_size': 1000, 'training_time': 0.017700672149658203, 'predicting_time': 0.0029799938201904297}\n",
      "{'AUC': 0.5489929232444203, 'kappa': 0.11637931034482751, 'f1': 0.22641509433962265, 'precision': 0.3, 'recall': 0.18181818181818182, 'average_precision': 0.18954545454545454, 'Spearman_r': nan, 'Pearson_r': nan, 'R2': nan, 'MAE': nan, 'MSE': nan, 'poisson_deviance_explained': nan, 'model': 'SGDClassifier', 'task_type': 'classification', 'iter': 2, 'sp': 'Mallard', 'sample_size': 1000, 'training_time': 0.011623859405517578, 'predicting_time': 0.0035042762756347656}\n",
      "{'AUC': 0.6106127123496851, 'kappa': 0.10772376614927037, 'f1': 0.323943661971831, 'precision': 0.2072072072072072, 'recall': 0.7419354838709677, 'average_precision': 0.19373437954083117, 'Spearman_r': nan, 'Pearson_r': nan, 'R2': nan, 'MAE': nan, 'MSE': nan, 'poisson_deviance_explained': nan, 'model': 'SGDClassifier', 'task_type': 'classification', 'iter': 3, 'sp': 'Mallard', 'sample_size': 1000, 'training_time': 0.009791135787963867, 'predicting_time': 0.0038750171661376953}\n",
      "{'AUC': 0.6347599325049853, 'kappa': 0.1547063485075283, 'f1': 0.4146341463414634, 'precision': 0.2764227642276423, 'recall': 0.8292682926829268, 'average_precision': 0.26422863374975214, 'Spearman_r': nan, 'Pearson_r': nan, 'R2': nan, 'MAE': nan, 'MSE': nan, 'poisson_deviance_explained': nan, 'model': 'SGDClassifier', 'task_type': 'classification', 'iter': 4, 'sp': 'Mallard', 'sample_size': 1000, 'training_time': 0.015359878540039062, 'predicting_time': 0.004786968231201172}\n"
     ]
    },
    {
     "data": {
      "application/vnd.jupyter.widget-view+json": {
       "model_id": "31e93aea64a54bddbd22eb0fec3962f5",
       "version_major": 2,
       "version_minor": 0
      },
      "text/plain": [
       "LogisticRegression:   0%|          | 0/5 [00:00<?, ?it/s]"
      ]
     },
     "metadata": {},
     "output_type": "display_data"
    },
    {
     "name": "stdout",
     "output_type": "stream",
     "text": [
      "{'AUC': 0.6750136091453457, 'kappa': 0.21130463358527762, 'f1': 0.4, 'precision': 0.27586206896551724, 'recall': 0.7272727272727273, 'average_precision': 0.24562695924764888, 'Spearman_r': nan, 'Pearson_r': nan, 'R2': nan, 'MAE': nan, 'MSE': nan, 'poisson_deviance_explained': nan, 'model': 'LogisticRegression', 'task_type': 'classification', 'iter': 0, 'sp': 'Mallard', 'sample_size': 1000, 'training_time': 0.020888090133666992, 'predicting_time': 0.002315998077392578}\n",
      "{'AUC': 0.6888719221225424, 'kappa': 0.21100330525642386, 'f1': 0.3934426229508197, 'precision': 0.26373626373626374, 'recall': 0.7741935483870968, 'average_precision': 0.23918291386033322, 'Spearman_r': nan, 'Pearson_r': nan, 'R2': nan, 'MAE': nan, 'MSE': nan, 'poisson_deviance_explained': nan, 'model': 'LogisticRegression', 'task_type': 'classification', 'iter': 1, 'sp': 'Mallard', 'sample_size': 1000, 'training_time': 0.032016754150390625, 'predicting_time': 0.0022771358489990234}\n",
      "{'AUC': 0.5927236436218474, 'kappa': 0.13234913234913237, 'f1': 0.32323232323232326, 'precision': 0.24242424242424243, 'recall': 0.48484848484848486, 'average_precision': 0.20253902662993573, 'Spearman_r': nan, 'Pearson_r': nan, 'R2': nan, 'MAE': nan, 'MSE': nan, 'poisson_deviance_explained': nan, 'model': 'LogisticRegression', 'task_type': 'classification', 'iter': 2, 'sp': 'Mallard', 'sample_size': 1000, 'training_time': 0.015506982803344727, 'predicting_time': 0.007138967514038086}\n",
      "{'AUC': 0.7069097155945792, 'kappa': 0.2687159147248389, 'f1': 0.4271844660194175, 'precision': 0.3055555555555556, 'recall': 0.7096774193548387, 'average_precision': 0.26184587813620075, 'Spearman_r': nan, 'Pearson_r': nan, 'R2': nan, 'MAE': nan, 'MSE': nan, 'poisson_deviance_explained': nan, 'model': 'LogisticRegression', 'task_type': 'classification', 'iter': 3, 'sp': 'Mallard', 'sample_size': 1000, 'training_time': 0.08266305923461914, 'predicting_time': 0.0038919448852539062}\n",
      "{'AUC': 0.6653627857033289, 'kappa': 0.2380742049469965, 'f1': 0.448, 'precision': 0.3333333333333333, 'recall': 0.6829268292682927, 'average_precision': 0.29264227642276425, 'Spearman_r': nan, 'Pearson_r': nan, 'R2': nan, 'MAE': nan, 'MSE': nan, 'poisson_deviance_explained': nan, 'model': 'LogisticRegression', 'task_type': 'classification', 'iter': 4, 'sp': 'Mallard', 'sample_size': 1000, 'training_time': 0.023252010345458984, 'predicting_time': 0.0023469924926757812}\n"
     ]
    }
   ],
   "source": [
    "K=5\n",
    "\n",
    "cls_metric_df_list = []\n",
    "for item in list(cls_model_set_dict.keys())[::-1]:\n",
    "    model_name = item\n",
    "    model = cls_model_set_dict[model_name]\n",
    "    \n",
    "    kf = KFold(n_splits=K, shuffle=True, random_state=42).split(X, y)\n",
    "    for kf_count, (train_index, test_index) in tqdm(enumerate(kf), desc=f'{model_name}', total=K):\n",
    "        \n",
    "        try:\n",
    "            X_train = X.iloc[train_index].replace(-1,np.nan)\n",
    "            imputer = SimpleImputer().fit(X_train[x_names])\n",
    "            X_train[x_names] = imputer.transform(X_train[x_names])\n",
    "            scaler = MinMaxScaler().fit(X_train[x_names])\n",
    "            X_train[x_names] = scaler.transform(X_train[x_names])\n",
    "            \n",
    "            y_train = np.where(y[train_index]>0, 1, 0)\n",
    "            \n",
    "            X_test = X.iloc[test_index].replace(-1,np.nan)\n",
    "            X_test[x_names] = imputer.transform(X_test[x_names])\n",
    "            X_test[x_names] = scaler.transform(X_test[x_names])\n",
    "            y_test = np.where(y[test_index]>0, 1, 0)\n",
    "            \n",
    "            \n",
    "            sample_weights = class_weight.compute_sample_weight(class_weight='balanced',y=y_train)\n",
    "            \n",
    "            a = time.time()\n",
    "\n",
    "            try:\n",
    "                start_time = time.time()\n",
    "                model.fit(X_train[x_names], y_train, sample_weight=sample_weights)\n",
    "                finish_time = time.time()\n",
    "                training_time = finish_time - start_time\n",
    "            except:\n",
    "                start_time = time.time()\n",
    "                model.fit(X_train[x_names], y_train)\n",
    "                finish_time = time.time()\n",
    "                training_time = finish_time - start_time\n",
    "                \n",
    "            start_time = time.time()\n",
    "            y_pred = model.predict(X_test[x_names])\n",
    "            finish_time = time.time()\n",
    "            predicting_time = finish_time - start_time\n",
    "            \n",
    "            y_pred = np.where(y_pred<0, 0, y_pred)\n",
    "            metric_df = AdaSTEM.eval_STEM_res('classification', y_test, y_pred)\n",
    "            \n",
    "            metric_df['model'] = model_name\n",
    "            metric_df['task_type'] = 'classification'\n",
    "            metric_df['iter'] = kf_count\n",
    "            metric_df['sp'] = sp\n",
    "            metric_df['sample_size'] = SAMPLE_SIZE\n",
    "            metric_df['training_time'] = training_time\n",
    "            metric_df['predicting_time'] = predicting_time\n",
    "            \n",
    "            cls_metric_df_list.append(metric_df)\n",
    "            \n",
    "            print(metric_df)\n",
    "            \n",
    "        except Exception as e:\n",
    "            print(e)\n",
    "            continue\n",
    "\n",
    "\n",
    "\n",
    "    "
   ]
  },
  {
   "cell_type": "code",
   "execution_count": 10,
   "metadata": {},
   "outputs": [],
   "source": [
    "cls_metric_df = pd.DataFrame(cls_metric_df_list)\n",
    "cls_metric_df.to_csv(os.path.join(OUTPUT_DIR, f'cls_metric_df_SIZE_{SAMPLE_SIZE}_SP_{sp}_year_{year}.csv'),\n",
    "                                        index=False)\n"
   ]
  },
  {
   "cell_type": "markdown",
   "metadata": {},
   "source": [
    "### Then, with AdaSTEM wrapper"
   ]
  },
  {
   "cell_type": "code",
   "execution_count": 11,
   "metadata": {},
   "outputs": [
    {
     "data": {
      "application/vnd.jupyter.widget-view+json": {
       "model_id": "6a5d5316629a4b919c6f507ec1863761",
       "version_major": 2,
       "version_minor": 0
      },
      "text/plain": [
       "AdaSTEM + ComplementNB:   0%|          | 0/5 [00:00<?, ?it/s]"
      ]
     },
     "metadata": {},
     "output_type": "display_data"
    },
    {
     "name": "stderr",
     "output_type": "stream",
     "text": [
      "Generating Ensemble: 100%|██████████| 5/5 [00:00<00:00, 22.70it/s]\n",
      "training: 100%|██████████| 1231/1231 [00:00<00:00, 9645.45it/s]\n"
     ]
    },
    {
     "name": "stdout",
     "output_type": "stream",
     "text": [
      "{'AUC': 0.5, 'kappa': 0.0, 'f1': 0.0, 'precision': 0.0, 'recall': 0.0, 'average_precision': 0.165, 'Spearman_r': nan, 'Pearson_r': nan, 'R2': nan, 'MAE': nan, 'MSE': nan, 'poisson_deviance_explained': nan, 'model': 'AdaSTEM_ComplementNB', 'task_type': 'classification', 'iter': 0, 'sp': 'Mallard', 'sample_size': 1000, 'training_time': 0.3953828811645508, 'predicting_time': 0.720020055770874}\n"
     ]
    },
    {
     "name": "stderr",
     "output_type": "stream",
     "text": [
      "Generating Ensemble: 100%|██████████| 5/5 [00:00<00:00, 27.96it/s]\n",
      "training: 100%|██████████| 1170/1170 [00:00<00:00, 9625.34it/s]\n"
     ]
    },
    {
     "name": "stdout",
     "output_type": "stream",
     "text": [
      "{'AUC': 0.5, 'kappa': 0.0, 'f1': 0.0, 'precision': 0.0, 'recall': 0.0, 'average_precision': 0.155, 'Spearman_r': nan, 'Pearson_r': nan, 'R2': nan, 'MAE': nan, 'MSE': nan, 'poisson_deviance_explained': nan, 'model': 'AdaSTEM_ComplementNB', 'task_type': 'classification', 'iter': 1, 'sp': 'Mallard', 'sample_size': 1000, 'training_time': 0.3399977684020996, 'predicting_time': 0.7334439754486084}\n"
     ]
    },
    {
     "name": "stderr",
     "output_type": "stream",
     "text": [
      "Generating Ensemble: 100%|██████████| 5/5 [00:00<00:00, 20.47it/s]\n",
      "training: 100%|██████████| 1223/1223 [00:00<00:00, 9434.69it/s]\n"
     ]
    },
    {
     "name": "stdout",
     "output_type": "stream",
     "text": [
      "{'AUC': 0.5, 'kappa': 0.0, 'f1': 0.0, 'precision': 0.0, 'recall': 0.0, 'average_precision': 0.165, 'Spearman_r': nan, 'Pearson_r': nan, 'R2': nan, 'MAE': nan, 'MSE': nan, 'poisson_deviance_explained': nan, 'model': 'AdaSTEM_ComplementNB', 'task_type': 'classification', 'iter': 2, 'sp': 'Mallard', 'sample_size': 1000, 'training_time': 0.4179251194000244, 'predicting_time': 0.7439708709716797}\n"
     ]
    },
    {
     "name": "stderr",
     "output_type": "stream",
     "text": [
      "Generating Ensemble: 100%|██████████| 5/5 [00:00<00:00, 24.55it/s]\n",
      "training: 100%|██████████| 1220/1220 [00:00<00:00, 9559.19it/s]\n"
     ]
    },
    {
     "name": "stdout",
     "output_type": "stream",
     "text": [
      "{'AUC': 0.5, 'kappa': 0.0, 'f1': 0.0, 'precision': 0.0, 'recall': 0.0, 'average_precision': 0.155, 'Spearman_r': nan, 'Pearson_r': nan, 'R2': nan, 'MAE': nan, 'MSE': nan, 'poisson_deviance_explained': nan, 'model': 'AdaSTEM_ComplementNB', 'task_type': 'classification', 'iter': 3, 'sp': 'Mallard', 'sample_size': 1000, 'training_time': 0.37309789657592773, 'predicting_time': 0.7677369117736816}\n"
     ]
    },
    {
     "name": "stderr",
     "output_type": "stream",
     "text": [
      "Generating Ensemble: 100%|██████████| 5/5 [00:00<00:00, 27.91it/s]\n",
      "training: 100%|██████████| 1220/1220 [00:00<00:00, 9287.23it/s]\n"
     ]
    },
    {
     "name": "stdout",
     "output_type": "stream",
     "text": [
      "{'AUC': 0.5, 'kappa': 0.0, 'f1': 0.0, 'precision': 0.0, 'recall': 0.0, 'average_precision': 0.205, 'Spearman_r': nan, 'Pearson_r': nan, 'R2': nan, 'MAE': nan, 'MSE': nan, 'poisson_deviance_explained': nan, 'model': 'AdaSTEM_ComplementNB', 'task_type': 'classification', 'iter': 4, 'sp': 'Mallard', 'sample_size': 1000, 'training_time': 0.3518059253692627, 'predicting_time': 0.79168701171875}\n"
     ]
    },
    {
     "data": {
      "application/vnd.jupyter.widget-view+json": {
       "model_id": "d8c75b7f68144b968570f31b41053ea6",
       "version_major": 2,
       "version_minor": 0
      },
      "text/plain": [
       "AdaSTEM + XGBClassifier:   0%|          | 0/5 [00:00<?, ?it/s]"
      ]
     },
     "metadata": {},
     "output_type": "display_data"
    },
    {
     "name": "stderr",
     "output_type": "stream",
     "text": [
      "Generating Ensemble: 100%|██████████| 5/5 [00:00<00:00, 25.01it/s]\n",
      "training: 100%|██████████| 1235/1235 [00:00<00:00, 8905.13it/s]\n"
     ]
    },
    {
     "name": "stdout",
     "output_type": "stream",
     "text": [
      "{'AUC': 0.5, 'kappa': 0.0, 'f1': 0.0, 'precision': 0.0, 'recall': 0.0, 'average_precision': 0.165, 'Spearman_r': nan, 'Pearson_r': nan, 'R2': nan, 'MAE': nan, 'MSE': nan, 'poisson_deviance_explained': nan, 'model': 'AdaSTEM_XGBClassifier', 'task_type': 'classification', 'iter': 0, 'sp': 'Mallard', 'sample_size': 1000, 'training_time': 0.4044680595397949, 'predicting_time': 0.7440550327301025}\n"
     ]
    },
    {
     "name": "stderr",
     "output_type": "stream",
     "text": [
      "Generating Ensemble: 100%|██████████| 5/5 [00:00<00:00, 27.44it/s]\n",
      "training: 100%|██████████| 1196/1196 [00:00<00:00, 9577.97it/s]\n"
     ]
    },
    {
     "name": "stdout",
     "output_type": "stream",
     "text": [
      "{'AUC': 0.5, 'kappa': 0.0, 'f1': 0.0, 'precision': 0.0, 'recall': 0.0, 'average_precision': 0.155, 'Spearman_r': nan, 'Pearson_r': nan, 'R2': nan, 'MAE': nan, 'MSE': nan, 'poisson_deviance_explained': nan, 'model': 'AdaSTEM_XGBClassifier', 'task_type': 'classification', 'iter': 1, 'sp': 'Mallard', 'sample_size': 1000, 'training_time': 0.34852004051208496, 'predicting_time': 0.7439398765563965}\n"
     ]
    },
    {
     "name": "stderr",
     "output_type": "stream",
     "text": [
      "Generating Ensemble: 100%|██████████| 5/5 [00:00<00:00, 20.86it/s]\n",
      "training: 100%|██████████| 1151/1151 [00:00<00:00, 9277.69it/s]\n"
     ]
    },
    {
     "name": "stdout",
     "output_type": "stream",
     "text": [
      "{'AUC': 0.5, 'kappa': 0.0, 'f1': 0.0, 'precision': 0.0, 'recall': 0.0, 'average_precision': 0.165, 'Spearman_r': nan, 'Pearson_r': nan, 'R2': nan, 'MAE': nan, 'MSE': nan, 'poisson_deviance_explained': nan, 'model': 'AdaSTEM_XGBClassifier', 'task_type': 'classification', 'iter': 2, 'sp': 'Mallard', 'sample_size': 1000, 'training_time': 0.40432286262512207, 'predicting_time': 0.7159640789031982}\n"
     ]
    },
    {
     "name": "stderr",
     "output_type": "stream",
     "text": [
      "Generating Ensemble: 100%|██████████| 5/5 [00:00<00:00, 24.52it/s]\n",
      "training: 100%|██████████| 1227/1227 [00:00<00:00, 9010.47it/s]\n"
     ]
    },
    {
     "name": "stdout",
     "output_type": "stream",
     "text": [
      "{'AUC': 0.5, 'kappa': 0.0, 'f1': 0.0, 'precision': 0.0, 'recall': 0.0, 'average_precision': 0.155, 'Spearman_r': nan, 'Pearson_r': nan, 'R2': nan, 'MAE': nan, 'MSE': nan, 'poisson_deviance_explained': nan, 'model': 'AdaSTEM_XGBClassifier', 'task_type': 'classification', 'iter': 3, 'sp': 'Mallard', 'sample_size': 1000, 'training_time': 0.3902711868286133, 'predicting_time': 0.7511563301086426}\n"
     ]
    },
    {
     "name": "stderr",
     "output_type": "stream",
     "text": [
      "Generating Ensemble: 100%|██████████| 5/5 [00:00<00:00, 25.56it/s]\n",
      "training: 100%|██████████| 1246/1246 [00:00<00:00, 9124.07it/s]\n"
     ]
    },
    {
     "name": "stdout",
     "output_type": "stream",
     "text": [
      "{'AUC': 0.5, 'kappa': 0.0, 'f1': 0.0, 'precision': 0.0, 'recall': 0.0, 'average_precision': 0.205, 'Spearman_r': nan, 'Pearson_r': nan, 'R2': nan, 'MAE': nan, 'MSE': nan, 'poisson_deviance_explained': nan, 'model': 'AdaSTEM_XGBClassifier', 'task_type': 'classification', 'iter': 4, 'sp': 'Mallard', 'sample_size': 1000, 'training_time': 0.3775019645690918, 'predicting_time': 0.7524428367614746}\n"
     ]
    },
    {
     "data": {
      "application/vnd.jupyter.widget-view+json": {
       "model_id": "d2f2034b2a354853951dab82d2fe484c",
       "version_major": 2,
       "version_minor": 0
      },
      "text/plain": [
       "AdaSTEM + MaxEnt:   0%|          | 0/5 [00:00<?, ?it/s]"
      ]
     },
     "metadata": {},
     "output_type": "display_data"
    },
    {
     "name": "stderr",
     "output_type": "stream",
     "text": [
      "Generating Ensemble:   0%|          | 0/5 [00:00<?, ?it/s]\n",
      "Generating Ensemble: 100%|██████████| 5/5 [00:00<00:00, 25.07it/s]\n",
      "training: 100%|██████████| 1228/1228 [00:00<00:00, 8642.84it/s]\n"
     ]
    },
    {
     "name": "stdout",
     "output_type": "stream",
     "text": [
      "{'AUC': 0.5, 'kappa': 0.0, 'f1': 0.0, 'precision': 0.0, 'recall': 0.0, 'average_precision': 0.165, 'Spearman_r': nan, 'Pearson_r': nan, 'R2': nan, 'MAE': nan, 'MSE': nan, 'poisson_deviance_explained': nan, 'model': 'AdaSTEM_MaxEnt', 'task_type': 'classification', 'iter': 0, 'sp': 'Mallard', 'sample_size': 1000, 'training_time': 0.3871312141418457, 'predicting_time': 0.798738956451416}\n"
     ]
    },
    {
     "name": "stderr",
     "output_type": "stream",
     "text": [
      "Generating Ensemble:  40%|████      | 2/5 [00:00<00:00, 17.37it/s]\n",
      "Generating Ensemble: 100%|██████████| 5/5 [00:00<00:00, 25.37it/s]\n",
      "training: 100%|██████████| 1152/1152 [00:00<00:00, 9105.20it/s]\n"
     ]
    },
    {
     "name": "stdout",
     "output_type": "stream",
     "text": [
      "{'AUC': 0.5, 'kappa': 0.0, 'f1': 0.0, 'precision': 0.0, 'recall': 0.0, 'average_precision': 0.155, 'Spearman_r': nan, 'Pearson_r': nan, 'R2': nan, 'MAE': nan, 'MSE': nan, 'poisson_deviance_explained': nan, 'model': 'AdaSTEM_MaxEnt', 'task_type': 'classification', 'iter': 1, 'sp': 'Mallard', 'sample_size': 1000, 'training_time': 0.37087202072143555, 'predicting_time': 0.7103831768035889}\n"
     ]
    },
    {
     "name": "stderr",
     "output_type": "stream",
     "text": [
      "Generating Ensemble: 100%|██████████| 5/5 [00:00<00:00, 20.30it/s]\n",
      "training: 100%|██████████| 1221/1221 [00:00<00:00, 9376.07it/s]\n"
     ]
    },
    {
     "name": "stdout",
     "output_type": "stream",
     "text": [
      "{'AUC': 0.5, 'kappa': 0.0, 'f1': 0.0, 'precision': 0.0, 'recall': 0.0, 'average_precision': 0.165, 'Spearman_r': nan, 'Pearson_r': nan, 'R2': nan, 'MAE': nan, 'MSE': nan, 'poisson_deviance_explained': nan, 'model': 'AdaSTEM_MaxEnt', 'task_type': 'classification', 'iter': 2, 'sp': 'Mallard', 'sample_size': 1000, 'training_time': 0.4224119186401367, 'predicting_time': 0.7341132164001465}\n"
     ]
    },
    {
     "name": "stderr",
     "output_type": "stream",
     "text": [
      "Generating Ensemble: 100%|██████████| 5/5 [00:00<00:00, 23.80it/s]\n",
      "training: 100%|██████████| 1197/1197 [00:00<00:00, 9432.56it/s]\n"
     ]
    },
    {
     "name": "stdout",
     "output_type": "stream",
     "text": [
      "{'AUC': 0.5, 'kappa': 0.0, 'f1': 0.0, 'precision': 0.0, 'recall': 0.0, 'average_precision': 0.155, 'Spearman_r': nan, 'Pearson_r': nan, 'R2': nan, 'MAE': nan, 'MSE': nan, 'poisson_deviance_explained': nan, 'model': 'AdaSTEM_MaxEnt', 'task_type': 'classification', 'iter': 3, 'sp': 'Mallard', 'sample_size': 1000, 'training_time': 0.3785362243652344, 'predicting_time': 0.7348892688751221}\n"
     ]
    },
    {
     "name": "stderr",
     "output_type": "stream",
     "text": [
      "Generating Ensemble: 100%|██████████| 5/5 [00:00<00:00, 22.00it/s]\n",
      "training: 100%|██████████| 1210/1210 [00:00<00:00, 9715.45it/s]\n"
     ]
    },
    {
     "name": "stdout",
     "output_type": "stream",
     "text": [
      "{'AUC': 0.5, 'kappa': 0.0, 'f1': 0.0, 'precision': 0.0, 'recall': 0.0, 'average_precision': 0.205, 'Spearman_r': nan, 'Pearson_r': nan, 'R2': nan, 'MAE': nan, 'MSE': nan, 'poisson_deviance_explained': nan, 'model': 'AdaSTEM_MaxEnt', 'task_type': 'classification', 'iter': 4, 'sp': 'Mallard', 'sample_size': 1000, 'training_time': 0.3923330307006836, 'predicting_time': 0.7117419242858887}\n"
     ]
    },
    {
     "data": {
      "application/vnd.jupyter.widget-view+json": {
       "model_id": "0c89b323a9e3442da63cb9745357b52f",
       "version_major": 2,
       "version_minor": 0
      },
      "text/plain": [
       "AdaSTEM + MLPClassifier:   0%|          | 0/5 [00:00<?, ?it/s]"
      ]
     },
     "metadata": {},
     "output_type": "display_data"
    },
    {
     "name": "stderr",
     "output_type": "stream",
     "text": [
      "Generating Ensemble: 100%|██████████| 5/5 [00:00<00:00, 28.41it/s]\n",
      "training: 100%|██████████| 1240/1240 [00:00<00:00, 9644.40it/s]\n"
     ]
    },
    {
     "name": "stdout",
     "output_type": "stream",
     "text": [
      "{'AUC': 0.5, 'kappa': 0.0, 'f1': 0.0, 'precision': 0.0, 'recall': 0.0, 'average_precision': 0.165, 'Spearman_r': nan, 'Pearson_r': nan, 'R2': nan, 'MAE': nan, 'MSE': nan, 'poisson_deviance_explained': nan, 'model': 'AdaSTEM_MLPClassifier', 'task_type': 'classification', 'iter': 0, 'sp': 'Mallard', 'sample_size': 1000, 'training_time': 0.34571003913879395, 'predicting_time': 0.7510709762573242}\n"
     ]
    },
    {
     "name": "stderr",
     "output_type": "stream",
     "text": [
      "Generating Ensemble: 100%|██████████| 5/5 [00:00<00:00, 27.79it/s]\n",
      "training: 100%|██████████| 1182/1182 [00:00<00:00, 9780.81it/s]\n"
     ]
    },
    {
     "name": "stdout",
     "output_type": "stream",
     "text": [
      "{'AUC': 0.5, 'kappa': 0.0, 'f1': 0.0, 'precision': 0.0, 'recall': 0.0, 'average_precision': 0.155, 'Spearman_r': nan, 'Pearson_r': nan, 'R2': nan, 'MAE': nan, 'MSE': nan, 'poisson_deviance_explained': nan, 'model': 'AdaSTEM_MLPClassifier', 'task_type': 'classification', 'iter': 1, 'sp': 'Mallard', 'sample_size': 1000, 'training_time': 0.34702587127685547, 'predicting_time': 0.7190248966217041}\n"
     ]
    },
    {
     "name": "stderr",
     "output_type": "stream",
     "text": [
      "Generating Ensemble:  80%|████████  | 4/5 [00:00<00:00, 17.96it/s]\n",
      "Generating Ensemble: 100%|██████████| 5/5 [00:00<00:00, 28.74it/s]\n",
      "training: 100%|██████████| 1250/1250 [00:00<00:00, 9875.57it/s] \n"
     ]
    },
    {
     "name": "stdout",
     "output_type": "stream",
     "text": [
      "{'AUC': 0.5, 'kappa': 0.0, 'f1': 0.0, 'precision': 0.0, 'recall': 0.0, 'average_precision': 0.165, 'Spearman_r': nan, 'Pearson_r': nan, 'R2': nan, 'MAE': nan, 'MSE': nan, 'poisson_deviance_explained': nan, 'model': 'AdaSTEM_MLPClassifier', 'task_type': 'classification', 'iter': 2, 'sp': 'Mallard', 'sample_size': 1000, 'training_time': 0.34479427337646484, 'predicting_time': 0.7314629554748535}\n"
     ]
    },
    {
     "name": "stderr",
     "output_type": "stream",
     "text": [
      "Generating Ensemble: 100%|██████████| 5/5 [00:00<00:00, 28.24it/s]\n",
      "training: 100%|██████████| 1214/1214 [00:00<00:00, 9703.01it/s]\n"
     ]
    },
    {
     "name": "stdout",
     "output_type": "stream",
     "text": [
      "{'AUC': 0.5, 'kappa': 0.0, 'f1': 0.0, 'precision': 0.0, 'recall': 0.0, 'average_precision': 0.155, 'Spearman_r': nan, 'Pearson_r': nan, 'R2': nan, 'MAE': nan, 'MSE': nan, 'poisson_deviance_explained': nan, 'model': 'AdaSTEM_MLPClassifier', 'task_type': 'classification', 'iter': 3, 'sp': 'Mallard', 'sample_size': 1000, 'training_time': 0.34229111671447754, 'predicting_time': 0.7030420303344727}\n"
     ]
    },
    {
     "name": "stderr",
     "output_type": "stream",
     "text": [
      "Generating Ensemble: 100%|██████████| 5/5 [00:00<00:00, 29.35it/s]\n",
      "training: 100%|██████████| 1240/1240 [00:00<00:00, 9782.87it/s]\n"
     ]
    },
    {
     "name": "stdout",
     "output_type": "stream",
     "text": [
      "{'AUC': 0.5, 'kappa': 0.0, 'f1': 0.0, 'precision': 0.0, 'recall': 0.0, 'average_precision': 0.205, 'Spearman_r': nan, 'Pearson_r': nan, 'R2': nan, 'MAE': nan, 'MSE': nan, 'poisson_deviance_explained': nan, 'model': 'AdaSTEM_MLPClassifier', 'task_type': 'classification', 'iter': 4, 'sp': 'Mallard', 'sample_size': 1000, 'training_time': 0.38658714294433594, 'predicting_time': 0.7398800849914551}\n"
     ]
    },
    {
     "data": {
      "application/vnd.jupyter.widget-view+json": {
       "model_id": "283bb65c8f5e4bc28e1f608f0a5c0e64",
       "version_major": 2,
       "version_minor": 0
      },
      "text/plain": [
       "AdaSTEM + QuadraticDiscriminantAnalysis:   0%|          | 0/5 [00:00<?, ?it/s]"
      ]
     },
     "metadata": {},
     "output_type": "display_data"
    },
    {
     "name": "stderr",
     "output_type": "stream",
     "text": [
      "Generating Ensemble: 100%|██████████| 5/5 [00:00<00:00, 28.14it/s]\n",
      "training: 100%|██████████| 1183/1183 [00:00<00:00, 9196.93it/s]\n"
     ]
    },
    {
     "name": "stdout",
     "output_type": "stream",
     "text": [
      "{'AUC': 0.5, 'kappa': 0.0, 'f1': 0.0, 'precision': 0.0, 'recall': 0.0, 'average_precision': 0.165, 'Spearman_r': nan, 'Pearson_r': nan, 'R2': nan, 'MAE': nan, 'MSE': nan, 'poisson_deviance_explained': nan, 'model': 'AdaSTEM_QuadraticDiscriminantAnalysis', 'task_type': 'classification', 'iter': 0, 'sp': 'Mallard', 'sample_size': 1000, 'training_time': 0.34559082984924316, 'predicting_time': 0.7141501903533936}\n"
     ]
    },
    {
     "name": "stderr",
     "output_type": "stream",
     "text": [
      "Generating Ensemble: 100%|██████████| 5/5 [00:00<00:00, 27.43it/s]\n",
      "training: 100%|██████████| 1180/1180 [00:00<00:00, 8774.26it/s]\n"
     ]
    },
    {
     "name": "stdout",
     "output_type": "stream",
     "text": [
      "{'AUC': 0.5, 'kappa': 0.0, 'f1': 0.0, 'precision': 0.0, 'recall': 0.0, 'average_precision': 0.155, 'Spearman_r': nan, 'Pearson_r': nan, 'R2': nan, 'MAE': nan, 'MSE': nan, 'poisson_deviance_explained': nan, 'model': 'AdaSTEM_QuadraticDiscriminantAnalysis', 'task_type': 'classification', 'iter': 1, 'sp': 'Mallard', 'sample_size': 1000, 'training_time': 0.35723400115966797, 'predicting_time': 0.6939578056335449}\n"
     ]
    },
    {
     "name": "stderr",
     "output_type": "stream",
     "text": [
      "Generating Ensemble: 100%|██████████| 5/5 [00:00<00:00, 19.92it/s]\n",
      "training: 100%|██████████| 1143/1143 [00:00<00:00, 9534.39it/s]\n"
     ]
    },
    {
     "name": "stdout",
     "output_type": "stream",
     "text": [
      "{'AUC': 0.5, 'kappa': 0.0, 'f1': 0.0, 'precision': 0.0, 'recall': 0.0, 'average_precision': 0.165, 'Spearman_r': nan, 'Pearson_r': nan, 'R2': nan, 'MAE': nan, 'MSE': nan, 'poisson_deviance_explained': nan, 'model': 'AdaSTEM_QuadraticDiscriminantAnalysis', 'task_type': 'classification', 'iter': 2, 'sp': 'Mallard', 'sample_size': 1000, 'training_time': 0.4152870178222656, 'predicting_time': 0.6862289905548096}\n"
     ]
    },
    {
     "name": "stderr",
     "output_type": "stream",
     "text": [
      "Generating Ensemble: 100%|██████████| 5/5 [00:00<00:00, 27.34it/s]\n",
      "training: 100%|██████████| 1232/1232 [00:00<00:00, 9618.08it/s]\n"
     ]
    },
    {
     "name": "stdout",
     "output_type": "stream",
     "text": [
      "{'AUC': 0.5, 'kappa': 0.0, 'f1': 0.0, 'precision': 0.0, 'recall': 0.0, 'average_precision': 0.155, 'Spearman_r': nan, 'Pearson_r': nan, 'R2': nan, 'MAE': nan, 'MSE': nan, 'poisson_deviance_explained': nan, 'model': 'AdaSTEM_QuadraticDiscriminantAnalysis', 'task_type': 'classification', 'iter': 3, 'sp': 'Mallard', 'sample_size': 1000, 'training_time': 0.3534870147705078, 'predicting_time': 0.7314209938049316}\n"
     ]
    },
    {
     "name": "stderr",
     "output_type": "stream",
     "text": [
      "Generating Ensemble: 100%|██████████| 5/5 [00:00<00:00, 26.26it/s]\n",
      "training: 100%|██████████| 1208/1208 [00:00<00:00, 9457.09it/s]\n"
     ]
    },
    {
     "name": "stdout",
     "output_type": "stream",
     "text": [
      "{'AUC': 0.5, 'kappa': 0.0, 'f1': 0.0, 'precision': 0.0, 'recall': 0.0, 'average_precision': 0.205, 'Spearman_r': nan, 'Pearson_r': nan, 'R2': nan, 'MAE': nan, 'MSE': nan, 'poisson_deviance_explained': nan, 'model': 'AdaSTEM_QuadraticDiscriminantAnalysis', 'task_type': 'classification', 'iter': 4, 'sp': 'Mallard', 'sample_size': 1000, 'training_time': 0.36132001876831055, 'predicting_time': 0.7208240032196045}\n"
     ]
    },
    {
     "data": {
      "application/vnd.jupyter.widget-view+json": {
       "model_id": "b2d14a77ab25408b9d83e1d12cfbce8e",
       "version_major": 2,
       "version_minor": 0
      },
      "text/plain": [
       "AdaSTEM + RandomForestClassifier:   0%|          | 0/5 [00:00<?, ?it/s]"
      ]
     },
     "metadata": {},
     "output_type": "display_data"
    },
    {
     "name": "stderr",
     "output_type": "stream",
     "text": [
      "Generating Ensemble:  80%|████████  | 4/5 [00:00<00:00, 17.06it/s]\n",
      "Generating Ensemble: 100%|██████████| 5/5 [00:00<00:00, 27.78it/s]\n",
      "training: 100%|██████████| 1195/1195 [00:00<00:00, 9144.14it/s]\n"
     ]
    },
    {
     "name": "stdout",
     "output_type": "stream",
     "text": [
      "{'AUC': 0.5, 'kappa': 0.0, 'f1': 0.0, 'precision': 0.0, 'recall': 0.0, 'average_precision': 0.165, 'Spearman_r': nan, 'Pearson_r': nan, 'R2': nan, 'MAE': nan, 'MSE': nan, 'poisson_deviance_explained': nan, 'model': 'AdaSTEM_RandomForestClassifier', 'task_type': 'classification', 'iter': 0, 'sp': 'Mallard', 'sample_size': 1000, 'training_time': 0.35151100158691406, 'predicting_time': 0.7249720096588135}\n"
     ]
    },
    {
     "name": "stderr",
     "output_type": "stream",
     "text": [
      "Generating Ensemble: 100%|██████████| 5/5 [00:00<00:00, 28.55it/s]\n",
      "training: 100%|██████████| 1161/1161 [00:00<00:00, 8831.86it/s]\n"
     ]
    },
    {
     "name": "stdout",
     "output_type": "stream",
     "text": [
      "{'AUC': 0.5, 'kappa': 0.0, 'f1': 0.0, 'precision': 0.0, 'recall': 0.0, 'average_precision': 0.155, 'Spearman_r': nan, 'Pearson_r': nan, 'R2': nan, 'MAE': nan, 'MSE': nan, 'poisson_deviance_explained': nan, 'model': 'AdaSTEM_RandomForestClassifier', 'task_type': 'classification', 'iter': 1, 'sp': 'Mallard', 'sample_size': 1000, 'training_time': 0.36213207244873047, 'predicting_time': 0.7138481140136719}\n"
     ]
    },
    {
     "name": "stderr",
     "output_type": "stream",
     "text": [
      "Generating Ensemble: 100%|██████████| 5/5 [00:00<00:00, 21.21it/s]\n",
      "training: 100%|██████████| 1168/1168 [00:00<00:00, 9566.95it/s]\n"
     ]
    },
    {
     "name": "stdout",
     "output_type": "stream",
     "text": [
      "{'AUC': 0.5, 'kappa': 0.0, 'f1': 0.0, 'precision': 0.0, 'recall': 0.0, 'average_precision': 0.165, 'Spearman_r': nan, 'Pearson_r': nan, 'R2': nan, 'MAE': nan, 'MSE': nan, 'poisson_deviance_explained': nan, 'model': 'AdaSTEM_RandomForestClassifier', 'task_type': 'classification', 'iter': 2, 'sp': 'Mallard', 'sample_size': 1000, 'training_time': 0.3994443416595459, 'predicting_time': 0.7126262187957764}\n"
     ]
    },
    {
     "name": "stderr",
     "output_type": "stream",
     "text": [
      "Generating Ensemble: 100%|██████████| 5/5 [00:00<00:00, 27.52it/s]\n",
      "training: 100%|██████████| 1202/1202 [00:00<00:00, 9596.03it/s]\n"
     ]
    },
    {
     "name": "stdout",
     "output_type": "stream",
     "text": [
      "{'AUC': 0.5, 'kappa': 0.0, 'f1': 0.0, 'precision': 0.0, 'recall': 0.0, 'average_precision': 0.155, 'Spearman_r': nan, 'Pearson_r': nan, 'R2': nan, 'MAE': nan, 'MSE': nan, 'poisson_deviance_explained': nan, 'model': 'AdaSTEM_RandomForestClassifier', 'task_type': 'classification', 'iter': 3, 'sp': 'Mallard', 'sample_size': 1000, 'training_time': 0.35016512870788574, 'predicting_time': 0.7354559898376465}\n"
     ]
    },
    {
     "name": "stderr",
     "output_type": "stream",
     "text": [
      "Generating Ensemble: 100%|██████████| 5/5 [00:00<00:00, 21.86it/s]\n",
      "training: 100%|██████████| 1244/1244 [00:00<00:00, 9478.08it/s]\n"
     ]
    },
    {
     "name": "stdout",
     "output_type": "stream",
     "text": [
      "{'AUC': 0.5, 'kappa': 0.0, 'f1': 0.0, 'precision': 0.0, 'recall': 0.0, 'average_precision': 0.205, 'Spearman_r': nan, 'Pearson_r': nan, 'R2': nan, 'MAE': nan, 'MSE': nan, 'poisson_deviance_explained': nan, 'model': 'AdaSTEM_RandomForestClassifier', 'task_type': 'classification', 'iter': 4, 'sp': 'Mallard', 'sample_size': 1000, 'training_time': 0.40203213691711426, 'predicting_time': 0.7360851764678955}\n"
     ]
    },
    {
     "data": {
      "application/vnd.jupyter.widget-view+json": {
       "model_id": "4f4d334608374142bb237f1f37add711",
       "version_major": 2,
       "version_minor": 0
      },
      "text/plain": [
       "AdaSTEM + SVC_rbf:   0%|          | 0/5 [00:00<?, ?it/s]"
      ]
     },
     "metadata": {},
     "output_type": "display_data"
    },
    {
     "name": "stderr",
     "output_type": "stream",
     "text": [
      "Generating Ensemble: 100%|██████████| 5/5 [00:00<00:00, 25.50it/s]\n",
      "training: 100%|██████████| 1220/1220 [00:00<00:00, 9343.23it/s]\n"
     ]
    },
    {
     "name": "stdout",
     "output_type": "stream",
     "text": [
      "{'AUC': 0.5, 'kappa': 0.0, 'f1': 0.0, 'precision': 0.0, 'recall': 0.0, 'average_precision': 0.165, 'Spearman_r': nan, 'Pearson_r': nan, 'R2': nan, 'MAE': nan, 'MSE': nan, 'poisson_deviance_explained': nan, 'model': 'AdaSTEM_SVC_rbf', 'task_type': 'classification', 'iter': 0, 'sp': 'Mallard', 'sample_size': 1000, 'training_time': 0.37074995040893555, 'predicting_time': 0.7690229415893555}\n"
     ]
    },
    {
     "name": "stderr",
     "output_type": "stream",
     "text": [
      "Generating Ensemble: 100%|██████████| 5/5 [00:00<00:00, 22.76it/s]\n",
      "training: 100%|██████████| 1209/1209 [00:00<00:00, 9684.08it/s]\n"
     ]
    },
    {
     "name": "stdout",
     "output_type": "stream",
     "text": [
      "{'AUC': 0.5, 'kappa': 0.0, 'f1': 0.0, 'precision': 0.0, 'recall': 0.0, 'average_precision': 0.155, 'Spearman_r': nan, 'Pearson_r': nan, 'R2': nan, 'MAE': nan, 'MSE': nan, 'poisson_deviance_explained': nan, 'model': 'AdaSTEM_SVC_rbf', 'task_type': 'classification', 'iter': 1, 'sp': 'Mallard', 'sample_size': 1000, 'training_time': 0.39814233779907227, 'predicting_time': 0.7390668392181396}\n"
     ]
    },
    {
     "name": "stderr",
     "output_type": "stream",
     "text": [
      "Generating Ensemble: 100%|██████████| 5/5 [00:00<00:00, 17.44it/s]\n",
      "training: 100%|██████████| 1256/1256 [00:00<00:00, 9268.35it/s]\n"
     ]
    },
    {
     "name": "stdout",
     "output_type": "stream",
     "text": [
      "{'AUC': 0.5, 'kappa': 0.0, 'f1': 0.0, 'precision': 0.0, 'recall': 0.0, 'average_precision': 0.165, 'Spearman_r': nan, 'Pearson_r': nan, 'R2': nan, 'MAE': nan, 'MSE': nan, 'poisson_deviance_explained': nan, 'model': 'AdaSTEM_SVC_rbf', 'task_type': 'classification', 'iter': 2, 'sp': 'Mallard', 'sample_size': 1000, 'training_time': 0.46923303604125977, 'predicting_time': 0.7618248462677002}\n"
     ]
    },
    {
     "name": "stderr",
     "output_type": "stream",
     "text": [
      "Generating Ensemble: 100%|██████████| 5/5 [00:00<00:00, 27.19it/s]\n",
      "training: 100%|██████████| 1240/1240 [00:00<00:00, 9394.57it/s]\n"
     ]
    },
    {
     "name": "stdout",
     "output_type": "stream",
     "text": [
      "{'AUC': 0.5, 'kappa': 0.0, 'f1': 0.0, 'precision': 0.0, 'recall': 0.0, 'average_precision': 0.155, 'Spearman_r': nan, 'Pearson_r': nan, 'R2': nan, 'MAE': nan, 'MSE': nan, 'poisson_deviance_explained': nan, 'model': 'AdaSTEM_SVC_rbf', 'task_type': 'classification', 'iter': 3, 'sp': 'Mallard', 'sample_size': 1000, 'training_time': 0.3584129810333252, 'predicting_time': 0.7705631256103516}\n"
     ]
    },
    {
     "name": "stderr",
     "output_type": "stream",
     "text": [
      "Generating Ensemble: 100%|██████████| 5/5 [00:00<00:00, 22.63it/s]\n",
      "training: 100%|██████████| 1188/1188 [00:00<00:00, 9137.48it/s]\n"
     ]
    },
    {
     "name": "stdout",
     "output_type": "stream",
     "text": [
      "{'AUC': 0.5, 'kappa': 0.0, 'f1': 0.0, 'precision': 0.0, 'recall': 0.0, 'average_precision': 0.205, 'Spearman_r': nan, 'Pearson_r': nan, 'R2': nan, 'MAE': nan, 'MSE': nan, 'poisson_deviance_explained': nan, 'model': 'AdaSTEM_SVC_rbf', 'task_type': 'classification', 'iter': 4, 'sp': 'Mallard', 'sample_size': 1000, 'training_time': 0.3973579406738281, 'predicting_time': 0.7764317989349365}\n"
     ]
    },
    {
     "data": {
      "application/vnd.jupyter.widget-view+json": {
       "model_id": "ac80af32846e4a6a952298c23bfcd1c5",
       "version_major": 2,
       "version_minor": 0
      },
      "text/plain": [
       "AdaSTEM + DecisionTreeClassifier:   0%|          | 0/5 [00:00<?, ?it/s]"
      ]
     },
     "metadata": {},
     "output_type": "display_data"
    },
    {
     "name": "stderr",
     "output_type": "stream",
     "text": [
      "Generating Ensemble: 100%|██████████| 5/5 [00:00<00:00, 20.97it/s]\n",
      "training: 100%|██████████| 1212/1212 [00:00<00:00, 9268.74it/s]\n"
     ]
    },
    {
     "name": "stdout",
     "output_type": "stream",
     "text": [
      "{'AUC': 0.5, 'kappa': 0.0, 'f1': 0.0, 'precision': 0.0, 'recall': 0.0, 'average_precision': 0.165, 'Spearman_r': nan, 'Pearson_r': nan, 'R2': nan, 'MAE': nan, 'MSE': nan, 'poisson_deviance_explained': nan, 'model': 'AdaSTEM_DecisionTreeClassifier', 'task_type': 'classification', 'iter': 0, 'sp': 'Mallard', 'sample_size': 1000, 'training_time': 0.4123530387878418, 'predicting_time': 0.7467050552368164}\n"
     ]
    },
    {
     "name": "stderr",
     "output_type": "stream",
     "text": [
      "Generating Ensemble: 100%|██████████| 5/5 [00:00<00:00, 27.20it/s]\n",
      "training: 100%|██████████| 1167/1167 [00:00<00:00, 9453.53it/s]\n"
     ]
    },
    {
     "name": "stdout",
     "output_type": "stream",
     "text": [
      "{'AUC': 0.5, 'kappa': 0.0, 'f1': 0.0, 'precision': 0.0, 'recall': 0.0, 'average_precision': 0.155, 'Spearman_r': nan, 'Pearson_r': nan, 'R2': nan, 'MAE': nan, 'MSE': nan, 'poisson_deviance_explained': nan, 'model': 'AdaSTEM_DecisionTreeClassifier', 'task_type': 'classification', 'iter': 1, 'sp': 'Mallard', 'sample_size': 1000, 'training_time': 0.34935903549194336, 'predicting_time': 0.7179009914398193}\n"
     ]
    },
    {
     "name": "stderr",
     "output_type": "stream",
     "text": [
      "Generating Ensemble: 100%|██████████| 5/5 [00:00<00:00, 21.92it/s]\n",
      "training: 100%|██████████| 1191/1191 [00:00<00:00, 9446.92it/s]\n"
     ]
    },
    {
     "name": "stdout",
     "output_type": "stream",
     "text": [
      "{'AUC': 0.5, 'kappa': 0.0, 'f1': 0.0, 'precision': 0.0, 'recall': 0.0, 'average_precision': 0.165, 'Spearman_r': nan, 'Pearson_r': nan, 'R2': nan, 'MAE': nan, 'MSE': nan, 'poisson_deviance_explained': nan, 'model': 'AdaSTEM_DecisionTreeClassifier', 'task_type': 'classification', 'iter': 2, 'sp': 'Mallard', 'sample_size': 1000, 'training_time': 0.3985252380371094, 'predicting_time': 0.7365777492523193}\n"
     ]
    },
    {
     "name": "stderr",
     "output_type": "stream",
     "text": [
      "Generating Ensemble:   0%|          | 0/5 [00:00<?, ?it/s]\n",
      "Generating Ensemble: 100%|██████████| 5/5 [00:00<00:00, 26.48it/s]\n",
      "training: 100%|██████████| 1284/1284 [00:00<00:00, 6848.95it/s]\n"
     ]
    },
    {
     "name": "stdout",
     "output_type": "stream",
     "text": [
      "{'AUC': 0.5, 'kappa': 0.0, 'f1': 0.0, 'precision': 0.0, 'recall': 0.0, 'average_precision': 0.155, 'Spearman_r': nan, 'Pearson_r': nan, 'R2': nan, 'MAE': nan, 'MSE': nan, 'poisson_deviance_explained': nan, 'model': 'AdaSTEM_DecisionTreeClassifier', 'task_type': 'classification', 'iter': 3, 'sp': 'Mallard', 'sample_size': 1000, 'training_time': 0.4221160411834717, 'predicting_time': 0.8117110729217529}\n"
     ]
    },
    {
     "name": "stderr",
     "output_type": "stream",
     "text": [
      "Generating Ensemble: 100%|██████████| 5/5 [00:00<00:00, 25.27it/s]\n",
      "training: 100%|██████████| 1246/1246 [00:00<00:00, 8901.71it/s]\n"
     ]
    },
    {
     "name": "stdout",
     "output_type": "stream",
     "text": [
      "{'AUC': 0.5, 'kappa': 0.0, 'f1': 0.0, 'precision': 0.0, 'recall': 0.0, 'average_precision': 0.205, 'Spearman_r': nan, 'Pearson_r': nan, 'R2': nan, 'MAE': nan, 'MSE': nan, 'poisson_deviance_explained': nan, 'model': 'AdaSTEM_DecisionTreeClassifier', 'task_type': 'classification', 'iter': 4, 'sp': 'Mallard', 'sample_size': 1000, 'training_time': 0.3820497989654541, 'predicting_time': 0.7443130016326904}\n"
     ]
    },
    {
     "data": {
      "application/vnd.jupyter.widget-view+json": {
       "model_id": "d1cffe15849e4a92b20fa0d0df5a9276",
       "version_major": 2,
       "version_minor": 0
      },
      "text/plain": [
       "AdaSTEM + KNeighborsClassifier:   0%|          | 0/5 [00:00<?, ?it/s]"
      ]
     },
     "metadata": {},
     "output_type": "display_data"
    },
    {
     "name": "stderr",
     "output_type": "stream",
     "text": [
      "Generating Ensemble: 100%|██████████| 5/5 [00:00<00:00, 19.83it/s]\n",
      "training: 100%|██████████| 1205/1205 [00:00<00:00, 9352.17it/s]\n"
     ]
    },
    {
     "name": "stdout",
     "output_type": "stream",
     "text": [
      "{'AUC': 0.5, 'kappa': 0.0, 'f1': 0.0, 'precision': 0.0, 'recall': 0.0, 'average_precision': 0.165, 'Spearman_r': nan, 'Pearson_r': nan, 'R2': nan, 'MAE': nan, 'MSE': nan, 'poisson_deviance_explained': nan, 'model': 'AdaSTEM_KNeighborsClassifier', 'task_type': 'classification', 'iter': 0, 'sp': 'Mallard', 'sample_size': 1000, 'training_time': 0.42682409286499023, 'predicting_time': 0.7568790912628174}\n"
     ]
    },
    {
     "name": "stderr",
     "output_type": "stream",
     "text": [
      "Generating Ensemble:  80%|████████  | 4/5 [00:00<00:00, 20.51it/s]\n",
      "Generating Ensemble: 100%|██████████| 5/5 [00:00<00:00, 26.25it/s]\n",
      "training: 100%|██████████| 1216/1216 [00:00<00:00, 9432.74it/s]\n"
     ]
    },
    {
     "name": "stdout",
     "output_type": "stream",
     "text": [
      "{'AUC': 0.5, 'kappa': 0.0, 'f1': 0.0, 'precision': 0.0, 'recall': 0.0, 'average_precision': 0.155, 'Spearman_r': nan, 'Pearson_r': nan, 'R2': nan, 'MAE': nan, 'MSE': nan, 'poisson_deviance_explained': nan, 'model': 'AdaSTEM_KNeighborsClassifier', 'task_type': 'classification', 'iter': 1, 'sp': 'Mallard', 'sample_size': 1000, 'training_time': 0.3665587902069092, 'predicting_time': 0.7804107666015625}\n"
     ]
    },
    {
     "name": "stderr",
     "output_type": "stream",
     "text": [
      "Generating Ensemble:   0%|          | 0/5 [00:00<?, ?it/s]\n",
      "Generating Ensemble:  80%|████████  | 4/5 [00:00<00:00, 22.90it/s]\n"
     ]
    },
    {
     "name": "stdout",
     "output_type": "stream",
     "text": [
      "zero-size array to reduction operation maximum which has no identity\n"
     ]
    },
    {
     "name": "stderr",
     "output_type": "stream",
     "text": [
      "Generating Ensemble: 100%|██████████| 5/5 [00:00<00:00, 25.78it/s]\n",
      "training: 100%|██████████| 1197/1197 [00:00<00:00, 9087.27it/s]\n"
     ]
    },
    {
     "name": "stdout",
     "output_type": "stream",
     "text": [
      "{'AUC': 0.5, 'kappa': 0.0, 'f1': 0.0, 'precision': 0.0, 'recall': 0.0, 'average_precision': 0.155, 'Spearman_r': nan, 'Pearson_r': nan, 'R2': nan, 'MAE': nan, 'MSE': nan, 'poisson_deviance_explained': nan, 'model': 'AdaSTEM_KNeighborsClassifier', 'task_type': 'classification', 'iter': 3, 'sp': 'Mallard', 'sample_size': 1000, 'training_time': 0.3708369731903076, 'predicting_time': 0.7389659881591797}\n"
     ]
    },
    {
     "name": "stderr",
     "output_type": "stream",
     "text": [
      "Generating Ensemble: 100%|██████████| 5/5 [00:00<00:00, 19.95it/s]\n",
      "training: 100%|██████████| 1209/1209 [00:00<00:00, 8988.99it/s]\n"
     ]
    },
    {
     "name": "stdout",
     "output_type": "stream",
     "text": [
      "{'AUC': 0.5, 'kappa': 0.0, 'f1': 0.0, 'precision': 0.0, 'recall': 0.0, 'average_precision': 0.205, 'Spearman_r': nan, 'Pearson_r': nan, 'R2': nan, 'MAE': nan, 'MSE': nan, 'poisson_deviance_explained': nan, 'model': 'AdaSTEM_KNeighborsClassifier', 'task_type': 'classification', 'iter': 4, 'sp': 'Mallard', 'sample_size': 1000, 'training_time': 0.42641592025756836, 'predicting_time': 0.7114191055297852}\n"
     ]
    },
    {
     "data": {
      "application/vnd.jupyter.widget-view+json": {
       "model_id": "36158cffb65f405dad20c083ca97ebd6",
       "version_major": 2,
       "version_minor": 0
      },
      "text/plain": [
       "AdaSTEM + GaussianNB:   0%|          | 0/5 [00:00<?, ?it/s]"
      ]
     },
     "metadata": {},
     "output_type": "display_data"
    },
    {
     "name": "stderr",
     "output_type": "stream",
     "text": [
      "Generating Ensemble: 100%|██████████| 5/5 [00:00<00:00, 25.18it/s]\n",
      "training: 100%|██████████| 1198/1198 [00:00<00:00, 9367.00it/s]\n"
     ]
    },
    {
     "name": "stdout",
     "output_type": "stream",
     "text": [
      "{'AUC': 0.5, 'kappa': 0.0, 'f1': 0.0, 'precision': 0.0, 'recall': 0.0, 'average_precision': 0.165, 'Spearman_r': nan, 'Pearson_r': nan, 'R2': nan, 'MAE': nan, 'MSE': nan, 'poisson_deviance_explained': nan, 'model': 'AdaSTEM_GaussianNB', 'task_type': 'classification', 'iter': 0, 'sp': 'Mallard', 'sample_size': 1000, 'training_time': 0.3773651123046875, 'predicting_time': 0.6975350379943848}\n"
     ]
    },
    {
     "name": "stderr",
     "output_type": "stream",
     "text": [
      "Generating Ensemble: 100%|██████████| 5/5 [00:00<00:00, 28.20it/s]\n",
      "training: 100%|██████████| 1134/1134 [00:00<00:00, 9486.69it/s]\n"
     ]
    },
    {
     "name": "stdout",
     "output_type": "stream",
     "text": [
      "{'AUC': 0.5, 'kappa': 0.0, 'f1': 0.0, 'precision': 0.0, 'recall': 0.0, 'average_precision': 0.155, 'Spearman_r': nan, 'Pearson_r': nan, 'R2': nan, 'MAE': nan, 'MSE': nan, 'poisson_deviance_explained': nan, 'model': 'AdaSTEM_GaussianNB', 'task_type': 'classification', 'iter': 1, 'sp': 'Mallard', 'sample_size': 1000, 'training_time': 0.33600401878356934, 'predicting_time': 0.7067949771881104}\n"
     ]
    },
    {
     "name": "stderr",
     "output_type": "stream",
     "text": [
      "Generating Ensemble: 100%|██████████| 5/5 [00:00<00:00, 19.75it/s]\n",
      "training: 100%|██████████| 1278/1278 [00:00<00:00, 9094.35it/s]\n"
     ]
    },
    {
     "name": "stdout",
     "output_type": "stream",
     "text": [
      "{'AUC': 0.5, 'kappa': 0.0, 'f1': 0.0, 'precision': 0.0, 'recall': 0.0, 'average_precision': 0.165, 'Spearman_r': nan, 'Pearson_r': nan, 'R2': nan, 'MAE': nan, 'MSE': nan, 'poisson_deviance_explained': nan, 'model': 'AdaSTEM_GaussianNB', 'task_type': 'classification', 'iter': 2, 'sp': 'Mallard', 'sample_size': 1000, 'training_time': 0.43790388107299805, 'predicting_time': 0.8675720691680908}\n"
     ]
    },
    {
     "name": "stderr",
     "output_type": "stream",
     "text": [
      "Generating Ensemble:   0%|          | 0/5 [00:00<?, ?it/s]\n",
      "Generating Ensemble: 100%|██████████| 5/5 [00:00<00:00, 22.42it/s]\n",
      "training: 100%|██████████| 1183/1183 [00:00<00:00, 7559.35it/s]\n"
     ]
    },
    {
     "name": "stdout",
     "output_type": "stream",
     "text": [
      "{'AUC': 0.5, 'kappa': 0.0, 'f1': 0.0, 'precision': 0.0, 'recall': 0.0, 'average_precision': 0.155, 'Spearman_r': nan, 'Pearson_r': nan, 'R2': nan, 'MAE': nan, 'MSE': nan, 'poisson_deviance_explained': nan, 'model': 'AdaSTEM_GaussianNB', 'task_type': 'classification', 'iter': 3, 'sp': 'Mallard', 'sample_size': 1000, 'training_time': 0.425616979598999, 'predicting_time': 0.7566490173339844}\n"
     ]
    },
    {
     "name": "stderr",
     "output_type": "stream",
     "text": [
      "Generating Ensemble:   0%|          | 0/5 [00:00<?, ?it/s]\n",
      "Generating Ensemble: 100%|██████████| 5/5 [00:00<00:00, 16.95it/s]\n",
      "training: 100%|██████████| 1150/1150 [00:00<00:00, 8958.71it/s]\n"
     ]
    },
    {
     "name": "stdout",
     "output_type": "stream",
     "text": [
      "{'AUC': 0.5, 'kappa': 0.0, 'f1': 0.0, 'precision': 0.0, 'recall': 0.0, 'average_precision': 0.205, 'Spearman_r': nan, 'Pearson_r': nan, 'R2': nan, 'MAE': nan, 'MSE': nan, 'poisson_deviance_explained': nan, 'model': 'AdaSTEM_GaussianNB', 'task_type': 'classification', 'iter': 4, 'sp': 'Mallard', 'sample_size': 1000, 'training_time': 0.47662973403930664, 'predicting_time': 0.7099237442016602}\n"
     ]
    },
    {
     "data": {
      "application/vnd.jupyter.widget-view+json": {
       "model_id": "742f1aafe86447a2b9705371580f9bb4",
       "version_major": 2,
       "version_minor": 0
      },
      "text/plain": [
       "AdaSTEM + SGDClassifier:   0%|          | 0/5 [00:00<?, ?it/s]"
      ]
     },
     "metadata": {},
     "output_type": "display_data"
    },
    {
     "name": "stderr",
     "output_type": "stream",
     "text": [
      "Generating Ensemble: 100%|██████████| 5/5 [00:00<00:00, 27.15it/s]\n",
      "training: 100%|██████████| 1192/1192 [00:00<00:00, 9494.17it/s]\n"
     ]
    },
    {
     "name": "stdout",
     "output_type": "stream",
     "text": [
      "{'AUC': 0.5, 'kappa': 0.0, 'f1': 0.0, 'precision': 0.0, 'recall': 0.0, 'average_precision': 0.165, 'Spearman_r': nan, 'Pearson_r': nan, 'R2': nan, 'MAE': nan, 'MSE': nan, 'poisson_deviance_explained': nan, 'model': 'AdaSTEM_SGDClassifier', 'task_type': 'classification', 'iter': 0, 'sp': 'Mallard', 'sample_size': 1000, 'training_time': 0.35045623779296875, 'predicting_time': 0.761681079864502}\n"
     ]
    },
    {
     "name": "stderr",
     "output_type": "stream",
     "text": [
      "Generating Ensemble: 100%|██████████| 5/5 [00:00<00:00, 25.93it/s]\n",
      "training: 100%|██████████| 1187/1187 [00:00<00:00, 9370.89it/s]\n"
     ]
    },
    {
     "name": "stdout",
     "output_type": "stream",
     "text": [
      "{'AUC': 0.5, 'kappa': 0.0, 'f1': 0.0, 'precision': 0.0, 'recall': 0.0, 'average_precision': 0.155, 'Spearman_r': nan, 'Pearson_r': nan, 'R2': nan, 'MAE': nan, 'MSE': nan, 'poisson_deviance_explained': nan, 'model': 'AdaSTEM_SGDClassifier', 'task_type': 'classification', 'iter': 1, 'sp': 'Mallard', 'sample_size': 1000, 'training_time': 0.36292386054992676, 'predicting_time': 0.7569379806518555}\n"
     ]
    },
    {
     "name": "stderr",
     "output_type": "stream",
     "text": [
      "Generating Ensemble: 100%|██████████| 5/5 [00:00<00:00, 20.55it/s]\n",
      "training: 100%|██████████| 1152/1152 [00:00<00:00, 9265.43it/s]\n"
     ]
    },
    {
     "name": "stdout",
     "output_type": "stream",
     "text": [
      "{'AUC': 0.5, 'kappa': 0.0, 'f1': 0.0, 'precision': 0.0, 'recall': 0.0, 'average_precision': 0.165, 'Spearman_r': nan, 'Pearson_r': nan, 'R2': nan, 'MAE': nan, 'MSE': nan, 'poisson_deviance_explained': nan, 'model': 'AdaSTEM_SGDClassifier', 'task_type': 'classification', 'iter': 2, 'sp': 'Mallard', 'sample_size': 1000, 'training_time': 0.4103519916534424, 'predicting_time': 0.6788530349731445}\n"
     ]
    },
    {
     "name": "stderr",
     "output_type": "stream",
     "text": [
      "Generating Ensemble: 100%|██████████| 5/5 [00:00<00:00, 25.97it/s]\n",
      "training: 100%|██████████| 1276/1276 [00:00<00:00, 9613.28it/s]\n"
     ]
    },
    {
     "name": "stdout",
     "output_type": "stream",
     "text": [
      "{'AUC': 0.5, 'kappa': 0.0, 'f1': 0.0, 'precision': 0.0, 'recall': 0.0, 'average_precision': 0.155, 'Spearman_r': nan, 'Pearson_r': nan, 'R2': nan, 'MAE': nan, 'MSE': nan, 'poisson_deviance_explained': nan, 'model': 'AdaSTEM_SGDClassifier', 'task_type': 'classification', 'iter': 3, 'sp': 'Mallard', 'sample_size': 1000, 'training_time': 0.36809706687927246, 'predicting_time': 0.7397670745849609}\n"
     ]
    },
    {
     "name": "stderr",
     "output_type": "stream",
     "text": [
      "Generating Ensemble: 100%|██████████| 5/5 [00:00<00:00, 26.66it/s]\n",
      "training: 100%|██████████| 1247/1247 [00:00<00:00, 9226.85it/s]\n"
     ]
    },
    {
     "name": "stdout",
     "output_type": "stream",
     "text": [
      "{'AUC': 0.5, 'kappa': 0.0, 'f1': 0.0, 'precision': 0.0, 'recall': 0.0, 'average_precision': 0.205, 'Spearman_r': nan, 'Pearson_r': nan, 'R2': nan, 'MAE': nan, 'MSE': nan, 'poisson_deviance_explained': nan, 'model': 'AdaSTEM_SGDClassifier', 'task_type': 'classification', 'iter': 4, 'sp': 'Mallard', 'sample_size': 1000, 'training_time': 0.41705799102783203, 'predicting_time': 0.733971118927002}\n"
     ]
    },
    {
     "data": {
      "application/vnd.jupyter.widget-view+json": {
       "model_id": "19260045d7364a748e0c2cce75df4f13",
       "version_major": 2,
       "version_minor": 0
      },
      "text/plain": [
       "AdaSTEM + LogisticRegression:   0%|          | 0/5 [00:00<?, ?it/s]"
      ]
     },
     "metadata": {},
     "output_type": "display_data"
    },
    {
     "name": "stderr",
     "output_type": "stream",
     "text": [
      "Generating Ensemble:  20%|██        | 1/5 [00:00<00:00, 13.63it/s]\n",
      "Generating Ensemble: 100%|██████████| 5/5 [00:00<00:00, 26.58it/s]\n",
      "training: 100%|██████████| 1196/1196 [00:00<00:00, 9209.79it/s]\n"
     ]
    },
    {
     "name": "stdout",
     "output_type": "stream",
     "text": [
      "{'AUC': 0.5, 'kappa': 0.0, 'f1': 0.0, 'precision': 0.0, 'recall': 0.0, 'average_precision': 0.165, 'Spearman_r': nan, 'Pearson_r': nan, 'R2': nan, 'MAE': nan, 'MSE': nan, 'poisson_deviance_explained': nan, 'model': 'AdaSTEM_LogisticRegression', 'task_type': 'classification', 'iter': 0, 'sp': 'Mallard', 'sample_size': 1000, 'training_time': 0.35836315155029297, 'predicting_time': 0.6936187744140625}\n"
     ]
    },
    {
     "name": "stderr",
     "output_type": "stream",
     "text": [
      "Generating Ensemble:  40%|████      | 2/5 [00:00<00:00, 16.21it/s]\n",
      "Generating Ensemble: 100%|██████████| 5/5 [00:00<00:00, 21.54it/s]\n",
      "training: 100%|██████████| 1171/1171 [00:00<00:00, 9372.42it/s]\n"
     ]
    },
    {
     "name": "stdout",
     "output_type": "stream",
     "text": [
      "{'AUC': 0.5, 'kappa': 0.0, 'f1': 0.0, 'precision': 0.0, 'recall': 0.0, 'average_precision': 0.155, 'Spearman_r': nan, 'Pearson_r': nan, 'R2': nan, 'MAE': nan, 'MSE': nan, 'poisson_deviance_explained': nan, 'model': 'AdaSTEM_LogisticRegression', 'task_type': 'classification', 'iter': 1, 'sp': 'Mallard', 'sample_size': 1000, 'training_time': 0.3970770835876465, 'predicting_time': 0.6957738399505615}\n"
     ]
    },
    {
     "name": "stderr",
     "output_type": "stream",
     "text": [
      "Generating Ensemble: 100%|██████████| 5/5 [00:00<00:00, 28.75it/s]\n",
      "training: 100%|██████████| 1225/1225 [00:00<00:00, 9639.89it/s]\n"
     ]
    },
    {
     "name": "stdout",
     "output_type": "stream",
     "text": [
      "{'AUC': 0.5, 'kappa': 0.0, 'f1': 0.0, 'precision': 0.0, 'recall': 0.0, 'average_precision': 0.165, 'Spearman_r': nan, 'Pearson_r': nan, 'R2': nan, 'MAE': nan, 'MSE': nan, 'poisson_deviance_explained': nan, 'model': 'AdaSTEM_LogisticRegression', 'task_type': 'classification', 'iter': 2, 'sp': 'Mallard', 'sample_size': 1000, 'training_time': 0.34155988693237305, 'predicting_time': 0.7393488883972168}\n"
     ]
    },
    {
     "name": "stderr",
     "output_type": "stream",
     "text": [
      "Generating Ensemble: 100%|██████████| 5/5 [00:00<00:00, 27.38it/s]\n",
      "training: 100%|██████████| 1206/1206 [00:00<00:00, 9892.07it/s] \n"
     ]
    },
    {
     "name": "stdout",
     "output_type": "stream",
     "text": [
      "{'AUC': 0.5, 'kappa': 0.0, 'f1': 0.0, 'precision': 0.0, 'recall': 0.0, 'average_precision': 0.155, 'Spearman_r': nan, 'Pearson_r': nan, 'R2': nan, 'MAE': nan, 'MSE': nan, 'poisson_deviance_explained': nan, 'model': 'AdaSTEM_LogisticRegression', 'task_type': 'classification', 'iter': 3, 'sp': 'Mallard', 'sample_size': 1000, 'training_time': 0.3452491760253906, 'predicting_time': 0.7037067413330078}\n"
     ]
    },
    {
     "name": "stderr",
     "output_type": "stream",
     "text": [
      "Generating Ensemble: 100%|██████████| 5/5 [00:00<00:00, 22.74it/s]\n",
      "training: 100%|██████████| 1245/1245 [00:00<00:00, 9639.07it/s]\n"
     ]
    },
    {
     "name": "stdout",
     "output_type": "stream",
     "text": [
      "{'AUC': 0.5, 'kappa': 0.0, 'f1': 0.0, 'precision': 0.0, 'recall': 0.0, 'average_precision': 0.205, 'Spearman_r': nan, 'Pearson_r': nan, 'R2': nan, 'MAE': nan, 'MSE': nan, 'poisson_deviance_explained': nan, 'model': 'AdaSTEM_LogisticRegression', 'task_type': 'classification', 'iter': 4, 'sp': 'Mallard', 'sample_size': 1000, 'training_time': 0.39054298400878906, 'predicting_time': 0.7296769618988037}\n"
     ]
    }
   ],
   "source": [
    "\n",
    "K=5\n",
    "\n",
    "Ada_cls_metric_df_list = []\n",
    "for item in list(cls_model_set_dict.keys())[::-1]:\n",
    "    model_name = item\n",
    "    \n",
    "    kf = KFold(n_splits=K, shuffle=True, random_state=42).split(X, y)\n",
    "    for kf_count, (train_index, test_index) in tqdm(enumerate(kf), desc=f'AdaSTEM + {model_name}', total=K):\n",
    "        \n",
    "        try:\n",
    "            X_train = X.iloc[train_index].replace(-1,np.nan)\n",
    "            \n",
    "            new_x_names = list(set(x_names) - set(['DOY']))\n",
    "            \n",
    "            imputer = SimpleImputer().fit(X_train[new_x_names])\n",
    "            X_train[new_x_names] = imputer.transform(X_train[new_x_names])\n",
    "            scaler = MinMaxScaler().fit(X_train[new_x_names])\n",
    "            X_train[new_x_names] = scaler.transform(X_train[new_x_names])\n",
    "            \n",
    "            y_train = np.where(y[train_index]>0, 1, 0)\n",
    "            X_test = X.iloc[test_index].replace(-1,np.nan)\n",
    "            X_test[new_x_names] = imputer.transform(X_test[new_x_names])\n",
    "            X_test[new_x_names] = scaler.transform(X_test[new_x_names])\n",
    "            y_test = np.where(y[test_index]>0, 1, 0)\n",
    "            \n",
    "            model = AdaSTEMClassifier(base_model=cls_model_set_dict[model_name], \n",
    "                                        sample_weights_for_classifier=True,\n",
    "                                        ensemble_fold=5,\n",
    "                                        min_ensemble_require=3,\n",
    "                                        grid_len_lon_upper_threshold=25,\n",
    "                                        grid_len_lon_lower_threshold=5,\n",
    "                                        grid_len_lat_upper_threshold=25,\n",
    "                                        grid_len_lat_lower_threshold=5,\n",
    "                                        points_lower_threshold=50,\n",
    "                                        stixel_training_size_threshold=50,\n",
    "                                        temporal_start = 1,\n",
    "                                        temporal_end = 367, \n",
    "                                        temporal_step = 30.5, \n",
    "                                        temporal_bin_interval = 30.5,\n",
    "                                        save_tmp=False, \n",
    "                                        save_gridding_plot=False)\n",
    "            \n",
    "            try:\n",
    "                start_time = time.time()\n",
    "                model.fit(X_train[new_x_names + ['DOY','longitude', 'latitude']], y_train)\n",
    "                finish_time = time.time()\n",
    "                training_time = finish_time - start_time\n",
    "            except:\n",
    "                start_time = time.time()\n",
    "                model.set_params(**{'sample_weights_for_classifier':False})\n",
    "                model.fit(X_train[new_x_names + ['DOY','longitude', 'latitude']], y_train)\n",
    "                finish_time = time.time()\n",
    "                training_time = finish_time - start_time\n",
    "                \n",
    "            start_time = time.time()\n",
    "            y_pred = model.predict(X_test[new_x_names + ['DOY','longitude', 'latitude']])\n",
    "            finish_time = time.time()\n",
    "            predicting_time = finish_time - start_time\n",
    "            \n",
    "            y_pred = np.where(y_pred<0, 0, y_pred)\n",
    "            metric_df = AdaSTEM.eval_STEM_res('classification', y_test, y_pred)\n",
    "            \n",
    "            metric_df['model'] = 'AdaSTEM_' + model_name\n",
    "            metric_df['task_type'] = 'classification'\n",
    "            metric_df['iter'] = kf_count\n",
    "            metric_df['sp'] = sp\n",
    "            metric_df['sample_size'] = SAMPLE_SIZE\n",
    "            metric_df['training_time'] = training_time\n",
    "            metric_df['predicting_time'] = predicting_time\n",
    "        \n",
    "            Ada_cls_metric_df_list.append(metric_df)\n",
    "            print(metric_df)\n",
    "            \n",
    "        except Exception as e:\n",
    "            print(e)\n",
    "            continue\n",
    "\n",
    "\n",
    "\n",
    "    "
   ]
  },
  {
   "cell_type": "code",
   "execution_count": 12,
   "metadata": {},
   "outputs": [],
   "source": [
    "Ada_cls_metric_df = pd.DataFrame(Ada_cls_metric_df_list)\n",
    "Ada_cls_metric_df.to_csv(os.path.join(OUTPUT_DIR, f'Ada_cls_metric_df_SIZE_{SAMPLE_SIZE}_SP_{sp}_year_{year}.csv'),\n",
    "                                        index=False)\n"
   ]
  },
  {
   "cell_type": "code",
   "execution_count": null,
   "metadata": {},
   "outputs": [],
   "source": []
  },
  {
   "cell_type": "markdown",
   "metadata": {},
   "source": [
    "## Task2: Regression (Hurdle)"
   ]
  },
  {
   "cell_type": "markdown",
   "metadata": {},
   "source": [
    "### First, without AdaSTEM wrapper"
   ]
  },
  {
   "cell_type": "code",
   "execution_count": 13,
   "metadata": {},
   "outputs": [],
   "source": [
    "from BirdSTEM.model.AdaSTEM import AdaSTEM, AdaSTEMRegressor, AdaSTEMHurdle\n",
    "from BirdSTEM.model.Hurdle import Hurdle\n",
    "from sklearn.tree import DecisionTreeRegressor\n",
    "from sklearn.linear_model import Lasso, LinearRegression, BayesianRidge, SGDRegressor\n",
    "from sklearn.neural_network import MLPRegressor, MLPClassifier\n",
    "from sklearn.svm import SVR\n",
    "from sklearn.ensemble import RandomForestRegressor\n",
    "from xgboost import XGBClassifier, XGBRegressor\n"
   ]
  },
  {
   "cell_type": "code",
   "execution_count": 14,
   "metadata": {},
   "outputs": [],
   "source": [
    "reg_model_set_dict = {\n",
    "    'Hurdle_SGDClassifier_SGDRegressor':Hurdle(classifier=SGDClassifier(random_state=42), \n",
    "                                               regressor=SGDRegressor(random_state=42)),\n",
    "    'Hurdle_Logistic_Linear':Hurdle(classifier=LogisticRegression(random_state=42), regressor=LinearRegression()),\n",
    "    'Hurdle_SVC_SVR':Hurdle(classifier=SVC(kernel='rbf'), regressor=SVR(kernel='rbf')),\n",
    "    'Hurdle_DecisionTreeClassifier_DecisionTreeRegressor':Hurdle(classifier=DecisionTreeClassifier(random_state=42),\n",
    "                                                regressor=DecisionTreeRegressor(random_state=42)),\n",
    "    'Hurdle_RandomforestClassifier_RandomforestRegressor':Hurdle(classifier=RandomForestClassifier(random_state=42),\n",
    "                                                regressor=RandomForestRegressor(random_state=42)),\n",
    "    'Hurdle_MLPClassifier_MLPRegressor': Hurdle(classifier=MLPClassifier(random_state=42),\n",
    "                                                regressor=MLPRegressor(random_state=42)),\n",
    "    'Hurdle_XGBClassifier_XGBregressor': Hurdle(classifier=XGBClassifier(tree_method='hist',n_jobs=1), \n",
    "                    regressor=XGBRegressor(tree_method='hist',n_jobs=1))\n",
    "}"
   ]
  },
  {
   "cell_type": "code",
   "execution_count": 15,
   "metadata": {},
   "outputs": [
    {
     "data": {
      "application/vnd.jupyter.widget-view+json": {
       "model_id": "53887fcc59164b05945d2864f1e164cb",
       "version_major": 2,
       "version_minor": 0
      },
      "text/plain": [
       "Hurdle_XGBClassifier_XGBregressor:   0%|          | 0/5 [00:00<?, ?it/s]"
      ]
     },
     "metadata": {},
     "output_type": "display_data"
    },
    {
     "name": "stdout",
     "output_type": "stream",
     "text": [
      "{'AUC': 0.5215024496461621, 'kappa': 0.05870696061431746, 'f1': 0.13636363636363635, 'precision': 0.2727272727272727, 'recall': 0.09090909090909091, 'average_precision': 0.17479338842975206, 'Spearman_r': 0.07001738646266024, 'Pearson_r': 0.07001738646266048, 'R2': -0.3790600270849471, 'MAE': 0.1899999985098839, 'MSE': 0.18999999523162864, 'poisson_deviance_explained': -1.0524139392974612, 'model': 'Hurdle_XGBClassifier_XGBregressor', 'task_type': 'hurdle', 'iter': 0, 'sp': 'Mallard', 'sample_size': 1000, 'training_time': 0.12179875373840332, 'predicting_time': 0.005148887634277344}\n",
      "{'AUC': 0.5566902080549723, 'kappa': 0.12137310993052719, 'f1': 0.2456140350877193, 'precision': 0.2692307692307692, 'recall': 0.22580645161290322, 'average_precision': 0.1807940446650124, 'Spearman_r': 0.1220115509320933, 'Pearson_r': 0.12201155093209345, 'R2': -0.6415345575500515, 'MAE': 0.2149999964237213, 'MSE': 0.21499998867511796, 'poisson_deviance_explained': -1.068521343709548, 'model': 'Hurdle_XGBClassifier_XGBregressor', 'task_type': 'hurdle', 'iter': 1, 'sp': 'Mallard', 'sample_size': 1000, 'training_time': 0.12323188781738281, 'predicting_time': 0.0065937042236328125}\n",
      "{'AUC': 0.5910905461803666, 'kappa': 0.24463937621832355, 'f1': 0.3111111111111111, 'precision': 0.5833333333333334, 'recall': 0.21212121212121213, 'average_precision': 0.25373737373737376, 'Spearman_r': 0.28474031401076727, 'Pearson_r': 0.28474031401076905, 'R2': -0.1250226602777571, 'MAE': 0.15500000059604646, 'MSE': 0.15499999701976797, 'poisson_deviance_explained': -0.32521393133351095, 'model': 'Hurdle_XGBClassifier_XGBregressor', 'task_type': 'hurdle', 'iter': 2, 'sp': 'Mallard', 'sample_size': 1000, 'training_time': 0.12398982048034668, 'predicting_time': 0.005176067352294922}\n",
      "{'AUC': 0.6623401412483299, 'kappa': 0.33346402666143893, 'f1': 0.4333333333333333, 'precision': 0.4482758620689655, 'recall': 0.41935483870967744, 'average_precision': 0.27798665183537263, 'Spearman_r': 0.3337206342005716, 'Pearson_r': 0.33372063420057235, 'R2': -0.29795755268759216, 'MAE': 0.16999999910593033, 'MSE': 0.16999999046325734, 'poisson_deviance_explained': -0.5339621965763883, 'model': 'Hurdle_XGBClassifier_XGBregressor', 'task_type': 'hurdle', 'iter': 3, 'sp': 'Mallard', 'sample_size': 1000, 'training_time': 0.12172985076904297, 'predicting_time': 0.00499415397644043}\n",
      "{'AUC': 0.5441018561129007, 'kappa': 0.10313901345291476, 'f1': 0.24242424242424243, 'precision': 0.32, 'recall': 0.1951219512195122, 'average_precision': 0.2274390243902439, 'Spearman_r': 0.10766841641137809, 'Pearson_r': 0.1076684164113782, 'R2': -0.5339775417530961, 'MAE': 0.249999997317791, 'MSE': 0.2499999898672108, 'poisson_deviance_explained': -0.8649604498417911, 'model': 'Hurdle_XGBClassifier_XGBregressor', 'task_type': 'hurdle', 'iter': 4, 'sp': 'Mallard', 'sample_size': 1000, 'training_time': 0.11672806739807129, 'predicting_time': 0.00499272346496582}\n"
     ]
    },
    {
     "data": {
      "application/vnd.jupyter.widget-view+json": {
       "model_id": "7bfa5aa16b9146b4bcaca656b9fd2e2c",
       "version_major": 2,
       "version_minor": 0
      },
      "text/plain": [
       "Hurdle_MLPClassifier_MLPRegressor:   0%|          | 0/5 [00:00<?, ?it/s]"
      ]
     },
     "metadata": {},
     "output_type": "display_data"
    },
    {
     "name": "stdout",
     "output_type": "stream",
     "text": [
      "{'AUC': 0.5370168753402287, 'kappa': 0.08312958435207818, 'f1': 0.2105263157894737, 'precision': 0.25, 'recall': 0.18181818181818182, 'average_precision': 0.18045454545454548, 'Spearman_r': 0.07275893398882982, 'Pearson_r': 0.07611319322640758, 'R2': -0.6485258530139979, 'MAE': 0.22789166247862927, 'MSE': 0.2271256493990036, 'poisson_deviance_explained': -1.1857145328122525, 'model': 'Hurdle_MLPClassifier_MLPRegressor', 'task_type': 'hurdle', 'iter': 0, 'sp': 'Mallard', 'sample_size': 1000, 'training_time': 2.663719892501831, 'predicting_time': 0.005728006362915039}\n",
      "{'AUC': 0.5438060698606604, 'kappa': 0.11894273127753308, 'f1': 0.19047619047619047, 'precision': 0.36363636363636365, 'recall': 0.12903225806451613, 'average_precision': 0.18192082111436952, 'Spearman_r': 0.1432451850855742, 'Pearson_r': 0.14467289887478968, 'R2': -0.2891652070826616, 'MAE': 0.1699103551111154, 'MSE': 0.16884841299765158, 'poisson_deviance_explained': -0.6992782798593224, 'model': 'Hurdle_MLPClassifier_MLPRegressor', 'task_type': 'hurdle', 'iter': 1, 'sp': 'Mallard', 'sample_size': 1000, 'training_time': 2.095568895339966, 'predicting_time': 0.013154983520507812}\n",
      "{'AUC': 0.5334784975503538, 'kappa': 0.0979039533032634, 'f1': 0.15000000000000002, 'precision': 0.42857142857142855, 'recall': 0.09090909090909091, 'average_precision': 0.18896103896103894, 'Spearman_r': 0.13154113292361852, 'Pearson_r': 0.12321674379090132, 'R2': -0.24349434234249334, 'MAE': 0.17154159886021314, 'MSE': 0.17132243301623704, 'poisson_deviance_explained': -0.6238634735673092, 'model': 'Hurdle_MLPClassifier_MLPRegressor', 'task_type': 'hurdle', 'iter': 2, 'sp': 'Mallard', 'sample_size': 1000, 'training_time': 2.56329607963562, 'predicting_time': 0.003843069076538086}\n",
      "{'AUC': 0.5760641343767895, 'kappa': 0.1993995496622467, 'f1': 0.2727272727272727, 'precision': 0.46153846153846156, 'recall': 0.1935483870967742, 'average_precision': 0.21433002481389576, 'Spearman_r': 0.22204020089495938, 'Pearson_r': 0.22070046193505524, 'R2': -0.2077085084099064, 'MAE': 0.16059801399536397, 'MSE': 0.15817962188898746, 'poisson_deviance_explained': -0.4680373249122445, 'model': 'Hurdle_MLPClassifier_MLPRegressor', 'task_type': 'hurdle', 'iter': 3, 'sp': 'Mallard', 'sample_size': 1000, 'training_time': 2.7317981719970703, 'predicting_time': 0.008449077606201172}\n",
      "{'AUC': 0.5051388249731554, 'kappa': 0.01376618039860289, 'f1': 0.1111111111111111, 'precision': 0.23076923076923078, 'recall': 0.07317073170731707, 'average_precision': 0.20688555347091933, 'Spearman_r': 0.021335904496189235, 'Pearson_r': 0.02237708625034738, 'R2': -0.4340801521216542, 'MAE': 0.23700501530413776, 'MSE': 0.2337192127920266, 'poisson_deviance_explained': -1.1231174630395353, 'model': 'Hurdle_MLPClassifier_MLPRegressor', 'task_type': 'hurdle', 'iter': 4, 'sp': 'Mallard', 'sample_size': 1000, 'training_time': 2.0052390098571777, 'predicting_time': 0.006814002990722656}\n"
     ]
    },
    {
     "data": {
      "application/vnd.jupyter.widget-view+json": {
       "model_id": "ad9663898fa34fd6a081e48e6785481a",
       "version_major": 2,
       "version_minor": 0
      },
      "text/plain": [
       "Hurdle_RandomforestClassifier_RandomforestRegressor:   0%|          | 0/5 [00:00<?, ?it/s]"
      ]
     },
     "metadata": {},
     "output_type": "display_data"
    },
    {
     "name": "stdout",
     "output_type": "stream",
     "text": [
      "{'AUC': 0.5121575031754672, 'kappa': 0.03902154921374501, 'f1': 0.05714285714285715, 'precision': 0.5, 'recall': 0.030303030303030304, 'average_precision': 0.17515151515151517, 'Spearman_r': 0.09070724987208367, 'Pearson_r': 0.09070724987208345, 'R2': -0.19760479041916135, 'MAE': 0.165, 'MSE': 0.165, 'poisson_deviance_explained': -0.4426950408889634, 'model': 'Hurdle_RandomforestClassifier_RandomforestRegressor', 'task_type': 'hurdle', 'iter': 0, 'sp': 'Mallard', 'sample_size': 1000, 'training_time': 0.24950194358825684, 'predicting_time': 0.01049494743347168}\n",
      "{'AUC': 0.4954189730864669, 'kappa': -0.013143483023001057, 'f1': 0.05128205128205128, 'precision': 0.125, 'recall': 0.03225806451612903, 'average_precision': 0.15403225806451612, 'Spearman_r': -0.0169208209640023, 'Pearson_r': -0.01692082096400254, 'R2': -0.412483298339378, 'MAE': 0.185, 'MSE': 0.185, 'poisson_deviance_explained': -2.3662884287409147, 'model': 'Hurdle_RandomforestClassifier_RandomforestRegressor', 'task_type': 'hurdle', 'iter': 1, 'sp': 'Mallard', 'sample_size': 1000, 'training_time': 0.19368815422058105, 'predicting_time': 0.01126718521118164}\n",
      "{'AUC': 0.5303030303030303, 'kappa': 0.09726266744321499, 'f1': 0.1142857142857143, 'precision': 1.0, 'recall': 0.06060606060606061, 'average_precision': 0.21560606060606063, 'Spearman_r': 0.22609120490504436, 'Pearson_r': 0.22609120490504472, 'R2': -0.12502268190890953, 'MAE': 0.155, 'MSE': 0.155, 'poisson_deviance_explained': nan, 'model': 'Hurdle_RandomforestClassifier_RandomforestRegressor', 'task_type': 'hurdle', 'iter': 2, 'sp': 'Mallard', 'sample_size': 1000, 'training_time': 0.20304107666015625, 'predicting_time': 0.010792732238769531}\n",
      "{'AUC': 0.5585989692689444, 'kappa': 0.17472965281730224, 'f1': 0.2162162162162162, 'precision': 0.6666666666666666, 'recall': 0.12903225806451613, 'average_precision': 0.22102150537634407, 'Spearman_r': 0.2486381019143975, 'Pearson_r': 0.2486381019143976, 'R2': -0.10708150410383688, 'MAE': 0.145, 'MSE': 0.145, 'poisson_deviance_explained': -0.23315173118821586, 'model': 'Hurdle_RandomforestClassifier_RandomforestRegressor', 'task_type': 'hurdle', 'iter': 3, 'sp': 'Mallard', 'sample_size': 1000, 'training_time': 0.20512986183166504, 'predicting_time': 0.011326074600219727}\n",
      "{'AUC': 0.4968553459119497, 'kappa': -0.009858138975715303, 'f1': 0.0, 'precision': 0.0, 'recall': 0.0, 'average_precision': 0.205, 'Spearman_r': -0.03599704309605059, 'Pearson_r': -0.035997043096050826, 'R2': -0.2885411872986654, 'MAE': 0.21, 'MSE': 0.21, 'poisson_deviance_explained': nan, 'model': 'Hurdle_RandomforestClassifier_RandomforestRegressor', 'task_type': 'hurdle', 'iter': 4, 'sp': 'Mallard', 'sample_size': 1000, 'training_time': 0.20046687126159668, 'predicting_time': 0.010960102081298828}\n"
     ]
    },
    {
     "data": {
      "application/vnd.jupyter.widget-view+json": {
       "model_id": "d87b8531bc844a038c7cabcc4aa85769",
       "version_major": 2,
       "version_minor": 0
      },
      "text/plain": [
       "Hurdle_DecisionTreeClassifier_DecisionTreeRegressor:   0%|          | 0/5 [00:00<?, ?it/s]"
      ]
     },
     "metadata": {},
     "output_type": "display_data"
    },
    {
     "name": "stdout",
     "output_type": "stream",
     "text": [
      "{'AUC': 0.6159499183451279, 'kappa': 0.22911437791323053, 'f1': 0.35820895522388063, 'precision': 0.35294117647058826, 'recall': 0.36363636363636365, 'average_precision': 0.23334224598930484, 'Spearman_r': 0.2291512052259617, 'Pearson_r': 0.22915120522596222, 'R2': -0.5605153329704224, 'MAE': 0.215, 'MSE': 0.215, 'poisson_deviance_explained': -0.7603596065508249, 'model': 'Hurdle_DecisionTreeClassifier_DecisionTreeRegressor', 'task_type': 'hurdle', 'iter': 0, 'sp': 'Mallard', 'sample_size': 1000, 'training_time': 0.018878936767578125, 'predicting_time': 0.0034258365631103516}\n",
      "{'AUC': 0.6047909906470701, 'kappa': 0.1830610203401134, 'f1': 0.3287671232876712, 'precision': 0.2857142857142857, 'recall': 0.3870967741935484, 'average_precision': 0.20559907834101382, 'Spearman_r': 0.18621941252002078, 'Pearson_r': 0.18621941252002122, 'R2': -0.87058598969269, 'MAE': 0.245, 'MSE': 0.245, 'poisson_deviance_explained': -0.9955890003698202, 'model': 'Hurdle_DecisionTreeClassifier_DecisionTreeRegressor', 'task_type': 'hurdle', 'iter': 1, 'sp': 'Mallard', 'sample_size': 1000, 'training_time': 0.018633127212524414, 'predicting_time': 0.003596782684326172}\n",
      "{'AUC': 0.6006169479223371, 'kappa': 0.21706791935799574, 'f1': 0.3333333333333333, 'precision': 0.37037037037037035, 'recall': 0.30303030303030304, 'average_precision': 0.22723344556677894, 'Spearman_r': 0.21858049593482404, 'Pearson_r': 0.21858049593482407, 'R2': -0.4516421702050444, 'MAE': 0.2, 'MSE': 0.2, 'poisson_deviance_explained': -0.7115499274144257, 'model': 'Hurdle_DecisionTreeClassifier_DecisionTreeRegressor', 'task_type': 'hurdle', 'iter': 2, 'sp': 'Mallard', 'sample_size': 1000, 'training_time': 0.017337799072265625, 'predicting_time': 0.0034050941467285156}\n",
      "{'AUC': 0.547528154227906, 'kappa': 0.08302767589196403, 'f1': 0.24657534246575344, 'precision': 0.21428571428571427, 'recall': 0.2903225806451613, 'average_precision': 0.17221198156682027, 'Spearman_r': 0.08446017070580177, 'Pearson_r': 0.08446017070580183, 'R2': -1.099637335369346, 'MAE': 0.275, 'MSE': 0.275, 'poisson_deviance_explained': -1.3802645139564356, 'model': 'Hurdle_DecisionTreeClassifier_DecisionTreeRegressor', 'task_type': 'hurdle', 'iter': 3, 'sp': 'Mallard', 'sample_size': 1000, 'training_time': 0.018486976623535156, 'predicting_time': 0.0034351348876953125}\n",
      "{'AUC': 0.5492406810860562, 'kappa': 0.1012298959318827, 'f1': 0.27848101265822783, 'precision': 0.2894736842105263, 'recall': 0.2682926829268293, 'average_precision': 0.22766367137355584, 'Spearman_r': 0.10134334434436529, 'Pearson_r': 0.10134334434436537, 'R2': -0.7487344684767603, 'MAE': 0.285, 'MSE': 0.285, 'poisson_deviance_explained': -0.9799657159922175, 'model': 'Hurdle_DecisionTreeClassifier_DecisionTreeRegressor', 'task_type': 'hurdle', 'iter': 4, 'sp': 'Mallard', 'sample_size': 1000, 'training_time': 0.019808053970336914, 'predicting_time': 0.0034627914428710938}\n"
     ]
    },
    {
     "data": {
      "application/vnd.jupyter.widget-view+json": {
       "model_id": "a0682e2fc42747d3b3ffe36041dfa459",
       "version_major": 2,
       "version_minor": 0
      },
      "text/plain": [
       "Hurdle_SVC_SVR:   0%|          | 0/5 [00:00<?, ?it/s]"
      ]
     },
     "metadata": {},
     "output_type": "display_data"
    },
    {
     "name": "stdout",
     "output_type": "stream",
     "text": [
      "{'AUC': 0.6566866267465069, 'kappa': 0.1978916007791911, 'f1': 0.38596491228070173, 'precision': 0.2716049382716049, 'recall': 0.6666666666666666, 'average_precision': 0.23606995884773663, 'Spearman_r': 0.23695241640037012, 'Pearson_r': 0.2369524164003698, 'R2': -1.5403737978588272, 'MAE': 0.35, 'MSE': 0.35, 'poisson_deviance_explained': -1.0575451845646606, 'model': 'Hurdle_SVC_SVR', 'task_type': 'hurdle', 'iter': 0, 'sp': 'Mallard', 'sample_size': 1000, 'training_time': 0.06715130805969238, 'predicting_time': 0.0372159481048584}\n",
      "{'AUC': 0.6757014697461348, 'kappa': 0.19922086354290658, 'f1': 0.3833333333333334, 'precision': 0.25842696629213485, 'recall': 0.7419354838709677, 'average_precision': 0.23173613628126136, 'Spearman_r': 0.25590165614489674, 'Pearson_r': 0.2559016561448975, 'R2': -1.824966596678756, 'MAE': 0.37, 'MSE': 0.37, 'poisson_deviance_explained': -1.1206679648006124, 'model': 'Hurdle_SVC_SVR', 'task_type': 'hurdle', 'iter': 1, 'sp': 'Mallard', 'sample_size': 1000, 'training_time': 0.03399491310119629, 'predicting_time': 0.021996736526489258}\n",
      "{'AUC': 0.6291961531482491, 'kappa': 0.17528311176760214, 'f1': 0.3619047619047619, 'precision': 0.2638888888888889, 'recall': 0.5757575757575758, 'average_precision': 0.22193602693602693, 'Spearman_r': 0.19981291275801177, 'Pearson_r': 0.19981291275801166, 'R2': -1.4315006350934496, 'MAE': 0.335, 'MSE': 0.335, 'poisson_deviance_explained': -1.0938424092797039, 'model': 'Hurdle_SVC_SVR', 'task_type': 'hurdle', 'iter': 2, 'sp': 'Mallard', 'sample_size': 1000, 'training_time': 0.02862381935119629, 'predicting_time': 0.02088332176208496}\n",
      "{'AUC': 0.7112044283260164, 'kappa': 0.26304528705574703, 'f1': 0.4259259259259259, 'precision': 0.2987012987012987, 'recall': 0.7419354838709677, 'average_precision': 0.2616170925848345, 'Spearman_r': 0.31416608233667903, 'Pearson_r': 0.3141660823366797, 'R2': -1.3668639053254443, 'MAE': 0.31, 'MSE': 0.31, 'poisson_deviance_explained': -0.9430640678037012, 'model': 'Hurdle_SVC_SVR', 'task_type': 'hurdle', 'iter': 3, 'sp': 'Mallard', 'sample_size': 1000, 'training_time': 0.029307126998901367, 'predicting_time': 0.02126288414001465}\n",
      "{'AUC': 0.689369535204786, 'kappa': 0.26074559087548843, 'f1': 0.4696969696969698, 'precision': 0.34065934065934067, 'recall': 0.7560975609756098, 'average_precision': 0.30757169659608685, 'Spearman_r': 0.30704119967905974, 'Pearson_r': 0.3070411996790601, 'R2': -1.1475686454977758, 'MAE': 0.35, 'MSE': 0.35, 'poisson_deviance_explained': -0.7973197632775209, 'model': 'Hurdle_SVC_SVR', 'task_type': 'hurdle', 'iter': 4, 'sp': 'Mallard', 'sample_size': 1000, 'training_time': 0.03217577934265137, 'predicting_time': 0.02070903778076172}\n"
     ]
    },
    {
     "data": {
      "application/vnd.jupyter.widget-view+json": {
       "model_id": "8256d7989b2d4718b40385d419303bee",
       "version_major": 2,
       "version_minor": 0
      },
      "text/plain": [
       "Hurdle_Logistic_Linear:   0%|          | 0/5 [00:00<?, ?it/s]"
      ]
     },
     "metadata": {},
     "output_type": "display_data"
    },
    {
     "name": "stdout",
     "output_type": "stream",
     "text": [
      "{'AUC': 0.6750136091453457, 'kappa': 0.21130463358527762, 'f1': 0.4, 'precision': 0.27586206896551724, 'recall': 0.7272727272727273, 'average_precision': 0.24562695924764888, 'Spearman_r': 0.26207052220492566, 'Pearson_r': 0.26207052220492627, 'R2': -1.6129559063690793, 'MAE': 0.36, 'MSE': 0.36, 'poisson_deviance_explained': -1.0382740686071994, 'model': 'Hurdle_Logistic_Linear', 'task_type': 'hurdle', 'iter': 0, 'sp': 'Mallard', 'sample_size': 1000, 'training_time': 0.5157120227813721, 'predicting_time': 0.02067875862121582}\n",
      "{'AUC': 0.6888719221225424, 'kappa': 0.21100330525642386, 'f1': 0.3934426229508197, 'precision': 0.26373626373626374, 'recall': 0.7741935483870968, 'average_precision': 0.23918291386033322, 'Spearman_r': 0.27452863446707226, 'Pearson_r': 0.274528634467073, 'R2': -1.824966596678756, 'MAE': 0.37, 'MSE': 0.37, 'poisson_deviance_explained': -1.094578914678094, 'model': 'Hurdle_Logistic_Linear', 'task_type': 'hurdle', 'iter': 1, 'sp': 'Mallard', 'sample_size': 1000, 'training_time': 0.42360973358154297, 'predicting_time': 0.012305259704589844}\n",
      "{'AUC': 0.5927236436218474, 'kappa': 0.13234913234913237, 'f1': 0.32323232323232326, 'precision': 0.24242424242424243, 'recall': 0.48484848484848486, 'average_precision': 0.20253902662993573, 'Spearman_r': 0.14638997052176783, 'Pearson_r': 0.1463899705217678, 'R2': -1.4315006350934496, 'MAE': 0.335, 'MSE': 0.335, 'poisson_deviance_explained': -1.2052606980657856, 'model': 'Hurdle_Logistic_Linear', 'task_type': 'hurdle', 'iter': 2, 'sp': 'Mallard', 'sample_size': 1000, 'training_time': 0.19002795219421387, 'predicting_time': 0.009267091751098633}\n",
      "{'AUC': 0.7069097155945792, 'kappa': 0.2687159147248389, 'f1': 0.4271844660194175, 'precision': 0.3055555555555556, 'recall': 0.7096774193548387, 'average_precision': 0.26184587813620075, 'Spearman_r': 0.3120066464695897, 'Pearson_r': 0.3120066464695901, 'R2': -1.2523382324871166, 'MAE': 0.295, 'MSE': 0.295, 'poisson_deviance_explained': -0.9169044432547226, 'model': 'Hurdle_Logistic_Linear', 'task_type': 'hurdle', 'iter': 3, 'sp': 'Mallard', 'sample_size': 1000, 'training_time': 0.5272350311279297, 'predicting_time': 0.05396318435668945}\n",
      "{'AUC': 0.6653627857033289, 'kappa': 0.2380742049469965, 'f1': 0.448, 'precision': 0.3333333333333333, 'recall': 0.6829268292682927, 'average_precision': 0.29264227642276425, 'Spearman_r': 0.2705139265877264, 'Pearson_r': 0.2705139265877267, 'R2': -1.1168890934192364, 'MAE': 0.345, 'MSE': 0.345, 'poisson_deviance_explained': -0.8204784532536746, 'model': 'Hurdle_Logistic_Linear', 'task_type': 'hurdle', 'iter': 4, 'sp': 'Mallard', 'sample_size': 1000, 'training_time': 0.447847843170166, 'predicting_time': 0.030635833740234375}\n"
     ]
    },
    {
     "data": {
      "application/vnd.jupyter.widget-view+json": {
       "model_id": "92c49011d7914a0cbaed0d84a85d74de",
       "version_major": 2,
       "version_minor": 0
      },
      "text/plain": [
       "Hurdle_SGDClassifier_SGDRegressor:   0%|          | 0/5 [00:00<?, ?it/s]"
      ]
     },
     "metadata": {},
     "output_type": "display_data"
    },
    {
     "name": "stdout",
     "output_type": "stream",
     "text": [
      "{'AUC': 0.6785519869352206, 'kappa': 0.19166342033502148, 'f1': 0.39416058394160586, 'precision': 0.25961538461538464, 'recall': 0.8181818181818182, 'average_precision': 0.24241258741258745, 'Spearman_r': 0.2663251094697319, 'Pearson_r': 0.2684835157064531, 'R2': -2.109564812123868, 'MAE': 0.4281144706537539, 'MSE': 0.428420291990366, 'poisson_deviance_explained': -1.1447135965306656, 'model': 'Hurdle_SGDClassifier_SGDRegressor', 'task_type': 'hurdle', 'iter': 0, 'sp': 'Mallard', 'sample_size': 1000, 'training_time': 0.0177462100982666, 'predicting_time': 0.013032197952270508}\n",
      "{'AUC': 0.566711204428326, 'kappa': 0.0469159003959998, 'f1': 0.29702970297029696, 'precision': 0.17543859649122806, 'recall': 0.967741935483871, 'average_precision': 0.1747792869269949, 'Spearman_r': -0.06363098131705121, 'Pearson_r': 0.10058117411042188, 'R2': -4.471377724261052, 'MAE': 0.7189944774368067, 'MSE': 0.7166136974350912, 'poisson_deviance_explained': -1.7058023170438, 'model': 'Hurdle_SGDClassifier_SGDRegressor', 'task_type': 'hurdle', 'iter': 1, 'sp': 'Mallard', 'sample_size': 1000, 'training_time': 0.03159976005554199, 'predicting_time': 0.01638007164001465}\n",
      "{'AUC': 0.5489929232444203, 'kappa': 0.11637931034482751, 'f1': 0.22641509433962265, 'precision': 0.3, 'recall': 0.18181818181818182, 'average_precision': 0.18954545454545454, 'Spearman_r': 0.12011509072395081, 'Pearson_r': 0.11534869631016918, 'R2': -0.4789587210845321, 'MAE': 0.2053228895637333, 'MSE': 0.2037635377974214, 'poisson_deviance_explained': -0.9142904973066366, 'model': 'Hurdle_SGDClassifier_SGDRegressor', 'task_type': 'hurdle', 'iter': 2, 'sp': 'Mallard', 'sample_size': 1000, 'training_time': 0.019150972366333008, 'predicting_time': 0.009166955947875977}\n",
      "{'AUC': 0.6106127123496851, 'kappa': 0.10772376614927037, 'f1': 0.323943661971831, 'precision': 0.2072072072072072, 'recall': 0.7419354838709677, 'average_precision': 0.19373437954083117, 'Spearman_r': 0.17278475652901004, 'Pearson_r': 0.168315761460492, 'R2': -2.595121428067152, 'MAE': 0.4796881481453317, 'MSE': 0.4708710290410951, 'poisson_deviance_explained': -1.4010446273329515, 'model': 'Hurdle_SGDClassifier_SGDRegressor', 'task_type': 'hurdle', 'iter': 3, 'sp': 'Mallard', 'sample_size': 1000, 'training_time': 0.006378173828125, 'predicting_time': 0.011856794357299805}\n",
      "{'AUC': 0.6347599325049853, 'kappa': 0.1547063485075283, 'f1': 0.4146341463414634, 'precision': 0.2764227642276423, 'recall': 0.8292682926829268, 'average_precision': 0.26422863374975214, 'Spearman_r': 0.20225139337937126, 'Pearson_r': 0.22437914019144842, 'R2': -2.011276740617566, 'MAE': 0.4919080938521101, 'MSE': 0.49076282680214783, 'poisson_deviance_explained': -1.0527534885846492, 'model': 'Hurdle_SGDClassifier_SGDRegressor', 'task_type': 'hurdle', 'iter': 4, 'sp': 'Mallard', 'sample_size': 1000, 'training_time': 0.014339208602905273, 'predicting_time': 0.017216205596923828}\n"
     ]
    }
   ],
   "source": [
    "K=5\n",
    "\n",
    "reg_metric_df_list = []\n",
    "for item in list(reg_model_set_dict.keys())[::-1]:\n",
    "    model_name = item\n",
    "    model = reg_model_set_dict[model_name]\n",
    "    \n",
    "    kf = KFold(n_splits=K, shuffle=True, random_state=42).split(X, y)\n",
    "    for kf_count, (train_index, test_index) in tqdm(enumerate(kf), desc=f'{model_name}', total=K):\n",
    "        X_train = X.iloc[train_index].replace(-1,np.nan)\n",
    "        imputer = SimpleImputer().fit(X_train[x_names])\n",
    "        X_train[x_names] = imputer.transform(X_train[x_names])\n",
    "        scaler = MinMaxScaler().fit(X_train[x_names])\n",
    "        X_train[x_names] = scaler.transform(X_train[x_names])\n",
    "        \n",
    "        y_train = np.where(y[train_index]>0, 1, 0)\n",
    "        X_test = X.iloc[test_index].replace(-1,np.nan)\n",
    "        X_test[x_names] = imputer.transform(X_test[x_names])\n",
    "        X_test[x_names] = scaler.transform(X_test[x_names])\n",
    "        y_test = np.where(y[test_index]>0, 1, 0)\n",
    "        \n",
    "        sample_weights = class_weight.compute_sample_weight(class_weight='balanced',y=np.where(y_train>0,1,0))\n",
    "        \n",
    "        \n",
    "        try:\n",
    "            start_time = time.time()\n",
    "            model.fit(X_train[x_names], y_train, sample_weight=sample_weights)\n",
    "            finish_time = time.time()\n",
    "            training_time = finish_time - start_time\n",
    "        except:\n",
    "            start_time = time.time()\n",
    "            model.fit(X_train[x_names], y_train)\n",
    "            finish_time = time.time()\n",
    "            training_time = finish_time - start_time\n",
    "            \n",
    "        start_time = time.time()\n",
    "        y_pred = model.predict(X_test[x_names])\n",
    "        y_pred = np.where(y_pred<0, 0, y_pred)\n",
    "        finish_time = time.time()\n",
    "        predicting_time = finish_time - start_time\n",
    "        \n",
    "        metric_df = AdaSTEM.eval_STEM_res('hurdle', y_test, np.array(y_pred).flatten())\n",
    "        metric_df['model'] = model_name\n",
    "        metric_df['task_type'] = 'hurdle'\n",
    "        metric_df['iter'] = kf_count\n",
    "        metric_df['sp'] = sp\n",
    "        metric_df['sample_size'] = SAMPLE_SIZE\n",
    "        metric_df['training_time'] = training_time\n",
    "        metric_df['predicting_time'] = predicting_time\n",
    "        \n",
    "        reg_metric_df_list.append(metric_df)\n",
    "        print(metric_df)\n",
    "\n",
    "\n",
    "    "
   ]
  },
  {
   "cell_type": "code",
   "execution_count": 16,
   "metadata": {},
   "outputs": [],
   "source": [
    "reg_metric_df = pd.DataFrame(reg_metric_df_list)\n",
    "reg_metric_df.to_csv(os.path.join(OUTPUT_DIR, f'hurdle_metric_df_SIZE_{SAMPLE_SIZE}_SP_{sp}_year_{year}.csv'),\n",
    "                                        index=False)\n"
   ]
  },
  {
   "cell_type": "code",
   "execution_count": null,
   "metadata": {},
   "outputs": [],
   "source": []
  },
  {
   "cell_type": "markdown",
   "metadata": {},
   "source": [
    "### Then, with AdaSTEM wrapper"
   ]
  },
  {
   "cell_type": "code",
   "execution_count": 17,
   "metadata": {},
   "outputs": [
    {
     "data": {
      "application/vnd.jupyter.widget-view+json": {
       "model_id": "ffd1d60643b846e1a2fcd9787bac79b6",
       "version_major": 2,
       "version_minor": 0
      },
      "text/plain": [
       "AdaSTEM + Hurdle_XGBClassifier_XGBregressor:   0%|          | 0/5 [00:00<?, ?it/s]"
      ]
     },
     "metadata": {},
     "output_type": "display_data"
    },
    {
     "name": "stderr",
     "output_type": "stream",
     "text": [
      "Generating Ensemble: 100%|██████████| 5/5 [00:00<00:00, 13.60it/s]\n",
      "training: 100%|██████████| 1191/1191 [00:00<00:00, 8819.93it/s]\n"
     ]
    },
    {
     "name": "stdout",
     "output_type": "stream",
     "text": [
      "{'AUC': 0.5, 'kappa': 0.0, 'f1': 0.0, 'precision': 0.0, 'recall': 0.0, 'average_precision': 0.165, 'Spearman_r': nan, 'Pearson_r': nan, 'R2': -0.03706800603393301, 'MAE': 2.025, 'MSE': 114.725, 'poisson_deviance_explained': nan, 'model': 'AdaSTEM_Hurdle_XGBClassifier_XGBregressor', 'task_type': 'hurdle', 'iter': 0, 'sp': 'Mallard', 'sample_size': 1000, 'training_time': 0.5594649314880371, 'predicting_time': 0.017216205596923828}\n"
     ]
    },
    {
     "name": "stderr",
     "output_type": "stream",
     "text": [
      "Generating Ensemble: 100%|██████████| 5/5 [00:00<00:00, 26.31it/s]\n",
      "training: 100%|██████████| 1177/1177 [00:00<00:00, 9457.29it/s]\n"
     ]
    },
    {
     "name": "stdout",
     "output_type": "stream",
     "text": [
      "{'AUC': 0.5, 'kappa': 0.0, 'f1': 0.0, 'precision': 0.0, 'recall': 0.0, 'average_precision': 0.155, 'Spearman_r': nan, 'Pearson_r': nan, 'R2': -0.06496439224344774, 'MAE': 1.705, 'MSE': 47.655, 'poisson_deviance_explained': nan, 'model': 'AdaSTEM_Hurdle_XGBClassifier_XGBregressor', 'task_type': 'hurdle', 'iter': 1, 'sp': 'Mallard', 'sample_size': 1000, 'training_time': 0.3567509651184082, 'predicting_time': 0.017216205596923828}\n"
     ]
    },
    {
     "name": "stderr",
     "output_type": "stream",
     "text": [
      "Generating Ensemble: 100%|██████████| 5/5 [00:00<00:00, 28.23it/s]\n",
      "training: 100%|██████████| 1194/1194 [00:00<00:00, 7063.43it/s]\n"
     ]
    },
    {
     "name": "stdout",
     "output_type": "stream",
     "text": [
      "{'AUC': 0.5, 'kappa': 0.0, 'f1': 0.0, 'precision': 0.0, 'recall': 0.0, 'average_precision': 0.165, 'Spearman_r': nan, 'Pearson_r': nan, 'R2': -0.023765411003576542, 'MAE': 6.64, 'MSE': 1899.29, 'poisson_deviance_explained': nan, 'model': 'AdaSTEM_Hurdle_XGBClassifier_XGBregressor', 'task_type': 'hurdle', 'iter': 2, 'sp': 'Mallard', 'sample_size': 1000, 'training_time': 0.3876960277557373, 'predicting_time': 0.017216205596923828}\n"
     ]
    },
    {
     "name": "stderr",
     "output_type": "stream",
     "text": [
      "Generating Ensemble: 100%|██████████| 5/5 [00:00<00:00, 27.47it/s]\n",
      "training: 100%|██████████| 1245/1245 [00:00<00:00, 9405.51it/s]\n"
     ]
    },
    {
     "name": "stdout",
     "output_type": "stream",
     "text": [
      "{'AUC': 0.5, 'kappa': 0.0, 'f1': 0.0, 'precision': 0.0, 'recall': 0.0, 'average_precision': 0.155, 'Spearman_r': nan, 'Pearson_r': nan, 'R2': -0.02458410258839927, 'MAE': 4.105, 'MSE': 702.295, 'poisson_deviance_explained': nan, 'model': 'AdaSTEM_Hurdle_XGBClassifier_XGBregressor', 'task_type': 'hurdle', 'iter': 3, 'sp': 'Mallard', 'sample_size': 1000, 'training_time': 0.35794496536254883, 'predicting_time': 0.017216205596923828}\n"
     ]
    },
    {
     "name": "stderr",
     "output_type": "stream",
     "text": [
      "Generating Ensemble: 100%|██████████| 5/5 [00:00<00:00, 27.64it/s]\n",
      "training: 100%|██████████| 1173/1173 [00:00<00:00, 9797.45it/s]\n"
     ]
    },
    {
     "name": "stdout",
     "output_type": "stream",
     "text": [
      "{'AUC': 0.5, 'kappa': 0.0, 'f1': 0.0, 'precision': 0.0, 'recall': 0.0, 'average_precision': 0.205, 'Spearman_r': nan, 'Pearson_r': nan, 'R2': -0.06920289560797221, 'MAE': 4.23, 'MSE': 276.45, 'poisson_deviance_explained': nan, 'model': 'AdaSTEM_Hurdle_XGBClassifier_XGBregressor', 'task_type': 'hurdle', 'iter': 4, 'sp': 'Mallard', 'sample_size': 1000, 'training_time': 0.33987975120544434, 'predicting_time': 0.017216205596923828}\n"
     ]
    },
    {
     "data": {
      "application/vnd.jupyter.widget-view+json": {
       "model_id": "fd754aaec9284c53bc3630e3a5ea4d94",
       "version_major": 2,
       "version_minor": 0
      },
      "text/plain": [
       "AdaSTEM + Hurdle_MLPClassifier_MLPRegressor:   0%|          | 0/5 [00:00<?, ?it/s]"
      ]
     },
     "metadata": {},
     "output_type": "display_data"
    },
    {
     "name": "stderr",
     "output_type": "stream",
     "text": [
      "Generating Ensemble:  20%|██        | 1/5 [00:00<00:00,  7.95it/s]\n",
      "Generating Ensemble: 100%|██████████| 5/5 [00:00<00:00, 23.89it/s]\n",
      "training: 100%|██████████| 1202/1202 [00:00<00:00, 9521.26it/s]\n"
     ]
    },
    {
     "name": "stdout",
     "output_type": "stream",
     "text": [
      "{'AUC': 0.5, 'kappa': 0.0, 'f1': 0.0, 'precision': 0.0, 'recall': 0.0, 'average_precision': 0.165, 'Spearman_r': nan, 'Pearson_r': nan, 'R2': -0.03706800603393301, 'MAE': 2.025, 'MSE': 114.725, 'poisson_deviance_explained': nan, 'model': 'AdaSTEM_Hurdle_MLPClassifier_MLPRegressor', 'task_type': 'hurdle', 'iter': 0, 'sp': 'Mallard', 'sample_size': 1000, 'training_time': 0.3807551860809326, 'predicting_time': 0.017216205596923828}\n"
     ]
    },
    {
     "name": "stderr",
     "output_type": "stream",
     "text": [
      "Generating Ensemble:  20%|██        | 1/5 [00:00<00:00, 15.69it/s]\n",
      "Generating Ensemble: 100%|██████████| 5/5 [00:00<00:00, 29.44it/s]\n",
      "training: 100%|██████████| 1106/1106 [00:00<00:00, 9715.99it/s]\n"
     ]
    },
    {
     "name": "stdout",
     "output_type": "stream",
     "text": [
      "{'AUC': 0.5, 'kappa': 0.0, 'f1': 0.0, 'precision': 0.0, 'recall': 0.0, 'average_precision': 0.155, 'Spearman_r': nan, 'Pearson_r': nan, 'R2': -0.06496439224344774, 'MAE': 1.705, 'MSE': 47.655, 'poisson_deviance_explained': nan, 'model': 'AdaSTEM_Hurdle_MLPClassifier_MLPRegressor', 'task_type': 'hurdle', 'iter': 1, 'sp': 'Mallard', 'sample_size': 1000, 'training_time': 0.32257509231567383, 'predicting_time': 0.017216205596923828}\n"
     ]
    },
    {
     "name": "stderr",
     "output_type": "stream",
     "text": [
      "Generating Ensemble: 100%|██████████| 5/5 [00:00<00:00, 22.02it/s]\n",
      "training: 100%|██████████| 1154/1154 [00:00<00:00, 9463.97it/s]\n"
     ]
    },
    {
     "name": "stdout",
     "output_type": "stream",
     "text": [
      "{'AUC': 0.5, 'kappa': 0.0, 'f1': 0.0, 'precision': 0.0, 'recall': 0.0, 'average_precision': 0.165, 'Spearman_r': nan, 'Pearson_r': nan, 'R2': -0.023765411003576542, 'MAE': 6.64, 'MSE': 1899.29, 'poisson_deviance_explained': nan, 'model': 'AdaSTEM_Hurdle_MLPClassifier_MLPRegressor', 'task_type': 'hurdle', 'iter': 2, 'sp': 'Mallard', 'sample_size': 1000, 'training_time': 0.3931388854980469, 'predicting_time': 0.017216205596923828}\n"
     ]
    },
    {
     "name": "stderr",
     "output_type": "stream",
     "text": [
      "Generating Ensemble:  20%|██        | 1/5 [00:00<00:00, 14.73it/s]\n",
      "Generating Ensemble: 100%|██████████| 5/5 [00:00<00:00, 27.17it/s]\n",
      "training: 100%|██████████| 1246/1246 [00:00<00:00, 9632.34it/s]\n"
     ]
    },
    {
     "name": "stdout",
     "output_type": "stream",
     "text": [
      "{'AUC': 0.5, 'kappa': 0.0, 'f1': 0.0, 'precision': 0.0, 'recall': 0.0, 'average_precision': 0.155, 'Spearman_r': nan, 'Pearson_r': nan, 'R2': -0.02458410258839927, 'MAE': 4.105, 'MSE': 702.295, 'poisson_deviance_explained': nan, 'model': 'AdaSTEM_Hurdle_MLPClassifier_MLPRegressor', 'task_type': 'hurdle', 'iter': 3, 'sp': 'Mallard', 'sample_size': 1000, 'training_time': 0.3574380874633789, 'predicting_time': 0.017216205596923828}\n"
     ]
    },
    {
     "name": "stderr",
     "output_type": "stream",
     "text": [
      "Generating Ensemble: 100%|██████████| 5/5 [00:00<00:00, 21.96it/s]\n",
      "training: 100%|██████████| 1221/1221 [00:00<00:00, 9743.52it/s]\n"
     ]
    },
    {
     "name": "stdout",
     "output_type": "stream",
     "text": [
      "{'AUC': 0.5, 'kappa': 0.0, 'f1': 0.0, 'precision': 0.0, 'recall': 0.0, 'average_precision': 0.205, 'Spearman_r': nan, 'Pearson_r': nan, 'R2': -0.06920289560797221, 'MAE': 4.23, 'MSE': 276.45, 'poisson_deviance_explained': nan, 'model': 'AdaSTEM_Hurdle_MLPClassifier_MLPRegressor', 'task_type': 'hurdle', 'iter': 4, 'sp': 'Mallard', 'sample_size': 1000, 'training_time': 0.3942139148712158, 'predicting_time': 0.017216205596923828}\n"
     ]
    },
    {
     "data": {
      "application/vnd.jupyter.widget-view+json": {
       "model_id": "79535f47b2b84764836621af66fe7df9",
       "version_major": 2,
       "version_minor": 0
      },
      "text/plain": [
       "AdaSTEM + Hurdle_RandomforestClassifier_RandomforestRegressor:   0%|          | 0/5 [00:00<?, ?it/s]"
      ]
     },
     "metadata": {},
     "output_type": "display_data"
    },
    {
     "name": "stderr",
     "output_type": "stream",
     "text": [
      "Generating Ensemble: 100%|██████████| 5/5 [00:00<00:00, 26.90it/s]\n",
      "training: 100%|██████████| 1235/1235 [00:00<00:00, 9686.51it/s]\n"
     ]
    },
    {
     "name": "stdout",
     "output_type": "stream",
     "text": [
      "{'AUC': 0.5, 'kappa': 0.0, 'f1': 0.0, 'precision': 0.0, 'recall': 0.0, 'average_precision': 0.165, 'Spearman_r': nan, 'Pearson_r': nan, 'R2': -0.03706800603393301, 'MAE': 2.025, 'MSE': 114.725, 'poisson_deviance_explained': nan, 'model': 'AdaSTEM_Hurdle_RandomforestClassifier_RandomforestRegressor', 'task_type': 'hurdle', 'iter': 0, 'sp': 'Mallard', 'sample_size': 1000, 'training_time': 0.35517120361328125, 'predicting_time': 0.017216205596923828}\n"
     ]
    },
    {
     "name": "stderr",
     "output_type": "stream",
     "text": [
      "Generating Ensemble: 100%|██████████| 5/5 [00:00<00:00, 28.98it/s]\n",
      "training: 100%|██████████| 1198/1198 [00:00<00:00, 9547.87it/s]\n"
     ]
    },
    {
     "name": "stdout",
     "output_type": "stream",
     "text": [
      "{'AUC': 0.5, 'kappa': 0.0, 'f1': 0.0, 'precision': 0.0, 'recall': 0.0, 'average_precision': 0.155, 'Spearman_r': nan, 'Pearson_r': nan, 'R2': -0.06496439224344774, 'MAE': 1.705, 'MSE': 47.655, 'poisson_deviance_explained': nan, 'model': 'AdaSTEM_Hurdle_RandomforestClassifier_RandomforestRegressor', 'task_type': 'hurdle', 'iter': 1, 'sp': 'Mallard', 'sample_size': 1000, 'training_time': 0.33792877197265625, 'predicting_time': 0.017216205596923828}\n"
     ]
    },
    {
     "name": "stderr",
     "output_type": "stream",
     "text": [
      "Generating Ensemble: 100%|██████████| 5/5 [00:00<00:00, 21.63it/s]\n",
      "training: 100%|██████████| 1212/1212 [00:00<00:00, 9712.52it/s]\n"
     ]
    },
    {
     "name": "stdout",
     "output_type": "stream",
     "text": [
      "{'AUC': 0.5, 'kappa': 0.0, 'f1': 0.0, 'precision': 0.0, 'recall': 0.0, 'average_precision': 0.165, 'Spearman_r': nan, 'Pearson_r': nan, 'R2': -0.023765411003576542, 'MAE': 6.64, 'MSE': 1899.29, 'poisson_deviance_explained': nan, 'model': 'AdaSTEM_Hurdle_RandomforestClassifier_RandomforestRegressor', 'task_type': 'hurdle', 'iter': 2, 'sp': 'Mallard', 'sample_size': 1000, 'training_time': 0.3976879119873047, 'predicting_time': 0.017216205596923828}\n"
     ]
    },
    {
     "name": "stderr",
     "output_type": "stream",
     "text": [
      "Generating Ensemble: 100%|██████████| 5/5 [00:00<00:00, 27.86it/s]\n",
      "training: 100%|██████████| 1222/1222 [00:00<00:00, 9928.17it/s] \n"
     ]
    },
    {
     "name": "stdout",
     "output_type": "stream",
     "text": [
      "{'AUC': 0.5, 'kappa': 0.0, 'f1': 0.0, 'precision': 0.0, 'recall': 0.0, 'average_precision': 0.155, 'Spearman_r': nan, 'Pearson_r': nan, 'R2': -0.02458410258839927, 'MAE': 4.105, 'MSE': 702.295, 'poisson_deviance_explained': nan, 'model': 'AdaSTEM_Hurdle_RandomforestClassifier_RandomforestRegressor', 'task_type': 'hurdle', 'iter': 3, 'sp': 'Mallard', 'sample_size': 1000, 'training_time': 0.34912919998168945, 'predicting_time': 0.017216205596923828}\n"
     ]
    },
    {
     "name": "stderr",
     "output_type": "stream",
     "text": [
      "Generating Ensemble: 100%|██████████| 5/5 [00:00<00:00, 20.32it/s]\n",
      "training: 100%|██████████| 1209/1209 [00:00<00:00, 8999.15it/s]\n"
     ]
    },
    {
     "name": "stdout",
     "output_type": "stream",
     "text": [
      "{'AUC': 0.5, 'kappa': 0.0, 'f1': 0.0, 'precision': 0.0, 'recall': 0.0, 'average_precision': 0.205, 'Spearman_r': nan, 'Pearson_r': nan, 'R2': -0.06920289560797221, 'MAE': 4.23, 'MSE': 276.45, 'poisson_deviance_explained': nan, 'model': 'AdaSTEM_Hurdle_RandomforestClassifier_RandomforestRegressor', 'task_type': 'hurdle', 'iter': 4, 'sp': 'Mallard', 'sample_size': 1000, 'training_time': 0.42404699325561523, 'predicting_time': 0.017216205596923828}\n"
     ]
    },
    {
     "data": {
      "application/vnd.jupyter.widget-view+json": {
       "model_id": "a5444448c54b42e3b9ec2613c9df970a",
       "version_major": 2,
       "version_minor": 0
      },
      "text/plain": [
       "AdaSTEM + Hurdle_DecisionTreeClassifier_DecisionTreeRegressor:   0%|          | 0/5 [00:00<?, ?it/s]"
      ]
     },
     "metadata": {},
     "output_type": "display_data"
    },
    {
     "name": "stderr",
     "output_type": "stream",
     "text": [
      "Generating Ensemble: 100%|██████████| 5/5 [00:00<00:00, 24.27it/s]\n",
      "training: 100%|██████████| 1248/1248 [00:00<00:00, 9861.87it/s] \n"
     ]
    },
    {
     "name": "stdout",
     "output_type": "stream",
     "text": [
      "{'AUC': 0.5, 'kappa': 0.0, 'f1': 0.0, 'precision': 0.0, 'recall': 0.0, 'average_precision': 0.165, 'Spearman_r': nan, 'Pearson_r': nan, 'R2': -0.03706800603393301, 'MAE': 2.025, 'MSE': 114.725, 'poisson_deviance_explained': nan, 'model': 'AdaSTEM_Hurdle_DecisionTreeClassifier_DecisionTreeRegressor', 'task_type': 'hurdle', 'iter': 0, 'sp': 'Mallard', 'sample_size': 1000, 'training_time': 0.37648892402648926, 'predicting_time': 0.017216205596923828}\n"
     ]
    },
    {
     "name": "stderr",
     "output_type": "stream",
     "text": [
      "Generating Ensemble: 100%|██████████| 5/5 [00:00<00:00, 27.29it/s]\n",
      "training: 100%|██████████| 1169/1169 [00:00<00:00, 8884.66it/s]\n"
     ]
    },
    {
     "name": "stdout",
     "output_type": "stream",
     "text": [
      "{'AUC': 0.5, 'kappa': 0.0, 'f1': 0.0, 'precision': 0.0, 'recall': 0.0, 'average_precision': 0.155, 'Spearman_r': nan, 'Pearson_r': nan, 'R2': -0.06496439224344774, 'MAE': 1.705, 'MSE': 47.655, 'poisson_deviance_explained': nan, 'model': 'AdaSTEM_Hurdle_DecisionTreeClassifier_DecisionTreeRegressor', 'task_type': 'hurdle', 'iter': 1, 'sp': 'Mallard', 'sample_size': 1000, 'training_time': 0.36539387702941895, 'predicting_time': 0.017216205596923828}\n"
     ]
    },
    {
     "name": "stderr",
     "output_type": "stream",
     "text": [
      "Generating Ensemble: 100%|██████████| 5/5 [00:00<00:00, 20.38it/s]\n",
      "training: 100%|██████████| 1225/1225 [00:00<00:00, 9602.13it/s]\n"
     ]
    },
    {
     "name": "stdout",
     "output_type": "stream",
     "text": [
      "{'AUC': 0.5, 'kappa': 0.0, 'f1': 0.0, 'precision': 0.0, 'recall': 0.0, 'average_precision': 0.165, 'Spearman_r': nan, 'Pearson_r': nan, 'R2': -0.023765411003576542, 'MAE': 6.64, 'MSE': 1899.29, 'poisson_deviance_explained': nan, 'model': 'AdaSTEM_Hurdle_DecisionTreeClassifier_DecisionTreeRegressor', 'task_type': 'hurdle', 'iter': 2, 'sp': 'Mallard', 'sample_size': 1000, 'training_time': 0.4183921813964844, 'predicting_time': 0.017216205596923828}\n"
     ]
    },
    {
     "name": "stderr",
     "output_type": "stream",
     "text": [
      "Generating Ensemble: 100%|██████████| 5/5 [00:00<00:00, 29.09it/s]\n",
      "training: 100%|██████████| 1184/1184 [00:00<00:00, 9994.44it/s] \n"
     ]
    },
    {
     "name": "stdout",
     "output_type": "stream",
     "text": [
      "{'AUC': 0.5, 'kappa': 0.0, 'f1': 0.0, 'precision': 0.0, 'recall': 0.0, 'average_precision': 0.155, 'Spearman_r': nan, 'Pearson_r': nan, 'R2': -0.02458410258839927, 'MAE': 4.105, 'MSE': 702.295, 'poisson_deviance_explained': nan, 'model': 'AdaSTEM_Hurdle_DecisionTreeClassifier_DecisionTreeRegressor', 'task_type': 'hurdle', 'iter': 3, 'sp': 'Mallard', 'sample_size': 1000, 'training_time': 0.3329920768737793, 'predicting_time': 0.017216205596923828}\n"
     ]
    },
    {
     "name": "stderr",
     "output_type": "stream",
     "text": [
      "Generating Ensemble: 100%|██████████| 5/5 [00:00<00:00, 26.70it/s]\n",
      "training: 100%|██████████| 1206/1206 [00:00<00:00, 9555.50it/s]\n"
     ]
    },
    {
     "name": "stdout",
     "output_type": "stream",
     "text": [
      "{'AUC': 0.5, 'kappa': 0.0, 'f1': 0.0, 'precision': 0.0, 'recall': 0.0, 'average_precision': 0.205, 'Spearman_r': nan, 'Pearson_r': nan, 'R2': -0.06920289560797221, 'MAE': 4.23, 'MSE': 276.45, 'poisson_deviance_explained': nan, 'model': 'AdaSTEM_Hurdle_DecisionTreeClassifier_DecisionTreeRegressor', 'task_type': 'hurdle', 'iter': 4, 'sp': 'Mallard', 'sample_size': 1000, 'training_time': 0.35375499725341797, 'predicting_time': 0.017216205596923828}\n"
     ]
    },
    {
     "data": {
      "application/vnd.jupyter.widget-view+json": {
       "model_id": "d9cbca6e30ac44b1a82a2cd505ab06e0",
       "version_major": 2,
       "version_minor": 0
      },
      "text/plain": [
       "AdaSTEM + Hurdle_SVC_SVR:   0%|          | 0/5 [00:00<?, ?it/s]"
      ]
     },
     "metadata": {},
     "output_type": "display_data"
    },
    {
     "name": "stderr",
     "output_type": "stream",
     "text": [
      "Generating Ensemble:   0%|          | 0/5 [00:00<?, ?it/s]\n",
      "Generating Ensemble: 100%|██████████| 5/5 [00:00<00:00, 27.06it/s]\n",
      "training: 100%|██████████| 1196/1196 [00:00<00:00, 9382.97it/s]\n"
     ]
    },
    {
     "name": "stdout",
     "output_type": "stream",
     "text": [
      "{'AUC': 0.5, 'kappa': 0.0, 'f1': 0.0, 'precision': 0.0, 'recall': 0.0, 'average_precision': 0.165, 'Spearman_r': nan, 'Pearson_r': nan, 'R2': -0.03706800603393301, 'MAE': 2.025, 'MSE': 114.725, 'poisson_deviance_explained': nan, 'model': 'AdaSTEM_Hurdle_SVC_SVR', 'task_type': 'hurdle', 'iter': 0, 'sp': 'Mallard', 'sample_size': 1000, 'training_time': 0.35434985160827637, 'predicting_time': 0.017216205596923828}\n"
     ]
    },
    {
     "name": "stderr",
     "output_type": "stream",
     "text": [
      "Generating Ensemble: 100%|██████████| 5/5 [00:00<00:00, 22.86it/s]\n",
      "training: 100%|██████████| 1222/1222 [00:00<00:00, 9166.06it/s]\n"
     ]
    },
    {
     "name": "stdout",
     "output_type": "stream",
     "text": [
      "{'AUC': 0.5, 'kappa': 0.0, 'f1': 0.0, 'precision': 0.0, 'recall': 0.0, 'average_precision': 0.155, 'Spearman_r': nan, 'Pearson_r': nan, 'R2': -0.06496439224344774, 'MAE': 1.705, 'MSE': 47.655, 'poisson_deviance_explained': nan, 'model': 'AdaSTEM_Hurdle_SVC_SVR', 'task_type': 'hurdle', 'iter': 1, 'sp': 'Mallard', 'sample_size': 1000, 'training_time': 0.4001450538635254, 'predicting_time': 0.017216205596923828}\n"
     ]
    },
    {
     "name": "stderr",
     "output_type": "stream",
     "text": [
      "Generating Ensemble: 100%|██████████| 5/5 [00:00<00:00, 21.54it/s]\n",
      "training: 100%|██████████| 1202/1202 [00:00<00:00, 9543.77it/s]\n"
     ]
    },
    {
     "name": "stdout",
     "output_type": "stream",
     "text": [
      "{'AUC': 0.5, 'kappa': 0.0, 'f1': 0.0, 'precision': 0.0, 'recall': 0.0, 'average_precision': 0.165, 'Spearman_r': nan, 'Pearson_r': nan, 'R2': -0.023765411003576542, 'MAE': 6.64, 'MSE': 1899.29, 'poisson_deviance_explained': nan, 'model': 'AdaSTEM_Hurdle_SVC_SVR', 'task_type': 'hurdle', 'iter': 2, 'sp': 'Mallard', 'sample_size': 1000, 'training_time': 0.406296968460083, 'predicting_time': 0.017216205596923828}\n"
     ]
    },
    {
     "name": "stderr",
     "output_type": "stream",
     "text": [
      "Generating Ensemble: 100%|██████████| 5/5 [00:00<00:00, 28.16it/s]\n",
      "training: 100%|██████████| 1191/1191 [00:00<00:00, 9726.41it/s]\n"
     ]
    },
    {
     "name": "stdout",
     "output_type": "stream",
     "text": [
      "{'AUC': 0.5, 'kappa': 0.0, 'f1': 0.0, 'precision': 0.0, 'recall': 0.0, 'average_precision': 0.155, 'Spearman_r': nan, 'Pearson_r': nan, 'R2': -0.02458410258839927, 'MAE': 4.105, 'MSE': 702.295, 'poisson_deviance_explained': nan, 'model': 'AdaSTEM_Hurdle_SVC_SVR', 'task_type': 'hurdle', 'iter': 3, 'sp': 'Mallard', 'sample_size': 1000, 'training_time': 0.3403739929199219, 'predicting_time': 0.017216205596923828}\n"
     ]
    },
    {
     "name": "stderr",
     "output_type": "stream",
     "text": [
      "Generating Ensemble: 100%|██████████| 5/5 [00:00<00:00, 27.43it/s]\n",
      "training: 100%|██████████| 1180/1180 [00:00<00:00, 9659.94it/s]\n"
     ]
    },
    {
     "name": "stdout",
     "output_type": "stream",
     "text": [
      "{'AUC': 0.5, 'kappa': 0.0, 'f1': 0.0, 'precision': 0.0, 'recall': 0.0, 'average_precision': 0.205, 'Spearman_r': nan, 'Pearson_r': nan, 'R2': -0.06920289560797221, 'MAE': 4.23, 'MSE': 276.45, 'poisson_deviance_explained': nan, 'model': 'AdaSTEM_Hurdle_SVC_SVR', 'task_type': 'hurdle', 'iter': 4, 'sp': 'Mallard', 'sample_size': 1000, 'training_time': 0.3476238250732422, 'predicting_time': 0.017216205596923828}\n"
     ]
    },
    {
     "data": {
      "application/vnd.jupyter.widget-view+json": {
       "model_id": "0a34cfaae05f480095601317c68215ba",
       "version_major": 2,
       "version_minor": 0
      },
      "text/plain": [
       "AdaSTEM + Hurdle_Logistic_Linear:   0%|          | 0/5 [00:00<?, ?it/s]"
      ]
     },
     "metadata": {},
     "output_type": "display_data"
    },
    {
     "name": "stderr",
     "output_type": "stream",
     "text": [
      "Generating Ensemble: 100%|██████████| 5/5 [00:00<00:00, 18.50it/s]\n",
      "training: 100%|██████████| 1213/1213 [00:00<00:00, 9639.30it/s]\n"
     ]
    },
    {
     "name": "stdout",
     "output_type": "stream",
     "text": [
      "{'AUC': 0.5, 'kappa': 0.0, 'f1': 0.0, 'precision': 0.0, 'recall': 0.0, 'average_precision': 0.165, 'Spearman_r': nan, 'Pearson_r': nan, 'R2': -0.03706800603393301, 'MAE': 2.025, 'MSE': 114.725, 'poisson_deviance_explained': nan, 'model': 'AdaSTEM_Hurdle_Logistic_Linear', 'task_type': 'hurdle', 'iter': 0, 'sp': 'Mallard', 'sample_size': 1000, 'training_time': 0.439436674118042, 'predicting_time': 0.017216205596923828}\n"
     ]
    },
    {
     "name": "stderr",
     "output_type": "stream",
     "text": [
      "Generating Ensemble:  80%|████████  | 4/5 [00:00<00:00, 19.82it/s]\n",
      "Generating Ensemble: 100%|██████████| 5/5 [00:00<00:00, 26.16it/s]\n",
      "training: 100%|██████████| 1166/1166 [00:00<00:00, 9461.21it/s]\n"
     ]
    },
    {
     "name": "stdout",
     "output_type": "stream",
     "text": [
      "{'AUC': 0.5, 'kappa': 0.0, 'f1': 0.0, 'precision': 0.0, 'recall': 0.0, 'average_precision': 0.155, 'Spearman_r': nan, 'Pearson_r': nan, 'R2': -0.06496439224344774, 'MAE': 1.705, 'MSE': 47.655, 'poisson_deviance_explained': nan, 'model': 'AdaSTEM_Hurdle_Logistic_Linear', 'task_type': 'hurdle', 'iter': 1, 'sp': 'Mallard', 'sample_size': 1000, 'training_time': 0.35648202896118164, 'predicting_time': 0.017216205596923828}\n"
     ]
    },
    {
     "name": "stderr",
     "output_type": "stream",
     "text": [
      "Generating Ensemble: 100%|██████████| 5/5 [00:00<00:00, 22.28it/s]\n",
      "training: 100%|██████████| 1172/1172 [00:00<00:00, 9673.79it/s]\n"
     ]
    },
    {
     "name": "stdout",
     "output_type": "stream",
     "text": [
      "{'AUC': 0.5, 'kappa': 0.0, 'f1': 0.0, 'precision': 0.0, 'recall': 0.0, 'average_precision': 0.165, 'Spearman_r': nan, 'Pearson_r': nan, 'R2': -0.023765411003576542, 'MAE': 6.64, 'MSE': 1899.29, 'poisson_deviance_explained': nan, 'model': 'AdaSTEM_Hurdle_Logistic_Linear', 'task_type': 'hurdle', 'iter': 2, 'sp': 'Mallard', 'sample_size': 1000, 'training_time': 0.38605213165283203, 'predicting_time': 0.017216205596923828}\n"
     ]
    },
    {
     "name": "stderr",
     "output_type": "stream",
     "text": [
      "Generating Ensemble: 100%|██████████| 5/5 [00:00<00:00, 28.68it/s]\n",
      "training: 100%|██████████| 1207/1207 [00:00<00:00, 9860.07it/s] \n"
     ]
    },
    {
     "name": "stdout",
     "output_type": "stream",
     "text": [
      "{'AUC': 0.5, 'kappa': 0.0, 'f1': 0.0, 'precision': 0.0, 'recall': 0.0, 'average_precision': 0.155, 'Spearman_r': nan, 'Pearson_r': nan, 'R2': -0.02458410258839927, 'MAE': 4.105, 'MSE': 702.295, 'poisson_deviance_explained': nan, 'model': 'AdaSTEM_Hurdle_Logistic_Linear', 'task_type': 'hurdle', 'iter': 3, 'sp': 'Mallard', 'sample_size': 1000, 'training_time': 0.3379628658294678, 'predicting_time': 0.017216205596923828}\n"
     ]
    },
    {
     "name": "stderr",
     "output_type": "stream",
     "text": [
      "Generating Ensemble: 100%|██████████| 5/5 [00:00<00:00, 28.95it/s]\n",
      "training: 100%|██████████| 1207/1207 [00:00<00:00, 10106.09it/s]\n"
     ]
    },
    {
     "name": "stdout",
     "output_type": "stream",
     "text": [
      "{'AUC': 0.5, 'kappa': 0.0, 'f1': 0.0, 'precision': 0.0, 'recall': 0.0, 'average_precision': 0.205, 'Spearman_r': nan, 'Pearson_r': nan, 'R2': -0.06920289560797221, 'MAE': 4.23, 'MSE': 276.45, 'poisson_deviance_explained': nan, 'model': 'AdaSTEM_Hurdle_Logistic_Linear', 'task_type': 'hurdle', 'iter': 4, 'sp': 'Mallard', 'sample_size': 1000, 'training_time': 0.3334231376647949, 'predicting_time': 0.017216205596923828}\n"
     ]
    },
    {
     "data": {
      "application/vnd.jupyter.widget-view+json": {
       "model_id": "3934087455a04c2585197bef452b797e",
       "version_major": 2,
       "version_minor": 0
      },
      "text/plain": [
       "AdaSTEM + Hurdle_SGDClassifier_SGDRegressor:   0%|          | 0/5 [00:00<?, ?it/s]"
      ]
     },
     "metadata": {},
     "output_type": "display_data"
    },
    {
     "name": "stderr",
     "output_type": "stream",
     "text": [
      "Generating Ensemble:   0%|          | 0/5 [00:00<?, ?it/s]\n",
      "Generating Ensemble: 100%|██████████| 5/5 [00:00<00:00, 28.14it/s]\n",
      "training: 100%|██████████| 1200/1200 [00:00<00:00, 9848.73it/s] \n"
     ]
    },
    {
     "name": "stdout",
     "output_type": "stream",
     "text": [
      "{'AUC': 0.5, 'kappa': 0.0, 'f1': 0.0, 'precision': 0.0, 'recall': 0.0, 'average_precision': 0.165, 'Spearman_r': nan, 'Pearson_r': nan, 'R2': -0.03706800603393301, 'MAE': 2.025, 'MSE': 114.725, 'poisson_deviance_explained': nan, 'model': 'AdaSTEM_Hurdle_SGDClassifier_SGDRegressor', 'task_type': 'hurdle', 'iter': 0, 'sp': 'Mallard', 'sample_size': 1000, 'training_time': 0.34221601486206055, 'predicting_time': 0.017216205596923828}\n"
     ]
    },
    {
     "name": "stderr",
     "output_type": "stream",
     "text": [
      "Generating Ensemble: 100%|██████████| 5/5 [00:00<00:00, 27.43it/s]\n",
      "training: 100%|██████████| 1168/1168 [00:00<00:00, 9569.77it/s]\n"
     ]
    },
    {
     "name": "stdout",
     "output_type": "stream",
     "text": [
      "{'AUC': 0.5, 'kappa': 0.0, 'f1': 0.0, 'precision': 0.0, 'recall': 0.0, 'average_precision': 0.155, 'Spearman_r': nan, 'Pearson_r': nan, 'R2': -0.06496439224344774, 'MAE': 1.705, 'MSE': 47.655, 'poisson_deviance_explained': nan, 'model': 'AdaSTEM_Hurdle_SGDClassifier_SGDRegressor', 'task_type': 'hurdle', 'iter': 1, 'sp': 'Mallard', 'sample_size': 1000, 'training_time': 0.34859704971313477, 'predicting_time': 0.017216205596923828}\n"
     ]
    },
    {
     "name": "stderr",
     "output_type": "stream",
     "text": [
      "Generating Ensemble:  20%|██        | 1/5 [00:00<00:00, 13.41it/s]\n",
      "Generating Ensemble: 100%|██████████| 5/5 [00:00<00:00, 21.10it/s]\n",
      "training: 100%|██████████| 1214/1214 [00:00<00:00, 9432.07it/s]\n"
     ]
    },
    {
     "name": "stdout",
     "output_type": "stream",
     "text": [
      "{'AUC': 0.5, 'kappa': 0.0, 'f1': 0.0, 'precision': 0.0, 'recall': 0.0, 'average_precision': 0.165, 'Spearman_r': nan, 'Pearson_r': nan, 'R2': -0.023765411003576542, 'MAE': 6.64, 'MSE': 1899.29, 'poisson_deviance_explained': nan, 'model': 'AdaSTEM_Hurdle_SGDClassifier_SGDRegressor', 'task_type': 'hurdle', 'iter': 2, 'sp': 'Mallard', 'sample_size': 1000, 'training_time': 0.40903663635253906, 'predicting_time': 0.017216205596923828}\n"
     ]
    },
    {
     "name": "stderr",
     "output_type": "stream",
     "text": [
      "Generating Ensemble: 100%|██████████| 5/5 [00:00<00:00, 26.56it/s]\n",
      "training: 100%|██████████| 1136/1136 [00:00<00:00, 9444.87it/s]\n"
     ]
    },
    {
     "name": "stdout",
     "output_type": "stream",
     "text": [
      "{'AUC': 0.5, 'kappa': 0.0, 'f1': 0.0, 'precision': 0.0, 'recall': 0.0, 'average_precision': 0.155, 'Spearman_r': nan, 'Pearson_r': nan, 'R2': -0.02458410258839927, 'MAE': 4.105, 'MSE': 702.295, 'poisson_deviance_explained': nan, 'model': 'AdaSTEM_Hurdle_SGDClassifier_SGDRegressor', 'task_type': 'hurdle', 'iter': 3, 'sp': 'Mallard', 'sample_size': 1000, 'training_time': 0.349153995513916, 'predicting_time': 0.017216205596923828}\n"
     ]
    },
    {
     "name": "stderr",
     "output_type": "stream",
     "text": [
      "Generating Ensemble: 100%|██████████| 5/5 [00:00<00:00, 18.06it/s]\n",
      "training: 100%|██████████| 1243/1243 [00:00<00:00, 9330.50it/s]\n"
     ]
    },
    {
     "name": "stdout",
     "output_type": "stream",
     "text": [
      "{'AUC': 0.5, 'kappa': 0.0, 'f1': 0.0, 'precision': 0.0, 'recall': 0.0, 'average_precision': 0.205, 'Spearman_r': nan, 'Pearson_r': nan, 'R2': -0.06920289560797221, 'MAE': 4.23, 'MSE': 276.45, 'poisson_deviance_explained': nan, 'model': 'AdaSTEM_Hurdle_SGDClassifier_SGDRegressor', 'task_type': 'hurdle', 'iter': 4, 'sp': 'Mallard', 'sample_size': 1000, 'training_time': 0.4523739814758301, 'predicting_time': 0.017216205596923828}\n"
     ]
    }
   ],
   "source": [
    "K=5\n",
    "\n",
    "reg_metric_df_list = []\n",
    "for item in list(reg_model_set_dict.keys())[::-1]:\n",
    "    model_name = item\n",
    "    model = reg_model_set_dict[model_name]\n",
    "\n",
    "    kf = KFold(n_splits=K, shuffle=True, random_state=42).split(X, y)\n",
    "    for kf_count, (train_index, test_index) in tqdm(enumerate(kf), desc=f'AdaSTEM + {model_name}', total=K):\n",
    "        \n",
    "        try:\n",
    "            X_train = X.iloc[train_index].replace(-1,np.nan)\n",
    "            \n",
    "            new_x_names = list(set(x_names) - set(['DOY']))\n",
    "\n",
    "            imputer = SimpleImputer().fit(X_train[new_x_names])\n",
    "            X_train[new_x_names] = imputer.transform(X_train[new_x_names])\n",
    "            scaler = MinMaxScaler().fit(X_train[new_x_names])\n",
    "            X_train[new_x_names] = scaler.transform(X_train[new_x_names])\n",
    "\n",
    "            y_train = y[train_index]\n",
    "            X_test = X.iloc[test_index].replace(-1,np.nan)\n",
    "            X_test[new_x_names] = imputer.transform(X_test[new_x_names])\n",
    "            X_test[new_x_names] = scaler.transform(X_test[new_x_names])\n",
    "            y_test = y[test_index]\n",
    "\n",
    "            model = AdaSTEMClassifier(base_model=reg_model_set_dict[model_name], \n",
    "                                            sample_weights_for_classifier=True,\n",
    "                                            ensemble_fold=5,\n",
    "                                            min_ensemble_require=3,\n",
    "                                            grid_len_lon_upper_threshold=25,\n",
    "                                            grid_len_lon_lower_threshold=5,\n",
    "                                            grid_len_lat_upper_threshold=25,\n",
    "                                            grid_len_lat_lower_threshold=5,\n",
    "                                            points_lower_threshold=50,\n",
    "                                            stixel_training_size_threshold=50,\n",
    "                                            temporal_start = 1,\n",
    "                                            temporal_end = 367, \n",
    "                                            temporal_step = 30.5, \n",
    "                                            temporal_bin_interval = 30.5,\n",
    "                                            save_tmp=False, \n",
    "                                            save_gridding_plot=False)\n",
    "            \n",
    "            try:\n",
    "                start_time = time.time()\n",
    "                model.fit(X_train[new_x_names + ['DOY','longitude', 'latitude']], y_train)\n",
    "                finish_time = time.time()\n",
    "                training_time = finish_time - start_time\n",
    "                \n",
    "            except:\n",
    "                start_time = time.time()\n",
    "                model.set_params(**{'sample_weights_for_classifier':False})\n",
    "                model.fit(X_train[new_x_names + ['DOY','longitude', 'latitude']], y_train)\n",
    "                finish_time = time.time()\n",
    "                training_time = finish_time - start_time\n",
    "                \n",
    "            start_time = time.time()\n",
    "            y_pred = model.predict(X_test[new_x_names + ['DOY','longitude', 'latitude']])\n",
    "            y_pred = np.where(y_pred<0, 0, y_pred)\n",
    "            finish_time = time.time()\n",
    "            predicting_time_time = finish_time - start_time\n",
    "                \n",
    "            metric_df = AdaSTEM.eval_STEM_res('hurdle', y_test, np.array(y_pred).flatten())\n",
    "            \n",
    "            metric_df['model'] = 'AdaSTEM_' + model_name\n",
    "            metric_df['task_type'] = 'hurdle'\n",
    "            metric_df['iter'] = kf_count\n",
    "            metric_df['sp'] = sp\n",
    "            metric_df['sample_size'] = SAMPLE_SIZE\n",
    "            metric_df['training_time'] = training_time\n",
    "            metric_df['predicting_time'] = predicting_time\n",
    "            \n",
    "            reg_metric_df_list.append(metric_df)\n",
    "            print(metric_df)\n",
    "            \n",
    "        except Exception as e:\n",
    "            print(e)\n",
    "            continue\n",
    "\n",
    "\n",
    "    "
   ]
  },
  {
   "cell_type": "code",
   "execution_count": 18,
   "metadata": {},
   "outputs": [],
   "source": [
    "reg_metric_df = pd.DataFrame(reg_metric_df_list)\n",
    "reg_metric_df.to_csv(os.path.join(OUTPUT_DIR, f'Ada_hurdle_metric_df_SIZE_{SAMPLE_SIZE}_SP_{sp}_year_{year}.csv'),\n",
    "                                        index=False)\n"
   ]
  },
  {
   "cell_type": "code",
   "execution_count": 19,
   "metadata": {},
   "outputs": [],
   "source": [
    "all_metrics = pd.concat([\n",
    "    pd.read_csv(os.path.join(OUTPUT_DIR, f'cls_metric_df_SIZE_{SAMPLE_SIZE}_SP_{sp}_year_{year}.csv')),\n",
    "    pd.read_csv(os.path.join(OUTPUT_DIR, f'Ada_cls_metric_df_SIZE_{SAMPLE_SIZE}_SP_{sp}_year_{year}.csv')),\n",
    "    pd.read_csv(os.path.join(OUTPUT_DIR, f'hurdle_metric_df_SIZE_{SAMPLE_SIZE}_SP_{sp}_year_{year}.csv')),\n",
    "    pd.read_csv(os.path.join(OUTPUT_DIR, f'Ada_hurdle_metric_df_SIZE_{SAMPLE_SIZE}_SP_{sp}_year_{year}.csv')),\n",
    "], axis=0)\n"
   ]
  },
  {
   "cell_type": "code",
   "execution_count": 20,
   "metadata": {},
   "outputs": [],
   "source": [
    "all_metrics.to_csv(os.path.join(OUTPUT_DIR, f'ALL_metric_df_SIZE_{SAMPLE_SIZE}_SP_{sp}_year_{year}.csv'))\n",
    "\n"
   ]
  },
  {
   "cell_type": "code",
   "execution_count": null,
   "metadata": {},
   "outputs": [],
   "source": [
    "\n"
   ]
  },
  {
   "cell_type": "code",
   "execution_count": null,
   "metadata": {},
   "outputs": [],
   "source": []
  },
  {
   "cell_type": "code",
   "execution_count": null,
   "metadata": {},
   "outputs": [],
   "source": []
  },
  {
   "cell_type": "code",
   "execution_count": null,
   "metadata": {},
   "outputs": [],
   "source": []
  }
 ],
 "metadata": {
  "kernelspec": {
   "display_name": "base",
   "language": "python",
   "name": "python3"
  },
  "language_info": {
   "codemirror_mode": {
    "name": "ipython",
    "version": 3
   },
   "file_extension": ".py",
   "mimetype": "text/x-python",
   "name": "python",
   "nbconvert_exporter": "python",
   "pygments_lexer": "ipython3",
   "version": "3.9.7"
  },
  "orig_nbformat": 4
 },
 "nbformat": 4,
 "nbformat_minor": 2
}
