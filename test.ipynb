{
 "cells": [
  {
   "cell_type": "code",
   "execution_count": 1,
   "metadata": {},
   "outputs": [],
   "source": [
    "import pandas as pd\n",
    "import numpy as np\n",
    "import random\n",
    "from tqdm.auto import tqdm\n",
    "import matplotlib.pyplot as plt\n",
    "import warnings\n",
    "warnings.filterwarnings('ignore')"
   ]
  },
  {
   "cell_type": "code",
   "execution_count": 2,
   "metadata": {},
   "outputs": [],
   "source": [
    "%load_ext autoreload\n",
    "%autoreload 2"
   ]
  },
  {
   "cell_type": "code",
   "execution_count": 3,
   "metadata": {},
   "outputs": [],
   "source": [
    "\n",
    "from BirdSTEM.dataset.generate_random_samples import generate_fake_dataset, make_sample_gif\n"
   ]
  },
  {
   "cell_type": "code",
   "execution_count": 4,
   "metadata": {},
   "outputs": [
    {
     "name": "stdout",
     "output_type": "stream",
     "text": [
      "Positive count:  28884 \n",
      "Zero count: 137134\n"
     ]
    }
   ],
   "source": [
    "data = generate_fake_dataset()"
   ]
  },
  {
   "cell_type": "code",
   "execution_count": 5,
   "metadata": {},
   "outputs": [
    {
     "data": {
      "text/plain": [
       "<Axes: >"
      ]
     },
     "execution_count": 5,
     "metadata": {},
     "output_type": "execute_result"
    },
    {
     "data": {
      "image/png": "[encoded data removed]",
      "text/plain": [
       "<Figure size 640x480 with 1 Axes>"
      ]
     },
     "metadata": {},
     "output_type": "display_data"
    }
   ],
   "source": [
    "data.abundance.hist(bins=10)"
   ]
  },
  {
   "cell_type": "code",
   "execution_count": 6,
   "metadata": {},
   "outputs": [
    {
     "name": "stdout",
     "output_type": "stream",
     "text": [
      "0.0.0.0.0.1.2.3.4.5.6.7.8.9.10.11.12.13.14.15.16.17.18.19.20.21.22.23.24.25.26.27.28.29.30.31.32.33.34.35.36.37.38.39.40.41.42.43.44.45."
     ]
    },
    {
     "name": "stderr",
     "output_type": "stream",
     "text": [
      "Exception ignored in: <function WeakMethod.__new__.<locals>._cb at 0x146529820>\n",
      "Traceback (most recent call last):\n",
      "  File \"/Users/chenyangkang/miniforge3/lib/python3.9/weakref.py\", line 61, in _cb\n",
      "    callback(self)\n",
      "  File \"/Users/chenyangkang/miniforge3/lib/python3.9/site-packages/matplotlib/cbook/__init__.py\", line 254, in _remove_proxy\n",
      "    del self.callbacks[signal][cid]\n",
      "KeyError: 'changed'\n",
      "Exception ignored in: <function WeakMethod.__new__.<locals>._cb at 0x14534c3a0>\n",
      "Traceback (most recent call last):\n",
      "  File \"/Users/chenyangkang/miniforge3/lib/python3.9/weakref.py\", line 61, in _cb\n",
      "    callback(self)\n",
      "  File \"/Users/chenyangkang/miniforge3/lib/python3.9/site-packages/matplotlib/cbook/__init__.py\", line 254, in _remove_proxy\n",
      "    del self.callbacks[signal][cid]\n",
      "KeyError: 'changed'\n",
      "Exception ignored in: <function WeakMethod.__new__.<locals>._cb at 0x146529280>\n",
      "Traceback (most recent call last):\n",
      "  File \"/Users/chenyangkang/miniforge3/lib/python3.9/weakref.py\", line 61, in _cb\n",
      "    callback(self)\n",
      "  File \"/Users/chenyangkang/miniforge3/lib/python3.9/site-packages/matplotlib/cbook/__init__.py\", line 254, in _remove_proxy\n",
      "    del self.callbacks[signal][cid]\n",
      "KeyError: 'changed'\n",
      "Exception ignored in: <function WeakMethod.__new__.<locals>._cb at 0x146529310>\n",
      "Traceback (most recent call last):\n",
      "  File \"/Users/chenyangkang/miniforge3/lib/python3.9/weakref.py\", line 61, in _cb\n",
      "    callback(self)\n",
      "  File \"/Users/chenyangkang/miniforge3/lib/python3.9/site-packages/matplotlib/cbook/__init__.py\", line 254, in _remove_proxy\n",
      "    del self.callbacks[signal][cid]\n",
      "KeyError: 'changed'\n",
      "Exception ignored in: <function WeakMethod.__new__.<locals>._cb at 0x145360280>\n",
      "Traceback (most recent call last):\n",
      "  File \"/Users/chenyangkang/miniforge3/lib/python3.9/weakref.py\", line 61, in _cb\n",
      "    callback(self)\n",
      "  File \"/Users/chenyangkang/miniforge3/lib/python3.9/site-packages/matplotlib/cbook/__init__.py\", line 254, in _remove_proxy\n",
      "    del self.callbacks[signal][cid]\n",
      "KeyError: 'changed'\n",
      "Exception ignored in: <function WeakMethod.__new__.<locals>._cb at 0x14653f5e0>\n",
      "Traceback (most recent call last):\n",
      "  File \"/Users/chenyangkang/miniforge3/lib/python3.9/weakref.py\", line 61, in _cb\n",
      "    callback(self)\n",
      "  File \"/Users/chenyangkang/miniforge3/lib/python3.9/site-packages/matplotlib/cbook/__init__.py\", line 254, in _remove_proxy\n",
      "    del self.callbacks[signal][cid]\n",
      "KeyError: 'changed'\n",
      "Exception ignored in: <function WeakMethod.__new__.<locals>._cb at 0x146538940>\n",
      "Traceback (most recent call last):\n",
      "  File \"/Users/chenyangkang/miniforge3/lib/python3.9/weakref.py\", line 61, in _cb\n",
      "    callback(self)\n",
      "  File \"/Users/chenyangkang/miniforge3/lib/python3.9/site-packages/matplotlib/cbook/__init__.py\", line 254, in _remove_proxy\n",
      "    del self.callbacks[signal][cid]\n",
      "KeyError: 'changed'\n",
      "Exception ignored in: <function WeakMethod.__new__.<locals>._cb at 0x146538430>\n",
      "Traceback (most recent call last):\n",
      "  File \"/Users/chenyangkang/miniforge3/lib/python3.9/weakref.py\", line 61, in _cb\n",
      "    callback(self)\n",
      "  File \"/Users/chenyangkang/miniforge3/lib/python3.9/site-packages/matplotlib/cbook/__init__.py\", line 254, in _remove_proxy\n",
      "    del self.callbacks[signal][cid]\n",
      "KeyError: 'changed'\n",
      "Exception ignored in: <function WeakMethod.__new__.<locals>._cb at 0x14653f1f0>\n",
      "Traceback (most recent call last):\n",
      "  File \"/Users/chenyangkang/miniforge3/lib/python3.9/weakref.py\", line 61, in _cb\n",
      "    callback(self)\n",
      "  File \"/Users/chenyangkang/miniforge3/lib/python3.9/site-packages/matplotlib/cbook/__init__.py\", line 254, in _remove_proxy\n",
      "    del self.callbacks[signal][cid]\n",
      "KeyError: 'changed'\n",
      "Exception ignored in: <function WeakMethod.__new__.<locals>._cb at 0x14557aee0>\n",
      "Traceback (most recent call last):\n",
      "  File \"/Users/chenyangkang/miniforge3/lib/python3.9/weakref.py\", line 61, in _cb\n",
      "    callback(self)\n",
      "  File \"/Users/chenyangkang/miniforge3/lib/python3.9/site-packages/matplotlib/cbook/__init__.py\", line 254, in _remove_proxy\n",
      "    del self.callbacks[signal][cid]\n",
      "KeyError: 'changed'\n",
      "Exception ignored in: <function WeakMethod.__new__.<locals>._cb at 0x146538550>\n",
      "Traceback (most recent call last):\n",
      "  File \"/Users/chenyangkang/miniforge3/lib/python3.9/weakref.py\", line 61, in _cb\n",
      "    callback(self)\n",
      "  File \"/Users/chenyangkang/miniforge3/lib/python3.9/site-packages/matplotlib/cbook/__init__.py\", line 254, in _remove_proxy\n",
      "    del self.callbacks[signal][cid]\n",
      "KeyError: 'changed'\n",
      "Exception ignored in: <function WeakMethod.__new__.<locals>._cb at 0x1465294c0>\n",
      "Traceback (most recent call last):\n",
      "  File \"/Users/chenyangkang/miniforge3/lib/python3.9/weakref.py\", line 61, in _cb\n",
      "    callback(self)\n",
      "  File \"/Users/chenyangkang/miniforge3/lib/python3.9/site-packages/matplotlib/cbook/__init__.py\", line 254, in _remove_proxy\n",
      "    del self.callbacks[signal][cid]\n",
      "KeyError: 'changed'\n",
      "Exception ignored in: <function WeakMethod.__new__.<locals>._cb at 0x1455198b0>\n",
      "Traceback (most recent call last):\n",
      "  File \"/Users/chenyangkang/miniforge3/lib/python3.9/weakref.py\", line 61, in _cb\n",
      "    callback(self)\n",
      "  File \"/Users/chenyangkang/miniforge3/lib/python3.9/site-packages/matplotlib/cbook/__init__.py\", line 254, in _remove_proxy\n",
      "    del self.callbacks[signal][cid]\n",
      "KeyError: 'changed'\n",
      "Exception ignored in: <function WeakMethod.__new__.<locals>._cb at 0x14557ab80>\n",
      "Traceback (most recent call last):\n",
      "  File \"/Users/chenyangkang/miniforge3/lib/python3.9/weakref.py\", line 61, in _cb\n",
      "    callback(self)\n",
      "  File \"/Users/chenyangkang/miniforge3/lib/python3.9/site-packages/matplotlib/cbook/__init__.py\", line 254, in _remove_proxy\n",
      "    del self.callbacks[signal][cid]\n",
      "KeyError: 'changed'\n",
      "Exception ignored in: <function WeakMethod.__new__.<locals>._cb at 0x14557a3a0>\n",
      "Traceback (most recent call last):\n",
      "  File \"/Users/chenyangkang/miniforge3/lib/python3.9/weakref.py\", line 61, in _cb\n",
      "    callback(self)\n",
      "  File \"/Users/chenyangkang/miniforge3/lib/python3.9/site-packages/matplotlib/cbook/__init__.py\", line 254, in _remove_proxy\n",
      "    del self.callbacks[signal][cid]\n",
      "KeyError: 'changed'\n",
      "Exception ignored in: <function WeakMethod.__new__.<locals>._cb at 0x14559e5e0>\n",
      "Traceback (most recent call last):\n",
      "  File \"/Users/chenyangkang/miniforge3/lib/python3.9/weakref.py\", line 61, in _cb\n",
      "    callback(self)\n",
      "  File \"/Users/chenyangkang/miniforge3/lib/python3.9/site-packages/matplotlib/cbook/__init__.py\", line 254, in _remove_proxy\n",
      "    del self.callbacks[signal][cid]\n",
      "KeyError: 'changed'\n",
      "Exception ignored in: <function WeakMethod.__new__.<locals>._cb at 0x14651bf70>\n",
      "Traceback (most recent call last):\n",
      "  File \"/Users/chenyangkang/miniforge3/lib/python3.9/weakref.py\", line 61, in _cb\n",
      "    callback(self)\n",
      "  File \"/Users/chenyangkang/miniforge3/lib/python3.9/site-packages/matplotlib/cbook/__init__.py\", line 254, in _remove_proxy\n",
      "    del self.callbacks[signal][cid]\n",
      "KeyError: 'changed'\n",
      "Exception ignored in: <function WeakMethod.__new__.<locals>._cb at 0x14557af70>\n",
      "Traceback (most recent call last):\n",
      "  File \"/Users/chenyangkang/miniforge3/lib/python3.9/weakref.py\", line 61, in _cb\n",
      "    callback(self)\n",
      "  File \"/Users/chenyangkang/miniforge3/lib/python3.9/site-packages/matplotlib/cbook/__init__.py\", line 254, in _remove_proxy\n",
      "    del self.callbacks[signal][cid]\n",
      "KeyError: 'changed'\n",
      "Exception ignored in: <function WeakMethod.__new__.<locals>._cb at 0x1457238b0>\n",
      "Traceback (most recent call last):\n",
      "  File \"/Users/chenyangkang/miniforge3/lib/python3.9/weakref.py\", line 61, in _cb\n",
      "    callback(self)\n",
      "  File \"/Users/chenyangkang/miniforge3/lib/python3.9/site-packages/matplotlib/cbook/__init__.py\", line 254, in _remove_proxy\n",
      "    del self.callbacks[signal][cid]\n",
      "KeyError: 'changed'\n",
      "Exception ignored in: <function WeakMethod.__new__.<locals>._cb at 0x146529040>\n",
      "Traceback (most recent call last):\n",
      "  File \"/Users/chenyangkang/miniforge3/lib/python3.9/weakref.py\", line 61, in _cb\n",
      "    callback(self)\n",
      "  File \"/Users/chenyangkang/miniforge3/lib/python3.9/site-packages/matplotlib/cbook/__init__.py\", line 254, in _remove_proxy\n",
      "    del self.callbacks[signal][cid]\n",
      "KeyError: 'changed'\n",
      "Exception ignored in: <function WeakMethod.__new__.<locals>._cb at 0x145573af0>\n",
      "Traceback (most recent call last):\n",
      "  File \"/Users/chenyangkang/miniforge3/lib/python3.9/weakref.py\", line 61, in _cb\n",
      "    callback(self)\n",
      "  File \"/Users/chenyangkang/miniforge3/lib/python3.9/site-packages/matplotlib/cbook/__init__.py\", line 254, in _remove_proxy\n",
      "    del self.callbacks[signal][cid]\n",
      "KeyError: 'changed'\n",
      "Exception ignored in: <function WeakMethod.__new__.<locals>._cb at 0x145723550>\n",
      "Traceback (most recent call last):\n",
      "  File \"/Users/chenyangkang/miniforge3/lib/python3.9/weakref.py\", line 61, in _cb\n",
      "    callback(self)\n",
      "  File \"/Users/chenyangkang/miniforge3/lib/python3.9/site-packages/matplotlib/cbook/__init__.py\", line 254, in _remove_proxy\n",
      "    del self.callbacks[signal][cid]\n",
      "KeyError: 'changed'\n",
      "Exception ignored in: <function WeakMethod.__new__.<locals>._cb at 0x1457220d0>\n",
      "Traceback (most recent call last):\n",
      "  File \"/Users/chenyangkang/miniforge3/lib/python3.9/weakref.py\", line 61, in _cb\n",
      "    callback(self)\n",
      "  File \"/Users/chenyangkang/miniforge3/lib/python3.9/site-packages/matplotlib/cbook/__init__.py\", line 254, in _remove_proxy\n",
      "    del self.callbacks[signal][cid]\n",
      "KeyError: 'changed'\n",
      "Exception ignored in: <function WeakMethod.__new__.<locals>._cb at 0x145723310>\n",
      "Traceback (most recent call last):\n",
      "  File \"/Users/chenyangkang/miniforge3/lib/python3.9/weakref.py\", line 61, in _cb\n",
      "    callback(self)\n",
      "  File \"/Users/chenyangkang/miniforge3/lib/python3.9/site-packages/matplotlib/cbook/__init__.py\", line 254, in _remove_proxy\n",
      "    del self.callbacks[signal][cid]\n",
      "KeyError: 'changed'\n",
      "Exception ignored in: <function WeakMethod.__new__.<locals>._cb at 0x14651b550>\n",
      "Traceback (most recent call last):\n",
      "  File \"/Users/chenyangkang/miniforge3/lib/python3.9/weakref.py\", line 61, in _cb\n",
      "    callback(self)\n",
      "  File \"/Users/chenyangkang/miniforge3/lib/python3.9/site-packages/matplotlib/cbook/__init__.py\", line 254, in _remove_proxy\n",
      "    del self.callbacks[signal][cid]\n",
      "KeyError: 'changed'\n",
      "Exception ignored in: <function WeakMethod.__new__.<locals>._cb at 0x145722f70>\n",
      "Traceback (most recent call last):\n",
      "  File \"/Users/chenyangkang/miniforge3/lib/python3.9/weakref.py\", line 61, in _cb\n",
      "    callback(self)\n",
      "  File \"/Users/chenyangkang/miniforge3/lib/python3.9/site-packages/matplotlib/cbook/__init__.py\", line 254, in _remove_proxy\n",
      "    del self.callbacks[signal][cid]\n",
      "KeyError: 'changed'\n",
      "Exception ignored in: <function WeakMethod.__new__.<locals>._cb at 0x14651bb80>\n",
      "Traceback (most recent call last):\n",
      "  File \"/Users/chenyangkang/miniforge3/lib/python3.9/weakref.py\", line 61, in _cb\n",
      "    callback(self)\n",
      "  File \"/Users/chenyangkang/miniforge3/lib/python3.9/site-packages/matplotlib/cbook/__init__.py\", line 254, in _remove_proxy\n",
      "    del self.callbacks[signal][cid]\n",
      "KeyError: 'changed'\n",
      "Exception ignored in: <function WeakMethod.__new__.<locals>._cb at 0x14557a550>\n",
      "Traceback (most recent call last):\n",
      "  File \"/Users/chenyangkang/miniforge3/lib/python3.9/weakref.py\", line 61, in _cb\n",
      "    callback(self)\n",
      "  File \"/Users/chenyangkang/miniforge3/lib/python3.9/site-packages/matplotlib/cbook/__init__.py\", line 254, in _remove_proxy\n",
      "    del self.callbacks[signal][cid]\n",
      "KeyError: 'changed'\n",
      "Exception ignored in: <function WeakMethod.__new__.<locals>._cb at 0x145573f70>\n",
      "Traceback (most recent call last):\n",
      "  File \"/Users/chenyangkang/miniforge3/lib/python3.9/weakref.py\", line 61, in _cb\n",
      "    callback(self)\n",
      "  File \"/Users/chenyangkang/miniforge3/lib/python3.9/site-packages/matplotlib/cbook/__init__.py\", line 254, in _remove_proxy\n",
      "    del self.callbacks[signal][cid]\n",
      "KeyError: 'changed'\n",
      "Exception ignored in: <function WeakMethod.__new__.<locals>._cb at 0x14653f8b0>\n",
      "Traceback (most recent call last):\n",
      "  File \"/Users/chenyangkang/miniforge3/lib/python3.9/weakref.py\", line 61, in _cb\n",
      "    callback(self)\n",
      "  File \"/Users/chenyangkang/miniforge3/lib/python3.9/site-packages/matplotlib/cbook/__init__.py\", line 254, in _remove_proxy\n",
      "    del self.callbacks[signal][cid]\n",
      "KeyError: 'changed'\n",
      "Exception ignored in: <function WeakMethod.__new__.<locals>._cb at 0x14575f430>\n",
      "Traceback (most recent call last):\n",
      "  File \"/Users/chenyangkang/miniforge3/lib/python3.9/weakref.py\", line 61, in _cb\n",
      "    callback(self)\n",
      "  File \"/Users/chenyangkang/miniforge3/lib/python3.9/site-packages/matplotlib/cbook/__init__.py\", line 254, in _remove_proxy\n",
      "    del self.callbacks[signal][cid]\n",
      "KeyError: 'changed'\n",
      "Exception ignored in: <function WeakMethod.__new__.<locals>._cb at 0x145360040>\n",
      "Traceback (most recent call last):\n",
      "  File \"/Users/chenyangkang/miniforge3/lib/python3.9/weakref.py\", line 61, in _cb\n",
      "    callback(self)\n",
      "  File \"/Users/chenyangkang/miniforge3/lib/python3.9/site-packages/matplotlib/cbook/__init__.py\", line 254, in _remove_proxy\n",
      "    del self.callbacks[signal][cid]\n",
      "KeyError: 'changed'\n",
      "Exception ignored in: <function WeakMethod.__new__.<locals>._cb at 0x14559e4c0>\n",
      "Traceback (most recent call last):\n",
      "  File \"/Users/chenyangkang/miniforge3/lib/python3.9/weakref.py\", line 61, in _cb\n",
      "    callback(self)\n",
      "  File \"/Users/chenyangkang/miniforge3/lib/python3.9/site-packages/matplotlib/cbook/__init__.py\", line 254, in _remove_proxy\n",
      "    del self.callbacks[signal][cid]\n",
      "KeyError: 'changed'\n",
      "Exception ignored in: <function WeakMethod.__new__.<locals>._cb at 0x1455bdb80>\n",
      "Traceback (most recent call last):\n",
      "  File \"/Users/chenyangkang/miniforge3/lib/python3.9/weakref.py\", line 61, in _cb\n",
      "    callback(self)\n",
      "  File \"/Users/chenyangkang/miniforge3/lib/python3.9/site-packages/matplotlib/cbook/__init__.py\", line 254, in _remove_proxy\n",
      "    del self.callbacks[signal][cid]\n",
      "KeyError: 'changed'\n",
      "Exception ignored in: <function WeakMethod.__new__.<locals>._cb at 0x1455f2ee0>\n",
      "Traceback (most recent call last):\n",
      "  File \"/Users/chenyangkang/miniforge3/lib/python3.9/weakref.py\", line 61, in _cb\n",
      "    callback(self)\n",
      "  File \"/Users/chenyangkang/miniforge3/lib/python3.9/site-packages/matplotlib/cbook/__init__.py\", line 254, in _remove_proxy\n",
      "    del self.callbacks[signal][cid]\n",
      "KeyError: 'changed'\n",
      "Exception ignored in: <function WeakMethod.__new__.<locals>._cb at 0x14576b4c0>\n",
      "Traceback (most recent call last):\n",
      "  File \"/Users/chenyangkang/miniforge3/lib/python3.9/weakref.py\", line 61, in _cb\n",
      "    callback(self)\n",
      "  File \"/Users/chenyangkang/miniforge3/lib/python3.9/site-packages/matplotlib/cbook/__init__.py\", line 254, in _remove_proxy\n",
      "    del self.callbacks[signal][cid]\n",
      "KeyError: 'changed'\n",
      "Exception ignored in: <function WeakMethod.__new__.<locals>._cb at 0x14579e310>\n",
      "Traceback (most recent call last):\n",
      "  File \"/Users/chenyangkang/miniforge3/lib/python3.9/weakref.py\", line 61, in _cb\n",
      "    callback(self)\n",
      "  File \"/Users/chenyangkang/miniforge3/lib/python3.9/site-packages/matplotlib/cbook/__init__.py\", line 254, in _remove_proxy\n",
      "    del self.callbacks[signal][cid]\n",
      "KeyError: 'changed'\n",
      "Exception ignored in: <function WeakMethod.__new__.<locals>._cb at 0x14559ef70>\n",
      "Traceback (most recent call last):\n",
      "  File \"/Users/chenyangkang/miniforge3/lib/python3.9/weakref.py\", line 61, in _cb\n",
      "    callback(self)\n",
      "  File \"/Users/chenyangkang/miniforge3/lib/python3.9/site-packages/matplotlib/cbook/__init__.py\", line 254, in _remove_proxy\n",
      "    del self.callbacks[signal][cid]\n",
      "KeyError: 'changed'\n",
      "Exception ignored in: <function WeakMethod.__new__.<locals>._cb at 0x145723040>\n",
      "Traceback (most recent call last):\n",
      "  File \"/Users/chenyangkang/miniforge3/lib/python3.9/weakref.py\", line 61, in _cb\n",
      "    callback(self)\n",
      "  File \"/Users/chenyangkang/miniforge3/lib/python3.9/site-packages/matplotlib/cbook/__init__.py\", line 254, in _remove_proxy\n",
      "    del self.callbacks[signal][cid]\n",
      "KeyError: 'changed'\n",
      "Exception ignored in: <function WeakMethod.__new__.<locals>._cb at 0x145723700>\n",
      "Traceback (most recent call last):\n",
      "  File \"/Users/chenyangkang/miniforge3/lib/python3.9/weakref.py\", line 61, in _cb\n",
      "    callback(self)\n",
      "  File \"/Users/chenyangkang/miniforge3/lib/python3.9/site-packages/matplotlib/cbook/__init__.py\", line 254, in _remove_proxy\n",
      "    del self.callbacks[signal][cid]\n",
      "KeyError: 'changed'\n",
      "Exception ignored in: <function WeakMethod.__new__.<locals>._cb at 0x145722670>\n",
      "Traceback (most recent call last):\n",
      "  File \"/Users/chenyangkang/miniforge3/lib/python3.9/weakref.py\", line 61, in _cb\n",
      "    callback(self)\n",
      "  File \"/Users/chenyangkang/miniforge3/lib/python3.9/site-packages/matplotlib/cbook/__init__.py\", line 254, in _remove_proxy\n",
      "    del self.callbacks[signal][cid]\n",
      "KeyError: 'changed'\n"
     ]
    },
    {
     "name": "stdout",
     "output_type": "stream",
     "text": [
      "46.47.48.49.50.51.52.53.54.55.56.57.58.59.60.61.62.63.64.65.66.67.68.69.70.71.72.73.74.75.76.77.78.79.80.81.82.83.84.85.86.87.88.89.90.91.92.93.94.95.96.97.98.99.100.101.102.103.104.105.106.107.108.109.110.111.112.113.114.115.116.117.118.119.120.121.122.123.124.125.126.127.128.129.130.131.132.133.134.135."
     ]
    },
    {
     "name": "stderr",
     "output_type": "stream",
     "text": [
      "Exception ignored in: <function WeakMethod.__new__.<locals>._cb at 0x145519a60>\n",
      "Traceback (most recent call last):\n",
      "  File \"/Users/chenyangkang/miniforge3/lib/python3.9/weakref.py\", line 61, in _cb\n",
      "    callback(self)\n",
      "  File \"/Users/chenyangkang/miniforge3/lib/python3.9/site-packages/matplotlib/cbook/__init__.py\", line 254, in _remove_proxy\n",
      "    del self.callbacks[signal][cid]\n",
      "KeyError: 'changed'\n"
     ]
    },
    {
     "name": "stdout",
     "output_type": "stream",
     "text": [
      "136.137.138.139.140.141.142.143.144.145.146.147.148.149.150.151.152.153.154.155.156.157.158.159.160.161.162.163.164.165.166.167.168.169.170.171.172.173.174.175.176.177.178.179.180.181.182.183.184.185.186.187.188.189.190.191.192.193.194.195.196.197.198.199.200.201.202.203.204.205.206.207.208."
     ]
    },
    {
     "name": "stderr",
     "output_type": "stream",
     "text": [
      "Exception ignored in: <function WeakMethod.__new__.<locals>._cb at 0x145722040>\n",
      "Traceback (most recent call last):\n",
      "  File \"/Users/chenyangkang/miniforge3/lib/python3.9/weakref.py\", line 61, in _cb\n",
      "    callback(self)\n",
      "  File \"/Users/chenyangkang/miniforge3/lib/python3.9/site-packages/matplotlib/cbook/__init__.py\", line 254, in _remove_proxy\n",
      "    del self.callbacks[signal][cid]\n",
      "KeyError: 'changed'\n",
      "Exception ignored in: <function WeakMethod.__new__.<locals>._cb at 0x14579e820>\n",
      "Traceback (most recent call last):\n",
      "  File \"/Users/chenyangkang/miniforge3/lib/python3.9/weakref.py\", line 61, in _cb\n",
      "    callback(self)\n",
      "  File \"/Users/chenyangkang/miniforge3/lib/python3.9/site-packages/matplotlib/cbook/__init__.py\", line 254, in _remove_proxy\n",
      "    del self.callbacks[signal][cid]\n",
      "KeyError: 'changed'\n"
     ]
    },
    {
     "name": "stdout",
     "output_type": "stream",
     "text": [
      "209.210.211.212.213.214.215.216.217.218.219.220.221.222.223.224.225.226.227.228.229.230.231.232.233.234.235.236.237.238.239.240.241.242.243.244.245.246.247.248.249.250.251.252.253.254.255.256.257.258.259.260.261.262.263.264.265.266.267.268.269.270.271.272.273.274.275.276.277.278.279.280.281.282.283.284.285.286.287.288.289.290.291.292.293.294.295.296.297.298.299.300.301.302.303.304.305.306.307.308.309.310.311.312.313.314.315.316.317.318.319.320.321.322.323.324.325.326.327.328.329.330.331.332.333.334.335.336.337.338.339.340.341.342.343.344.345.346.347.348.349.350.351.352.353.354.355.356.357.358.359.360.361.362.363.364.365.\n",
      "Finish!\n"
     ]
    },
    {
     "data": {
      "image/png": "[encoded data removed]",
      "text/plain": [
       "<Figure size 640x480 with 2 Axes>"
      ]
     },
     "metadata": {},
     "output_type": "display_data"
    }
   ],
   "source": [
    "make_sample_gif(data ,'./Sample.gif')\n"
   ]
  },
  {
   "cell_type": "code",
   "execution_count": null,
   "metadata": {},
   "outputs": [],
   "source": []
  },
  {
   "cell_type": "markdown",
   "metadata": {},
   "source": [
    "# Test QuadTree"
   ]
  },
  {
   "cell_type": "code",
   "execution_count": 7,
   "metadata": {},
   "outputs": [],
   "source": [
    "from BirdSTEM.utils.quadtree import QTree, get_ensemble_quadtree, generate_temporal_bins"
   ]
  },
  {
   "cell_type": "code",
   "execution_count": 8,
   "metadata": {},
   "outputs": [
    {
     "name": "stderr",
     "output_type": "stream",
     "text": [
      "Generating Ensemble: 100%|██████████| 5/5 [00:15<00:00,  3.09s/it]\n"
     ]
    },
    {
     "name": "stdout",
     "output_type": "stream",
     "text": [
      "Saved! ./test_ensemble_df.csv\n"
     ]
    }
   ],
   "source": [
    "ensemble_df = get_ensemble_quadtree(data,size=5,\n",
    "                            grid_len_long_upper_threshold=25, grid_len_long_lower_threshold=5,\n",
    "                            grid_len_lat_upper_threshold=25, grid_len_lat_lower_threshold=5,\n",
    "                            points_lower_threshold=50,\n",
    "                            temporal_start = 1, temporal_end=366, temporal_step=20, \n",
    "                            temporal_bin_interval = 50,\n",
    "                            save_path='./test_ensemble_df.csv')\n"
   ]
  },
  {
   "cell_type": "markdown",
   "metadata": {},
   "source": [
    "# Test model"
   ]
  },
  {
   "cell_type": "code",
   "execution_count": 9,
   "metadata": {},
   "outputs": [],
   "source": [
    "from BirdSTEM.model.AdaSTEMClassifier import AdaSTEMClassifier\n",
    "from sklearn.tree import DecisionTreeClassifier\n"
   ]
  },
  {
   "cell_type": "code",
   "execution_count": 10,
   "metadata": {},
   "outputs": [],
   "source": [
    "X = data[['sampling_event_identifier','DOY','longitude','latitude','trait1','trait2','trait3']]\n",
    "y = data[['abundance']]\n",
    "\n",
    "from sklearn.model_selection import train_test_split\n",
    "X_train, X_test, y_train, y_test = train_test_split(X, y, random_state=42, test_size=0.3,\n",
    "                                                    stratify = np.where(y>0, 1, 0), shuffle=True)\n"
   ]
  },
  {
   "cell_type": "code",
   "execution_count": 11,
   "metadata": {},
   "outputs": [],
   "source": [
    "base_model = DecisionTreeClassifier(random_state=42)\n",
    "model = AdaSTEMClassifier(base_model=base_model,\n",
    "                          ensemble_fold=2,\n",
    "                          min_ensemble_require= 1,\n",
    "                          grid_len_long_upper_threshold=50,\n",
    "                            grid_len_long_lower_threshold=10,\n",
    "                            grid_len_lat_upper_threshold=50,\n",
    "                            grid_len_lat_lower_threshold=10,\n",
    "                            points_lower_threshold=100,\n",
    "                            temporal_start = 1, temporal_end=366, temporal_step=20, temporal_bin_interval = 50,\n",
    "                            stixel_training_size_threshold = 10,\n",
    "                            save_tmp = True,\n",
    "                            save_dir='./')\n",
    "\n"
   ]
  },
  {
   "cell_type": "code",
   "execution_count": 12,
   "metadata": {},
   "outputs": [
    {
     "name": "stderr",
     "output_type": "stream",
     "text": [
      "Generating Ensemble:   0%|          | 0/2 [00:00<?, ?it/s]"
     ]
    },
    {
     "name": "stderr",
     "output_type": "stream",
     "text": [
      "Generating Ensemble: 100%|██████████| 2/2 [00:02<00:00,  1.36s/it]\n"
     ]
    },
    {
     "name": "stdout",
     "output_type": "stream",
     "text": [
      "Saved! ./ensemble_quadtree_df.csv\n"
     ]
    },
    {
     "name": "stderr",
     "output_type": "stream",
     "text": [
      "training: 100%|██████████| 4640/4640 [00:32<00:00, 144.22it/s]\n"
     ]
    }
   ],
   "source": [
    "model.fit(X_train,y_train)\n"
   ]
  },
  {
   "cell_type": "code",
   "execution_count": 13,
   "metadata": {},
   "outputs": [
    {
     "name": "stderr",
     "output_type": "stream",
     "text": [
      "predicting ensemble 0 : 100%|██████████| 2253/2253 [00:02<00:00, 827.24it/s]\n",
      "predicting ensemble 1 : 100%|██████████| 2387/2387 [00:02<00:00, 840.82it/s]\n"
     ]
    }
   ],
   "source": [
    "pred = model.predict_proba(X_test)\n"
   ]
  },
  {
   "cell_type": "code",
   "execution_count": 14,
   "metadata": {},
   "outputs": [
    {
     "data": {
      "text/plain": [
       "0.9061450780648197"
      ]
     },
     "execution_count": 14,
     "metadata": {},
     "output_type": "execute_result"
    }
   ],
   "source": [
    "from sklearn.metrics import roc_auc_score\n",
    "roc_auc_score(np.where(y_test.values>0, 1, 0), np.where(pred>0.5, 1, 0))\n"
   ]
  },
  {
   "cell_type": "code",
   "execution_count": 15,
   "metadata": {},
   "outputs": [
    {
     "name": "stderr",
     "output_type": "stream",
     "text": [
      "predicting ensemble 0 : 100%|██████████| 2253/2253 [00:03<00:00, 579.51it/s]\n",
      "predicting ensemble 1 : 100%|██████████| 2387/2387 [00:04<00:00, 577.36it/s]\n"
     ]
    }
   ],
   "source": [
    "data['pred_occ'] = model.predict_proba(data[model.x_names + ['sampling_event_identifier','longitude','latitude']])\n"
   ]
  },
  {
   "cell_type": "code",
   "execution_count": 16,
   "metadata": {},
   "outputs": [
    {
     "name": "stdout",
     "output_type": "stream",
     "text": [
      "0.0.0.0.0.1.2.3.4.5.6.7.8.9.10.11.12.13.14.15.16.17.18.19.20.21.22.23.24.25.26.27.28.29.30.31.32.33.34.35.36.37.38.39.40.41.42.43.44.45.46.47.48.49.50.51.52.53.54.55.56.57.58.59.60.61.62.63.64.65.66.67.68.69.70.71.72.73.74.75.76.77.78.79.80.81.82.83.84.85.86.87.88.89.90.91.92.93.94.95.96.97.98.99.100.101.102.103.104.105.106.107.108.109.110.111.112.113.114.115.116.117.118.119.120.121.122.123.124.125.126.127.128.129.130.131.132.133.134.135.136.137.138.139.140.141.142.143.144.145.146.147.148.149.150.151.152.153.154.155.156.157.158.159.160.161.162.163.164.165.166.167.168.169.170.171.172.173.174.175.176.177.178.179.180.181.182.183.184.185.186.187.188.189.190.191.192.193.194.195.196.197.198.199.200.201.202.203.204.205.206.207.208.209.210.211.212.213.214.215.216.217.218.219.220.221.222.223.224.225.226.227.228.229.230.231.232.233.234.235.236.237.238.239.240.241.242.243.244.245.246.247.248.249.250.251.252.253.254.255.256.257.258.259.260.261.262.263.264.265.266.267.268.269.270.271.272.273.274.275.276.277.278.279.280.281.282.283.284.285.286.287.288.289.290.291.292.293.294.295.296.297.298.299.300.301.302.303.304.305.306.307.308.309.310.311.312.313.314.315.316.317.318.319.320.321.322.323.324.325.326.327.328.329.330.331.332.333.334.335.336.337.338.339.340.341.342.343.344.345.346.347.348.349.350.351.352.353.354.355.356.357.358.359.360.361.362.363.364.365.\n",
      "Finish!\n"
     ]
    },
    {
     "data": {
      "image/png": "[encoded data removed]",
      "text/plain": [
       "<Figure size 640x480 with 2 Axes>"
      ]
     },
     "metadata": {},
     "output_type": "display_data"
    }
   ],
   "source": [
    "data_origin = data[['sampling_event_identifier','longitude','latitude','DOY','abundance']]\n",
    "data_origin['abundance'] = np.where(data_origin['abundance']>0, 1, 0)\n",
    "make_sample_gif(data_origin ,'./Sample_data_origin.gif')\n"
   ]
  },
  {
   "cell_type": "code",
   "execution_count": 17,
   "metadata": {},
   "outputs": [
    {
     "name": "stdout",
     "output_type": "stream",
     "text": [
      "0.0.0.0.0.1.2.3.4.5.6.7.8.9.10.11.12.13.14.15.16.17.18.19.20.21.22.23.24.25.26.27.28.29.30.31.32.33.34.35.36.37.38.39.40.41.42.43.44.45.46.47.48.49.50.51.52.53.54.55.56.57.58.59.60.61.62.63.64.65.66.67.68.69.70.71.72.73.74.75.76.77.78.79.80.81.82.83.84.85.86.87.88.89.90.91.92.93.94.95.96.97.98.99.100.101.102.103.104.105.106.107.108.109.110.111.112.113.114.115.116.117.118.119.120.121.122.123.124.125.126.127.128.129.130.131.132.133.134.135.136.137.138.139.140.141.142.143.144.145.146.147.148.149.150.151.152.153.154.155.156.157.158.159.160.161.162.163.164.165.166.167.168.169.170.171.172.173.174.175.176.177.178.179.180.181.182.183.184.185.186.187.188.189.190.191.192.193.194.195.196.197.198.199.200.201.202.203.204.205.206.207.208.209.210.211.212.213.214.215.216.217.218.219.220.221.222.223.224.225.226.227.228.229.230.231.232.233.234.235.236.237.238.239.240.241.242.243.244.245.246.247.248.249.250.251.252.253.254.255.256.257.258.259.260.261.262.263.264.265.266.267.268.269.270.271.272.273.274.275.276.277.278.279.280.281.282.283.284.285.286.287.288.289.290.291.292.293.294.295.296.297.298.299.300.301.302.303.304.305.306.307.308.309.310.311.312.313.314.315.316.317.318.319.320.321.322.323.324.325.326.327.328.329.330.331."
     ]
    },
    {
     "name": "stderr",
     "output_type": "stream",
     "text": [
      "Exception ignored in: <function WeakMethod.__new__.<locals>._cb at 0x292aed040>\n",
      "Traceback (most recent call last):\n",
      "  File \"/Users/chenyangkang/miniforge3/lib/python3.9/weakref.py\", line 61, in _cb\n",
      "    callback(self)\n",
      "  File \"/Users/chenyangkang/miniforge3/lib/python3.9/site-packages/matplotlib/cbook/__init__.py\", line 254, in _remove_proxy\n",
      "    del self.callbacks[signal][cid]\n",
      "KeyError: 'changed'\n",
      "Exception ignored in: <function WeakMethod.__new__.<locals>._cb at 0x293e3b160>\n",
      "Traceback (most recent call last):\n",
      "  File \"/Users/chenyangkang/miniforge3/lib/python3.9/weakref.py\", line 61, in _cb\n",
      "    callback(self)\n",
      "  File \"/Users/chenyangkang/miniforge3/lib/python3.9/site-packages/matplotlib/cbook/__init__.py\", line 254, in _remove_proxy\n",
      "    del self.callbacks[signal][cid]\n",
      "KeyError: 'changed'\n"
     ]
    },
    {
     "name": "stdout",
     "output_type": "stream",
     "text": [
      "332.333.334.335.336.337.338.339.340.341.342.343.344.345.346.347.348.349.350.351.352.353.354.355.356.357.358.359.360.361.362.363.364.365.\n",
      "Finish!\n"
     ]
    },
    {
     "data": {
      "image/png": "[encoded data removed]",
      "text/plain": [
       "<Figure size 640x480 with 2 Axes>"
      ]
     },
     "metadata": {},
     "output_type": "display_data"
    }
   ],
   "source": [
    "data_pred = data[['sampling_event_identifier','longitude','latitude','DOY','pred_occ']]\n",
    "data_pred['abundance'] = np.where(data_pred['pred_occ']>0, 1, 0)\n",
    "del data_pred['pred_occ']\n",
    "\n",
    "make_sample_gif(data_pred ,'./Sample_data_pred.gif')\n"
   ]
  },
  {
   "cell_type": "markdown",
   "metadata": {},
   "source": [
    "# Traditional randomforest & decision tree"
   ]
  },
  {
   "cell_type": "code",
   "execution_count": 18,
   "metadata": {},
   "outputs": [],
   "source": [
    "from sklearn.ensemble import RandomForestClassifier\n",
    "from sklearn.tree import DecisionTreeClassifier\n"
   ]
  },
  {
   "cell_type": "code",
   "execution_count": 19,
   "metadata": {},
   "outputs": [
    {
     "data": {
      "text/plain": [
       "0.903187860284238"
      ]
     },
     "execution_count": 19,
     "metadata": {},
     "output_type": "execute_result"
    }
   ],
   "source": [
    "baseline_model = DecisionTreeClassifier(random_state=42).fit(X_train[['DOY','trait1','trait2','trait3']], \n",
    "                                                             np.where(y_train>0, 1, 0))\n",
    "baseline_pred = baseline_model.predict(X_test[['DOY','trait1','trait2','trait3']])\n",
    "roc_auc_score(np.where(y_test>0, 1, 0), baseline_pred)\n"
   ]
  },
  {
   "cell_type": "code",
   "execution_count": null,
   "metadata": {},
   "outputs": [],
   "source": []
  },
  {
   "cell_type": "code",
   "execution_count": null,
   "metadata": {},
   "outputs": [],
   "source": []
  },
  {
   "cell_type": "code",
   "execution_count": null,
   "metadata": {},
   "outputs": [],
   "source": []
  }
 ],
 "metadata": {
  "kernelspec": {
   "display_name": "base",
   "language": "python",
   "name": "python3"
  },
  "language_info": {
   "codemirror_mode": {
    "name": "ipython",
    "version": 3
   },
   "file_extension": ".py",
   "mimetype": "text/x-python",
   "name": "python",
   "nbconvert_exporter": "python",
   "pygments_lexer": "ipython3",
   "version": "3.9.7"
  },
  "orig_nbformat": 4
 },
 "nbformat": 4,
 "nbformat_minor": 2
}
