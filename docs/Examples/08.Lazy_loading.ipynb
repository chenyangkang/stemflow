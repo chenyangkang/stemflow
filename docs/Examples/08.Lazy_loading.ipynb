{
 "cells": [
  {
   "cell_type": "markdown",
   "metadata": {},
   "source": [
    "# Lazy loading ensembles"
   ]
  },
  {
   "cell_type": "markdown",
   "metadata": {},
   "source": [
    "When each ensemble contains huge amount of models or the ensemble amount is large (e.g., > 50), it might not be viable to load all ensembles into memory. In that case, we can ask the model to save all ensembles into disk, and only load them when the ensembles are being used. This process may dramatically reduce the memory usage but also reduce the speed of prediction, since the IO (read & write between disk and memory) will be a speed limit here.\n"
   ]
  },
  {
   "cell_type": "markdown",
   "metadata": {},
   "source": [
    "We run experiments to see how this speed-memory trade-off works:"
   ]
  },
  {
   "cell_type": "code",
   "execution_count": 1,
   "metadata": {},
   "outputs": [],
   "source": [
    "import os\n",
    "import sys \n",
    "\n",
    "import pandas as pd\n",
    "import numpy as np\n",
    "import random\n",
    "from tqdm.auto import tqdm\n",
    "import matplotlib.pyplot as plt\n",
    "import matplotlib\n",
    "import warnings\n",
    "import pickle\n",
    "import h3pandas\n",
    "import copy \n",
    "\n",
    "pd.set_option('display.max_columns', None)\n",
    "# warnings.filterwarnings('ignore')\n"
   ]
  },
  {
   "cell_type": "code",
   "execution_count": 2,
   "metadata": {},
   "outputs": [],
   "source": [
    "%load_ext autoreload\n",
    "%autoreload 2"
   ]
  },
  {
   "cell_type": "markdown",
   "metadata": {},
   "source": [
    "## Download data"
   ]
  },
  {
   "cell_type": "markdown",
   "metadata": {},
   "source": [
    "### Training/test data"
   ]
  },
  {
   "cell_type": "markdown",
   "metadata": {},
   "source": [
    "Please download the sample data from:<br>\n",
    "- Mallard: https://figshare.com/articles/dataset/Sample_data_Mallard_csv/24080745<br>\n",
    "\n",
    "Suppose now it's downloaded and saved as './Sample_data_Mallard.csv'<br>\n",
    "\n",
    "Alternatively, you can try other species like <br>\n",
    "- Alder Flycatcher: https://figshare.com/articles/dataset/Sample_data_Alder_Flycatcher_csv/24080751<br>\n",
    "- Short-eared Owl: https://figshare.com/articles/dataset/Sample_data_Short-eared_Owl_csv/24080742<br>\n",
    "- Eurasian Tree Sparrow: https://figshare.com/articles/dataset/Sample_data_Eurasian_Tree_Sparrow_csv/24080748<br>\n",
    "\n",
    "**Caveat: These bird observation data are about 200MB each file.**"
   ]
  },
  {
   "cell_type": "code",
   "execution_count": 3,
   "metadata": {},
   "outputs": [],
   "source": [
    "data = pd.read_csv(f'./Sample_data_Mallard.csv')\n",
    "data = data.drop('sampling_event_identifier', axis=1)\n"
   ]
  },
  {
   "cell_type": "code",
   "execution_count": 4,
   "metadata": {},
   "outputs": [],
   "source": [
    "data = data.sample(frac=0.7)"
   ]
  },
  {
   "cell_type": "markdown",
   "metadata": {},
   "source": [
    "### Prediction set"
   ]
  },
  {
   "cell_type": "markdown",
   "metadata": {},
   "source": [
    "Prediction set are used to feed into a trained AdaSTEM model and make prediction: at some location, at some day of year, given the environmental variables, how many Mallard individual do I expected to observe?\n",
    "\n",
    "The prediction set will be loaded after the model is trained.\n",
    "\n",
    "Download the prediction set from: https://figshare.com/articles/dataset/Predset_2020_csv/24124980\n",
    "\n",
    "**Caveat: The file is about 700MB.**"
   ]
  },
  {
   "cell_type": "markdown",
   "metadata": {},
   "source": [
    "## Get X and y"
   ]
  },
  {
   "cell_type": "code",
   "execution_count": 5,
   "metadata": {},
   "outputs": [],
   "source": [
    "X = data.drop('count', axis=1)\n",
    "y = data['count'].values\n"
   ]
  },
  {
   "cell_type": "code",
   "execution_count": 6,
   "metadata": {},
   "outputs": [
    {
     "data": {
      "text/html": [
       "<div>\n",
       "<style scoped>\n",
       "    .dataframe tbody tr th:only-of-type {\n",
       "        vertical-align: middle;\n",
       "    }\n",
       "\n",
       "    .dataframe tbody tr th {\n",
       "        vertical-align: top;\n",
       "    }\n",
       "\n",
       "    .dataframe thead th {\n",
       "        text-align: right;\n",
       "    }\n",
       "</style>\n",
       "<table border=\"1\" class=\"dataframe\">\n",
       "  <thead>\n",
       "    <tr style=\"text-align: right;\">\n",
       "      <th></th>\n",
       "      <th>longitude</th>\n",
       "      <th>latitude</th>\n",
       "      <th>DOY</th>\n",
       "      <th>duration_minutes</th>\n",
       "      <th>Traveling</th>\n",
       "      <th>Stationary</th>\n",
       "      <th>Area</th>\n",
       "      <th>effort_distance_km</th>\n",
       "      <th>number_observers</th>\n",
       "      <th>obsvr_species_count</th>\n",
       "      <th>time_observation_started_minute_of_day</th>\n",
       "      <th>elevation_mean</th>\n",
       "      <th>slope_mean</th>\n",
       "      <th>eastness_mean</th>\n",
       "      <th>northness_mean</th>\n",
       "      <th>bio1</th>\n",
       "      <th>bio2</th>\n",
       "      <th>bio3</th>\n",
       "      <th>bio4</th>\n",
       "      <th>bio5</th>\n",
       "      <th>bio6</th>\n",
       "      <th>bio7</th>\n",
       "      <th>bio8</th>\n",
       "      <th>bio9</th>\n",
       "      <th>bio10</th>\n",
       "      <th>bio11</th>\n",
       "      <th>bio12</th>\n",
       "      <th>bio13</th>\n",
       "      <th>bio14</th>\n",
       "      <th>bio15</th>\n",
       "      <th>bio16</th>\n",
       "      <th>bio17</th>\n",
       "      <th>bio18</th>\n",
       "      <th>bio19</th>\n",
       "      <th>closed_shrublands</th>\n",
       "      <th>cropland_or_natural_vegetation_mosaics</th>\n",
       "      <th>croplands</th>\n",
       "      <th>deciduous_broadleaf_forests</th>\n",
       "      <th>deciduous_needleleaf_forests</th>\n",
       "      <th>evergreen_broadleaf_forests</th>\n",
       "      <th>evergreen_needleleaf_forests</th>\n",
       "      <th>grasslands</th>\n",
       "      <th>mixed_forests</th>\n",
       "      <th>non_vegetated_lands</th>\n",
       "      <th>open_shrublands</th>\n",
       "      <th>permanent_wetlands</th>\n",
       "      <th>savannas</th>\n",
       "      <th>urban_and_built_up_lands</th>\n",
       "      <th>water_bodies</th>\n",
       "      <th>woody_savannas</th>\n",
       "      <th>entropy</th>\n",
       "    </tr>\n",
       "  </thead>\n",
       "  <tbody>\n",
       "    <tr>\n",
       "      <th>397682</th>\n",
       "      <td>-121.243566</td>\n",
       "      <td>44.722404</td>\n",
       "      <td>73</td>\n",
       "      <td>20.0</td>\n",
       "      <td>0</td>\n",
       "      <td>1</td>\n",
       "      <td>0</td>\n",
       "      <td>-1.00</td>\n",
       "      <td>3.0</td>\n",
       "      <td>675.0</td>\n",
       "      <td>946</td>\n",
       "      <td>528.666700</td>\n",
       "      <td>6.930458</td>\n",
       "      <td>-0.004461</td>\n",
       "      <td>-0.003129</td>\n",
       "      <td>12.254499</td>\n",
       "      <td>11.222793</td>\n",
       "      <td>36.556190</td>\n",
       "      <td>722.291583</td>\n",
       "      <td>30.786013</td>\n",
       "      <td>0.085896</td>\n",
       "      <td>30.700117</td>\n",
       "      <td>5.900058</td>\n",
       "      <td>22.592101</td>\n",
       "      <td>22.036626</td>\n",
       "      <td>4.241771</td>\n",
       "      <td>0.054554</td>\n",
       "      <td>0.012744</td>\n",
       "      <td>0.000037</td>\n",
       "      <td>0.000017</td>\n",
       "      <td>0.032447</td>\n",
       "      <td>0.001068</td>\n",
       "      <td>0.001068</td>\n",
       "      <td>0.022911</td>\n",
       "      <td>0.0</td>\n",
       "      <td>0.000000</td>\n",
       "      <td>0.888889</td>\n",
       "      <td>0.000000</td>\n",
       "      <td>0.0</td>\n",
       "      <td>0.000000</td>\n",
       "      <td>0.0</td>\n",
       "      <td>0.083333</td>\n",
       "      <td>0.0</td>\n",
       "      <td>0.027778</td>\n",
       "      <td>0.0</td>\n",
       "      <td>0.0</td>\n",
       "      <td>0.000000</td>\n",
       "      <td>0.000000</td>\n",
       "      <td>0.0</td>\n",
       "      <td>0.000000</td>\n",
       "      <td>0.411314</td>\n",
       "    </tr>\n",
       "    <tr>\n",
       "      <th>52761</th>\n",
       "      <td>-84.830546</td>\n",
       "      <td>10.262687</td>\n",
       "      <td>202</td>\n",
       "      <td>15.0</td>\n",
       "      <td>0</td>\n",
       "      <td>1</td>\n",
       "      <td>0</td>\n",
       "      <td>-1.00</td>\n",
       "      <td>1.0</td>\n",
       "      <td>279.0</td>\n",
       "      <td>823</td>\n",
       "      <td>926.777800</td>\n",
       "      <td>11.270809</td>\n",
       "      <td>-0.000824</td>\n",
       "      <td>0.026607</td>\n",
       "      <td>22.108191</td>\n",
       "      <td>6.112472</td>\n",
       "      <td>69.367717</td>\n",
       "      <td>87.154508</td>\n",
       "      <td>27.772561</td>\n",
       "      <td>18.960866</td>\n",
       "      <td>8.811695</td>\n",
       "      <td>20.835122</td>\n",
       "      <td>23.067510</td>\n",
       "      <td>23.229957</td>\n",
       "      <td>20.984801</td>\n",
       "      <td>0.247798</td>\n",
       "      <td>0.053908</td>\n",
       "      <td>0.000343</td>\n",
       "      <td>0.000307</td>\n",
       "      <td>0.135164</td>\n",
       "      <td>0.003454</td>\n",
       "      <td>0.005471</td>\n",
       "      <td>0.099995</td>\n",
       "      <td>0.0</td>\n",
       "      <td>0.000000</td>\n",
       "      <td>0.000000</td>\n",
       "      <td>0.111111</td>\n",
       "      <td>0.0</td>\n",
       "      <td>0.083333</td>\n",
       "      <td>0.0</td>\n",
       "      <td>0.027778</td>\n",
       "      <td>0.0</td>\n",
       "      <td>0.000000</td>\n",
       "      <td>0.0</td>\n",
       "      <td>0.0</td>\n",
       "      <td>0.388889</td>\n",
       "      <td>0.000000</td>\n",
       "      <td>0.0</td>\n",
       "      <td>0.388889</td>\n",
       "      <td>1.285335</td>\n",
       "    </tr>\n",
       "    <tr>\n",
       "      <th>102324</th>\n",
       "      <td>-84.410191</td>\n",
       "      <td>42.625370</td>\n",
       "      <td>138</td>\n",
       "      <td>41.0</td>\n",
       "      <td>0</td>\n",
       "      <td>1</td>\n",
       "      <td>0</td>\n",
       "      <td>-1.00</td>\n",
       "      <td>1.0</td>\n",
       "      <td>379.0</td>\n",
       "      <td>1073</td>\n",
       "      <td>271.000000</td>\n",
       "      <td>0.411284</td>\n",
       "      <td>0.192033</td>\n",
       "      <td>-0.162664</td>\n",
       "      <td>10.530639</td>\n",
       "      <td>7.988692</td>\n",
       "      <td>22.794835</td>\n",
       "      <td>890.107596</td>\n",
       "      <td>29.042612</td>\n",
       "      <td>-6.003451</td>\n",
       "      <td>35.046063</td>\n",
       "      <td>-0.510486</td>\n",
       "      <td>24.446625</td>\n",
       "      <td>22.611013</td>\n",
       "      <td>-0.829569</td>\n",
       "      <td>0.115785</td>\n",
       "      <td>0.016661</td>\n",
       "      <td>0.005342</td>\n",
       "      <td>0.000015</td>\n",
       "      <td>0.047077</td>\n",
       "      <td>0.017823</td>\n",
       "      <td>0.021165</td>\n",
       "      <td>0.029807</td>\n",
       "      <td>0.0</td>\n",
       "      <td>0.444444</td>\n",
       "      <td>0.555556</td>\n",
       "      <td>0.000000</td>\n",
       "      <td>0.0</td>\n",
       "      <td>0.000000</td>\n",
       "      <td>0.0</td>\n",
       "      <td>0.000000</td>\n",
       "      <td>0.0</td>\n",
       "      <td>0.000000</td>\n",
       "      <td>0.0</td>\n",
       "      <td>0.0</td>\n",
       "      <td>0.000000</td>\n",
       "      <td>0.000000</td>\n",
       "      <td>0.0</td>\n",
       "      <td>0.000000</td>\n",
       "      <td>0.686962</td>\n",
       "    </tr>\n",
       "    <tr>\n",
       "      <th>198809</th>\n",
       "      <td>-123.112206</td>\n",
       "      <td>49.241944</td>\n",
       "      <td>172</td>\n",
       "      <td>9.0</td>\n",
       "      <td>1</td>\n",
       "      <td>0</td>\n",
       "      <td>0</td>\n",
       "      <td>0.32</td>\n",
       "      <td>2.0</td>\n",
       "      <td>222.0</td>\n",
       "      <td>976</td>\n",
       "      <td>61.833332</td>\n",
       "      <td>1.856077</td>\n",
       "      <td>0.031009</td>\n",
       "      <td>0.402949</td>\n",
       "      <td>10.378653</td>\n",
       "      <td>6.568099</td>\n",
       "      <td>31.841727</td>\n",
       "      <td>561.138541</td>\n",
       "      <td>22.256131</td>\n",
       "      <td>1.628799</td>\n",
       "      <td>20.627332</td>\n",
       "      <td>3.524946</td>\n",
       "      <td>17.947798</td>\n",
       "      <td>17.871489</td>\n",
       "      <td>3.964883</td>\n",
       "      <td>0.315263</td>\n",
       "      <td>0.070945</td>\n",
       "      <td>0.006232</td>\n",
       "      <td>0.000348</td>\n",
       "      <td>0.164123</td>\n",
       "      <td>0.023907</td>\n",
       "      <td>0.033864</td>\n",
       "      <td>0.148501</td>\n",
       "      <td>0.0</td>\n",
       "      <td>0.055556</td>\n",
       "      <td>0.583333</td>\n",
       "      <td>0.000000</td>\n",
       "      <td>0.0</td>\n",
       "      <td>0.000000</td>\n",
       "      <td>0.0</td>\n",
       "      <td>0.055556</td>\n",
       "      <td>0.0</td>\n",
       "      <td>0.000000</td>\n",
       "      <td>0.0</td>\n",
       "      <td>0.0</td>\n",
       "      <td>0.083333</td>\n",
       "      <td>0.222222</td>\n",
       "      <td>0.0</td>\n",
       "      <td>0.000000</td>\n",
       "      <td>1.176882</td>\n",
       "    </tr>\n",
       "    <tr>\n",
       "      <th>318693</th>\n",
       "      <td>-96.888985</td>\n",
       "      <td>42.779600</td>\n",
       "      <td>259</td>\n",
       "      <td>45.0</td>\n",
       "      <td>0</td>\n",
       "      <td>1</td>\n",
       "      <td>0</td>\n",
       "      <td>-1.00</td>\n",
       "      <td>2.0</td>\n",
       "      <td>670.0</td>\n",
       "      <td>981</td>\n",
       "      <td>376.666660</td>\n",
       "      <td>0.206779</td>\n",
       "      <td>0.003448</td>\n",
       "      <td>0.044174</td>\n",
       "      <td>11.011082</td>\n",
       "      <td>9.531909</td>\n",
       "      <td>24.486426</td>\n",
       "      <td>1033.230340</td>\n",
       "      <td>30.444804</td>\n",
       "      <td>-8.482515</td>\n",
       "      <td>38.927319</td>\n",
       "      <td>14.754586</td>\n",
       "      <td>-1.147955</td>\n",
       "      <td>25.053628</td>\n",
       "      <td>-2.344446</td>\n",
       "      <td>0.073579</td>\n",
       "      <td>0.015177</td>\n",
       "      <td>0.001466</td>\n",
       "      <td>0.000021</td>\n",
       "      <td>0.038704</td>\n",
       "      <td>0.005140</td>\n",
       "      <td>0.025476</td>\n",
       "      <td>0.006744</td>\n",
       "      <td>0.0</td>\n",
       "      <td>0.000000</td>\n",
       "      <td>1.000000</td>\n",
       "      <td>0.000000</td>\n",
       "      <td>0.0</td>\n",
       "      <td>0.000000</td>\n",
       "      <td>0.0</td>\n",
       "      <td>0.000000</td>\n",
       "      <td>0.0</td>\n",
       "      <td>0.000000</td>\n",
       "      <td>0.0</td>\n",
       "      <td>0.0</td>\n",
       "      <td>0.000000</td>\n",
       "      <td>0.000000</td>\n",
       "      <td>0.0</td>\n",
       "      <td>0.000000</td>\n",
       "      <td>-0.000000</td>\n",
       "    </tr>\n",
       "  </tbody>\n",
       "</table>\n",
       "</div>"
      ],
      "text/plain": [
       "         longitude   latitude  DOY  duration_minutes  Traveling  Stationary  \\\n",
       "397682 -121.243566  44.722404   73              20.0          0           1   \n",
       "52761   -84.830546  10.262687  202              15.0          0           1   \n",
       "102324  -84.410191  42.625370  138              41.0          0           1   \n",
       "198809 -123.112206  49.241944  172               9.0          1           0   \n",
       "318693  -96.888985  42.779600  259              45.0          0           1   \n",
       "\n",
       "        Area  effort_distance_km  number_observers  obsvr_species_count  \\\n",
       "397682     0               -1.00               3.0                675.0   \n",
       "52761      0               -1.00               1.0                279.0   \n",
       "102324     0               -1.00               1.0                379.0   \n",
       "198809     0                0.32               2.0                222.0   \n",
       "318693     0               -1.00               2.0                670.0   \n",
       "\n",
       "        time_observation_started_minute_of_day  elevation_mean  slope_mean  \\\n",
       "397682                                     946      528.666700    6.930458   \n",
       "52761                                      823      926.777800   11.270809   \n",
       "102324                                    1073      271.000000    0.411284   \n",
       "198809                                     976       61.833332    1.856077   \n",
       "318693                                     981      376.666660    0.206779   \n",
       "\n",
       "        eastness_mean  northness_mean       bio1       bio2       bio3  \\\n",
       "397682      -0.004461       -0.003129  12.254499  11.222793  36.556190   \n",
       "52761       -0.000824        0.026607  22.108191   6.112472  69.367717   \n",
       "102324       0.192033       -0.162664  10.530639   7.988692  22.794835   \n",
       "198809       0.031009        0.402949  10.378653   6.568099  31.841727   \n",
       "318693       0.003448        0.044174  11.011082   9.531909  24.486426   \n",
       "\n",
       "               bio4       bio5       bio6       bio7       bio8       bio9  \\\n",
       "397682   722.291583  30.786013   0.085896  30.700117   5.900058  22.592101   \n",
       "52761     87.154508  27.772561  18.960866   8.811695  20.835122  23.067510   \n",
       "102324   890.107596  29.042612  -6.003451  35.046063  -0.510486  24.446625   \n",
       "198809   561.138541  22.256131   1.628799  20.627332   3.524946  17.947798   \n",
       "318693  1033.230340  30.444804  -8.482515  38.927319  14.754586  -1.147955   \n",
       "\n",
       "            bio10      bio11     bio12     bio13     bio14     bio15  \\\n",
       "397682  22.036626   4.241771  0.054554  0.012744  0.000037  0.000017   \n",
       "52761   23.229957  20.984801  0.247798  0.053908  0.000343  0.000307   \n",
       "102324  22.611013  -0.829569  0.115785  0.016661  0.005342  0.000015   \n",
       "198809  17.871489   3.964883  0.315263  0.070945  0.006232  0.000348   \n",
       "318693  25.053628  -2.344446  0.073579  0.015177  0.001466  0.000021   \n",
       "\n",
       "           bio16     bio17     bio18     bio19  closed_shrublands  \\\n",
       "397682  0.032447  0.001068  0.001068  0.022911                0.0   \n",
       "52761   0.135164  0.003454  0.005471  0.099995                0.0   \n",
       "102324  0.047077  0.017823  0.021165  0.029807                0.0   \n",
       "198809  0.164123  0.023907  0.033864  0.148501                0.0   \n",
       "318693  0.038704  0.005140  0.025476  0.006744                0.0   \n",
       "\n",
       "        cropland_or_natural_vegetation_mosaics  croplands  \\\n",
       "397682                                0.000000   0.888889   \n",
       "52761                                 0.000000   0.000000   \n",
       "102324                                0.444444   0.555556   \n",
       "198809                                0.055556   0.583333   \n",
       "318693                                0.000000   1.000000   \n",
       "\n",
       "        deciduous_broadleaf_forests  deciduous_needleleaf_forests  \\\n",
       "397682                     0.000000                           0.0   \n",
       "52761                      0.111111                           0.0   \n",
       "102324                     0.000000                           0.0   \n",
       "198809                     0.000000                           0.0   \n",
       "318693                     0.000000                           0.0   \n",
       "\n",
       "        evergreen_broadleaf_forests  evergreen_needleleaf_forests  grasslands  \\\n",
       "397682                     0.000000                           0.0    0.083333   \n",
       "52761                      0.083333                           0.0    0.027778   \n",
       "102324                     0.000000                           0.0    0.000000   \n",
       "198809                     0.000000                           0.0    0.055556   \n",
       "318693                     0.000000                           0.0    0.000000   \n",
       "\n",
       "        mixed_forests  non_vegetated_lands  open_shrublands  \\\n",
       "397682            0.0             0.027778              0.0   \n",
       "52761             0.0             0.000000              0.0   \n",
       "102324            0.0             0.000000              0.0   \n",
       "198809            0.0             0.000000              0.0   \n",
       "318693            0.0             0.000000              0.0   \n",
       "\n",
       "        permanent_wetlands  savannas  urban_and_built_up_lands  water_bodies  \\\n",
       "397682                 0.0  0.000000                  0.000000           0.0   \n",
       "52761                  0.0  0.388889                  0.000000           0.0   \n",
       "102324                 0.0  0.000000                  0.000000           0.0   \n",
       "198809                 0.0  0.083333                  0.222222           0.0   \n",
       "318693                 0.0  0.000000                  0.000000           0.0   \n",
       "\n",
       "        woody_savannas   entropy  \n",
       "397682        0.000000  0.411314  \n",
       "52761         0.388889  1.285335  \n",
       "102324        0.000000  0.686962  \n",
       "198809        0.000000  1.176882  \n",
       "318693        0.000000 -0.000000  "
      ]
     },
     "execution_count": 6,
     "metadata": {},
     "output_type": "execute_result"
    }
   ],
   "source": [
    "X.head()"
   ]
  },
  {
   "cell_type": "markdown",
   "metadata": {},
   "source": [
    "The features include:\n",
    "\n",
    "- spatial coordinates:\n",
    "  - `longitude` and `latitude` (used for indexing, not actual training)\n",
    "    \n",
    "- Temporal coordinate:\n",
    "  - day of year (`DOY`): used for both indexing and training\n",
    "\n",
    "- Sampling parameters: These are parameters quantifying how the observation was made\n",
    "  - `duration_minutes`: How long the observation was conducted\n",
    "  - Observation protocol: `Traveling`, `Stationary`, or `Area`\n",
    "  -  `effort_distance_km`: how far have one traveled\n",
    "  -  `number_observers`: How many observers are there in the group\n",
    "  - `obsvr_species_count`: How many bird species have the birder observed in the past\n",
    "  - `time_observation_started_minute_of_day`: When did the birder start birding\n",
    "\n",
    "- Topological features:\n",
    "  - Features of elevation: `elevation_mean`\n",
    "  - Features of slope magnitude and direction: `slope_mean`, `eastness_mean`, `northness_mean`\n",
    "\n",
    "- Bioclimate features:\n",
    "  - Summaries of yearly temperature and precipitation: from `bio1` to `bio19`\n",
    "\n",
    "- Land cover features:\n",
    "  - Summaries of land cover, percentage of cover. For example, `closed_shrublands`,  `urban_and_built_up_lands`.\n",
    "  - `entropy`: Entropy of land cover\n",
    "\n",
    "\n",
    "As you can see, the environmental variables are almost static. However, dynamic features (e.g., daily temperature) is fully supported as input. See [Tips for data types](https://chenyangkang.github.io/stemflow/Tips/Tips_for_data_types.html) for details.\n",
    "  \n",
    "  \n",
    " "
   ]
  },
  {
   "cell_type": "markdown",
   "metadata": {},
   "source": [
    "## First thing first: Spatiotemporal train test split"
   ]
  },
  {
   "cell_type": "code",
   "execution_count": 7,
   "metadata": {},
   "outputs": [],
   "source": [
    "from stemflow.model_selection import ST_train_test_split\n",
    "X_train, X_test, y_train, y_test = ST_train_test_split(X, y, \n",
    "                                                        Spatio1 = 'longitude',\n",
    "                                                        Spatio2 = 'latitude',\n",
    "                                                        Temporal1 = 'DOY',\n",
    "                                                        Spatio_blocks_count = 50, Temporal_blocks_count=50,\n",
    "                                                        random_state=42, test_size=0.3)\n"
   ]
  },
  {
   "cell_type": "markdown",
   "metadata": {},
   "source": [
    "## Train AdaSTEM hurdle model"
   ]
  },
  {
   "cell_type": "code",
   "execution_count": 8,
   "metadata": {},
   "outputs": [],
   "source": [
    "from stemflow.model.AdaSTEM import AdaSTEM, AdaSTEMClassifier, AdaSTEMRegressor\n",
    "from xgboost import XGBClassifier, XGBRegressor # remember to install xgboost if you use it as base model\n",
    "from stemflow.model.Hurdle import Hurdle_for_AdaSTEM, Hurdle\n"
   ]
  },
  {
   "cell_type": "code",
   "execution_count": null,
   "metadata": {},
   "outputs": [],
   "source": [
    "import time\n",
    "from memory_profiler import memory_usage\n",
    "\n",
    "def make_model_lazyloading(ensemble_fold):\n",
    "    model_lazyloading = AdaSTEMRegressor(\n",
    "        base_model=Hurdle(\n",
    "            classifier=XGBClassifier(tree_method='hist',random_state=42, verbosity = 0, n_jobs=1),\n",
    "            regressor=XGBRegressor(tree_method='hist',random_state=42, verbosity = 0, n_jobs=1)\n",
    "        ),                                      # hurdel model for zero-inflated problem (e.g., count)\n",
    "        task='hurdle',\n",
    "        save_gridding_plot = True,\n",
    "        ensemble_fold=ensemble_fold,                       # data are modeled 10 times, each time with jitter and rotation in Quadtree algo\n",
    "        min_ensemble_required=ensemble_fold-2,                # Only points covered by > 7 ensembles will be predicted\n",
    "        grid_len_upper_threshold=25,            # force splitting if the grid length exceeds 25\n",
    "        grid_len_lower_threshold=5,             # stop splitting if the grid length fall short 5         \n",
    "        temporal_start=1,                       # The next 4 params define the temporal sliding window\n",
    "        temporal_end=366,                            \n",
    "        temporal_step=25,                       # The window takes steps of 20 DOY (see AdaSTEM demo for details)\n",
    "        temporal_bin_interval=50,               # Each window will contain data of 50 DOY\n",
    "        points_lower_threshold=50,              # Only stixels with more than 50 samples are trained\n",
    "        Spatio1='longitude',                    # The next three params define the name of \n",
    "        Spatio2='latitude',                     # spatial coordinates shown in the dataframe\n",
    "        Temporal1='DOY',\n",
    "        use_temporal_to_train=True,             # In each stixel, whether 'DOY' should be a predictor\n",
    "        n_jobs=1,                               # Not using parallel computing\n",
    "        random_state=42,                        # The random state makes the gridding process reproducible\n",
    "        lazy_loading=True,                       # Using lazy loading for large ensemble amount (e.g., >20 ensembles). \n",
    "        verbosity=1                              # -- Each trained ensemble will be saved into disk and will only be loaded if needed (e.g. for prediction).\n",
    "    )\n",
    "    \n",
    "    return model_lazyloading\n",
    "\n",
    "\n",
    "def make_model_not_lazyloading(ensemble_fold):\n",
    "    model_not_lazyloading = AdaSTEMRegressor(\n",
    "        base_model=Hurdle(\n",
    "            classifier=XGBClassifier(tree_method='hist',random_state=42, verbosity = 0, n_jobs=1),\n",
    "            regressor=XGBRegressor(tree_method='hist',random_state=42, verbosity = 0, n_jobs=1)\n",
    "        ),                                      # hurdel model for zero-inflated problem (e.g., count)\n",
    "        task='hurdle',\n",
    "        save_gridding_plot = True,\n",
    "        ensemble_fold=ensemble_fold,                       # data are modeled 10 times, each time with jitter and rotation in Quadtree algo\n",
    "        min_ensemble_required=ensemble_fold-2,                # Only points covered by > 7 ensembles will be predicted\n",
    "        grid_len_upper_threshold=25,            # force splitting if the grid length exceeds 25\n",
    "        grid_len_lower_threshold=5,             # stop splitting if the grid length fall short 5         \n",
    "        temporal_start=1,                       # The next 4 params define the temporal sliding window\n",
    "        temporal_end=366,                            \n",
    "        temporal_step=25,                       # The window takes steps of 20 DOY (see AdaSTEM demo for details)\n",
    "        temporal_bin_interval=50,               # Each window will contain data of 50 DOY\n",
    "        points_lower_threshold=50,              # Only stixels with more than 50 samples are trained\n",
    "        Spatio1='longitude',                    # The next three params define the name of \n",
    "        Spatio2='latitude',                     # spatial coordinates shown in the dataframe\n",
    "        Temporal1='DOY',\n",
    "        use_temporal_to_train=True,             # In each stixel, whether 'DOY' should be a predictor\n",
    "        n_jobs=1,                               # Not using parallel computing\n",
    "        random_state=42,                        # The random state makes the gridding process reproducible\n",
    "        lazy_loading=False,                       # Using lazy loading for large ensemble amount (e.g., >20 ensembles). \n",
    "        verbosity=1                               # -- Each trained ensemble will be saved into disk and will only be loaded if needed (e.g. for prediction).\n",
    "    )\n",
    "    return model_not_lazyloading\n",
    "\n",
    "def train_model(model, X_train, y_train):\n",
    "    \n",
    "    start_time = time.time()\n",
    "    \n",
    "    \n",
    "    def run_model(model=model, X_train=X_train, y_train=y_train):\n",
    "        model.fit(X_train, y_train)\n",
    "        return\n",
    "\n",
    "    memory_use = memory_usage((run_model, (model, X_train, y_train, )))\n",
    "    memory_use = [i/1024 for i in memory_use] # in GB\n",
    "    peak_use = np.max(memory_use)\n",
    "    average_use = np.mean(memory_use)\n",
    "    \n",
    "    end_time = time.time()\n",
    "    \n",
    "    training_time_use = end_time - start_time\n",
    "    print('Training finish!')\n",
    "    \n",
    "    return training_time_use, peak_use, average_use\n",
    "    \n",
    "def test_model(model, X_test, y_test):\n",
    "    \n",
    "    start_time = time.time()\n",
    "    \n",
    "    def run_model(model=model, X_test=X_test):\n",
    "        model.predict(X_test)\n",
    "        return\n",
    "\n",
    "    memory_use = memory_usage((run_model, (model, X_test, )))\n",
    "    memory_use = [i/1024 for i in memory_use] # in GB\n",
    "    peak_use = np.max(memory_use)\n",
    "    average_use = np.mean(memory_use)\n",
    "    \n",
    "    end_time = time.time()\n",
    "    \n",
    "    prediction_time_use = end_time - start_time\n",
    "    print('Prediction finish!')\n",
    "    \n",
    "    return prediction_time_use, peak_use, average_use\n",
    "\n"
   ]
  },
  {
   "cell_type": "markdown",
   "metadata": {},
   "source": [
    "# Run test"
   ]
  },
  {
   "cell_type": "code",
   "execution_count": 10,
   "metadata": {},
   "outputs": [
    {
     "data": {
      "application/vnd.jupyter.widget-view+json": {
       "model_id": "989eadc967544c79a81573dfedf39411",
       "version_major": 2,
       "version_minor": 0
      },
      "text/plain": [
       "  0%|          | 0/6 [00:00<?, ?it/s]"
      ]
     },
     "metadata": {},
     "output_type": "display_data"
    },
    {
     "name": "stderr",
     "output_type": "stream",
     "text": [
      "Generating Ensemble: 100%|██████████| 3/3 [00:03<00:00,  1.13s/it]\n",
      "Training: 100%|██████████| 3/3 [02:00<00:00, 40.32s/it]"
     ]
    },
    {
     "name": "stdout",
     "output_type": "stream",
     "text": [
      "Training finish!\n"
     ]
    },
    {
     "name": "stderr",
     "output_type": "stream",
     "text": [
      "\n",
      "Predicting: 100%|██████████| 3/3 [00:03<00:00,  1.12s/it]\n"
     ]
    },
    {
     "name": "stdout",
     "output_type": "stream",
     "text": [
      "Prediction finish!\n"
     ]
    },
    {
     "name": "stderr",
     "output_type": "stream",
     "text": [
      "Generating Ensemble: 100%|██████████| 3/3 [00:03<00:00,  1.13s/it]\n",
      "Training: 100%|██████████| 3/3 [02:03<00:00, 41.10s/it]"
     ]
    },
    {
     "name": "stdout",
     "output_type": "stream",
     "text": [
      "Training finish!\n"
     ]
    },
    {
     "name": "stderr",
     "output_type": "stream",
     "text": [
      "\n",
      "Predicting: 100%|██████████| 3/3 [00:06<00:00,  2.18s/it]"
     ]
    },
    {
     "name": "stdout",
     "output_type": "stream",
     "text": [
      "Prediction finish!\n"
     ]
    },
    {
     "name": "stderr",
     "output_type": "stream",
     "text": [
      "\n",
      "Generating Ensemble: 100%|██████████| 5/5 [00:05<00:00,  1.13s/it]\n",
      "Training: 100%|██████████| 5/5 [03:28<00:00, 41.76s/it]"
     ]
    },
    {
     "name": "stdout",
     "output_type": "stream",
     "text": [
      "Training finish!\n"
     ]
    },
    {
     "name": "stderr",
     "output_type": "stream",
     "text": [
      "\n",
      "Predicting: 100%|██████████| 5/5 [00:05<00:00,  1.13s/it]\n"
     ]
    },
    {
     "name": "stdout",
     "output_type": "stream",
     "text": [
      "Prediction finish!\n"
     ]
    },
    {
     "name": "stderr",
     "output_type": "stream",
     "text": [
      "Generating Ensemble: 100%|██████████| 5/5 [00:05<00:00,  1.14s/it]\n",
      "Training: 100%|██████████| 5/5 [03:30<00:00, 42.10s/it]"
     ]
    },
    {
     "name": "stdout",
     "output_type": "stream",
     "text": [
      "Training finish!\n"
     ]
    },
    {
     "name": "stderr",
     "output_type": "stream",
     "text": [
      "\n",
      "Predicting: 100%|██████████| 5/5 [00:10<00:00,  2.12s/it]"
     ]
    },
    {
     "name": "stdout",
     "output_type": "stream",
     "text": [
      "Prediction finish!\n"
     ]
    },
    {
     "name": "stderr",
     "output_type": "stream",
     "text": [
      "\n",
      "Generating Ensemble: 100%|██████████| 10/10 [00:11<00:00,  1.15s/it]\n",
      "Training: 100%|██████████| 10/10 [06:53<00:00, 41.31s/it]"
     ]
    },
    {
     "name": "stdout",
     "output_type": "stream",
     "text": [
      "Training finish!\n"
     ]
    },
    {
     "name": "stderr",
     "output_type": "stream",
     "text": [
      "\n",
      "Predicting: 100%|██████████| 10/10 [00:11<00:00,  1.15s/it]\n"
     ]
    },
    {
     "name": "stdout",
     "output_type": "stream",
     "text": [
      "Prediction finish!\n"
     ]
    },
    {
     "name": "stderr",
     "output_type": "stream",
     "text": [
      "Generating Ensemble: 100%|██████████| 10/10 [00:11<00:00,  1.20s/it]\n",
      "Training: 100%|██████████| 10/10 [06:55<00:00, 41.52s/it]"
     ]
    },
    {
     "name": "stdout",
     "output_type": "stream",
     "text": [
      "Training finish!\n"
     ]
    },
    {
     "name": "stderr",
     "output_type": "stream",
     "text": [
      "\n",
      "Predicting: 100%|██████████| 10/10 [00:21<00:00,  2.16s/it]"
     ]
    },
    {
     "name": "stdout",
     "output_type": "stream",
     "text": [
      "Prediction finish!\n"
     ]
    },
    {
     "name": "stderr",
     "output_type": "stream",
     "text": [
      "\n",
      "Generating Ensemble: 100%|██████████| 20/20 [00:23<00:00,  1.19s/it]\n",
      "Training: 100%|██████████| 20/20 [13:45<00:00, 41.25s/it]"
     ]
    },
    {
     "name": "stdout",
     "output_type": "stream",
     "text": [
      "Training finish!\n"
     ]
    },
    {
     "name": "stderr",
     "output_type": "stream",
     "text": [
      "\n",
      "Predicting: 100%|██████████| 20/20 [00:22<00:00,  1.12s/it]\n"
     ]
    },
    {
     "name": "stdout",
     "output_type": "stream",
     "text": [
      "Prediction finish!\n"
     ]
    },
    {
     "name": "stderr",
     "output_type": "stream",
     "text": [
      "Generating Ensemble: 100%|██████████| 20/20 [00:22<00:00,  1.15s/it]\n",
      "Training: 100%|██████████| 20/20 [13:52<00:00, 41.63s/it]"
     ]
    },
    {
     "name": "stdout",
     "output_type": "stream",
     "text": [
      "Training finish!\n"
     ]
    },
    {
     "name": "stderr",
     "output_type": "stream",
     "text": [
      "\n",
      "Predicting: 100%|██████████| 20/20 [00:43<00:00,  2.19s/it]"
     ]
    },
    {
     "name": "stdout",
     "output_type": "stream",
     "text": [
      "Prediction finish!\n"
     ]
    },
    {
     "name": "stderr",
     "output_type": "stream",
     "text": [
      "\n",
      "Generating Ensemble: 100%|██████████| 30/30 [00:36<00:00,  1.21s/it]\n",
      "Training: 100%|██████████| 30/30 [20:39<00:00, 41.31s/it]"
     ]
    },
    {
     "name": "stdout",
     "output_type": "stream",
     "text": [
      "Training finish!\n"
     ]
    },
    {
     "name": "stderr",
     "output_type": "stream",
     "text": [
      "\n",
      "Predicting: 100%|██████████| 30/30 [00:34<00:00,  1.14s/it]\n"
     ]
    },
    {
     "name": "stdout",
     "output_type": "stream",
     "text": [
      "Prediction finish!\n"
     ]
    },
    {
     "name": "stderr",
     "output_type": "stream",
     "text": [
      "Generating Ensemble: 100%|██████████| 30/30 [00:37<00:00,  1.25s/it]\n",
      "Training: 100%|██████████| 30/30 [20:51<00:00, 41.73s/it]"
     ]
    },
    {
     "name": "stdout",
     "output_type": "stream",
     "text": [
      "Training finish!\n"
     ]
    },
    {
     "name": "stderr",
     "output_type": "stream",
     "text": [
      "\n",
      "Predicting: 100%|██████████| 30/30 [01:03<00:00,  2.13s/it]"
     ]
    },
    {
     "name": "stdout",
     "output_type": "stream",
     "text": [
      "Prediction finish!\n"
     ]
    },
    {
     "name": "stderr",
     "output_type": "stream",
     "text": [
      "\n",
      "Generating Ensemble: 100%|██████████| 40/40 [00:50<00:00,  1.26s/it]\n",
      "Training: 100%|██████████| 40/40 [27:14<00:00, 40.87s/it]"
     ]
    },
    {
     "name": "stdout",
     "output_type": "stream",
     "text": [
      "Training finish!\n"
     ]
    },
    {
     "name": "stderr",
     "output_type": "stream",
     "text": [
      "\n",
      "Predicting: 100%|██████████| 40/40 [00:44<00:00,  1.12s/it]\n"
     ]
    },
    {
     "name": "stdout",
     "output_type": "stream",
     "text": [
      "Prediction finish!\n"
     ]
    },
    {
     "name": "stderr",
     "output_type": "stream",
     "text": [
      "Generating Ensemble: 100%|██████████| 40/40 [00:48<00:00,  1.20s/it]\n",
      "Training: 100%|██████████| 40/40 [27:34<00:00, 41.36s/it]"
     ]
    },
    {
     "name": "stdout",
     "output_type": "stream",
     "text": [
      "Training finish!\n"
     ]
    },
    {
     "name": "stderr",
     "output_type": "stream",
     "text": [
      "\n",
      "Predicting: 100%|██████████| 40/40 [01:25<00:00,  2.15s/it]"
     ]
    },
    {
     "name": "stdout",
     "output_type": "stream",
     "text": [
      "Prediction finish!\n"
     ]
    },
    {
     "name": "stderr",
     "output_type": "stream",
     "text": [
      "\n"
     ]
    }
   ],
   "source": [
    "log_list= []\n",
    "\n",
    "ensemble_fold_list = [3, 5, 10, 20, 30, 40]\n",
    "\n",
    "for ensemble_fold in tqdm(ensemble_fold_list):\n",
    "    \n",
    "    model_not_lazyloading = make_model_not_lazyloading(ensemble_fold)\n",
    "    train_time_use, peak_train_memory_use, average_train_memory_use = train_model(model_not_lazyloading, X_train, y_train)\n",
    "    test_time_use, peak_test_memory_use, average_test_memory_use = test_model(model_not_lazyloading, X_test, y_test)\n",
    "    \n",
    "    log_list.append({\n",
    "        'ensemble_fold':ensemble_fold,\n",
    "        'lazy_loading':False,\n",
    "        'train_time_use':train_time_use,\n",
    "        'peak_train_memory_use':peak_train_memory_use,\n",
    "        'average_train_memory_use':average_train_memory_use,\n",
    "        'test_time_use':test_time_use,\n",
    "        'peak_test_memory_use':peak_test_memory_use,\n",
    "        'average_test_memory_use':average_test_memory_use\n",
    "    })\n",
    "    \n",
    "    del model_not_lazyloading\n",
    "    \n",
    "    model_lazyloading = make_model_lazyloading(ensemble_fold)\n",
    "    train_time_use, peak_train_memory_use, average_train_memory_use = train_model(model_lazyloading, X_train, y_train)\n",
    "    test_time_use, peak_test_memory_use, average_test_memory_use = test_model(model_lazyloading, X_test, y_test)\n",
    "    \n",
    "    log_list.append({\n",
    "        'ensemble_fold':ensemble_fold,\n",
    "        'lazy_loading':True,\n",
    "        'train_time_use':train_time_use,\n",
    "        'peak_train_memory_use':peak_train_memory_use,\n",
    "        'average_train_memory_use':average_train_memory_use,\n",
    "        'test_time_use':test_time_use,\n",
    "        'peak_test_memory_use':peak_test_memory_use,\n",
    "        'average_test_memory_use':average_test_memory_use\n",
    "    })\n",
    "    \n",
    "    del model_lazyloading\n",
    "    \n",
    "    "
   ]
  },
  {
   "cell_type": "code",
   "execution_count": 12,
   "metadata": {},
   "outputs": [
    {
     "data": {
      "text/html": [
       "<div>\n",
       "<style scoped>\n",
       "    .dataframe tbody tr th:only-of-type {\n",
       "        vertical-align: middle;\n",
       "    }\n",
       "\n",
       "    .dataframe tbody tr th {\n",
       "        vertical-align: top;\n",
       "    }\n",
       "\n",
       "    .dataframe thead th {\n",
       "        text-align: right;\n",
       "    }\n",
       "</style>\n",
       "<table border=\"1\" class=\"dataframe\">\n",
       "  <thead>\n",
       "    <tr style=\"text-align: right;\">\n",
       "      <th></th>\n",
       "      <th>ensemble_fold</th>\n",
       "      <th>lazy_loading</th>\n",
       "      <th>train_time_use</th>\n",
       "      <th>peak_train_memory_use</th>\n",
       "      <th>average_train_memory_use</th>\n",
       "      <th>test_time_use</th>\n",
       "      <th>peak_test_memory_use</th>\n",
       "      <th>average_test_memory_use</th>\n",
       "    </tr>\n",
       "  </thead>\n",
       "  <tbody>\n",
       "    <tr>\n",
       "      <th>0</th>\n",
       "      <td>3</td>\n",
       "      <td>False</td>\n",
       "      <td>124.643243</td>\n",
       "      <td>2.142380</td>\n",
       "      <td>1.776680</td>\n",
       "      <td>3.752282</td>\n",
       "      <td>2.219360</td>\n",
       "      <td>2.211794</td>\n",
       "    </tr>\n",
       "    <tr>\n",
       "      <th>1</th>\n",
       "      <td>3</td>\n",
       "      <td>True</td>\n",
       "      <td>127.121982</td>\n",
       "      <td>2.891403</td>\n",
       "      <td>2.499677</td>\n",
       "      <td>6.961078</td>\n",
       "      <td>3.016815</td>\n",
       "      <td>2.899677</td>\n",
       "    </tr>\n",
       "    <tr>\n",
       "      <th>2</th>\n",
       "      <td>5</td>\n",
       "      <td>False</td>\n",
       "      <td>214.892371</td>\n",
       "      <td>3.385010</td>\n",
       "      <td>3.014771</td>\n",
       "      <td>6.143069</td>\n",
       "      <td>3.386505</td>\n",
       "      <td>3.385702</td>\n",
       "    </tr>\n",
       "    <tr>\n",
       "      <th>3</th>\n",
       "      <td>5</td>\n",
       "      <td>True</td>\n",
       "      <td>216.611525</td>\n",
       "      <td>3.400070</td>\n",
       "      <td>3.321900</td>\n",
       "      <td>11.085089</td>\n",
       "      <td>3.239746</td>\n",
       "      <td>2.909443</td>\n",
       "    </tr>\n",
       "    <tr>\n",
       "      <th>4</th>\n",
       "      <td>10</td>\n",
       "      <td>False</td>\n",
       "      <td>425.086186</td>\n",
       "      <td>3.564209</td>\n",
       "      <td>3.024224</td>\n",
       "      <td>11.998664</td>\n",
       "      <td>2.775177</td>\n",
       "      <td>2.343333</td>\n",
       "    </tr>\n",
       "    <tr>\n",
       "      <th>5</th>\n",
       "      <td>10</td>\n",
       "      <td>True</td>\n",
       "      <td>427.636022</td>\n",
       "      <td>3.242584</td>\n",
       "      <td>2.792008</td>\n",
       "      <td>22.192055</td>\n",
       "      <td>3.300964</td>\n",
       "      <td>3.262257</td>\n",
       "    </tr>\n",
       "    <tr>\n",
       "      <th>6</th>\n",
       "      <td>20</td>\n",
       "      <td>False</td>\n",
       "      <td>849.239290</td>\n",
       "      <td>3.253647</td>\n",
       "      <td>2.356456</td>\n",
       "      <td>22.949365</td>\n",
       "      <td>4.707184</td>\n",
       "      <td>4.254614</td>\n",
       "    </tr>\n",
       "    <tr>\n",
       "      <th>7</th>\n",
       "      <td>20</td>\n",
       "      <td>True</td>\n",
       "      <td>856.095079</td>\n",
       "      <td>3.199005</td>\n",
       "      <td>2.433513</td>\n",
       "      <td>44.455940</td>\n",
       "      <td>2.685013</td>\n",
       "      <td>2.607614</td>\n",
       "    </tr>\n",
       "    <tr>\n",
       "      <th>8</th>\n",
       "      <td>30</td>\n",
       "      <td>False</td>\n",
       "      <td>1276.125569</td>\n",
       "      <td>3.290817</td>\n",
       "      <td>2.319885</td>\n",
       "      <td>34.866566</td>\n",
       "      <td>6.339859</td>\n",
       "      <td>4.900478</td>\n",
       "    </tr>\n",
       "    <tr>\n",
       "      <th>9</th>\n",
       "      <td>30</td>\n",
       "      <td>True</td>\n",
       "      <td>1289.964938</td>\n",
       "      <td>3.367615</td>\n",
       "      <td>2.650008</td>\n",
       "      <td>64.755426</td>\n",
       "      <td>2.727402</td>\n",
       "      <td>2.603010</td>\n",
       "    </tr>\n",
       "    <tr>\n",
       "      <th>10</th>\n",
       "      <td>40</td>\n",
       "      <td>False</td>\n",
       "      <td>1685.935830</td>\n",
       "      <td>3.607254</td>\n",
       "      <td>2.748954</td>\n",
       "      <td>45.656563</td>\n",
       "      <td>8.115158</td>\n",
       "      <td>5.828427</td>\n",
       "    </tr>\n",
       "    <tr>\n",
       "      <th>11</th>\n",
       "      <td>40</td>\n",
       "      <td>True</td>\n",
       "      <td>1703.282001</td>\n",
       "      <td>4.484177</td>\n",
       "      <td>3.213610</td>\n",
       "      <td>86.798334</td>\n",
       "      <td>2.951721</td>\n",
       "      <td>2.789791</td>\n",
       "    </tr>\n",
       "  </tbody>\n",
       "</table>\n",
       "</div>"
      ],
      "text/plain": [
       "    ensemble_fold  lazy_loading  train_time_use  peak_train_memory_use  \\\n",
       "0               3         False      124.643243               2.142380   \n",
       "1               3          True      127.121982               2.891403   \n",
       "2               5         False      214.892371               3.385010   \n",
       "3               5          True      216.611525               3.400070   \n",
       "4              10         False      425.086186               3.564209   \n",
       "5              10          True      427.636022               3.242584   \n",
       "6              20         False      849.239290               3.253647   \n",
       "7              20          True      856.095079               3.199005   \n",
       "8              30         False     1276.125569               3.290817   \n",
       "9              30          True     1289.964938               3.367615   \n",
       "10             40         False     1685.935830               3.607254   \n",
       "11             40          True     1703.282001               4.484177   \n",
       "\n",
       "    average_train_memory_use  test_time_use  peak_test_memory_use  \\\n",
       "0                   1.776680       3.752282              2.219360   \n",
       "1                   2.499677       6.961078              3.016815   \n",
       "2                   3.014771       6.143069              3.386505   \n",
       "3                   3.321900      11.085089              3.239746   \n",
       "4                   3.024224      11.998664              2.775177   \n",
       "5                   2.792008      22.192055              3.300964   \n",
       "6                   2.356456      22.949365              4.707184   \n",
       "7                   2.433513      44.455940              2.685013   \n",
       "8                   2.319885      34.866566              6.339859   \n",
       "9                   2.650008      64.755426              2.727402   \n",
       "10                  2.748954      45.656563              8.115158   \n",
       "11                  3.213610      86.798334              2.951721   \n",
       "\n",
       "    average_test_memory_use  \n",
       "0                  2.211794  \n",
       "1                  2.899677  \n",
       "2                  3.385702  \n",
       "3                  2.909443  \n",
       "4                  2.343333  \n",
       "5                  3.262257  \n",
       "6                  4.254614  \n",
       "7                  2.607614  \n",
       "8                  4.900478  \n",
       "9                  2.603010  \n",
       "10                 5.828427  \n",
       "11                 2.789791  "
      ]
     },
     "execution_count": 12,
     "metadata": {},
     "output_type": "execute_result"
    }
   ],
   "source": [
    "log_df = pd.DataFrame(log_list)\n",
    "log_df.to_csv('tmp_log_df.csv', index=False)\n",
    "log_df"
   ]
  },
  {
   "cell_type": "markdown",
   "metadata": {},
   "source": [
    "## Plotting experiment results"
   ]
  },
  {
   "cell_type": "code",
   "execution_count": 36,
   "metadata": {},
   "outputs": [
    {
     "data": {
      "image/png": "[encoded data removed]",
      "text/plain": [
       "<Figure size 1500x900 with 6 Axes>"
      ]
     },
     "metadata": {},
     "output_type": "display_data"
    }
   ],
   "source": [
    "fig,ax = plt.subplots(2,3,figsize=(15,9))\n",
    "for var_id, var_ in enumerate(['train_time_use','peak_train_memory_use','average_train_memory_use',\n",
    "             'test_time_use','peak_test_memory_use','average_test_memory_use']):\n",
    "    ax[var_id//3, var_id%3].plot(\n",
    "        log_df[log_df['lazy_loading']==False]['ensemble_fold'],\n",
    "        log_df[log_df['lazy_loading']==False][var_],\n",
    "        label='non-lazy'\n",
    "    )\n",
    "    ax[var_id//3, var_id%3].scatter(\n",
    "        log_df[log_df['lazy_loading']==False]['ensemble_fold'],\n",
    "        log_df[log_df['lazy_loading']==False][var_],\n",
    "    )\n",
    "\n",
    "    ax[var_id//3, var_id%3].plot(\n",
    "        log_df[log_df['lazy_loading']==True]['ensemble_fold'],\n",
    "        log_df[log_df['lazy_loading']==True][var_],\n",
    "        label='lazy'\n",
    "    )\n",
    "    ax[var_id//3, var_id%3].scatter(\n",
    "        log_df[log_df['lazy_loading']==True]['ensemble_fold'],\n",
    "        log_df[log_df['lazy_loading']==True][var_],\n",
    "    )\n",
    "\n",
    "    ax[var_id//3, var_id%3].legend()\n",
    "    ax[var_id//3, var_id%3].set_title(var_)\n",
    "    if 'time' in var_:\n",
    "        ax[var_id//3, var_id%3].set_ylabel('Seconds')\n",
    "    elif 'memory' in var_:\n",
    "        ax[var_id//3, var_id%3].set_ylabel('GB')\n",
    "    ax[var_id//3, var_id%3].set_xlabel('Ensemble fold')\n",
    "\n",
    "\n",
    "plt.subplots_adjust(wspace=0.2, hspace=0.3)\n"
   ]
  },
  {
   "cell_type": "markdown",
   "metadata": {},
   "source": [
    "## Speed vs. memory usage"
   ]
  },
  {
   "cell_type": "markdown",
   "metadata": {},
   "source": [
    "From the results we can clearly see the trade-off. Using lazy-loading:\n",
    "1. Does not have large impact on training speed.\n",
    "2. Has large impact on testing (prediction) speed. The time for prediction is more than doubled in our case.\n",
    "3. Lazy-loading will maintain memory-use stable and unchanged as ensemble fold increases (maintaining ~ 3GB in our case), while non-lazy-loading will have linear memory consumption growth."
   ]
  },
  {
   "cell_type": "markdown",
   "metadata": {},
   "source": [
    "## Save model"
   ]
  },
  {
   "cell_type": "markdown",
   "metadata": {},
   "source": [
    "If you are using `lazy_loading=True`, try:"
   ]
  },
  {
   "cell_type": "code",
   "execution_count": null,
   "metadata": {},
   "outputs": [],
   "source": [
    "model.save(tar_gz_file='./my_model.tar.gz', remove_temporary_file=True) \n",
    "# After removing temporary files, you can no longer access to the ensembles saved on disk!\n",
    "# Instead, they are in the .tar.gz file now.\n"
   ]
  },
  {
   "cell_type": "code",
   "execution_count": null,
   "metadata": {},
   "outputs": [],
   "source": [
    "# load model\n",
    "model = AdaSTEM.load(tar_gz_file='./my_model.tar.gz', new_lazy_loading_path='./new_lazyloading_ensemble_folder', remove_original_file=False)\n",
    "# if not specifying target_lazyloading_path, a random folder will be made under your current working directory\n"
   ]
  },
  {
   "cell_type": "code",
   "execution_count": null,
   "metadata": {},
   "outputs": [
    {
     "data": {
      "text/plain": [
       "'new_lazyloading_ensemble_folder'"
      ]
     },
     "metadata": {},
     "output_type": "display_data"
    }
   ],
   "source": [
    "model.lazy_loading_dir # notice that your lazy loading folder now is changed!"
   ]
  },
  {
   "cell_type": "markdown",
   "metadata": {},
   "source": [
    "Make sure you use the same version of `stemflow` for write and load models"
   ]
  },
  {
   "cell_type": "markdown",
   "metadata": {},
   "source": [
    "## Concluding mark"
   ]
  },
  {
   "cell_type": "markdown",
   "metadata": {},
   "source": [
    "**Please open an issue if you have any question**\n",
    "\n",
    "**Cheers!**\n"
   ]
  },
  {
   "cell_type": "code",
   "execution_count": 38,
   "metadata": {},
   "outputs": [
    {
     "name": "stdout",
     "output_type": "stream",
     "text": [
      "Last updated: 2024-10-27T16:06:11.216365-05:00\n",
      "\n",
      "Python implementation: CPython\n",
      "Python version       : 3.11.10\n",
      "IPython version      : 8.22.1\n",
      "\n",
      "Compiler    : Clang 17.0.6 \n",
      "OS          : Darwin\n",
      "Release     : 23.1.0\n",
      "Machine     : arm64\n",
      "Processor   : arm\n",
      "CPU cores   : 14\n",
      "Architecture: 64bit\n",
      "\n",
      "stemflow    : 1.1.2\n",
      "numpy       : 1.26.4\n",
      "scipy       : 1.14.1\n",
      "pandas      : 2.2.3\n",
      "xgboost     : 2.0.3\n",
      "tqdm        : 4.66.5\n",
      "matplotlib  : 3.9.2\n",
      "h3pandas    : 0.2.6\n",
      "geopandas   : 0.14.3\n",
      "scikit-learn: 1.5.2\n",
      "\n"
     ]
    }
   ],
   "source": [
    "from watermark import watermark\n",
    "print(watermark())\n",
    "print(watermark(packages=\"stemflow,numpy,scipy,pandas,xgboost,tqdm,matplotlib,h3pandas,geopandas,scikit-learn\"))\n"
   ]
  }
 ],
 "metadata": {
  "kernelspec": {
   "display_name": "base",
   "language": "python",
   "name": "python3"
  },
  "language_info": {
   "codemirror_mode": {
    "name": "ipython",
    "version": 3
   },
   "file_extension": ".py",
   "mimetype": "text/x-python",
   "name": "python",
   "nbconvert_exporter": "python",
   "pygments_lexer": "ipython3",
   "version": "3.11.10"
  },
  "orig_nbformat": 4
 },
 "nbformat": 4,
 "nbformat_minor": 2
}
