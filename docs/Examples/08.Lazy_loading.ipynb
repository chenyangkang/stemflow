{
 "cells": [
  {
   "cell_type": "markdown",
   "metadata": {},
   "source": [
    "# Lazy loading ensembles"
   ]
  },
  {
   "cell_type": "markdown",
   "metadata": {},
   "source": [
    "When each ensemble contains huge amount of models & large data set or the ensemble amount is large (e.g., > 50), it might not be viable to load all ensembles into memory. In that case, we can ask the model to save all ensembles into disk, and only load them when the ensembles are being used. This process may dramatically reduce the memory usage but also reduce the speed of prediction, since the IO (read & write between disk and memory) will be a speed limit here.\n"
   ]
  },
  {
   "cell_type": "markdown",
   "metadata": {},
   "source": [
    "We run experiments to see how this speed-memory trade-off works:"
   ]
  },
  {
   "cell_type": "code",
   "execution_count": 2,
   "metadata": {},
   "outputs": [],
   "source": [
    "import os\n",
    "import sys \n",
    "\n",
    "import pandas as pd\n",
    "import numpy as np\n",
    "import random\n",
    "from tqdm.auto import tqdm\n",
    "import matplotlib.pyplot as plt\n",
    "import matplotlib\n",
    "import warnings\n",
    "import pickle\n",
    "import h3pandas\n",
    "import copy\n",
    "import gc\n",
    "\n",
    "pd.set_option('display.max_columns', None)\n",
    "# warnings.filterwarnings('ignore')\n"
   ]
  },
  {
   "cell_type": "code",
   "execution_count": 3,
   "metadata": {},
   "outputs": [],
   "source": [
    "%load_ext autoreload\n",
    "%autoreload 2"
   ]
  },
  {
   "cell_type": "markdown",
   "metadata": {},
   "source": [
    "## Download data"
   ]
  },
  {
   "cell_type": "markdown",
   "metadata": {},
   "source": [
    "### Training/test data"
   ]
  },
  {
   "cell_type": "markdown",
   "metadata": {},
   "source": [
    "Please download the sample data from:<br>\n",
    "- Mallard: https://figshare.com/articles/dataset/Sample_data_Mallard_csv/24080745<br>\n",
    "\n",
    "Suppose now it's downloaded and saved as './Sample_data_Mallard.csv'<br>\n",
    "\n",
    "Alternatively, you can try other species like <br>\n",
    "- Alder Flycatcher: https://figshare.com/articles/dataset/Sample_data_Alder_Flycatcher_csv/24080751<br>\n",
    "- Short-eared Owl: https://figshare.com/articles/dataset/Sample_data_Short-eared_Owl_csv/24080742<br>\n",
    "- Eurasian Tree Sparrow: https://figshare.com/articles/dataset/Sample_data_Eurasian_Tree_Sparrow_csv/24080748<br>\n",
    "\n",
    "**Caveat: These bird observation data are about 200MB each file.**"
   ]
  },
  {
   "cell_type": "code",
   "execution_count": 3,
   "metadata": {},
   "outputs": [],
   "source": [
    "data = pd.read_csv(f'./Sample_data_Mallard.csv')\n",
    "data = data.drop('sampling_event_identifier', axis=1)\n"
   ]
  },
  {
   "cell_type": "code",
   "execution_count": 4,
   "metadata": {},
   "outputs": [],
   "source": [
    "data = data.sample(frac=0.7)"
   ]
  },
  {
   "cell_type": "markdown",
   "metadata": {},
   "source": [
    "### Prediction set"
   ]
  },
  {
   "cell_type": "markdown",
   "metadata": {},
   "source": [
    "Prediction set are used to feed into a trained AdaSTEM model and make prediction: at some location, at some day of year, given the environmental variables, how many Mallard individual do I expected to observe?\n",
    "\n",
    "The prediction set will be loaded after the model is trained.\n",
    "\n",
    "Download the prediction set from: https://figshare.com/articles/dataset/Predset_2020_csv/24124980\n",
    "\n",
    "**Caveat: The file is about 700MB.**"
   ]
  },
  {
   "cell_type": "markdown",
   "metadata": {},
   "source": [
    "## Get X and y"
   ]
  },
  {
   "cell_type": "code",
   "execution_count": 5,
   "metadata": {},
   "outputs": [],
   "source": [
    "X = data.drop('count', axis=1)\n",
    "y = data[['count']]\n"
   ]
  },
  {
   "cell_type": "code",
   "execution_count": 6,
   "metadata": {},
   "outputs": [
    {
     "data": {
      "text/html": [
       "<div>\n",
       "<style scoped>\n",
       "    .dataframe tbody tr th:only-of-type {\n",
       "        vertical-align: middle;\n",
       "    }\n",
       "\n",
       "    .dataframe tbody tr th {\n",
       "        vertical-align: top;\n",
       "    }\n",
       "\n",
       "    .dataframe thead th {\n",
       "        text-align: right;\n",
       "    }\n",
       "</style>\n",
       "<table border=\"1\" class=\"dataframe\">\n",
       "  <thead>\n",
       "    <tr style=\"text-align: right;\">\n",
       "      <th></th>\n",
       "      <th>longitude</th>\n",
       "      <th>latitude</th>\n",
       "      <th>DOY</th>\n",
       "      <th>duration_minutes</th>\n",
       "      <th>Traveling</th>\n",
       "      <th>Stationary</th>\n",
       "      <th>Area</th>\n",
       "      <th>effort_distance_km</th>\n",
       "      <th>number_observers</th>\n",
       "      <th>obsvr_species_count</th>\n",
       "      <th>time_observation_started_minute_of_day</th>\n",
       "      <th>elevation_mean</th>\n",
       "      <th>slope_mean</th>\n",
       "      <th>eastness_mean</th>\n",
       "      <th>northness_mean</th>\n",
       "      <th>bio1</th>\n",
       "      <th>bio2</th>\n",
       "      <th>bio3</th>\n",
       "      <th>bio4</th>\n",
       "      <th>bio5</th>\n",
       "      <th>bio6</th>\n",
       "      <th>bio7</th>\n",
       "      <th>bio8</th>\n",
       "      <th>bio9</th>\n",
       "      <th>bio10</th>\n",
       "      <th>bio11</th>\n",
       "      <th>bio12</th>\n",
       "      <th>bio13</th>\n",
       "      <th>bio14</th>\n",
       "      <th>bio15</th>\n",
       "      <th>bio16</th>\n",
       "      <th>bio17</th>\n",
       "      <th>bio18</th>\n",
       "      <th>bio19</th>\n",
       "      <th>closed_shrublands</th>\n",
       "      <th>cropland_or_natural_vegetation_mosaics</th>\n",
       "      <th>croplands</th>\n",
       "      <th>deciduous_broadleaf_forests</th>\n",
       "      <th>deciduous_needleleaf_forests</th>\n",
       "      <th>evergreen_broadleaf_forests</th>\n",
       "      <th>evergreen_needleleaf_forests</th>\n",
       "      <th>grasslands</th>\n",
       "      <th>mixed_forests</th>\n",
       "      <th>non_vegetated_lands</th>\n",
       "      <th>open_shrublands</th>\n",
       "      <th>permanent_wetlands</th>\n",
       "      <th>savannas</th>\n",
       "      <th>urban_and_built_up_lands</th>\n",
       "      <th>water_bodies</th>\n",
       "      <th>woody_savannas</th>\n",
       "      <th>entropy</th>\n",
       "    </tr>\n",
       "  </thead>\n",
       "  <tbody>\n",
       "    <tr>\n",
       "      <th>263175</th>\n",
       "      <td>-123.019044</td>\n",
       "      <td>47.858353</td>\n",
       "      <td>195</td>\n",
       "      <td>7.0</td>\n",
       "      <td>1</td>\n",
       "      <td>0</td>\n",
       "      <td>0</td>\n",
       "      <td>0.37</td>\n",
       "      <td>1.0</td>\n",
       "      <td>128.0</td>\n",
       "      <td>778</td>\n",
       "      <td>1110.722200</td>\n",
       "      <td>18.219984</td>\n",
       "      <td>0.011649</td>\n",
       "      <td>0.089834</td>\n",
       "      <td>10.357637</td>\n",
       "      <td>6.032252</td>\n",
       "      <td>29.674278</td>\n",
       "      <td>541.989926</td>\n",
       "      <td>21.865567</td>\n",
       "      <td>1.537348</td>\n",
       "      <td>20.328219</td>\n",
       "      <td>4.168856</td>\n",
       "      <td>18.101185</td>\n",
       "      <td>17.786334</td>\n",
       "      <td>4.306112</td>\n",
       "      <td>0.236358</td>\n",
       "      <td>0.044619</td>\n",
       "      <td>0.006454</td>\n",
       "      <td>0.000098</td>\n",
       "      <td>0.096307</td>\n",
       "      <td>0.024372</td>\n",
       "      <td>0.029845</td>\n",
       "      <td>0.093691</td>\n",
       "      <td>0.0</td>\n",
       "      <td>0.0</td>\n",
       "      <td>0.000000</td>\n",
       "      <td>0.0</td>\n",
       "      <td>0.0</td>\n",
       "      <td>0.0</td>\n",
       "      <td>0.916667</td>\n",
       "      <td>0.000000</td>\n",
       "      <td>0.0</td>\n",
       "      <td>0.000000</td>\n",
       "      <td>0.000000</td>\n",
       "      <td>0.000000</td>\n",
       "      <td>0.000000</td>\n",
       "      <td>0.000000</td>\n",
       "      <td>0.000000</td>\n",
       "      <td>0.083333</td>\n",
       "      <td>0.286836</td>\n",
       "    </tr>\n",
       "    <tr>\n",
       "      <th>280085</th>\n",
       "      <td>12.473688</td>\n",
       "      <td>55.922807</td>\n",
       "      <td>20</td>\n",
       "      <td>240.0</td>\n",
       "      <td>0</td>\n",
       "      <td>1</td>\n",
       "      <td>0</td>\n",
       "      <td>-1.00</td>\n",
       "      <td>1.0</td>\n",
       "      <td>1352.0</td>\n",
       "      <td>495</td>\n",
       "      <td>15.388889</td>\n",
       "      <td>0.565277</td>\n",
       "      <td>0.134130</td>\n",
       "      <td>0.318295</td>\n",
       "      <td>10.058796</td>\n",
       "      <td>5.818570</td>\n",
       "      <td>28.670519</td>\n",
       "      <td>525.063282</td>\n",
       "      <td>23.219485</td>\n",
       "      <td>2.924875</td>\n",
       "      <td>20.294610</td>\n",
       "      <td>4.399586</td>\n",
       "      <td>7.581833</td>\n",
       "      <td>17.380332</td>\n",
       "      <td>4.169970</td>\n",
       "      <td>0.094377</td>\n",
       "      <td>0.012997</td>\n",
       "      <td>0.002858</td>\n",
       "      <td>0.000008</td>\n",
       "      <td>0.033297</td>\n",
       "      <td>0.012446</td>\n",
       "      <td>0.026897</td>\n",
       "      <td>0.026974</td>\n",
       "      <td>0.0</td>\n",
       "      <td>0.0</td>\n",
       "      <td>0.000000</td>\n",
       "      <td>0.0</td>\n",
       "      <td>0.0</td>\n",
       "      <td>0.0</td>\n",
       "      <td>0.000000</td>\n",
       "      <td>0.027778</td>\n",
       "      <td>0.0</td>\n",
       "      <td>0.000000</td>\n",
       "      <td>0.000000</td>\n",
       "      <td>0.027778</td>\n",
       "      <td>0.000000</td>\n",
       "      <td>0.916667</td>\n",
       "      <td>0.027778</td>\n",
       "      <td>0.000000</td>\n",
       "      <td>0.378387</td>\n",
       "    </tr>\n",
       "    <tr>\n",
       "      <th>112684</th>\n",
       "      <td>-2.431044</td>\n",
       "      <td>37.068092</td>\n",
       "      <td>189</td>\n",
       "      <td>41.0</td>\n",
       "      <td>1</td>\n",
       "      <td>0</td>\n",
       "      <td>0</td>\n",
       "      <td>0.61</td>\n",
       "      <td>1.0</td>\n",
       "      <td>824.0</td>\n",
       "      <td>1267</td>\n",
       "      <td>577.500000</td>\n",
       "      <td>4.710071</td>\n",
       "      <td>-0.163467</td>\n",
       "      <td>0.133471</td>\n",
       "      <td>17.773978</td>\n",
       "      <td>9.253330</td>\n",
       "      <td>34.638289</td>\n",
       "      <td>570.883930</td>\n",
       "      <td>32.073045</td>\n",
       "      <td>5.358878</td>\n",
       "      <td>26.714167</td>\n",
       "      <td>13.548977</td>\n",
       "      <td>26.818733</td>\n",
       "      <td>25.499594</td>\n",
       "      <td>11.202012</td>\n",
       "      <td>0.033857</td>\n",
       "      <td>0.007722</td>\n",
       "      <td>0.000086</td>\n",
       "      <td>0.000008</td>\n",
       "      <td>0.020974</td>\n",
       "      <td>0.000483</td>\n",
       "      <td>0.002288</td>\n",
       "      <td>0.006723</td>\n",
       "      <td>0.0</td>\n",
       "      <td>0.0</td>\n",
       "      <td>0.000000</td>\n",
       "      <td>0.0</td>\n",
       "      <td>0.0</td>\n",
       "      <td>0.0</td>\n",
       "      <td>0.000000</td>\n",
       "      <td>0.805556</td>\n",
       "      <td>0.0</td>\n",
       "      <td>0.027778</td>\n",
       "      <td>0.027778</td>\n",
       "      <td>0.000000</td>\n",
       "      <td>0.000000</td>\n",
       "      <td>0.138889</td>\n",
       "      <td>0.000000</td>\n",
       "      <td>0.000000</td>\n",
       "      <td>0.647442</td>\n",
       "    </tr>\n",
       "    <tr>\n",
       "      <th>265414</th>\n",
       "      <td>-110.020510</td>\n",
       "      <td>40.432903</td>\n",
       "      <td>146</td>\n",
       "      <td>7.0</td>\n",
       "      <td>0</td>\n",
       "      <td>1</td>\n",
       "      <td>0</td>\n",
       "      <td>-1.00</td>\n",
       "      <td>1.0</td>\n",
       "      <td>507.0</td>\n",
       "      <td>519</td>\n",
       "      <td>1848.000000</td>\n",
       "      <td>1.490136</td>\n",
       "      <td>0.106562</td>\n",
       "      <td>-0.966846</td>\n",
       "      <td>9.715427</td>\n",
       "      <td>13.209330</td>\n",
       "      <td>28.637380</td>\n",
       "      <td>1110.109971</td>\n",
       "      <td>33.798837</td>\n",
       "      <td>-12.327343</td>\n",
       "      <td>46.126180</td>\n",
       "      <td>3.553384</td>\n",
       "      <td>25.946747</td>\n",
       "      <td>23.779383</td>\n",
       "      <td>-4.921639</td>\n",
       "      <td>0.023079</td>\n",
       "      <td>0.004478</td>\n",
       "      <td>0.000293</td>\n",
       "      <td>0.000002</td>\n",
       "      <td>0.011060</td>\n",
       "      <td>0.001562</td>\n",
       "      <td>0.004894</td>\n",
       "      <td>0.005137</td>\n",
       "      <td>0.0</td>\n",
       "      <td>0.0</td>\n",
       "      <td>0.222222</td>\n",
       "      <td>0.0</td>\n",
       "      <td>0.0</td>\n",
       "      <td>0.0</td>\n",
       "      <td>0.000000</td>\n",
       "      <td>0.666667</td>\n",
       "      <td>0.0</td>\n",
       "      <td>0.000000</td>\n",
       "      <td>0.000000</td>\n",
       "      <td>0.000000</td>\n",
       "      <td>0.000000</td>\n",
       "      <td>0.111111</td>\n",
       "      <td>0.000000</td>\n",
       "      <td>0.000000</td>\n",
       "      <td>0.848686</td>\n",
       "    </tr>\n",
       "    <tr>\n",
       "      <th>214723</th>\n",
       "      <td>-115.765366</td>\n",
       "      <td>49.502519</td>\n",
       "      <td>2</td>\n",
       "      <td>5.0</td>\n",
       "      <td>1</td>\n",
       "      <td>0</td>\n",
       "      <td>0</td>\n",
       "      <td>0.30</td>\n",
       "      <td>1.0</td>\n",
       "      <td>208.0</td>\n",
       "      <td>673</td>\n",
       "      <td>926.666700</td>\n",
       "      <td>1.435143</td>\n",
       "      <td>0.079117</td>\n",
       "      <td>0.243562</td>\n",
       "      <td>5.719074</td>\n",
       "      <td>8.978106</td>\n",
       "      <td>26.744377</td>\n",
       "      <td>852.675824</td>\n",
       "      <td>25.758665</td>\n",
       "      <td>-7.811405</td>\n",
       "      <td>33.570070</td>\n",
       "      <td>-2.597283</td>\n",
       "      <td>19.475712</td>\n",
       "      <td>17.455207</td>\n",
       "      <td>-4.053263</td>\n",
       "      <td>0.071918</td>\n",
       "      <td>0.010628</td>\n",
       "      <td>0.001074</td>\n",
       "      <td>0.000009</td>\n",
       "      <td>0.029174</td>\n",
       "      <td>0.005960</td>\n",
       "      <td>0.005960</td>\n",
       "      <td>0.024750</td>\n",
       "      <td>0.0</td>\n",
       "      <td>0.0</td>\n",
       "      <td>0.000000</td>\n",
       "      <td>0.0</td>\n",
       "      <td>0.0</td>\n",
       "      <td>0.0</td>\n",
       "      <td>0.638889</td>\n",
       "      <td>0.000000</td>\n",
       "      <td>0.0</td>\n",
       "      <td>0.000000</td>\n",
       "      <td>0.000000</td>\n",
       "      <td>0.000000</td>\n",
       "      <td>0.027778</td>\n",
       "      <td>0.000000</td>\n",
       "      <td>0.000000</td>\n",
       "      <td>0.333333</td>\n",
       "      <td>0.751984</td>\n",
       "    </tr>\n",
       "  </tbody>\n",
       "</table>\n",
       "</div>"
      ],
      "text/plain": [
       "         longitude   latitude  DOY  duration_minutes  Traveling  Stationary  \\\n",
       "263175 -123.019044  47.858353  195               7.0          1           0   \n",
       "280085   12.473688  55.922807   20             240.0          0           1   \n",
       "112684   -2.431044  37.068092  189              41.0          1           0   \n",
       "265414 -110.020510  40.432903  146               7.0          0           1   \n",
       "214723 -115.765366  49.502519    2               5.0          1           0   \n",
       "\n",
       "        Area  effort_distance_km  number_observers  obsvr_species_count  \\\n",
       "263175     0                0.37               1.0                128.0   \n",
       "280085     0               -1.00               1.0               1352.0   \n",
       "112684     0                0.61               1.0                824.0   \n",
       "265414     0               -1.00               1.0                507.0   \n",
       "214723     0                0.30               1.0                208.0   \n",
       "\n",
       "        time_observation_started_minute_of_day  elevation_mean  slope_mean  \\\n",
       "263175                                     778     1110.722200   18.219984   \n",
       "280085                                     495       15.388889    0.565277   \n",
       "112684                                    1267      577.500000    4.710071   \n",
       "265414                                     519     1848.000000    1.490136   \n",
       "214723                                     673      926.666700    1.435143   \n",
       "\n",
       "        eastness_mean  northness_mean       bio1       bio2       bio3  \\\n",
       "263175       0.011649        0.089834  10.357637   6.032252  29.674278   \n",
       "280085       0.134130        0.318295  10.058796   5.818570  28.670519   \n",
       "112684      -0.163467        0.133471  17.773978   9.253330  34.638289   \n",
       "265414       0.106562       -0.966846   9.715427  13.209330  28.637380   \n",
       "214723       0.079117        0.243562   5.719074   8.978106  26.744377   \n",
       "\n",
       "               bio4       bio5       bio6       bio7       bio8       bio9  \\\n",
       "263175   541.989926  21.865567   1.537348  20.328219   4.168856  18.101185   \n",
       "280085   525.063282  23.219485   2.924875  20.294610   4.399586   7.581833   \n",
       "112684   570.883930  32.073045   5.358878  26.714167  13.548977  26.818733   \n",
       "265414  1110.109971  33.798837 -12.327343  46.126180   3.553384  25.946747   \n",
       "214723   852.675824  25.758665  -7.811405  33.570070  -2.597283  19.475712   \n",
       "\n",
       "            bio10      bio11     bio12     bio13     bio14     bio15  \\\n",
       "263175  17.786334   4.306112  0.236358  0.044619  0.006454  0.000098   \n",
       "280085  17.380332   4.169970  0.094377  0.012997  0.002858  0.000008   \n",
       "112684  25.499594  11.202012  0.033857  0.007722  0.000086  0.000008   \n",
       "265414  23.779383  -4.921639  0.023079  0.004478  0.000293  0.000002   \n",
       "214723  17.455207  -4.053263  0.071918  0.010628  0.001074  0.000009   \n",
       "\n",
       "           bio16     bio17     bio18     bio19  closed_shrublands  \\\n",
       "263175  0.096307  0.024372  0.029845  0.093691                0.0   \n",
       "280085  0.033297  0.012446  0.026897  0.026974                0.0   \n",
       "112684  0.020974  0.000483  0.002288  0.006723                0.0   \n",
       "265414  0.011060  0.001562  0.004894  0.005137                0.0   \n",
       "214723  0.029174  0.005960  0.005960  0.024750                0.0   \n",
       "\n",
       "        cropland_or_natural_vegetation_mosaics  croplands  \\\n",
       "263175                                     0.0   0.000000   \n",
       "280085                                     0.0   0.000000   \n",
       "112684                                     0.0   0.000000   \n",
       "265414                                     0.0   0.222222   \n",
       "214723                                     0.0   0.000000   \n",
       "\n",
       "        deciduous_broadleaf_forests  deciduous_needleleaf_forests  \\\n",
       "263175                          0.0                           0.0   \n",
       "280085                          0.0                           0.0   \n",
       "112684                          0.0                           0.0   \n",
       "265414                          0.0                           0.0   \n",
       "214723                          0.0                           0.0   \n",
       "\n",
       "        evergreen_broadleaf_forests  evergreen_needleleaf_forests  grasslands  \\\n",
       "263175                          0.0                      0.916667    0.000000   \n",
       "280085                          0.0                      0.000000    0.027778   \n",
       "112684                          0.0                      0.000000    0.805556   \n",
       "265414                          0.0                      0.000000    0.666667   \n",
       "214723                          0.0                      0.638889    0.000000   \n",
       "\n",
       "        mixed_forests  non_vegetated_lands  open_shrublands  \\\n",
       "263175            0.0             0.000000         0.000000   \n",
       "280085            0.0             0.000000         0.000000   \n",
       "112684            0.0             0.027778         0.027778   \n",
       "265414            0.0             0.000000         0.000000   \n",
       "214723            0.0             0.000000         0.000000   \n",
       "\n",
       "        permanent_wetlands  savannas  urban_and_built_up_lands  water_bodies  \\\n",
       "263175            0.000000  0.000000                  0.000000      0.000000   \n",
       "280085            0.027778  0.000000                  0.916667      0.027778   \n",
       "112684            0.000000  0.000000                  0.138889      0.000000   \n",
       "265414            0.000000  0.000000                  0.111111      0.000000   \n",
       "214723            0.000000  0.027778                  0.000000      0.000000   \n",
       "\n",
       "        woody_savannas   entropy  \n",
       "263175        0.083333  0.286836  \n",
       "280085        0.000000  0.378387  \n",
       "112684        0.000000  0.647442  \n",
       "265414        0.000000  0.848686  \n",
       "214723        0.333333  0.751984  "
      ]
     },
     "execution_count": 6,
     "metadata": {},
     "output_type": "execute_result"
    }
   ],
   "source": [
    "X.head()"
   ]
  },
  {
   "cell_type": "markdown",
   "metadata": {},
   "source": [
    "The features include:\n",
    "\n",
    "- spatial coordinates:\n",
    "  - `longitude` and `latitude` (used for indexing, not actual training)\n",
    "    \n",
    "- Temporal coordinate:\n",
    "  - day of year (`DOY`): used for both indexing and training\n",
    "\n",
    "- Sampling parameters: These are parameters quantifying how the observation was made\n",
    "  - `duration_minutes`: How long the observation was conducted\n",
    "  - Observation protocol: `Traveling`, `Stationary`, or `Area`\n",
    "  -  `effort_distance_km`: how far have one traveled\n",
    "  -  `number_observers`: How many observers are there in the group\n",
    "  - `obsvr_species_count`: How many bird species have the birder observed in the past\n",
    "  - `time_observation_started_minute_of_day`: When did the birder start birding\n",
    "\n",
    "- Topological features:\n",
    "  - Features of elevation: `elevation_mean`\n",
    "  - Features of slope magnitude and direction: `slope_mean`, `eastness_mean`, `northness_mean`\n",
    "\n",
    "- Bioclimate features:\n",
    "  - Summaries of yearly temperature and precipitation: from `bio1` to `bio19`\n",
    "\n",
    "- Land cover features:\n",
    "  - Summaries of land cover, percentage of cover. For example, `closed_shrublands`,  `urban_and_built_up_lands`.\n",
    "  - `entropy`: Entropy of land cover\n",
    "\n",
    "\n",
    "As you can see, the environmental variables are almost static. However, dynamic features (e.g., daily temperature) is fully supported as input. See [Tips for data types](https://chenyangkang.github.io/stemflow/Tips/Tips_for_data_types.html) for details.\n",
    "  \n",
    "  \n",
    " "
   ]
  },
  {
   "cell_type": "markdown",
   "metadata": {},
   "source": [
    "## First thing first: Spatiotemporal train test split"
   ]
  },
  {
   "cell_type": "code",
   "execution_count": 7,
   "metadata": {},
   "outputs": [],
   "source": [
    "from stemflow.model_selection import ST_train_test_split\n",
    "X_train, X_test, y_train, y_test = ST_train_test_split(X, y, \n",
    "                                                        Spatio1 = 'longitude',\n",
    "                                                        Spatio2 = 'latitude',\n",
    "                                                        Temporal1 = 'DOY',\n",
    "                                                        Spatio_blocks_count = 50, Temporal_blocks_count=50,\n",
    "                                                        random_state=42, test_size=0.3)\n"
   ]
  },
  {
   "cell_type": "markdown",
   "metadata": {},
   "source": [
    "## Initiate AdaSTEM hurdle model"
   ]
  },
  {
   "cell_type": "code",
   "execution_count": 8,
   "metadata": {},
   "outputs": [],
   "source": [
    "from stemflow.model.AdaSTEM import AdaSTEM, AdaSTEMClassifier, AdaSTEMRegressor\n",
    "from xgboost import XGBClassifier, XGBRegressor # remember to install xgboost if you use it as base model\n",
    "from stemflow.model.Hurdle import Hurdle_for_AdaSTEM, Hurdle\n"
   ]
  },
  {
   "cell_type": "code",
   "execution_count": null,
   "metadata": {},
   "outputs": [],
   "source": [
    "import os, time, threading, psutil\n",
    "\n",
    "class PeakRSSMonitor:\n",
    "    def __init__(self, interval=0.05, include_children=True):\n",
    "        self.interval = interval\n",
    "        self.include_children = include_children\n",
    "        self._stop = threading.Event()\n",
    "        self.samples = []\n",
    "\n",
    "    def _collect(self):\n",
    "        p = psutil.Process(os.getpid())\n",
    "        while not self._stop.is_set():\n",
    "            rss = p.memory_info().rss\n",
    "            if self.include_children:\n",
    "                for c in p.children(recursive=True):\n",
    "                    try:\n",
    "                        rss += c.memory_info().rss\n",
    "                    except psutil.NoSuchProcess:\n",
    "                        pass\n",
    "            self.samples.append(rss / (1024**3))  # GB\n",
    "            time.sleep(self.interval)\n",
    "\n",
    "    def __enter__(self):\n",
    "        self._t = threading.Thread(target=self._collect, daemon=True)\n",
    "        self._t.start()\n",
    "        return self\n",
    "\n",
    "    def __exit__(self, exc_type, exc, tb):\n",
    "        self._stop.set()\n",
    "        self._t.join()\n",
    "\n",
    "    @property\n",
    "    def peak(self): \n",
    "        return max(self.samples) if self.samples else 0.0\n",
    "\n",
    "    @property\n",
    "    def average(self): \n",
    "        return (sum(self.samples) / len(self.samples)) if self.samples else 0.0\n",
    "    \n"
   ]
  },
  {
   "cell_type": "code",
   "execution_count": 16,
   "metadata": {},
   "outputs": [],
   "source": [
    "import time\n",
    "from memory_profiler import memory_usage\n",
    "\n",
    "def make_model_lazyloading(ensemble_fold, n_jobs=3):\n",
    "    model_lazyloading = AdaSTEMRegressor(\n",
    "        base_model=Hurdle(\n",
    "            classifier=XGBClassifier(tree_method='hist',random_state=42, verbosity = 0, n_jobs=1),\n",
    "            regressor=XGBRegressor(tree_method='hist',random_state=42, verbosity = 0, n_jobs=1)\n",
    "        ),                                      # hurdel model for zero-inflated problem (e.g., count)\n",
    "        task='hurdle',\n",
    "        save_gridding_plot = True,\n",
    "        ensemble_fold=ensemble_fold,                       # data are modeled 10 times, each time with jitter and rotation in Quadtree algo\n",
    "        min_ensemble_required=ensemble_fold-2,                # Only points covered by > 7 ensembles will be predicted\n",
    "        grid_len_upper_threshold=25,            # force splitting if the grid length exceeds 25\n",
    "        grid_len_lower_threshold=5,             # stop splitting if the grid length fall short 5         \n",
    "        temporal_start=1,                       # The next 4 params define the temporal sliding window\n",
    "        temporal_end=366,                            \n",
    "        temporal_step=25,                       # The window takes steps of 20 DOY (see AdaSTEM demo for details)\n",
    "        temporal_bin_interval=50,               # Each window will contain data of 50 DOY\n",
    "        points_lower_threshold=50,              # Only stixels with more than 50 samples are trained\n",
    "        Spatio1='longitude',                    # The next three params define the name of \n",
    "        Spatio2='latitude',                     # spatial coordinates shown in the dataframe\n",
    "        Temporal1='DOY',\n",
    "        use_temporal_to_train=True,             # In each stixel, whether 'DOY' should be a predictor\n",
    "        n_jobs=n_jobs,                               # Using parallel computing\n",
    "        random_state=42,                        # The random state makes the gridding process reproducible\n",
    "        lazy_loading=True,                       # Using lazy loading for large ensemble amount (e.g., >20 ensembles). \n",
    "        verbosity=1                              # -- Each trained ensemble will be saved into disk and will only be loaded if needed (e.g. for prediction).\n",
    "    )\n",
    "    \n",
    "    return model_lazyloading\n",
    "\n",
    "\n",
    "def make_model_not_lazyloading(ensemble_fold, n_jobs=3):\n",
    "    model_not_lazyloading = AdaSTEMRegressor(\n",
    "        base_model=Hurdle(\n",
    "            classifier=XGBClassifier(tree_method='hist',random_state=42, verbosity = 0, n_jobs=1),\n",
    "            regressor=XGBRegressor(tree_method='hist',random_state=42, verbosity = 0, n_jobs=1)\n",
    "        ),                                      # hurdel model for zero-inflated problem (e.g., count)\n",
    "        task='hurdle',\n",
    "        save_gridding_plot = True,\n",
    "        ensemble_fold=ensemble_fold,                       # data are modeled 10 times, each time with jitter and rotation in Quadtree algo\n",
    "        min_ensemble_required=ensemble_fold-2,                # Only points covered by > 7 ensembles will be predicted\n",
    "        grid_len_upper_threshold=25,            # force splitting if the grid length exceeds 25\n",
    "        grid_len_lower_threshold=5,             # stop splitting if the grid length fall short 5         \n",
    "        temporal_start=1,                       # The next 4 params define the temporal sliding window\n",
    "        temporal_end=366,                            \n",
    "        temporal_step=25,                       # The window takes steps of 20 DOY (see AdaSTEM demo for details)\n",
    "        temporal_bin_interval=50,               # Each window will contain data of 50 DOY\n",
    "        points_lower_threshold=50,              # Only stixels with more than 50 samples are trained\n",
    "        Spatio1='longitude',                    # The next three params define the name of \n",
    "        Spatio2='latitude',                     # spatial coordinates shown in the dataframe\n",
    "        Temporal1='DOY',\n",
    "        use_temporal_to_train=True,             # In each stixel, whether 'DOY' should be a predictor\n",
    "        n_jobs=n_jobs,                               # Using parallel computing\n",
    "        random_state=42,                        # The random state makes the gridding process reproducible\n",
    "        lazy_loading=False,                       # Using lazy loading for large ensemble amount (e.g., >20 ensembles). \n",
    "        verbosity=1                               # -- Each trained ensemble will be saved into disk and will only be loaded if needed (e.g. for prediction).\n",
    "    )\n",
    "    return model_not_lazyloading\n",
    "\n",
    "def train_model(model, X_train, y_train):\n",
    "    \n",
    "    start_time = time.time()\n",
    "\n",
    "    gc.collect()\n",
    "    p = psutil.Process(os.getpid())\n",
    "    baseline = p.memory_info().rss / 1e9\n",
    "\n",
    "    with PeakRSSMonitor(interval=0.05, include_children=True) as mon:\n",
    "        model.fit(X_train, y_train)\n",
    "\n",
    "    peak_use = mon.peak - baseline\n",
    "    average_use = mon.average - baseline\n",
    "\n",
    "    end_time = time.time()\n",
    "    \n",
    "    training_time_use = end_time - start_time\n",
    "    print('Training finish!')\n",
    "    \n",
    "    return training_time_use, peak_use, average_use\n",
    "    \n",
    "def test_model(model, X_test, y_test):\n",
    "    \n",
    "    start_time = time.time()\n",
    "    \n",
    "    gc.collect()\n",
    "    p = psutil.Process(os.getpid())\n",
    "    baseline = p.memory_info().rss / 1e9\n",
    "\n",
    "    with PeakRSSMonitor(interval=0.05, include_children=True) as mon:\n",
    "        res = model.predict(X_test)\n",
    "\n",
    "    peak_use = mon.peak - baseline\n",
    "    average_use = mon.average - baseline\n",
    "    \n",
    "    end_time = time.time()\n",
    "    \n",
    "    prediction_time_use = end_time - start_time\n",
    "    print('Prediction finish!')\n",
    "    \n",
    "    return prediction_time_use, peak_use, average_use\n",
    "\n"
   ]
  },
  {
   "cell_type": "markdown",
   "metadata": {},
   "source": [
    "## Run test: Same n_jobs, increasing ensembles"
   ]
  },
  {
   "cell_type": "code",
   "execution_count": 11,
   "metadata": {},
   "outputs": [],
   "source": [
    "log_list=[]"
   ]
  },
  {
   "cell_type": "code",
   "execution_count": 12,
   "metadata": {},
   "outputs": [
    {
     "data": {
      "application/vnd.jupyter.widget-view+json": {
       "model_id": "09746d1946124110a8fc00a366b913ba",
       "version_major": 2,
       "version_minor": 0
      },
      "text/plain": [
       "  0%|          | 0/6 [00:00<?, ?it/s]"
      ]
     },
     "metadata": {},
     "output_type": "display_data"
    },
    {
     "name": "stderr",
     "output_type": "stream",
     "text": [
      "Generating Ensembles: 100%|██████████| 3/3 [00:01<00:00,  1.60it/s]\n",
      "Training: 100%|██████████| 3/3 [00:48<00:00, 16.11s/it]\n"
     ]
    },
    {
     "name": "stdout",
     "output_type": "stream",
     "text": [
      "Training finish!\n"
     ]
    },
    {
     "name": "stderr",
     "output_type": "stream",
     "text": [
      "Predicting: 100%|██████████| 3/3 [00:16<00:00,  5.66s/it]\n"
     ]
    },
    {
     "name": "stdout",
     "output_type": "stream",
     "text": [
      "Prediction finish!\n"
     ]
    },
    {
     "name": "stderr",
     "output_type": "stream",
     "text": [
      "Generating Ensembles: 100%|██████████| 3/3 [00:01<00:00,  1.64it/s]\n",
      "Training: 100%|██████████| 3/3 [00:47<00:00, 15.96s/it]\n"
     ]
    },
    {
     "name": "stdout",
     "output_type": "stream",
     "text": [
      "Training finish!\n"
     ]
    },
    {
     "name": "stderr",
     "output_type": "stream",
     "text": [
      "Predicting: 100%|██████████| 3/3 [00:07<00:00,  2.44s/it]\n"
     ]
    },
    {
     "name": "stdout",
     "output_type": "stream",
     "text": [
      "Prediction finish!\n"
     ]
    },
    {
     "name": "stderr",
     "output_type": "stream",
     "text": [
      "Generating Ensembles: 100%|██████████| 5/5 [00:02<00:00,  1.75it/s]\n",
      "Training: 100%|██████████| 5/5 [01:33<00:00, 18.75s/it]\n"
     ]
    },
    {
     "name": "stdout",
     "output_type": "stream",
     "text": [
      "Training finish!\n"
     ]
    },
    {
     "name": "stderr",
     "output_type": "stream",
     "text": [
      "Predicting: 100%|██████████| 5/5 [00:35<00:00,  7.05s/it]\n"
     ]
    },
    {
     "name": "stdout",
     "output_type": "stream",
     "text": [
      "Prediction finish!\n"
     ]
    },
    {
     "name": "stderr",
     "output_type": "stream",
     "text": [
      "Generating Ensembles: 100%|██████████| 5/5 [00:02<00:00,  1.77it/s]\n",
      "Training: 100%|██████████| 5/5 [01:33<00:00, 18.69s/it]\n"
     ]
    },
    {
     "name": "stdout",
     "output_type": "stream",
     "text": [
      "Training finish!\n"
     ]
    },
    {
     "name": "stderr",
     "output_type": "stream",
     "text": [
      "Predicting: 100%|██████████| 5/5 [00:13<00:00,  2.68s/it]\n"
     ]
    },
    {
     "name": "stdout",
     "output_type": "stream",
     "text": [
      "Prediction finish!\n"
     ]
    },
    {
     "name": "stderr",
     "output_type": "stream",
     "text": [
      "Generating Ensembles: 100%|██████████| 10/10 [00:05<00:00,  2.00it/s]\n",
      "Training: 100%|██████████| 10/10 [03:01<00:00, 18.11s/it]\n"
     ]
    },
    {
     "name": "stdout",
     "output_type": "stream",
     "text": [
      "Training finish!\n"
     ]
    },
    {
     "name": "stderr",
     "output_type": "stream",
     "text": [
      "Predicting: 100%|██████████| 10/10 [01:57<00:00, 11.75s/it]\n"
     ]
    },
    {
     "name": "stdout",
     "output_type": "stream",
     "text": [
      "Prediction finish!\n"
     ]
    },
    {
     "name": "stderr",
     "output_type": "stream",
     "text": [
      "Generating Ensembles: 100%|██████████| 10/10 [00:05<00:00,  1.90it/s]\n",
      "Training: 100%|██████████| 10/10 [03:01<00:00, 18.15s/it]\n"
     ]
    },
    {
     "name": "stdout",
     "output_type": "stream",
     "text": [
      "Training finish!\n"
     ]
    },
    {
     "name": "stderr",
     "output_type": "stream",
     "text": [
      "Predicting: 100%|██████████| 10/10 [00:24<00:00,  2.44s/it]\n"
     ]
    },
    {
     "name": "stdout",
     "output_type": "stream",
     "text": [
      "Prediction finish!\n"
     ]
    },
    {
     "name": "stderr",
     "output_type": "stream",
     "text": [
      "Generating Ensembles: 100%|██████████| 20/20 [00:08<00:00,  2.36it/s]\n",
      "Training: 100%|██████████| 20/20 [05:20<00:00, 16.03s/it]\n"
     ]
    },
    {
     "name": "stdout",
     "output_type": "stream",
     "text": [
      "Training finish!\n"
     ]
    },
    {
     "name": "stderr",
     "output_type": "stream",
     "text": [
      "Predicting: 100%|██████████| 20/20 [07:48<00:00, 23.45s/it]\n"
     ]
    },
    {
     "name": "stdout",
     "output_type": "stream",
     "text": [
      "Prediction finish!\n"
     ]
    },
    {
     "name": "stderr",
     "output_type": "stream",
     "text": [
      "Generating Ensembles: 100%|██████████| 20/20 [00:08<00:00,  2.28it/s]\n",
      "Training: 100%|██████████| 20/20 [05:22<00:00, 16.10s/it]\n"
     ]
    },
    {
     "name": "stdout",
     "output_type": "stream",
     "text": [
      "Training finish!\n"
     ]
    },
    {
     "name": "stderr",
     "output_type": "stream",
     "text": [
      "Predicting: 100%|██████████| 20/20 [00:44<00:00,  2.23s/it]\n"
     ]
    },
    {
     "name": "stdout",
     "output_type": "stream",
     "text": [
      "Prediction finish!\n"
     ]
    },
    {
     "name": "stderr",
     "output_type": "stream",
     "text": [
      "Generating Ensembles: 100%|██████████| 30/30 [00:12<00:00,  2.44it/s]\n",
      "Training: 100%|██████████| 30/30 [07:39<00:00, 15.33s/it]\n"
     ]
    },
    {
     "name": "stdout",
     "output_type": "stream",
     "text": [
      "Training finish!\n"
     ]
    },
    {
     "name": "stderr",
     "output_type": "stream",
     "text": [
      "Predicting: 100%|██████████| 30/30 [17:49<00:00, 35.64s/it]\n"
     ]
    },
    {
     "name": "stdout",
     "output_type": "stream",
     "text": [
      "Prediction finish!\n"
     ]
    },
    {
     "name": "stderr",
     "output_type": "stream",
     "text": [
      "Generating Ensembles: 100%|██████████| 30/30 [00:12<00:00,  2.41it/s]\n",
      "Training: 100%|██████████| 30/30 [07:43<00:00, 15.47s/it]\n"
     ]
    },
    {
     "name": "stdout",
     "output_type": "stream",
     "text": [
      "Training finish!\n"
     ]
    },
    {
     "name": "stderr",
     "output_type": "stream",
     "text": [
      "Predicting: 100%|██████████| 30/30 [01:05<00:00,  2.19s/it]\n"
     ]
    },
    {
     "name": "stdout",
     "output_type": "stream",
     "text": [
      "Prediction finish!\n"
     ]
    },
    {
     "name": "stderr",
     "output_type": "stream",
     "text": [
      "Generating Ensembles: 100%|██████████| 40/40 [00:16<00:00,  2.37it/s]\n",
      "Training: 100%|██████████| 40/40 [10:30<00:00, 15.76s/it]\n"
     ]
    },
    {
     "name": "stdout",
     "output_type": "stream",
     "text": [
      "Training finish!\n"
     ]
    },
    {
     "name": "stderr",
     "output_type": "stream",
     "text": [
      "Predicting: 100%|██████████| 40/40 [43:10<00:00, 64.77s/it]\n"
     ]
    },
    {
     "name": "stdout",
     "output_type": "stream",
     "text": [
      "Prediction finish!\n"
     ]
    },
    {
     "name": "stderr",
     "output_type": "stream",
     "text": [
      "Generating Ensembles: 100%|██████████| 40/40 [00:17<00:00,  2.32it/s]\n",
      "Training: 100%|██████████| 40/40 [10:44<00:00, 16.12s/it]\n"
     ]
    },
    {
     "name": "stdout",
     "output_type": "stream",
     "text": [
      "Training finish!\n"
     ]
    },
    {
     "name": "stderr",
     "output_type": "stream",
     "text": [
      "Predicting: 100%|██████████| 40/40 [01:29<00:00,  2.24s/it]\n"
     ]
    },
    {
     "name": "stdout",
     "output_type": "stream",
     "text": [
      "Prediction finish!\n"
     ]
    }
   ],
   "source": [
    "ensemble_fold_list = [3, 5, 10, 20, 30, 40]\n",
    "\n",
    "for ensemble_fold in tqdm(ensemble_fold_list):\n",
    "    \n",
    "    model_not_lazyloading = make_model_not_lazyloading(ensemble_fold)\n",
    "    train_time_use, peak_train_memory_use, average_train_memory_use = train_model(model_not_lazyloading, X_train, y_train)\n",
    "    test_time_use, peak_test_memory_use, average_test_memory_use = test_model(model_not_lazyloading, X_test, y_test)\n",
    "    \n",
    "    log_list.append({\n",
    "        'ensemble_fold':ensemble_fold,\n",
    "        'lazy_loading':False,\n",
    "        'train_time_use':train_time_use,\n",
    "        'peak_train_memory_use':peak_train_memory_use,\n",
    "        'average_train_memory_use':average_train_memory_use,\n",
    "        'test_time_use':test_time_use,\n",
    "        'peak_test_memory_use':peak_test_memory_use,\n",
    "        'average_test_memory_use':average_test_memory_use\n",
    "    })\n",
    "    \n",
    "    del model_not_lazyloading\n",
    "    \n",
    "    model_lazyloading = make_model_lazyloading(ensemble_fold)\n",
    "    train_time_use, peak_train_memory_use, average_train_memory_use = train_model(model_lazyloading, X_train, y_train)\n",
    "    test_time_use, peak_test_memory_use, average_test_memory_use = test_model(model_lazyloading, X_test, y_test)\n",
    "    \n",
    "    log_list.append({\n",
    "        'ensemble_fold':ensemble_fold,\n",
    "        'lazy_loading':True,\n",
    "        'train_time_use':train_time_use,\n",
    "        'peak_train_memory_use':peak_train_memory_use,\n",
    "        'average_train_memory_use':average_train_memory_use,\n",
    "        'test_time_use':test_time_use,\n",
    "        'peak_test_memory_use':peak_test_memory_use,\n",
    "        'average_test_memory_use':average_test_memory_use\n",
    "    })\n",
    "    \n",
    "    del model_lazyloading\n",
    "    \n",
    "    "
   ]
  },
  {
   "cell_type": "code",
   "execution_count": 13,
   "metadata": {},
   "outputs": [
    {
     "data": {
      "text/html": [
       "<div>\n",
       "<style scoped>\n",
       "    .dataframe tbody tr th:only-of-type {\n",
       "        vertical-align: middle;\n",
       "    }\n",
       "\n",
       "    .dataframe tbody tr th {\n",
       "        vertical-align: top;\n",
       "    }\n",
       "\n",
       "    .dataframe thead th {\n",
       "        text-align: right;\n",
       "    }\n",
       "</style>\n",
       "<table border=\"1\" class=\"dataframe\">\n",
       "  <thead>\n",
       "    <tr style=\"text-align: right;\">\n",
       "      <th></th>\n",
       "      <th>ensemble_fold</th>\n",
       "      <th>lazy_loading</th>\n",
       "      <th>train_time_use</th>\n",
       "      <th>peak_train_memory_use</th>\n",
       "      <th>average_train_memory_use</th>\n",
       "      <th>test_time_use</th>\n",
       "      <th>peak_test_memory_use</th>\n",
       "      <th>average_test_memory_use</th>\n",
       "    </tr>\n",
       "  </thead>\n",
       "  <tbody>\n",
       "    <tr>\n",
       "      <th>0</th>\n",
       "      <td>3</td>\n",
       "      <td>False</td>\n",
       "      <td>50.806091</td>\n",
       "      <td>3.476909</td>\n",
       "      <td>2.150110</td>\n",
       "      <td>17.455705</td>\n",
       "      <td>4.897534</td>\n",
       "      <td>2.852421</td>\n",
       "    </tr>\n",
       "    <tr>\n",
       "      <th>1</th>\n",
       "      <td>3</td>\n",
       "      <td>True</td>\n",
       "      <td>50.336192</td>\n",
       "      <td>2.229499</td>\n",
       "      <td>1.954478</td>\n",
       "      <td>7.834628</td>\n",
       "      <td>1.326746</td>\n",
       "      <td>1.011839</td>\n",
       "    </tr>\n",
       "    <tr>\n",
       "      <th>2</th>\n",
       "      <td>5</td>\n",
       "      <td>False</td>\n",
       "      <td>97.274158</td>\n",
       "      <td>4.095497</td>\n",
       "      <td>2.708906</td>\n",
       "      <td>35.830203</td>\n",
       "      <td>7.564695</td>\n",
       "      <td>4.309321</td>\n",
       "    </tr>\n",
       "    <tr>\n",
       "      <th>3</th>\n",
       "      <td>5</td>\n",
       "      <td>True</td>\n",
       "      <td>96.999580</td>\n",
       "      <td>2.317293</td>\n",
       "      <td>2.045324</td>\n",
       "      <td>13.908911</td>\n",
       "      <td>1.299087</td>\n",
       "      <td>1.067382</td>\n",
       "    </tr>\n",
       "    <tr>\n",
       "      <th>4</th>\n",
       "      <td>10</td>\n",
       "      <td>False</td>\n",
       "      <td>186.838682</td>\n",
       "      <td>5.158661</td>\n",
       "      <td>3.498526</td>\n",
       "      <td>118.242545</td>\n",
       "      <td>10.935197</td>\n",
       "      <td>6.431464</td>\n",
       "    </tr>\n",
       "    <tr>\n",
       "      <th>5</th>\n",
       "      <td>10</td>\n",
       "      <td>True</td>\n",
       "      <td>187.569370</td>\n",
       "      <td>2.463759</td>\n",
       "      <td>2.195400</td>\n",
       "      <td>25.011556</td>\n",
       "      <td>1.476489</td>\n",
       "      <td>1.277835</td>\n",
       "    </tr>\n",
       "    <tr>\n",
       "      <th>6</th>\n",
       "      <td>20</td>\n",
       "      <td>False</td>\n",
       "      <td>329.970285</td>\n",
       "      <td>5.937576</td>\n",
       "      <td>3.976648</td>\n",
       "      <td>469.818361</td>\n",
       "      <td>10.985673</td>\n",
       "      <td>5.102644</td>\n",
       "    </tr>\n",
       "    <tr>\n",
       "      <th>7</th>\n",
       "      <td>20</td>\n",
       "      <td>True</td>\n",
       "      <td>331.527024</td>\n",
       "      <td>2.786055</td>\n",
       "      <td>2.521127</td>\n",
       "      <td>45.129958</td>\n",
       "      <td>1.862465</td>\n",
       "      <td>1.635676</td>\n",
       "    </tr>\n",
       "    <tr>\n",
       "      <th>8</th>\n",
       "      <td>30</td>\n",
       "      <td>False</td>\n",
       "      <td>472.763059</td>\n",
       "      <td>7.879175</td>\n",
       "      <td>4.926831</td>\n",
       "      <td>1070.444758</td>\n",
       "      <td>17.379095</td>\n",
       "      <td>7.252891</td>\n",
       "    </tr>\n",
       "    <tr>\n",
       "      <th>9</th>\n",
       "      <td>30</td>\n",
       "      <td>True</td>\n",
       "      <td>477.305425</td>\n",
       "      <td>2.766816</td>\n",
       "      <td>2.533723</td>\n",
       "      <td>66.458584</td>\n",
       "      <td>1.906993</td>\n",
       "      <td>1.708537</td>\n",
       "    </tr>\n",
       "    <tr>\n",
       "      <th>10</th>\n",
       "      <td>40</td>\n",
       "      <td>False</td>\n",
       "      <td>647.995428</td>\n",
       "      <td>9.450945</td>\n",
       "      <td>5.531721</td>\n",
       "      <td>2593.264150</td>\n",
       "      <td>15.659739</td>\n",
       "      <td>3.108511</td>\n",
       "    </tr>\n",
       "    <tr>\n",
       "      <th>11</th>\n",
       "      <td>40</td>\n",
       "      <td>True</td>\n",
       "      <td>663.046878</td>\n",
       "      <td>3.010233</td>\n",
       "      <td>2.742124</td>\n",
       "      <td>90.252493</td>\n",
       "      <td>1.866188</td>\n",
       "      <td>1.674281</td>\n",
       "    </tr>\n",
       "  </tbody>\n",
       "</table>\n",
       "</div>"
      ],
      "text/plain": [
       "    ensemble_fold  lazy_loading  train_time_use  peak_train_memory_use  \\\n",
       "0               3         False       50.806091               3.476909   \n",
       "1               3          True       50.336192               2.229499   \n",
       "2               5         False       97.274158               4.095497   \n",
       "3               5          True       96.999580               2.317293   \n",
       "4              10         False      186.838682               5.158661   \n",
       "5              10          True      187.569370               2.463759   \n",
       "6              20         False      329.970285               5.937576   \n",
       "7              20          True      331.527024               2.786055   \n",
       "8              30         False      472.763059               7.879175   \n",
       "9              30          True      477.305425               2.766816   \n",
       "10             40         False      647.995428               9.450945   \n",
       "11             40          True      663.046878               3.010233   \n",
       "\n",
       "    average_train_memory_use  test_time_use  peak_test_memory_use  \\\n",
       "0                   2.150110      17.455705              4.897534   \n",
       "1                   1.954478       7.834628              1.326746   \n",
       "2                   2.708906      35.830203              7.564695   \n",
       "3                   2.045324      13.908911              1.299087   \n",
       "4                   3.498526     118.242545             10.935197   \n",
       "5                   2.195400      25.011556              1.476489   \n",
       "6                   3.976648     469.818361             10.985673   \n",
       "7                   2.521127      45.129958              1.862465   \n",
       "8                   4.926831    1070.444758             17.379095   \n",
       "9                   2.533723      66.458584              1.906993   \n",
       "10                  5.531721    2593.264150             15.659739   \n",
       "11                  2.742124      90.252493              1.866188   \n",
       "\n",
       "    average_test_memory_use  \n",
       "0                  2.852421  \n",
       "1                  1.011839  \n",
       "2                  4.309321  \n",
       "3                  1.067382  \n",
       "4                  6.431464  \n",
       "5                  1.277835  \n",
       "6                  5.102644  \n",
       "7                  1.635676  \n",
       "8                  7.252891  \n",
       "9                  1.708537  \n",
       "10                 3.108511  \n",
       "11                 1.674281  "
      ]
     },
     "execution_count": 13,
     "metadata": {},
     "output_type": "execute_result"
    }
   ],
   "source": [
    "log_df = pd.DataFrame(log_list)\n",
    "log_df.to_csv('tmp_log_df.csv', index=False)\n",
    "log_df"
   ]
  },
  {
   "cell_type": "markdown",
   "metadata": {},
   "source": [
    "### Plotting experiment results"
   ]
  },
  {
   "cell_type": "code",
   "execution_count": 14,
   "metadata": {},
   "outputs": [
    {
     "data": {
      "image/png": "[encoded data removed]",
      "text/plain": [
       "<Figure size 1500x900 with 6 Axes>"
      ]
     },
     "metadata": {},
     "output_type": "display_data"
    }
   ],
   "source": [
    "fig,ax = plt.subplots(2,3,figsize=(15,9))\n",
    "for var_id, var_ in enumerate(['train_time_use','peak_train_memory_use','average_train_memory_use',\n",
    "             'test_time_use','peak_test_memory_use','average_test_memory_use']):\n",
    "    ax[var_id//3, var_id%3].plot(\n",
    "        log_df[log_df['lazy_loading']==False]['ensemble_fold'],\n",
    "        log_df[log_df['lazy_loading']==False][var_],\n",
    "        label='non-lazy'\n",
    "    )\n",
    "    ax[var_id//3, var_id%3].scatter(\n",
    "        log_df[log_df['lazy_loading']==False]['ensemble_fold'],\n",
    "        log_df[log_df['lazy_loading']==False][var_],\n",
    "    )\n",
    "\n",
    "    ax[var_id//3, var_id%3].plot(\n",
    "        log_df[log_df['lazy_loading']==True]['ensemble_fold'],\n",
    "        log_df[log_df['lazy_loading']==True][var_],\n",
    "        label='lazy'\n",
    "    )\n",
    "    ax[var_id//3, var_id%3].scatter(\n",
    "        log_df[log_df['lazy_loading']==True]['ensemble_fold'],\n",
    "        log_df[log_df['lazy_loading']==True][var_],\n",
    "    )\n",
    "\n",
    "    ax[var_id//3, var_id%3].legend()\n",
    "    ax[var_id//3, var_id%3].set_title(var_)\n",
    "    if 'time' in var_:\n",
    "        ax[var_id//3, var_id%3].set_ylabel('Seconds')\n",
    "    elif 'memory' in var_:\n",
    "        ax[var_id//3, var_id%3].set_ylabel('GB')\n",
    "    ax[var_id//3, var_id%3].set_xlabel('Ensemble fold')\n",
    "\n",
    "\n",
    "plt.subplots_adjust(wspace=0.2, hspace=0.3)\n"
   ]
  },
  {
   "cell_type": "markdown",
   "metadata": {},
   "source": [
    "### Speed vs. memory usage"
   ]
  },
  {
   "cell_type": "markdown",
   "metadata": {},
   "source": [
    "From the results we can clearly see the trade-off. Using lazy-loading:\n",
    "1. It is so interesting that lazy-loading seems to even reduce the prediction time. This could be due to two reasons: (1) A lazy-loading model does not load unnecessary models an only focus on certain stixels that cover the needed points, and (2) joblib does not need to serialize a huge amount of data (models) which saves so much time.\n",
    "2. Has large impact on testing (prediction) speed. The time for prediction is more than doubled in our case.\n",
    "3. Lazy-loading will maintain memory-use stable and unchanged as ensemble fold increases (maintaining ~ 3GB in our case), while non-lazy-loading will have linear memory consumption growth."
   ]
  },
  {
   "cell_type": "markdown",
   "metadata": {},
   "source": [
    "## Run test: Same ensemble fold, different n_jobs parallel"
   ]
  },
  {
   "cell_type": "code",
   "execution_count": 17,
   "metadata": {},
   "outputs": [],
   "source": [
    "log_list=[]"
   ]
  },
  {
   "cell_type": "code",
   "execution_count": 20,
   "metadata": {},
   "outputs": [
    {
     "data": {
      "application/vnd.jupyter.widget-view+json": {
       "model_id": "64c045d41e144add80f9f03b3edac364",
       "version_major": 2,
       "version_minor": 0
      },
      "text/plain": [
       "  0%|          | 0/5 [00:00<?, ?it/s]"
      ]
     },
     "metadata": {},
     "output_type": "display_data"
    },
    {
     "name": "stderr",
     "output_type": "stream",
     "text": [
      "Generating Ensembles:  50%|█████     | 5/10 [00:19<00:19,  3.90s/it]\n",
      "Generating Ensembles: 100%|██████████| 10/10 [00:12<00:00,  1.28s/it]\n",
      "Training: 100%|██████████| 10/10 [07:39<00:00, 45.95s/it]\n"
     ]
    },
    {
     "name": "stdout",
     "output_type": "stream",
     "text": [
      "Training finish!\n"
     ]
    },
    {
     "name": "stderr",
     "output_type": "stream",
     "text": [
      "Predicting: 100%|██████████| 10/10 [00:24<00:00,  2.41s/it]\n"
     ]
    },
    {
     "name": "stdout",
     "output_type": "stream",
     "text": [
      "Prediction finish!\n"
     ]
    },
    {
     "name": "stderr",
     "output_type": "stream",
     "text": [
      "Generating Ensembles: 100%|██████████| 10/10 [00:13<00:00,  1.34s/it]\n",
      "Training: 100%|██████████| 10/10 [08:30<00:00, 51.04s/it]\n"
     ]
    },
    {
     "name": "stdout",
     "output_type": "stream",
     "text": [
      "Training finish!\n"
     ]
    },
    {
     "name": "stderr",
     "output_type": "stream",
     "text": [
      "Predicting: 100%|██████████| 10/10 [01:12<00:00,  7.25s/it]\n"
     ]
    },
    {
     "name": "stdout",
     "output_type": "stream",
     "text": [
      "Prediction finish!\n"
     ]
    },
    {
     "name": "stderr",
     "output_type": "stream",
     "text": [
      "Generating Ensembles: 100%|██████████| 10/10 [00:05<00:00,  1.86it/s]\n",
      "Training: 100%|██████████| 10/10 [03:08<00:00, 18.84s/it]\n"
     ]
    },
    {
     "name": "stdout",
     "output_type": "stream",
     "text": [
      "Training finish!\n"
     ]
    },
    {
     "name": "stderr",
     "output_type": "stream",
     "text": [
      "Predicting: 100%|██████████| 10/10 [01:57<00:00, 11.73s/it]\n"
     ]
    },
    {
     "name": "stdout",
     "output_type": "stream",
     "text": [
      "Prediction finish!\n"
     ]
    },
    {
     "name": "stderr",
     "output_type": "stream",
     "text": [
      "Generating Ensembles: 100%|██████████| 10/10 [00:05<00:00,  1.85it/s]\n",
      "Training: 100%|██████████| 10/10 [03:09<00:00, 19.00s/it]\n"
     ]
    },
    {
     "name": "stdout",
     "output_type": "stream",
     "text": [
      "Training finish!\n"
     ]
    },
    {
     "name": "stderr",
     "output_type": "stream",
     "text": [
      "Predicting: 100%|██████████| 10/10 [00:26<00:00,  2.68s/it]\n"
     ]
    },
    {
     "name": "stdout",
     "output_type": "stream",
     "text": [
      "Prediction finish!\n"
     ]
    },
    {
     "name": "stderr",
     "output_type": "stream",
     "text": [
      "Generating Ensembles: 100%|██████████| 10/10 [00:03<00:00,  3.26it/s]\n",
      "Training: 100%|██████████| 10/10 [01:45<00:00, 10.58s/it]\n"
     ]
    },
    {
     "name": "stdout",
     "output_type": "stream",
     "text": [
      "Training finish!\n"
     ]
    },
    {
     "name": "stderr",
     "output_type": "stream",
     "text": [
      "Predicting: 100%|██████████| 10/10 [02:00<00:00, 12.04s/it]\n"
     ]
    },
    {
     "name": "stdout",
     "output_type": "stream",
     "text": [
      "Prediction finish!\n"
     ]
    },
    {
     "name": "stderr",
     "output_type": "stream",
     "text": [
      "Generating Ensembles: 100%|██████████| 10/10 [00:03<00:00,  3.15it/s]\n",
      "Training: 100%|██████████| 10/10 [01:44<00:00, 10.42s/it]\n"
     ]
    },
    {
     "name": "stdout",
     "output_type": "stream",
     "text": [
      "Training finish!\n"
     ]
    },
    {
     "name": "stderr",
     "output_type": "stream",
     "text": [
      "Predicting: 100%|██████████| 10/10 [00:14<00:00,  1.46s/it]\n"
     ]
    },
    {
     "name": "stdout",
     "output_type": "stream",
     "text": [
      "Prediction finish!\n"
     ]
    },
    {
     "name": "stderr",
     "output_type": "stream",
     "text": [
      "Generating Ensembles: 100%|██████████| 10/10 [00:03<00:00,  3.33it/s]\n",
      "Training: 100%|██████████| 10/10 [01:48<00:00, 10.89s/it]\n"
     ]
    },
    {
     "name": "stdout",
     "output_type": "stream",
     "text": [
      "Training finish!\n"
     ]
    },
    {
     "name": "stderr",
     "output_type": "stream",
     "text": [
      "Predicting: 100%|██████████| 10/10 [02:01<00:00, 12.17s/it]\n"
     ]
    },
    {
     "name": "stdout",
     "output_type": "stream",
     "text": [
      "Prediction finish!\n"
     ]
    },
    {
     "name": "stderr",
     "output_type": "stream",
     "text": [
      "Generating Ensembles: 100%|██████████| 10/10 [00:03<00:00,  3.23it/s]\n",
      "Training: 100%|██████████| 10/10 [01:43<00:00, 10.38s/it]\n"
     ]
    },
    {
     "name": "stdout",
     "output_type": "stream",
     "text": [
      "Training finish!\n"
     ]
    },
    {
     "name": "stderr",
     "output_type": "stream",
     "text": [
      "Predicting: 100%|██████████| 10/10 [00:16<00:00,  1.69s/it]\n"
     ]
    },
    {
     "name": "stdout",
     "output_type": "stream",
     "text": [
      "Prediction finish!\n"
     ]
    },
    {
     "name": "stderr",
     "output_type": "stream",
     "text": [
      "Generating Ensembles: 100%|██████████| 10/10 [00:02<00:00,  4.05it/s]\n",
      "Training: 100%|██████████| 10/10 [01:15<00:00,  7.52s/it]\n"
     ]
    },
    {
     "name": "stdout",
     "output_type": "stream",
     "text": [
      "Training finish!\n"
     ]
    },
    {
     "name": "stderr",
     "output_type": "stream",
     "text": [
      "Predicting: 100%|██████████| 10/10 [02:03<00:00, 12.32s/it]\n"
     ]
    },
    {
     "name": "stdout",
     "output_type": "stream",
     "text": [
      "Prediction finish!\n"
     ]
    },
    {
     "name": "stderr",
     "output_type": "stream",
     "text": [
      "Generating Ensembles: 100%|██████████| 10/10 [00:02<00:00,  3.68it/s]\n",
      "Training: 100%|██████████| 10/10 [01:12<00:00,  7.21s/it]\n"
     ]
    },
    {
     "name": "stdout",
     "output_type": "stream",
     "text": [
      "Training finish!\n"
     ]
    },
    {
     "name": "stderr",
     "output_type": "stream",
     "text": [
      "Predicting: 100%|██████████| 10/10 [00:12<00:00,  1.30s/it]\n"
     ]
    },
    {
     "name": "stdout",
     "output_type": "stream",
     "text": [
      "Prediction finish!\n"
     ]
    }
   ],
   "source": [
    "n_jobs_list = [1, 3, 5, 8, 10]\n",
    "\n",
    "for n_jobs in tqdm(n_jobs_list):\n",
    "    \n",
    "    model_not_lazyloading = make_model_not_lazyloading(ensemble_fold=10, n_jobs=n_jobs)\n",
    "    train_time_use, peak_train_memory_use, average_train_memory_use = train_model(model_not_lazyloading, X_train, y_train)\n",
    "    test_time_use, peak_test_memory_use, average_test_memory_use = test_model(model_not_lazyloading, X_test, y_test)\n",
    "    \n",
    "    log_list.append({\n",
    "        'n_jobs':n_jobs,\n",
    "        'lazy_loading':False,\n",
    "        'train_time_use':train_time_use,\n",
    "        'peak_train_memory_use':peak_train_memory_use,\n",
    "        'average_train_memory_use':average_train_memory_use,\n",
    "        'test_time_use':test_time_use,\n",
    "        'peak_test_memory_use':peak_test_memory_use,\n",
    "        'average_test_memory_use':average_test_memory_use\n",
    "    })\n",
    "    \n",
    "    del model_not_lazyloading\n",
    "    \n",
    "    model_lazyloading = make_model_lazyloading(ensemble_fold=10, n_jobs=n_jobs)\n",
    "    train_time_use, peak_train_memory_use, average_train_memory_use = train_model(model_lazyloading, X_train, y_train)\n",
    "    test_time_use, peak_test_memory_use, average_test_memory_use = test_model(model_lazyloading, X_test, y_test)\n",
    "    \n",
    "    log_list.append({\n",
    "        'n_jobs':n_jobs,\n",
    "        'lazy_loading':True,\n",
    "        'train_time_use':train_time_use,\n",
    "        'peak_train_memory_use':peak_train_memory_use,\n",
    "        'average_train_memory_use':average_train_memory_use,\n",
    "        'test_time_use':test_time_use,\n",
    "        'peak_test_memory_use':peak_test_memory_use,\n",
    "        'average_test_memory_use':average_test_memory_use\n",
    "    })\n",
    "    \n",
    "    del model_lazyloading\n",
    "    \n",
    "    "
   ]
  },
  {
   "cell_type": "code",
   "execution_count": 7,
   "metadata": {},
   "outputs": [
    {
     "data": {
      "text/html": [
       "<div>\n",
       "<style scoped>\n",
       "    .dataframe tbody tr th:only-of-type {\n",
       "        vertical-align: middle;\n",
       "    }\n",
       "\n",
       "    .dataframe tbody tr th {\n",
       "        vertical-align: top;\n",
       "    }\n",
       "\n",
       "    .dataframe thead th {\n",
       "        text-align: right;\n",
       "    }\n",
       "</style>\n",
       "<table border=\"1\" class=\"dataframe\">\n",
       "  <thead>\n",
       "    <tr style=\"text-align: right;\">\n",
       "      <th></th>\n",
       "      <th>n_jobs</th>\n",
       "      <th>lazy_loading</th>\n",
       "      <th>train_time_use</th>\n",
       "      <th>peak_train_memory_use</th>\n",
       "      <th>average_train_memory_use</th>\n",
       "      <th>test_time_use</th>\n",
       "      <th>peak_test_memory_use</th>\n",
       "      <th>average_test_memory_use</th>\n",
       "    </tr>\n",
       "  </thead>\n",
       "  <tbody>\n",
       "    <tr>\n",
       "      <th>0</th>\n",
       "      <td>1</td>\n",
       "      <td>False</td>\n",
       "      <td>472.504835</td>\n",
       "      <td>1.533439</td>\n",
       "      <td>0.715229</td>\n",
       "      <td>24.415852</td>\n",
       "      <td>-0.198594</td>\n",
       "      <td>-0.205163</td>\n",
       "    </tr>\n",
       "    <tr>\n",
       "      <th>1</th>\n",
       "      <td>1</td>\n",
       "      <td>True</td>\n",
       "      <td>524.037611</td>\n",
       "      <td>-0.221716</td>\n",
       "      <td>-0.257094</td>\n",
       "      <td>72.783562</td>\n",
       "      <td>-0.217577</td>\n",
       "      <td>-0.222950</td>\n",
       "    </tr>\n",
       "    <tr>\n",
       "      <th>2</th>\n",
       "      <td>3</td>\n",
       "      <td>False</td>\n",
       "      <td>194.957187</td>\n",
       "      <td>3.887499</td>\n",
       "      <td>2.723946</td>\n",
       "      <td>118.305094</td>\n",
       "      <td>10.879153</td>\n",
       "      <td>6.726579</td>\n",
       "    </tr>\n",
       "    <tr>\n",
       "      <th>3</th>\n",
       "      <td>3</td>\n",
       "      <td>True</td>\n",
       "      <td>196.870449</td>\n",
       "      <td>2.139499</td>\n",
       "      <td>1.109909</td>\n",
       "      <td>27.610165</td>\n",
       "      <td>1.436785</td>\n",
       "      <td>1.246523</td>\n",
       "    </tr>\n",
       "    <tr>\n",
       "      <th>4</th>\n",
       "      <td>5</td>\n",
       "      <td>False</td>\n",
       "      <td>110.204304</td>\n",
       "      <td>5.736303</td>\n",
       "      <td>4.110229</td>\n",
       "      <td>121.363402</td>\n",
       "      <td>11.246099</td>\n",
       "      <td>6.632857</td>\n",
       "    </tr>\n",
       "    <tr>\n",
       "      <th>5</th>\n",
       "      <td>5</td>\n",
       "      <td>True</td>\n",
       "      <td>108.988099</td>\n",
       "      <td>3.750566</td>\n",
       "      <td>3.276741</td>\n",
       "      <td>15.730532</td>\n",
       "      <td>2.209730</td>\n",
       "      <td>1.753742</td>\n",
       "    </tr>\n",
       "    <tr>\n",
       "      <th>6</th>\n",
       "      <td>8</td>\n",
       "      <td>False</td>\n",
       "      <td>114.216185</td>\n",
       "      <td>7.559845</td>\n",
       "      <td>6.260012</td>\n",
       "      <td>123.092751</td>\n",
       "      <td>9.319409</td>\n",
       "      <td>5.936074</td>\n",
       "    </tr>\n",
       "    <tr>\n",
       "      <th>7</th>\n",
       "      <td>8</td>\n",
       "      <td>True</td>\n",
       "      <td>109.066799</td>\n",
       "      <td>6.270246</td>\n",
       "      <td>5.330961</td>\n",
       "      <td>18.230608</td>\n",
       "      <td>3.876365</td>\n",
       "      <td>3.097403</td>\n",
       "    </tr>\n",
       "    <tr>\n",
       "      <th>8</th>\n",
       "      <td>10</td>\n",
       "      <td>False</td>\n",
       "      <td>80.189821</td>\n",
       "      <td>8.736971</td>\n",
       "      <td>6.658736</td>\n",
       "      <td>124.807176</td>\n",
       "      <td>9.335110</td>\n",
       "      <td>5.662528</td>\n",
       "    </tr>\n",
       "    <tr>\n",
       "      <th>9</th>\n",
       "      <td>10</td>\n",
       "      <td>True</td>\n",
       "      <td>77.689902</td>\n",
       "      <td>6.492351</td>\n",
       "      <td>5.594493</td>\n",
       "      <td>14.471599</td>\n",
       "      <td>4.832668</td>\n",
       "      <td>3.578729</td>\n",
       "    </tr>\n",
       "  </tbody>\n",
       "</table>\n",
       "</div>"
      ],
      "text/plain": [
       "   n_jobs  lazy_loading  train_time_use  peak_train_memory_use  \\\n",
       "0       1         False      472.504835               1.533439   \n",
       "1       1          True      524.037611              -0.221716   \n",
       "2       3         False      194.957187               3.887499   \n",
       "3       3          True      196.870449               2.139499   \n",
       "4       5         False      110.204304               5.736303   \n",
       "5       5          True      108.988099               3.750566   \n",
       "6       8         False      114.216185               7.559845   \n",
       "7       8          True      109.066799               6.270246   \n",
       "8      10         False       80.189821               8.736971   \n",
       "9      10          True       77.689902               6.492351   \n",
       "\n",
       "   average_train_memory_use  test_time_use  peak_test_memory_use  \\\n",
       "0                  0.715229      24.415852             -0.198594   \n",
       "1                 -0.257094      72.783562             -0.217577   \n",
       "2                  2.723946     118.305094             10.879153   \n",
       "3                  1.109909      27.610165              1.436785   \n",
       "4                  4.110229     121.363402             11.246099   \n",
       "5                  3.276741      15.730532              2.209730   \n",
       "6                  6.260012     123.092751              9.319409   \n",
       "7                  5.330961      18.230608              3.876365   \n",
       "8                  6.658736     124.807176              9.335110   \n",
       "9                  5.594493      14.471599              4.832668   \n",
       "\n",
       "   average_test_memory_use  \n",
       "0                -0.205163  \n",
       "1                -0.222950  \n",
       "2                 6.726579  \n",
       "3                 1.246523  \n",
       "4                 6.632857  \n",
       "5                 1.753742  \n",
       "6                 5.936074  \n",
       "7                 3.097403  \n",
       "8                 5.662528  \n",
       "9                 3.578729  "
      ]
     },
     "execution_count": 7,
     "metadata": {},
     "output_type": "execute_result"
    }
   ],
   "source": [
    "log_df = pd.DataFrame(log_list)\n",
    "log_df.to_csv('tmp_log_df_for_n_jobs.csv', index=False)\n",
    "log_df"
   ]
  },
  {
   "cell_type": "markdown",
   "metadata": {},
   "source": [
    "### Plotting experiment results"
   ]
  },
  {
   "cell_type": "code",
   "execution_count": 8,
   "metadata": {},
   "outputs": [
    {
     "data": {
      "image/png": "[encoded data removed]",
      "text/plain": [
       "<Figure size 1500x900 with 6 Axes>"
      ]
     },
     "metadata": {},
     "output_type": "display_data"
    }
   ],
   "source": [
    "fig,ax = plt.subplots(2,3,figsize=(15,9))\n",
    "for var_id, var_ in enumerate(['train_time_use','peak_train_memory_use','average_train_memory_use',\n",
    "             'test_time_use','peak_test_memory_use','average_test_memory_use']):\n",
    "    ax[var_id//3, var_id%3].plot(\n",
    "        log_df[log_df['lazy_loading']==False]['n_jobs'],\n",
    "        log_df[log_df['lazy_loading']==False][var_],\n",
    "        label='non-lazy'\n",
    "    )\n",
    "    ax[var_id//3, var_id%3].scatter(\n",
    "        log_df[log_df['lazy_loading']==False]['n_jobs'],\n",
    "        log_df[log_df['lazy_loading']==False][var_],\n",
    "    )\n",
    "\n",
    "    ax[var_id//3, var_id%3].plot(\n",
    "        log_df[log_df['lazy_loading']==True]['n_jobs'],\n",
    "        log_df[log_df['lazy_loading']==True][var_],\n",
    "        label='lazy'\n",
    "    )\n",
    "    ax[var_id//3, var_id%3].scatter(\n",
    "        log_df[log_df['lazy_loading']==True]['n_jobs'],\n",
    "        log_df[log_df['lazy_loading']==True][var_],\n",
    "    )\n",
    "\n",
    "    ax[var_id//3, var_id%3].legend()\n",
    "    ax[var_id//3, var_id%3].set_title(var_)\n",
    "    if 'time' in var_:\n",
    "        ax[var_id//3, var_id%3].set_ylabel('Seconds')\n",
    "    elif 'memory' in var_:\n",
    "        ax[var_id//3, var_id%3].set_ylabel('GB')\n",
    "    ax[var_id//3, var_id%3].set_xlabel('n_jobs')\n",
    "\n",
    "\n",
    "plt.subplots_adjust(wspace=0.2, hspace=0.3)\n"
   ]
  },
  {
   "cell_type": "markdown",
   "metadata": {},
   "source": [
    "Still, the memory use will proportionally increase when n_jobs increase. That is because\n",
    "1. Your data is being copied n_jobs times -- once for each processor, because data cannot be shared among processors. This problem cannot be solved by lazy loading, but can be solved by using database query (see the other notebook for how to use duckdb as input).\n",
    "2. The trained models also cost memory. For non-lazy loading, all trained models are saved in memory, so a 10-ensemble model means 10 times more models, therefore memory, than a 1-ensemble model. Despite that, lazy-loading still managed to reduce this memory load by only allowing ~1 models in memory per ensemble (so still proportional to the number of ensembles), and ask that if the model has finished training or predicting, auto-dump itself to disk.\n",
    "3. Lazy-loading also seems to dramatically reduce the prediction time. This means that avoiding serializing huge amount of data (models) with joblib is more important than I/O overhead in single model reading/dumping."
   ]
  },
  {
   "cell_type": "markdown",
   "metadata": {},
   "source": [
    "## Concluding mark"
   ]
  },
  {
   "cell_type": "markdown",
   "metadata": {},
   "source": [
    "**Please open an issue if you have any question**\n",
    "\n",
    "**Cheers!**\n"
   ]
  },
  {
   "cell_type": "code",
   "execution_count": 27,
   "metadata": {},
   "outputs": [
    {
     "name": "stdout",
     "output_type": "stream",
     "text": [
      "Last updated: 2025-10-11T10:38:34.910449-05:00\n",
      "\n",
      "Python implementation: CPython\n",
      "Python version       : 3.11.11\n",
      "IPython version      : 8.31.0\n",
      "\n",
      "Compiler    : Clang 18.1.8 \n",
      "OS          : Darwin\n",
      "Release     : 24.6.0\n",
      "Machine     : arm64\n",
      "Processor   : arm\n",
      "CPU cores   : 14\n",
      "Architecture: 64bit\n",
      "\n",
      "stemflow    : 1.1.5\n",
      "numpy       : 1.26.4\n",
      "scipy       : 1.16.1\n",
      "pandas      : 2.2.3\n",
      "xgboost     : 3.0.4\n",
      "tqdm        : 4.65.0\n",
      "matplotlib  : 3.10.0\n",
      "h3pandas    : 0.3.0\n",
      "geopandas   : 1.0.1\n",
      "scikit-learn: 1.5.2\n",
      "\n"
     ]
    }
   ],
   "source": [
    "from watermark import watermark\n",
    "print(watermark())\n",
    "print(watermark(packages=\"stemflow,numpy,scipy,pandas,xgboost,tqdm,matplotlib,h3pandas,geopandas,scikit-learn\"))\n"
   ]
  }
 ],
 "metadata": {
  "kernelspec": {
   "display_name": "base",
   "language": "python",
   "name": "python3"
  },
  "language_info": {
   "codemirror_mode": {
    "name": "ipython",
    "version": 3
   },
   "file_extension": ".py",
   "mimetype": "text/x-python",
   "name": "python",
   "nbconvert_exporter": "python",
   "pygments_lexer": "ipython3",
   "version": "3.11.11"
  },
  "orig_nbformat": 4
 },
 "nbformat": 4,
 "nbformat_minor": 2
}
