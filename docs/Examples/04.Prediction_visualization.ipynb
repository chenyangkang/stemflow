{
 "cells": [
  {
   "cell_type": "markdown",
   "metadata": {},
   "source": [
    "# Prediction and Visualization\n",
    "\n",
    "Yangkang Chen<br>\n",
    "Sep 7, 2023"
   ]
  },
  {
   "cell_type": "code",
   "execution_count": 1,
   "metadata": {},
   "outputs": [],
   "source": [
    "import pandas as pd\n",
    "import numpy as np\n",
    "import random\n",
    "from tqdm.auto import tqdm\n",
    "import matplotlib.pyplot as plt\n",
    "import matplotlib\n",
    "import warnings\n",
    "import pickle\n",
    "import os\n",
    "import seaborn as sns\n",
    "\n",
    "# warnings.filterwarnings('ignore')\n",
    "%matplotlib inline"
   ]
  },
  {
   "cell_type": "code",
   "execution_count": 2,
   "metadata": {},
   "outputs": [],
   "source": [
    "%load_ext autoreload\n",
    "%autoreload 2"
   ]
  },
  {
   "cell_type": "code",
   "execution_count": 3,
   "metadata": {},
   "outputs": [],
   "source": [
    "data = pd.read_csv(f'./stemy/dataset/test_data/Sample_data_Mallard.csv')\n"
   ]
  },
  {
   "cell_type": "markdown",
   "metadata": {},
   "source": [
    "# Get X and y"
   ]
  },
  {
   "cell_type": "code",
   "execution_count": 4,
   "metadata": {},
   "outputs": [],
   "source": [
    "X = data.drop('count', axis=1)\n",
    "y = data['count'].values\n"
   ]
  },
  {
   "cell_type": "markdown",
   "metadata": {},
   "source": [
    "# First thing first: Spatio-temporal train test split"
   ]
  },
  {
   "cell_type": "code",
   "execution_count": 5,
   "metadata": {},
   "outputs": [],
   "source": [
    "from stemflow.model_selection import ST_train_test_split\n",
    "X_train, X_test, y_train, y_test = ST_train_test_split(X, y, \n",
    "                                                       Spatio_blocks_count = 50, Temporal_blocks_count=50,\n",
    "                                                       random_state=42, test_size=0.2)\n"
   ]
  },
  {
   "cell_type": "markdown",
   "metadata": {},
   "source": [
    "# Train AdaSTEM hurdle model"
   ]
  },
  {
   "cell_type": "code",
   "execution_count": 6,
   "metadata": {},
   "outputs": [],
   "source": [
    "from stemflow.model.AdaSTEM import AdaSTEM, AdaSTEMClassifier, AdaSTEMRegressor\n",
    "from xgboost import XGBClassifier, XGBRegressor\n",
    "from stemflow.model.Hurdle import Hurdle_for_AdaSTEM, Hurdle\n"
   ]
  },
  {
   "cell_type": "code",
   "execution_count": 36,
   "metadata": {},
   "outputs": [],
   "source": [
    "model = Hurdle_for_AdaSTEM(\n",
    "    classifier=AdaSTEMClassifier(base_model=XGBClassifier(tree_method='hist',random_state=42, verbosity = 0, n_jobs=1),\n",
    "                                save_gridding_plot = True,\n",
    "                                ensemble_fold=10, \n",
    "                                min_ensemble_required=7,\n",
    "                                grid_len_lon_upper_threshold=80,\n",
    "                                grid_len_lon_lower_threshold=10,\n",
    "                                grid_len_lat_upper_threshold=80,\n",
    "                                grid_len_lat_lower_threshold=10,\n",
    "                                points_lower_threshold=20,\n",
    "                                temporal_start = 1,\n",
    "                                temporal_end=366,\n",
    "                                temporal_step=20,\n",
    "                                temporal_bin_interval = 50,\n",
    "                                Spatio1='longitude',\n",
    "                                Spatio2 = 'latitude', \n",
    "                                Temporal1 = 'DOY',\n",
    "                                use_temporal_to_train=True),\n",
    "    regressor=AdaSTEMRegressor(base_model=XGBRegressor(tree_method='hist',random_state=42, verbosity = 0, n_jobs=1),\n",
    "                                save_gridding_plot = True,\n",
    "                                ensemble_fold=10, \n",
    "                                min_ensemble_required=7,\n",
    "                                grid_len_lon_upper_threshold=80,\n",
    "                                grid_len_lon_lower_threshold=10,\n",
    "                                grid_len_lat_upper_threshold=80,\n",
    "                                grid_len_lat_lower_threshold=10,\n",
    "                                points_lower_threshold=20,\n",
    "                                temporal_start = 1, \n",
    "                                temporal_end=366,\n",
    "                                temporal_step=20, \n",
    "                                temporal_bin_interval = 50,\n",
    "                                Spatio1='longitude',\n",
    "                                Spatio2 = 'latitude', \n",
    "                                Temporal1 = 'DOY',\n",
    "                                use_temporal_to_train=True)\n",
    ")\n",
    "\n",
    "\n",
    "\n"
   ]
  },
  {
   "cell_type": "code",
   "execution_count": 37,
   "metadata": {},
   "outputs": [
    {
     "name": "stderr",
     "output_type": "stream",
     "text": [
      "Generating Ensemble: 100%|██████████| 10/10 [00:38<00:00,  3.90s/it]\n",
      "training: 100%|██████████| 28547/28547 [12:49<00:00, 37.10it/s] \n",
      "Generating Ensemble: 100%|██████████| 10/10 [00:06<00:00,  1.60it/s]\n",
      "training: 100%|██████████| 8645/8645 [08:18<00:00, 17.34it/s]\n"
     ]
    }
   ],
   "source": [
    "model.fit(X_train.reset_index(drop=True), y_train)"
   ]
  },
  {
   "cell_type": "markdown",
   "metadata": {},
   "source": [
    "# Save model"
   ]
  },
  {
   "cell_type": "code",
   "execution_count": null,
   "metadata": {},
   "outputs": [],
   "source": [
    "with open('./test_output/01.demo_adastem_model.pkl','wb') as f:\n",
    "    pickle.dump(model, f)\n",
    "    "
   ]
  },
  {
   "cell_type": "markdown",
   "metadata": {},
   "source": [
    "# Evaluation"
   ]
  },
  {
   "cell_type": "code",
   "execution_count": 2,
   "metadata": {},
   "outputs": [
    {
     "ename": "NameError",
     "evalue": "name 'model' is not defined",
     "output_type": "error",
     "traceback": [
      "\u001b[0;31m---------------------------------------------------------------------------\u001b[0m",
      "\u001b[0;31mNameError\u001b[0m                                 Traceback (most recent call last)",
      "Cell \u001b[0;32mIn[2], line 1\u001b[0m\n\u001b[0;32m----> 1\u001b[0m pred \u001b[39m=\u001b[39m model\u001b[39m.\u001b[39mpredict(X_test)\n",
      "\u001b[0;31mNameError\u001b[0m: name 'model' is not defined"
     ]
    }
   ],
   "source": [
    "pred = model.predict(X_test)\n"
   ]
  },
  {
   "cell_type": "code",
   "execution_count": 40,
   "metadata": {},
   "outputs": [
    {
     "name": "stdout",
     "output_type": "stream",
     "text": [
      "Percentage not predictable 17.46%\n"
     ]
    }
   ],
   "source": [
    "perc = np.sum(np.isnan(pred.flatten()))/len(pred.flatten())\n",
    "print(f'Percentage not predictable {round(perc*100, 2)}%')"
   ]
  },
  {
   "cell_type": "code",
   "execution_count": 41,
   "metadata": {},
   "outputs": [],
   "source": [
    "pred_df = pd.DataFrame({\n",
    "    'y_true':y_test.flatten(),\n",
    "    'y_pred':np.where(pred.flatten()<0, 0, pred.flatten())\n",
    "}).dropna()\n"
   ]
  },
  {
   "cell_type": "code",
   "execution_count": 42,
   "metadata": {},
   "outputs": [
    {
     "data": {
      "text/plain": [
       "{'AUC': 0.6980345039052719,\n",
       " 'kappa': 0.43077631408096195,\n",
       " 'f1': 0.5304336055588142,\n",
       " 'precision': 0.6028099682083888,\n",
       " 'recall': 0.4735739606832098,\n",
       " 'average_precision': 0.39021517760120394,\n",
       " 'Spearman_r': 0.44708603015455384,\n",
       " 'Pearson_r': 0.1433973532055428,\n",
       " 'R2': -0.3195830752536277,\n",
       " 'MAE': 5.2570484840707286,\n",
       " 'MSE': 2409.862916210604,\n",
       " 'poisson_deviance_explained': 0.11704860924872906}"
      ]
     },
     "execution_count": 42,
     "metadata": {},
     "output_type": "execute_result"
    }
   ],
   "source": [
    "AdaSTEM.eval_STEM_res('hurdle', pred_df.y_true, pred_df.y_pred)\n"
   ]
  },
  {
   "cell_type": "markdown",
   "metadata": {},
   "source": [
    "# Predict"
   ]
  },
  {
   "cell_type": "code",
   "execution_count": 43,
   "metadata": {},
   "outputs": [],
   "source": [
    "pred_set = pd.read_csv('./stemy/dataset/test_data/Predset_2020.csv')\n"
   ]
  },
  {
   "cell_type": "code",
   "execution_count": 44,
   "metadata": {},
   "outputs": [],
   "source": [
    "## reduce the prediction size\n",
    "pred_set['lng_grid'] = np.digitize(\n",
    "    pred_set.longitude,\n",
    "    np.linspace(-180,180,500)\n",
    ")\n",
    "\n",
    "pred_set['lat_grid'] = np.digitize(\n",
    "    pred_set.latitude,\n",
    "    np.linspace(-90,90,500)\n",
    ")\n",
    "\n",
    "pred_set = pred_set.sample(frac=1, replace=False).groupby(['lng_grid','lat_grid']).first().reset_index(drop=True)\n",
    "# pred_set = pred_set.drop(['lng_grid','lat_grid'], axis=1)\n",
    "\n"
   ]
  },
  {
   "cell_type": "code",
   "execution_count": 45,
   "metadata": {},
   "outputs": [
    {
     "data": {
      "application/vnd.jupyter.widget-view+json": {
       "model_id": "e01146558bb842648578c1ce4fa99fb0",
       "version_major": 2,
       "version_minor": 0
      },
      "text/plain": [
       "  0%|          | 0/366 [00:00<?, ?it/s]"
      ]
     },
     "metadata": {},
     "output_type": "display_data"
    }
   ],
   "source": [
    "pred_list = []\n",
    "for doy in tqdm(range(1,367)):\n",
    "    pred_set['DOY'] = doy\n",
    "    pred_set['duration_minutes'] = 60\n",
    "    pred_set['Traveling'] = 1\n",
    "    pred_set['Stationary'] = 0\n",
    "    pred_set['Area'] = 0\n",
    "    pred_set['effort_distance_km'] = 1\n",
    "    pred_set['number_observers'] = 1\n",
    "    pred_set['obsvr_species_count'] = 500\n",
    "    pred_set['time_observation_started_minute_of_day'] = 420\n",
    "    pred = model.predict(pred_set.fillna(-1))\n",
    "    pred_list.append(pred)\n",
    "    \n",
    "    not_p = np.sum(np.isnan(pred.flatten()))/len(pred.flatten())\n",
    "    # print(f'DOY {doy} Not predictable: {not_p*100}%')\n"
   ]
  },
  {
   "cell_type": "code",
   "execution_count": 71,
   "metadata": {},
   "outputs": [],
   "source": [
    "pred_df = []\n",
    "for doy,doy_pred in enumerate(pred_list):\n",
    "    pred_df.append(pd.DataFrame({\n",
    "        'longitude':pred_set.longitude.values,\n",
    "        'latitude':pred_set.latitude.values,\n",
    "        'DOY':doy,\n",
    "        'pred':np.array(doy_pred).flatten()\n",
    "    }))"
   ]
  },
  {
   "cell_type": "code",
   "execution_count": 72,
   "metadata": {},
   "outputs": [],
   "source": [
    "pred_df = pd.concat(pred_df, axis=0)"
   ]
  },
  {
   "cell_type": "markdown",
   "metadata": {},
   "source": [
    "## Make GIF"
   ]
  },
  {
   "cell_type": "code",
   "execution_count": 73,
   "metadata": {},
   "outputs": [],
   "source": [
    "from stemflow.utils.plot_gif import make_sample_gif"
   ]
  },
  {
   "cell_type": "code",
   "execution_count": null,
   "metadata": {},
   "outputs": [],
   "source": [
    "make_sample_gif(pred_df, './test_output/pred_gif.gif',\n",
    "                            col='pred', max_frame=366, log_scale = True,\n",
    "                            Spatio1='longitude', Spatio2='latitude', Temporal1='DOY',\n",
    "                            figsize=(18,9), xlims=(-180, 180), ylims=(-90,90), grid=True,\n",
    "                            xtick_interval=20, ytick_interval=20,\n",
    "                            lng_size = 360, lat_size = 180, dpi=300, fps=30)\n"
   ]
  },
  {
   "cell_type": "markdown",
   "metadata": {},
   "source": [
    "![](../pred_gif.gif)"
   ]
  },
  {
   "cell_type": "code",
   "execution_count": 152,
   "metadata": {},
   "outputs": [
    {
     "name": "stdout",
     "output_type": "stream",
     "text": [
      "Last updated: Thu Sep 07 2023\n",
      "\n",
      "Python implementation: CPython\n",
      "Python version       : 3.9.7\n",
      "IPython version      : 8.14.0\n",
      "\n",
      "seaborn   : 0.11.2\n",
      "matplotlib: 3.7.1\n",
      "numpy     : 1.24.3\n",
      "pandas    : 2.0.3\n",
      "\n",
      "Watermark: 2.3.1\n",
      "\n"
     ]
    }
   ],
   "source": [
    "%load_ext watermark\n",
    "%watermark -n -u -v -iv -w"
   ]
  },
  {
   "cell_type": "code",
   "execution_count": null,
   "metadata": {},
   "outputs": [],
   "source": []
  },
  {
   "cell_type": "code",
   "execution_count": null,
   "metadata": {},
   "outputs": [],
   "source": []
  },
  {
   "cell_type": "code",
   "execution_count": null,
   "metadata": {},
   "outputs": [],
   "source": []
  },
  {
   "cell_type": "code",
   "execution_count": null,
   "metadata": {},
   "outputs": [],
   "source": []
  }
 ],
 "metadata": {
  "kernelspec": {
   "display_name": "base",
   "language": "python",
   "name": "python3"
  },
  "language_info": {
   "codemirror_mode": {
    "name": "ipython",
    "version": 3
   },
   "file_extension": ".py",
   "mimetype": "text/x-python",
   "name": "python",
   "nbconvert_exporter": "python",
   "pygments_lexer": "ipython3",
   "version": "3.9.7"
  },
  "orig_nbformat": 4
 },
 "nbformat": 4,
 "nbformat_minor": 2
}
