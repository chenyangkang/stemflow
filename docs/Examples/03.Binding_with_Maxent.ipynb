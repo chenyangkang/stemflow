{
 "cells": [
  {
   "cell_type": "markdown",
   "metadata": {},
   "source": [
    "# Using Maxent as base models\n",
    "Yangkang Chen<br>\n",
    "Sep 15, 2023"
   ]
  },
  {
   "cell_type": "code",
   "execution_count": 2,
   "metadata": {},
   "outputs": [],
   "source": [
    "import pandas as pd\n",
    "import numpy as np\n",
    "import random\n",
    "from tqdm.auto import tqdm\n",
    "import matplotlib.pyplot as plt\n",
    "import matplotlib\n",
    "import warnings\n",
    "import pickle\n",
    "import os\n",
    "import json\n",
    "\n",
    "# matplotlib.style.use('ggplot')\n",
    "# plt.rcParams['axes.facecolor']='w'\n",
    "# warnings.filterwarnings('ignore')\n",
    "%matplotlib inline"
   ]
  },
  {
   "cell_type": "code",
   "execution_count": 3,
   "metadata": {},
   "outputs": [],
   "source": [
    "%load_ext autoreload\n",
    "%autoreload 2"
   ]
  },
  {
   "cell_type": "code",
   "execution_count": 4,
   "metadata": {},
   "outputs": [],
   "source": [
    "# Please download the sample data from:\n",
    "# https://figshare.com/articles/dataset/Sample_data_Mallard_csv/24080745\n",
    "# Assuming now it's downloaded and saved as './Sample_data_Mallard.csv'\n",
    "\n",
    "# you can also try other species like \n",
    "# https://figshare.com/articles/dataset/Sample_data_Alder_Flycatcher_csv/24080751\n",
    "# https://figshare.com/articles/dataset/Sample_data_Short-eared_Owl_csv/24080742\n",
    "# https://figshare.com/articles/dataset/Sample_data_Eurasian_Tree_Sparrow_csv/24080748\n"
   ]
  },
  {
   "cell_type": "code",
   "execution_count": 5,
   "metadata": {},
   "outputs": [],
   "source": [
    "data = pd.read_csv(f'./Sample_data_Mallard.csv')\n",
    "data = data.drop('sampling_event_identifier', axis=1)"
   ]
  },
  {
   "cell_type": "markdown",
   "metadata": {},
   "source": [
    "# Get X and y"
   ]
  },
  {
   "cell_type": "code",
   "execution_count": 6,
   "metadata": {},
   "outputs": [],
   "source": [
    "X = data.drop('count', axis=1)\n",
    "y = data['count'].values\n"
   ]
  },
  {
   "cell_type": "markdown",
   "metadata": {},
   "source": [
    "# First thing first: Spatio-temporal train test split"
   ]
  },
  {
   "cell_type": "code",
   "execution_count": 35,
   "metadata": {},
   "outputs": [],
   "source": [
    "from stemflow.model_selection import ST_CV\n",
    "CV = 5\n"
   ]
  },
  {
   "cell_type": "markdown",
   "metadata": {},
   "source": [
    "# Train AdaSTEM hurdle model"
   ]
  },
  {
   "cell_type": "code",
   "execution_count": 36,
   "metadata": {},
   "outputs": [],
   "source": [
    "from stemflow.model.AdaSTEM import AdaSTEM, AdaSTEMClassifier, AdaSTEMRegressor\n",
    "from xgboost import XGBClassifier, XGBRegressor\n",
    "from stemflow.model.Hurdle import Hurdle_for_AdaSTEM, Hurdle\n",
    "import elapid as ela\n"
   ]
  },
  {
   "cell_type": "code",
   "execution_count": 47,
   "metadata": {},
   "outputs": [],
   "source": [
    "## create model instance\n",
    "model = AdaSTEMClassifier(base_model=ela.MaxentModel(transform='cloglog', beta_multiplier=2.0),\n",
    "                                save_gridding_plot = True,\n",
    "                                ensemble_fold=10, \n",
    "                                min_ensemble_required=7,\n",
    "                                grid_len_lon_upper_threshold=50,\n",
    "                                grid_len_lon_lower_threshold=5,\n",
    "                                grid_len_lat_upper_threshold=50,\n",
    "                                grid_len_lat_lower_threshold=5,\n",
    "                                temporal_step=50,\n",
    "                                temporal_bin_interval=50,\n",
    "                                points_lower_threshold=100, njobs=4)\n"
   ]
  },
  {
   "cell_type": "code",
   "execution_count": 48,
   "metadata": {},
   "outputs": [
    {
     "name": "stderr",
     "output_type": "stream",
     "text": [
      "100%|██████████| 5/5 [3:14:47<00:00, 2337.55s/it]  \n"
     ]
    }
   ],
   "source": [
    "CV_generator = ST_CV(X, y, \n",
    "                    Spatio_blocks_count = 50, Temporal_blocks_count=50,\n",
    "                    random_state=42, CV=CV)\n",
    "\n",
    "\n",
    "metric_dict_list = []\n",
    "for X_train, X_test, y_train, y_test in tqdm(CV_generator, total=CV):\n",
    "    ## fit model\n",
    "    model.fit(X_train, np.where(y_train>0,1,0), verbosity=0)\n",
    "    ## predict\n",
    "    pred_adastem = model.predict(X_test, verbosity=0)\n",
    "    ## save prediction results\n",
    "    pred_df = pd.DataFrame({\n",
    "                'y_true':y_test.flatten(),\n",
    "                'y_pred_adastem':np.where(pred_adastem.flatten()<0, 0, pred_adastem.flatten()),\n",
    "            }).dropna()\n",
    "\n",
    "    ## calculate metrics\n",
    "    metric_dict = AdaSTEM.eval_STEM_res('hurdle', np.array(pred_df.y_true).flatten(), \n",
    "                                                np.where(np.array(pred_df.y_pred_adastem).flatten()<0, 0, np.array(pred_df.y_pred_adastem).flatten())\n",
    "                                                )\n",
    "    metric_dict_list.append(metric_dict)\n",
    "    \n"
   ]
  },
  {
   "cell_type": "code",
   "execution_count": 49,
   "metadata": {},
   "outputs": [
    {
     "data": {
      "text/html": [
       "<div>\n",
       "<style scoped>\n",
       "    .dataframe tbody tr th:only-of-type {\n",
       "        vertical-align: middle;\n",
       "    }\n",
       "\n",
       "    .dataframe tbody tr th {\n",
       "        vertical-align: top;\n",
       "    }\n",
       "\n",
       "    .dataframe thead th {\n",
       "        text-align: right;\n",
       "    }\n",
       "</style>\n",
       "<table border=\"1\" class=\"dataframe\">\n",
       "  <thead>\n",
       "    <tr style=\"text-align: right;\">\n",
       "      <th></th>\n",
       "      <th>AUC</th>\n",
       "      <th>kappa</th>\n",
       "      <th>f1</th>\n",
       "      <th>precision</th>\n",
       "      <th>recall</th>\n",
       "      <th>average_precision</th>\n",
       "    </tr>\n",
       "  </thead>\n",
       "  <tbody>\n",
       "    <tr>\n",
       "      <th>0</th>\n",
       "      <td>0.736316</td>\n",
       "      <td>0.401915</td>\n",
       "      <td>0.526669</td>\n",
       "      <td>0.445225</td>\n",
       "      <td>0.644579</td>\n",
       "      <td>0.349655</td>\n",
       "    </tr>\n",
       "    <tr>\n",
       "      <th>1</th>\n",
       "      <td>0.720966</td>\n",
       "      <td>0.377922</td>\n",
       "      <td>0.509609</td>\n",
       "      <td>0.432525</td>\n",
       "      <td>0.620129</td>\n",
       "      <td>0.336472</td>\n",
       "    </tr>\n",
       "    <tr>\n",
       "      <th>2</th>\n",
       "      <td>0.727614</td>\n",
       "      <td>0.387215</td>\n",
       "      <td>0.520642</td>\n",
       "      <td>0.439436</td>\n",
       "      <td>0.638664</td>\n",
       "      <td>0.347057</td>\n",
       "    </tr>\n",
       "    <tr>\n",
       "      <th>3</th>\n",
       "      <td>0.724253</td>\n",
       "      <td>0.382455</td>\n",
       "      <td>0.512133</td>\n",
       "      <td>0.433795</td>\n",
       "      <td>0.625000</td>\n",
       "      <td>0.337823</td>\n",
       "    </tr>\n",
       "    <tr>\n",
       "      <th>4</th>\n",
       "      <td>0.727759</td>\n",
       "      <td>0.390803</td>\n",
       "      <td>0.521628</td>\n",
       "      <td>0.443649</td>\n",
       "      <td>0.632864</td>\n",
       "      <td>0.347826</td>\n",
       "    </tr>\n",
       "  </tbody>\n",
       "</table>\n",
       "</div>"
      ],
      "text/plain": [
       "        AUC     kappa        f1  precision    recall  average_precision\n",
       "0  0.736316  0.401915  0.526669   0.445225  0.644579           0.349655\n",
       "1  0.720966  0.377922  0.509609   0.432525  0.620129           0.336472\n",
       "2  0.727614  0.387215  0.520642   0.439436  0.638664           0.347057\n",
       "3  0.724253  0.382455  0.512133   0.433795  0.625000           0.337823\n",
       "4  0.727759  0.390803  0.521628   0.443649  0.632864           0.347826"
      ]
     },
     "execution_count": 49,
     "metadata": {},
     "output_type": "execute_result"
    }
   ],
   "source": [
    "adastem_metrics = pd.DataFrame(metric_dict_list)[['AUC','kappa','f1','precision','recall','average_precision']]\n",
    "adastem_metrics"
   ]
  },
  {
   "cell_type": "code",
   "execution_count": 50,
   "metadata": {},
   "outputs": [],
   "source": [
    "adastem_metrics.to_csv('./Maxent_AdasTEM_metrics.csv', index=False)\n"
   ]
  },
  {
   "cell_type": "markdown",
   "metadata": {},
   "source": [
    "# Compared to simple Maxent model"
   ]
  },
  {
   "cell_type": "code",
   "execution_count": 41,
   "metadata": {},
   "outputs": [],
   "source": [
    "## create model instance\n",
    "model_me = ela.MaxentModel(transform='cloglog', beta_multiplier=2.0)"
   ]
  },
  {
   "cell_type": "code",
   "execution_count": 43,
   "metadata": {},
   "outputs": [
    {
     "name": "stderr",
     "output_type": "stream",
     "text": [
      "  0%|          | 0/5 [00:00<?, ?it/s]"
     ]
    },
    {
     "name": "stderr",
     "output_type": "stream",
     "text": [
      "100%|██████████| 5/5 [3:48:12<00:00, 2738.41s/it]  \n"
     ]
    }
   ],
   "source": [
    "CV_generator = ST_CV(X, y, \n",
    "                    Spatio_blocks_count = 50, Temporal_blocks_count=50,\n",
    "                    random_state=42, CV=CV)\n",
    "\n",
    "metric_dict_list = []\n",
    "for X_train, X_test, y_train, y_test in tqdm(CV_generator, total=CV):\n",
    "    ## fit model\n",
    "    model_me.fit(X_train.drop(['longitude','latitude'], axis=1), np.where(y_train>0,1,0))\n",
    "    ## predict on test set\n",
    "    pred_me = model_me.predict(X_test.drop(['longitude','latitude'], axis=1))\n",
    "    ## save prediction results\n",
    "    pred_df = pd.DataFrame({\n",
    "        'y_true':y_test.flatten(),\n",
    "        'y_pred':np.where(pred_me.flatten()>0.5, 1, 0)\n",
    "    }).dropna()\n",
    "    ## calculate metrics\n",
    "    metrics_me = AdaSTEM.eval_STEM_res('hurdle', pred_df.y_true, pred_df.y_pred)\n",
    "    metric_dict_list.append(metrics_me)\n",
    "    \n",
    "\n"
   ]
  },
  {
   "cell_type": "code",
   "execution_count": 44,
   "metadata": {},
   "outputs": [
    {
     "data": {
      "text/html": [
       "<div>\n",
       "<style scoped>\n",
       "    .dataframe tbody tr th:only-of-type {\n",
       "        vertical-align: middle;\n",
       "    }\n",
       "\n",
       "    .dataframe tbody tr th {\n",
       "        vertical-align: top;\n",
       "    }\n",
       "\n",
       "    .dataframe thead th {\n",
       "        text-align: right;\n",
       "    }\n",
       "</style>\n",
       "<table border=\"1\" class=\"dataframe\">\n",
       "  <thead>\n",
       "    <tr style=\"text-align: right;\">\n",
       "      <th></th>\n",
       "      <th>AUC</th>\n",
       "      <th>kappa</th>\n",
       "      <th>f1</th>\n",
       "      <th>precision</th>\n",
       "      <th>recall</th>\n",
       "      <th>average_precision</th>\n",
       "    </tr>\n",
       "  </thead>\n",
       "  <tbody>\n",
       "    <tr>\n",
       "      <th>0</th>\n",
       "      <td>0.721753</td>\n",
       "      <td>0.325763</td>\n",
       "      <td>0.471622</td>\n",
       "      <td>0.359857</td>\n",
       "      <td>0.684088</td>\n",
       "      <td>0.298320</td>\n",
       "    </tr>\n",
       "    <tr>\n",
       "      <th>1</th>\n",
       "      <td>0.706076</td>\n",
       "      <td>0.306849</td>\n",
       "      <td>0.458735</td>\n",
       "      <td>0.352637</td>\n",
       "      <td>0.656152</td>\n",
       "      <td>0.289303</td>\n",
       "    </tr>\n",
       "    <tr>\n",
       "      <th>2</th>\n",
       "      <td>0.714194</td>\n",
       "      <td>0.318858</td>\n",
       "      <td>0.471624</td>\n",
       "      <td>0.362087</td>\n",
       "      <td>0.676178</td>\n",
       "      <td>0.300594</td>\n",
       "    </tr>\n",
       "    <tr>\n",
       "      <th>3</th>\n",
       "      <td>0.708874</td>\n",
       "      <td>0.320062</td>\n",
       "      <td>0.465677</td>\n",
       "      <td>0.364793</td>\n",
       "      <td>0.643690</td>\n",
       "      <td>0.294589</td>\n",
       "    </tr>\n",
       "    <tr>\n",
       "      <th>4</th>\n",
       "      <td>0.711749</td>\n",
       "      <td>0.316275</td>\n",
       "      <td>0.468793</td>\n",
       "      <td>0.360737</td>\n",
       "      <td>0.669266</td>\n",
       "      <td>0.298200</td>\n",
       "    </tr>\n",
       "  </tbody>\n",
       "</table>\n",
       "</div>"
      ],
      "text/plain": [
       "        AUC     kappa        f1  precision    recall  average_precision\n",
       "0  0.721753  0.325763  0.471622   0.359857  0.684088           0.298320\n",
       "1  0.706076  0.306849  0.458735   0.352637  0.656152           0.289303\n",
       "2  0.714194  0.318858  0.471624   0.362087  0.676178           0.300594\n",
       "3  0.708874  0.320062  0.465677   0.364793  0.643690           0.294589\n",
       "4  0.711749  0.316275  0.468793   0.360737  0.669266           0.298200"
      ]
     },
     "execution_count": 44,
     "metadata": {},
     "output_type": "execute_result"
    }
   ],
   "source": [
    "maxent_metrics = pd.DataFrame(metric_dict_list)[['AUC','kappa','f1','precision','recall','average_precision']]\n",
    "maxent_metrics"
   ]
  },
  {
   "cell_type": "code",
   "execution_count": 45,
   "metadata": {},
   "outputs": [],
   "source": [
    "maxent_metrics.to_csv('./Maxent_simple_metrics.csv', index=False)\n"
   ]
  },
  {
   "cell_type": "markdown",
   "metadata": {},
   "source": [
    "# Comparing AdaSTEM-Maxent & Maxent"
   ]
  },
  {
   "cell_type": "code",
   "execution_count": 71,
   "metadata": {},
   "outputs": [
    {
     "data": {
      "image/png": "[encoded data removed]",
      "text/plain": [
       "<Figure size 640x480 with 1 Axes>"
      ]
     },
     "metadata": {},
     "output_type": "display_data"
    }
   ],
   "source": [
    "\n",
    "import seaborn as sns\n",
    "adastem_metrics['model'] = 'AdaSTEM-Maxent'\n",
    "maxent_metrics['model'] = 'Maxent'\n",
    "new_dat = pd.concat([adastem_metrics, maxent_metrics], axis=0)\n",
    "dat_for_plot = []\n",
    "for index,row in new_dat.iterrows():\n",
    "    for metric_name in ['AUC', 'kappa', 'f1', 'precision', 'recall', 'average_precision']:\n",
    "        dat_for_plot.append({\n",
    "            'model':row['model'],\n",
    "            'metric_name':metric_name,\n",
    "            'value':row[metric_name]\n",
    "        })\n",
    "dat_for_plot = pd.DataFrame(dat_for_plot)\n",
    "\n",
    "sns.barplot(data=dat_for_plot, errorbar=('ci', 95), \n",
    "            x=\"metric_name\", y=\"value\", hue=\"model\")\n",
    "plt.title('Model performance')\n",
    "plt.legend(bbox_to_anchor=(1,1))\n",
    "plt.show()\n"
   ]
  },
  {
   "cell_type": "code",
   "execution_count": 72,
   "metadata": {},
   "outputs": [
    {
     "name": "stdout",
     "output_type": "stream",
     "text": [
      "Last updated: 2023-09-15T10:05:30.738065+08:00\n",
      "\n",
      "Python implementation: CPython\n",
      "Python version       : 3.11.5\n",
      "IPython version      : 8.15.0\n",
      "\n",
      "Compiler    : Clang 15.0.7 \n",
      "OS          : Darwin\n",
      "Release     : 21.6.0\n",
      "Machine     : arm64\n",
      "Processor   : arm\n",
      "CPU cores   : 8\n",
      "Architecture: 64bit\n",
      "\n",
      "stemflow    : 0.0.20\n",
      "numpy       : 1.25.2\n",
      "scipy       : 1.11.2\n",
      "pandas      : 2.1.0\n",
      "xgboost     : 2.0.0\n",
      "tqdm        : 4.66.1\n",
      "matplotlib  : 3.7.3\n",
      "h3pandas    : 0.2.4\n",
      "geopandas   : 0.13.2\n",
      "scikit-learn: 1.3.0\n",
      "watermark   : 2.4.3\n",
      "\n"
     ]
    }
   ],
   "source": [
    "from watermark import watermark\n",
    "print(watermark())\n",
    "print(watermark(packages=\"stemflow,numpy,scipy,pandas,xgboost,tqdm,matplotlib,h3pandas,geopandas,scikit-learn,watermark\"))\n"
   ]
  },
  {
   "cell_type": "code",
   "execution_count": null,
   "metadata": {},
   "outputs": [],
   "source": []
  },
  {
   "cell_type": "code",
   "execution_count": null,
   "metadata": {},
   "outputs": [],
   "source": []
  }
 ],
 "metadata": {
  "kernelspec": {
   "display_name": "base",
   "language": "python",
   "name": "python3"
  },
  "language_info": {
   "codemirror_mode": {
    "name": "ipython",
    "version": 3
   },
   "file_extension": ".py",
   "mimetype": "text/x-python",
   "name": "python",
   "nbconvert_exporter": "python",
   "pygments_lexer": "ipython3",
   "version": "3.9.7"
  },
  "orig_nbformat": 4
 },
 "nbformat": 4,
 "nbformat_minor": 2
}
