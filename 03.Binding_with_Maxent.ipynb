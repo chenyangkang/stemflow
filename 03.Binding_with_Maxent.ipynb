{
 "cells": [
  {
   "cell_type": "markdown",
   "metadata": {},
   "source": [
    "# Using Maxent as base model\n",
    "Yangkang Chen<br>\n",
    "Sep 5, 2023"
   ]
  },
  {
   "cell_type": "code",
   "execution_count": 1,
   "metadata": {},
   "outputs": [],
   "source": [
    "import pandas as pd\n",
    "import numpy as np\n",
    "import random\n",
    "from tqdm.auto import tqdm\n",
    "import matplotlib.pyplot as plt\n",
    "import matplotlib\n",
    "import warnings\n",
    "import pickle\n",
    "import geopandas as gpd\n",
    "import os\n",
    "import json\n",
    "\n",
    "# matplotlib.style.use('ggplot')\n",
    "# plt.rcParams['axes.facecolor']='w'\n",
    "# warnings.filterwarnings('ignore')\n",
    "%matplotlib inline"
   ]
  },
  {
   "cell_type": "code",
   "execution_count": 2,
   "metadata": {},
   "outputs": [],
   "source": [
    "%load_ext autoreload\n",
    "%autoreload 2"
   ]
  },
  {
   "cell_type": "code",
   "execution_count": 3,
   "metadata": {},
   "outputs": [],
   "source": [
    "data = pd.read_csv(f'./BirdSTEM/dataset/test_data/Sample_data_Mallard.csv')"
   ]
  },
  {
   "cell_type": "markdown",
   "metadata": {},
   "source": [
    "# Get X and y"
   ]
  },
  {
   "cell_type": "code",
   "execution_count": 4,
   "metadata": {},
   "outputs": [],
   "source": [
    "X = data.drop('count', axis=1)\n",
    "y = data['count'].values\n"
   ]
  },
  {
   "cell_type": "markdown",
   "metadata": {},
   "source": [
    "# First thing first: Spatio-temporal train test split"
   ]
  },
  {
   "cell_type": "code",
   "execution_count": 5,
   "metadata": {},
   "outputs": [],
   "source": [
    "from BirdSTEM.model_selection import ST_train_test_split\n",
    "X_train, X_test, y_train, y_test = ST_train_test_split(X, y, \n",
    "                                                       Spatio_blocks_count = 50, Temporal_blocks_count=50,\n",
    "                                                       random_state=42, test_size=0.3)"
   ]
  },
  {
   "cell_type": "markdown",
   "metadata": {},
   "source": [
    "# Train AdaSTEM hurdle model"
   ]
  },
  {
   "cell_type": "code",
   "execution_count": 65,
   "metadata": {},
   "outputs": [],
   "source": [
    "from BirdSTEM.model.AdaSTEM import AdaSTEM, AdaSTEMClassifier, AdaSTEMRegressor\n",
    "from xgboost import XGBClassifier, XGBRegressor\n",
    "from BirdSTEM.model.Hurdle import Hurdle_for_AdaSTEM, Hurdle\n",
    "import elapid as ela\n"
   ]
  },
  {
   "cell_type": "code",
   "execution_count": 66,
   "metadata": {},
   "outputs": [],
   "source": [
    "model = AdaSTEMClassifier(base_model=ela.MaxentModel(transform='cloglog', beta_multiplier=2.0),\n",
    "                                save_gridding_plot = True,\n",
    "                                ensemble_fold=10, \n",
    "                                min_ensemble_required=7,\n",
    "                                grid_len_lon_upper_threshold=50,\n",
    "                                grid_len_lon_lower_threshold=5,\n",
    "                                grid_len_lat_upper_threshold=50,\n",
    "                                grid_len_lat_lower_threshold=5,\n",
    "                                temporal_step=50,\n",
    "                                temporal_bin_interval=100,\n",
    "                                points_lower_threshold=500)\n"
   ]
  },
  {
   "cell_type": "code",
   "execution_count": 50,
   "metadata": {},
   "outputs": [],
   "source": [
    "# new_X_train = X_train.copy()\n",
    "# new_X_train['y_'] = y_train\n",
    "# new_X_train = new_X_train.sample(5000)\n",
    "# new_X_train.iloc[:,:-1], np.where(new_X_train.iloc[:,-1].values>0,1,0)"
   ]
  },
  {
   "cell_type": "code",
   "execution_count": 67,
   "metadata": {},
   "outputs": [
    {
     "name": "stderr",
     "output_type": "stream",
     "text": [
      "Generating Ensemble: 100%|██████████| 10/10 [00:42<00:00,  4.26s/it]\n",
      "training:   2%|▏         | 175/9502 [04:17<31:20,  4.96it/s]  "
     ]
    }
   ],
   "source": [
    "model.fit(X_train, np.where(y_train>0,1,0))"
   ]
  },
  {
   "cell_type": "code",
   "execution_count": null,
   "metadata": {},
   "outputs": [
    {
     "data": {
      "text/plain": [
       "42        0\n",
       "65        1\n",
       "1374      0\n",
       "1529      0\n",
       "1797      1\n",
       "         ..\n",
       "282358    1\n",
       "282559    0\n",
       "282642    0\n",
       "282695    0\n",
       "283399    0\n",
       "Name: true_y, Length: 851, dtype: int64"
      ]
     },
     "execution_count": 17,
     "metadata": {},
     "output_type": "execute_result"
    }
   ],
   "source": [
    "with open('./test_output/maxent_adastem.pkl', 'wb') as f:\n",
    "    pickle.dump(model, f)\n",
    "    "
   ]
  },
  {
   "cell_type": "code",
   "execution_count": null,
   "metadata": {},
   "outputs": [],
   "source": [
    "pred_adastem = model.predict(X_test)\n"
   ]
  },
  {
   "cell_type": "code",
   "execution_count": null,
   "metadata": {},
   "outputs": [],
   "source": [
    "pred_df = pd.DataFrame({\n",
    "            'y_true':y_test.flatten(),\n",
    "            'y_pred_adastem':np.where(pred_adastem.flatten()<0, 0, pred_adastem.flatten()),\n",
    "        }).dropna()\n"
   ]
  },
  {
   "cell_type": "code",
   "execution_count": null,
   "metadata": {},
   "outputs": [],
   "source": [
    "metric_dict = AdaSTEM.eval_STEM_res('hurdle', np.array(pred_df.y_true).flatten(), \n",
    "                                            np.where(np.array(pred_df.y_pred_adastem).flatten()<0, 0, np.array(pred_df.y_pred_adastem).flatten())\n",
    "                                            )\n"
   ]
  },
  {
   "cell_type": "code",
   "execution_count": null,
   "metadata": {},
   "outputs": [],
   "source": [
    "with open('./test_output/Maxent_AdasTEM_metrics.json', 'w') as f:\n",
    "    json.dump(metric_dict, f)\n",
    "    "
   ]
  },
  {
   "cell_type": "markdown",
   "metadata": {},
   "source": [
    "# Compare to simple Maxent model"
   ]
  },
  {
   "cell_type": "code",
   "execution_count": null,
   "metadata": {},
   "outputs": [],
   "source": [
    "model_me = ela.MaxentModel(transform='cloglog', beta_multiplier=2.0)"
   ]
  },
  {
   "cell_type": "code",
   "execution_count": null,
   "metadata": {},
   "outputs": [
    {
     "name": "stderr",
     "output_type": "stream",
     "text": [
      "Generating Ensemble: 100%|██████████| 10/10 [00:38<00:00,  3.90s/it]\n",
      "training: 100%|██████████| 16179/16179 [04:41<00:00, 57.54it/s] \n"
     ]
    }
   ],
   "source": [
    "model_me.fit(X_train.drop(['longitude','latitude'], axis=1), np.where(y_train>0,1,0))"
   ]
  },
  {
   "cell_type": "code",
   "execution_count": null,
   "metadata": {},
   "outputs": [],
   "source": [
    "with open('./test_output/simple_maxent.pkl', 'wb') as f:\n",
    "    pickle.dump(model_me, f)\n",
    "    "
   ]
  },
  {
   "cell_type": "code",
   "execution_count": null,
   "metadata": {},
   "outputs": [],
   "source": [
    "pred_me = model.predict(X_test.drop(['longitude','latitude'], axis=1))\n"
   ]
  },
  {
   "cell_type": "code",
   "execution_count": null,
   "metadata": {},
   "outputs": [],
   "source": [
    "pred_df = pd.DataFrame({\n",
    "    'y_true':y_test.flatten(),\n",
    "    'y_pred':np.where(pred_me.flatten()>0.5, 1, 0)\n",
    "}).dropna()\n"
   ]
  },
  {
   "cell_type": "code",
   "execution_count": null,
   "metadata": {},
   "outputs": [
    {
     "data": {
      "text/plain": [
       "{'AUC': nan,\n",
       " 'kappa': nan,\n",
       " 'f1': nan,\n",
       " 'precision': nan,\n",
       " 'recall': nan,\n",
       " 'average_precision': nan,\n",
       " 'Spearman_r': nan,\n",
       " 'Pearson_r': nan,\n",
       " 'R2': 1.0,\n",
       " 'MAE': 0.0,\n",
       " 'MSE': 0.0,\n",
       " 'poisson_deviance_explained': nan}"
      ]
     },
     "execution_count": 12,
     "metadata": {},
     "output_type": "execute_result"
    }
   ],
   "source": [
    "metrics_me = AdaSTEM.eval_STEM_res('hurdle', pred_df.y_true, pred_df.y_pred)\n"
   ]
  },
  {
   "cell_type": "code",
   "execution_count": null,
   "metadata": {},
   "outputs": [
    {
     "data": {
      "text/html": [
       "<div>\n",
       "<style scoped>\n",
       "    .dataframe tbody tr th:only-of-type {\n",
       "        vertical-align: middle;\n",
       "    }\n",
       "\n",
       "    .dataframe tbody tr th {\n",
       "        vertical-align: top;\n",
       "    }\n",
       "\n",
       "    .dataframe thead th {\n",
       "        text-align: right;\n",
       "    }\n",
       "</style>\n",
       "<table border=\"1\" class=\"dataframe\">\n",
       "  <thead>\n",
       "    <tr style=\"text-align: right;\">\n",
       "      <th></th>\n",
       "      <th>y_true</th>\n",
       "      <th>y_pred</th>\n",
       "    </tr>\n",
       "  </thead>\n",
       "  <tbody>\n",
       "    <tr>\n",
       "      <th>16</th>\n",
       "      <td>0.0</td>\n",
       "      <td>0.0</td>\n",
       "    </tr>\n",
       "    <tr>\n",
       "      <th>26</th>\n",
       "      <td>0.0</td>\n",
       "      <td>0.0</td>\n",
       "    </tr>\n",
       "    <tr>\n",
       "      <th>39</th>\n",
       "      <td>0.0</td>\n",
       "      <td>0.0</td>\n",
       "    </tr>\n",
       "    <tr>\n",
       "      <th>47</th>\n",
       "      <td>0.0</td>\n",
       "      <td>0.0</td>\n",
       "    </tr>\n",
       "    <tr>\n",
       "      <th>58</th>\n",
       "      <td>0.0</td>\n",
       "      <td>0.0</td>\n",
       "    </tr>\n",
       "    <tr>\n",
       "      <th>...</th>\n",
       "      <td>...</td>\n",
       "      <td>...</td>\n",
       "    </tr>\n",
       "    <tr>\n",
       "      <th>116158</th>\n",
       "      <td>0.0</td>\n",
       "      <td>0.0</td>\n",
       "    </tr>\n",
       "    <tr>\n",
       "      <th>116167</th>\n",
       "      <td>0.0</td>\n",
       "      <td>0.0</td>\n",
       "    </tr>\n",
       "    <tr>\n",
       "      <th>116193</th>\n",
       "      <td>0.0</td>\n",
       "      <td>0.0</td>\n",
       "    </tr>\n",
       "    <tr>\n",
       "      <th>116199</th>\n",
       "      <td>0.0</td>\n",
       "      <td>0.0</td>\n",
       "    </tr>\n",
       "    <tr>\n",
       "      <th>116203</th>\n",
       "      <td>0.0</td>\n",
       "      <td>0.0</td>\n",
       "    </tr>\n",
       "  </tbody>\n",
       "</table>\n",
       "<p>8251 rows × 2 columns</p>\n",
       "</div>"
      ],
      "text/plain": [
       "        y_true  y_pred\n",
       "16         0.0     0.0\n",
       "26         0.0     0.0\n",
       "39         0.0     0.0\n",
       "47         0.0     0.0\n",
       "58         0.0     0.0\n",
       "...        ...     ...\n",
       "116158     0.0     0.0\n",
       "116167     0.0     0.0\n",
       "116193     0.0     0.0\n",
       "116199     0.0     0.0\n",
       "116203     0.0     0.0\n",
       "\n",
       "[8251 rows x 2 columns]"
      ]
     },
     "execution_count": 13,
     "metadata": {},
     "output_type": "execute_result"
    }
   ],
   "source": [
    "with open('./test_output/Smple_Maxent_metrics.json', 'w') as f:\n",
    "    json.dump(metrics_me, f)\n",
    "    "
   ]
  },
  {
   "cell_type": "code",
   "execution_count": null,
   "metadata": {},
   "outputs": [],
   "source": []
  },
  {
   "cell_type": "code",
   "execution_count": null,
   "metadata": {},
   "outputs": [],
   "source": []
  },
  {
   "cell_type": "code",
   "execution_count": null,
   "metadata": {},
   "outputs": [],
   "source": []
  }
 ],
 "metadata": {
  "kernelspec": {
   "display_name": "base",
   "language": "python",
   "name": "python3"
  },
  "language_info": {
   "codemirror_mode": {
    "name": "ipython",
    "version": 3
   },
   "file_extension": ".py",
   "mimetype": "text/x-python",
   "name": "python",
   "nbconvert_exporter": "python",
   "pygments_lexer": "ipython3",
   "version": "3.9.7"
  },
  "orig_nbformat": 4
 },
 "nbformat": 4,
 "nbformat_minor": 2
}
